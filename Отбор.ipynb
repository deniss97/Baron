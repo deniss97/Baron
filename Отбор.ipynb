{
  "nbformat": 4,
  "nbformat_minor": 0,
  "metadata": {
    "colab": {
      "provenance": [],
      "authorship_tag": "ABX9TyMIrKx0b3z+WAViK21igsIx",
      "include_colab_link": true
    },
    "kernelspec": {
      "name": "python3",
      "display_name": "Python 3"
    },
    "language_info": {
      "name": "python"
    }
  },
  "cells": [
    {
      "cell_type": "markdown",
      "metadata": {
        "id": "view-in-github",
        "colab_type": "text"
      },
      "source": [
        "<a href=\"https://colab.research.google.com/github/deniss97/Baron/blob/master/%D0%9E%D1%82%D0%B1%D0%BE%D1%80.ipynb\" target=\"_parent\"><img src=\"https://colab.research.google.com/assets/colab-badge.svg\" alt=\"Open In Colab\"/></a>"
      ]
    },
    {
      "cell_type": "code",
      "execution_count": 122,
      "metadata": {
        "colab": {
          "base_uri": "https://localhost:8080/",
          "height": 346
        },
        "id": "tMc25pa5pBox",
        "outputId": "3ddaf809-57bc-4084-d98a-8495c9d85cb1"
      },
      "outputs": [
        {
          "output_type": "execute_result",
          "data": {
            "text/plain": [
              "                rank       query_id      feature_0      feature_1  \\\n",
              "count  235258.000000  235258.000000  235258.000000  235258.000000   \n",
              "mean        0.677869   14828.413401       1.911960       0.206233   \n",
              "std         0.830033    8193.945170       1.237374       0.579089   \n",
              "min         0.000000      10.000000       0.000000       0.000000   \n",
              "25%         0.000000    8215.000000       1.000000       0.000000   \n",
              "50%         0.000000   14935.000000       2.000000       0.000000   \n",
              "75%         1.000000   21580.000000       3.000000       0.000000   \n",
              "max         4.000000   29995.000000      31.000000      18.000000   \n",
              "\n",
              "           feature_2      feature_3      feature_4      feature_5  \\\n",
              "count  235258.000000  235258.000000  235258.000000  235258.000000   \n",
              "mean        1.189847       0.550272       1.960082       0.803964   \n",
              "std         1.037233       0.790947       1.203534       0.339955   \n",
              "min         0.000000       0.000000       0.000000       0.000000   \n",
              "25%         0.000000       0.000000       1.000000       0.666667   \n",
              "50%         1.000000       0.000000       2.000000       1.000000   \n",
              "75%         2.000000       1.000000       3.000000       1.000000   \n",
              "max        27.000000       9.000000      31.000000       1.000000   \n",
              "\n",
              "           feature_6      feature_7  ...   feature_134   feature_135  \\\n",
              "count  235258.000000  235258.000000  ...  2.352580e+05  2.352580e+05   \n",
              "mean        0.097557       0.541174  ...  4.763432e+02  1.046698e+04   \n",
              "std         0.266035       0.419973  ...  1.954840e+04  2.649584e+06   \n",
              "min         0.000000       0.000000  ...  0.000000e+00  0.000000e+00   \n",
              "25%         0.000000       0.000000  ...  0.000000e+00  0.000000e+00   \n",
              "50%         0.000000       0.500000  ...  0.000000e+00  0.000000e+00   \n",
              "75%         0.000000       1.000000  ...  1.000000e+00  4.000000e-01   \n",
              "max         1.000000       1.000000  ...  1.731553e+06  8.000000e+08   \n",
              "\n",
              "         feature_136    feature_137    feature_138    feature_139  \\\n",
              "count  235258.000000  235258.000000  235258.000000  235258.000000   \n",
              "mean        0.070299       0.740710      11.067947       0.281747   \n",
              "std         0.100721       0.352800      15.336861       0.392089   \n",
              "min         0.000000       0.000000       0.000000       0.000000   \n",
              "25%         0.000000       0.620522       0.000000       0.000000   \n",
              "50%         0.000000       0.926779       9.448900       0.000000   \n",
              "75%         0.142857       0.999613      16.146733       0.500000   \n",
              "max         0.818182       1.000000    2506.799764       1.000000   \n",
              "\n",
              "         feature_140    feature_141    feature_142    feature_143  \n",
              "count  235258.000000  235258.000000  235258.000000  235258.000000  \n",
              "mean        0.027033       0.000269      22.457910       9.560379  \n",
              "std         0.033351       0.002088      63.708018      14.347378  \n",
              "min         0.000000       0.000000       0.000000       0.000000  \n",
              "25%         0.006703       0.000000       4.000000       2.000000  \n",
              "50%         0.017761       0.000008      12.000000       5.500000  \n",
              "75%         0.034954       0.000109      28.000000      12.000000  \n",
              "max         0.711261       0.250000   15074.000000    1552.000000  \n",
              "\n",
              "[8 rows x 146 columns]"
            ],
            "text/html": [
              "\n",
              "  <div id=\"df-47215fae-4c94-4793-8e96-0c2a99e99e83\" class=\"colab-df-container\">\n",
              "    <div>\n",
              "<style scoped>\n",
              "    .dataframe tbody tr th:only-of-type {\n",
              "        vertical-align: middle;\n",
              "    }\n",
              "\n",
              "    .dataframe tbody tr th {\n",
              "        vertical-align: top;\n",
              "    }\n",
              "\n",
              "    .dataframe thead th {\n",
              "        text-align: right;\n",
              "    }\n",
              "</style>\n",
              "<table border=\"1\" class=\"dataframe\">\n",
              "  <thead>\n",
              "    <tr style=\"text-align: right;\">\n",
              "      <th></th>\n",
              "      <th>rank</th>\n",
              "      <th>query_id</th>\n",
              "      <th>feature_0</th>\n",
              "      <th>feature_1</th>\n",
              "      <th>feature_2</th>\n",
              "      <th>feature_3</th>\n",
              "      <th>feature_4</th>\n",
              "      <th>feature_5</th>\n",
              "      <th>feature_6</th>\n",
              "      <th>feature_7</th>\n",
              "      <th>...</th>\n",
              "      <th>feature_134</th>\n",
              "      <th>feature_135</th>\n",
              "      <th>feature_136</th>\n",
              "      <th>feature_137</th>\n",
              "      <th>feature_138</th>\n",
              "      <th>feature_139</th>\n",
              "      <th>feature_140</th>\n",
              "      <th>feature_141</th>\n",
              "      <th>feature_142</th>\n",
              "      <th>feature_143</th>\n",
              "    </tr>\n",
              "  </thead>\n",
              "  <tbody>\n",
              "    <tr>\n",
              "      <th>count</th>\n",
              "      <td>235258.000000</td>\n",
              "      <td>235258.000000</td>\n",
              "      <td>235258.000000</td>\n",
              "      <td>235258.000000</td>\n",
              "      <td>235258.000000</td>\n",
              "      <td>235258.000000</td>\n",
              "      <td>235258.000000</td>\n",
              "      <td>235258.000000</td>\n",
              "      <td>235258.000000</td>\n",
              "      <td>235258.000000</td>\n",
              "      <td>...</td>\n",
              "      <td>2.352580e+05</td>\n",
              "      <td>2.352580e+05</td>\n",
              "      <td>235258.000000</td>\n",
              "      <td>235258.000000</td>\n",
              "      <td>235258.000000</td>\n",
              "      <td>235258.000000</td>\n",
              "      <td>235258.000000</td>\n",
              "      <td>235258.000000</td>\n",
              "      <td>235258.000000</td>\n",
              "      <td>235258.000000</td>\n",
              "    </tr>\n",
              "    <tr>\n",
              "      <th>mean</th>\n",
              "      <td>0.677869</td>\n",
              "      <td>14828.413401</td>\n",
              "      <td>1.911960</td>\n",
              "      <td>0.206233</td>\n",
              "      <td>1.189847</td>\n",
              "      <td>0.550272</td>\n",
              "      <td>1.960082</td>\n",
              "      <td>0.803964</td>\n",
              "      <td>0.097557</td>\n",
              "      <td>0.541174</td>\n",
              "      <td>...</td>\n",
              "      <td>4.763432e+02</td>\n",
              "      <td>1.046698e+04</td>\n",
              "      <td>0.070299</td>\n",
              "      <td>0.740710</td>\n",
              "      <td>11.067947</td>\n",
              "      <td>0.281747</td>\n",
              "      <td>0.027033</td>\n",
              "      <td>0.000269</td>\n",
              "      <td>22.457910</td>\n",
              "      <td>9.560379</td>\n",
              "    </tr>\n",
              "    <tr>\n",
              "      <th>std</th>\n",
              "      <td>0.830033</td>\n",
              "      <td>8193.945170</td>\n",
              "      <td>1.237374</td>\n",
              "      <td>0.579089</td>\n",
              "      <td>1.037233</td>\n",
              "      <td>0.790947</td>\n",
              "      <td>1.203534</td>\n",
              "      <td>0.339955</td>\n",
              "      <td>0.266035</td>\n",
              "      <td>0.419973</td>\n",
              "      <td>...</td>\n",
              "      <td>1.954840e+04</td>\n",
              "      <td>2.649584e+06</td>\n",
              "      <td>0.100721</td>\n",
              "      <td>0.352800</td>\n",
              "      <td>15.336861</td>\n",
              "      <td>0.392089</td>\n",
              "      <td>0.033351</td>\n",
              "      <td>0.002088</td>\n",
              "      <td>63.708018</td>\n",
              "      <td>14.347378</td>\n",
              "    </tr>\n",
              "    <tr>\n",
              "      <th>min</th>\n",
              "      <td>0.000000</td>\n",
              "      <td>10.000000</td>\n",
              "      <td>0.000000</td>\n",
              "      <td>0.000000</td>\n",
              "      <td>0.000000</td>\n",
              "      <td>0.000000</td>\n",
              "      <td>0.000000</td>\n",
              "      <td>0.000000</td>\n",
              "      <td>0.000000</td>\n",
              "      <td>0.000000</td>\n",
              "      <td>...</td>\n",
              "      <td>0.000000e+00</td>\n",
              "      <td>0.000000e+00</td>\n",
              "      <td>0.000000</td>\n",
              "      <td>0.000000</td>\n",
              "      <td>0.000000</td>\n",
              "      <td>0.000000</td>\n",
              "      <td>0.000000</td>\n",
              "      <td>0.000000</td>\n",
              "      <td>0.000000</td>\n",
              "      <td>0.000000</td>\n",
              "    </tr>\n",
              "    <tr>\n",
              "      <th>25%</th>\n",
              "      <td>0.000000</td>\n",
              "      <td>8215.000000</td>\n",
              "      <td>1.000000</td>\n",
              "      <td>0.000000</td>\n",
              "      <td>0.000000</td>\n",
              "      <td>0.000000</td>\n",
              "      <td>1.000000</td>\n",
              "      <td>0.666667</td>\n",
              "      <td>0.000000</td>\n",
              "      <td>0.000000</td>\n",
              "      <td>...</td>\n",
              "      <td>0.000000e+00</td>\n",
              "      <td>0.000000e+00</td>\n",
              "      <td>0.000000</td>\n",
              "      <td>0.620522</td>\n",
              "      <td>0.000000</td>\n",
              "      <td>0.000000</td>\n",
              "      <td>0.006703</td>\n",
              "      <td>0.000000</td>\n",
              "      <td>4.000000</td>\n",
              "      <td>2.000000</td>\n",
              "    </tr>\n",
              "    <tr>\n",
              "      <th>50%</th>\n",
              "      <td>0.000000</td>\n",
              "      <td>14935.000000</td>\n",
              "      <td>2.000000</td>\n",
              "      <td>0.000000</td>\n",
              "      <td>1.000000</td>\n",
              "      <td>0.000000</td>\n",
              "      <td>2.000000</td>\n",
              "      <td>1.000000</td>\n",
              "      <td>0.000000</td>\n",
              "      <td>0.500000</td>\n",
              "      <td>...</td>\n",
              "      <td>0.000000e+00</td>\n",
              "      <td>0.000000e+00</td>\n",
              "      <td>0.000000</td>\n",
              "      <td>0.926779</td>\n",
              "      <td>9.448900</td>\n",
              "      <td>0.000000</td>\n",
              "      <td>0.017761</td>\n",
              "      <td>0.000008</td>\n",
              "      <td>12.000000</td>\n",
              "      <td>5.500000</td>\n",
              "    </tr>\n",
              "    <tr>\n",
              "      <th>75%</th>\n",
              "      <td>1.000000</td>\n",
              "      <td>21580.000000</td>\n",
              "      <td>3.000000</td>\n",
              "      <td>0.000000</td>\n",
              "      <td>2.000000</td>\n",
              "      <td>1.000000</td>\n",
              "      <td>3.000000</td>\n",
              "      <td>1.000000</td>\n",
              "      <td>0.000000</td>\n",
              "      <td>1.000000</td>\n",
              "      <td>...</td>\n",
              "      <td>1.000000e+00</td>\n",
              "      <td>4.000000e-01</td>\n",
              "      <td>0.142857</td>\n",
              "      <td>0.999613</td>\n",
              "      <td>16.146733</td>\n",
              "      <td>0.500000</td>\n",
              "      <td>0.034954</td>\n",
              "      <td>0.000109</td>\n",
              "      <td>28.000000</td>\n",
              "      <td>12.000000</td>\n",
              "    </tr>\n",
              "    <tr>\n",
              "      <th>max</th>\n",
              "      <td>4.000000</td>\n",
              "      <td>29995.000000</td>\n",
              "      <td>31.000000</td>\n",
              "      <td>18.000000</td>\n",
              "      <td>27.000000</td>\n",
              "      <td>9.000000</td>\n",
              "      <td>31.000000</td>\n",
              "      <td>1.000000</td>\n",
              "      <td>1.000000</td>\n",
              "      <td>1.000000</td>\n",
              "      <td>...</td>\n",
              "      <td>1.731553e+06</td>\n",
              "      <td>8.000000e+08</td>\n",
              "      <td>0.818182</td>\n",
              "      <td>1.000000</td>\n",
              "      <td>2506.799764</td>\n",
              "      <td>1.000000</td>\n",
              "      <td>0.711261</td>\n",
              "      <td>0.250000</td>\n",
              "      <td>15074.000000</td>\n",
              "      <td>1552.000000</td>\n",
              "    </tr>\n",
              "  </tbody>\n",
              "</table>\n",
              "<p>8 rows × 146 columns</p>\n",
              "</div>\n",
              "    <div class=\"colab-df-buttons\">\n",
              "\n",
              "  <div class=\"colab-df-container\">\n",
              "    <button class=\"colab-df-convert\" onclick=\"convertToInteractive('df-47215fae-4c94-4793-8e96-0c2a99e99e83')\"\n",
              "            title=\"Convert this dataframe to an interactive table.\"\n",
              "            style=\"display:none;\">\n",
              "\n",
              "  <svg xmlns=\"http://www.w3.org/2000/svg\" height=\"24px\" viewBox=\"0 -960 960 960\">\n",
              "    <path d=\"M120-120v-720h720v720H120Zm60-500h600v-160H180v160Zm220 220h160v-160H400v160Zm0 220h160v-160H400v160ZM180-400h160v-160H180v160Zm440 0h160v-160H620v160ZM180-180h160v-160H180v160Zm440 0h160v-160H620v160Z\"/>\n",
              "  </svg>\n",
              "    </button>\n",
              "\n",
              "  <style>\n",
              "    .colab-df-container {\n",
              "      display:flex;\n",
              "      gap: 12px;\n",
              "    }\n",
              "\n",
              "    .colab-df-convert {\n",
              "      background-color: #E8F0FE;\n",
              "      border: none;\n",
              "      border-radius: 50%;\n",
              "      cursor: pointer;\n",
              "      display: none;\n",
              "      fill: #1967D2;\n",
              "      height: 32px;\n",
              "      padding: 0 0 0 0;\n",
              "      width: 32px;\n",
              "    }\n",
              "\n",
              "    .colab-df-convert:hover {\n",
              "      background-color: #E2EBFA;\n",
              "      box-shadow: 0px 1px 2px rgba(60, 64, 67, 0.3), 0px 1px 3px 1px rgba(60, 64, 67, 0.15);\n",
              "      fill: #174EA6;\n",
              "    }\n",
              "\n",
              "    .colab-df-buttons div {\n",
              "      margin-bottom: 4px;\n",
              "    }\n",
              "\n",
              "    [theme=dark] .colab-df-convert {\n",
              "      background-color: #3B4455;\n",
              "      fill: #D2E3FC;\n",
              "    }\n",
              "\n",
              "    [theme=dark] .colab-df-convert:hover {\n",
              "      background-color: #434B5C;\n",
              "      box-shadow: 0px 1px 3px 1px rgba(0, 0, 0, 0.15);\n",
              "      filter: drop-shadow(0px 1px 2px rgba(0, 0, 0, 0.3));\n",
              "      fill: #FFFFFF;\n",
              "    }\n",
              "  </style>\n",
              "\n",
              "    <script>\n",
              "      const buttonEl =\n",
              "        document.querySelector('#df-47215fae-4c94-4793-8e96-0c2a99e99e83 button.colab-df-convert');\n",
              "      buttonEl.style.display =\n",
              "        google.colab.kernel.accessAllowed ? 'block' : 'none';\n",
              "\n",
              "      async function convertToInteractive(key) {\n",
              "        const element = document.querySelector('#df-47215fae-4c94-4793-8e96-0c2a99e99e83');\n",
              "        const dataTable =\n",
              "          await google.colab.kernel.invokeFunction('convertToInteractive',\n",
              "                                                    [key], {});\n",
              "        if (!dataTable) return;\n",
              "\n",
              "        const docLinkHtml = 'Like what you see? Visit the ' +\n",
              "          '<a target=\"_blank\" href=https://colab.research.google.com/notebooks/data_table.ipynb>data table notebook</a>'\n",
              "          + ' to learn more about interactive tables.';\n",
              "        element.innerHTML = '';\n",
              "        dataTable['output_type'] = 'display_data';\n",
              "        await google.colab.output.renderOutput(dataTable, element);\n",
              "        const docLink = document.createElement('div');\n",
              "        docLink.innerHTML = docLinkHtml;\n",
              "        element.appendChild(docLink);\n",
              "      }\n",
              "    </script>\n",
              "  </div>\n",
              "\n",
              "\n",
              "<div id=\"df-b02fe254-8c34-4f87-922d-26068e0e873d\">\n",
              "  <button class=\"colab-df-quickchart\" onclick=\"quickchart('df-b02fe254-8c34-4f87-922d-26068e0e873d')\"\n",
              "            title=\"Suggest charts\"\n",
              "            style=\"display:none;\">\n",
              "\n",
              "<svg xmlns=\"http://www.w3.org/2000/svg\" height=\"24px\"viewBox=\"0 0 24 24\"\n",
              "     width=\"24px\">\n",
              "    <g>\n",
              "        <path d=\"M19 3H5c-1.1 0-2 .9-2 2v14c0 1.1.9 2 2 2h14c1.1 0 2-.9 2-2V5c0-1.1-.9-2-2-2zM9 17H7v-7h2v7zm4 0h-2V7h2v10zm4 0h-2v-4h2v4z\"/>\n",
              "    </g>\n",
              "</svg>\n",
              "  </button>\n",
              "\n",
              "<style>\n",
              "  .colab-df-quickchart {\n",
              "      --bg-color: #E8F0FE;\n",
              "      --fill-color: #1967D2;\n",
              "      --hover-bg-color: #E2EBFA;\n",
              "      --hover-fill-color: #174EA6;\n",
              "      --disabled-fill-color: #AAA;\n",
              "      --disabled-bg-color: #DDD;\n",
              "  }\n",
              "\n",
              "  [theme=dark] .colab-df-quickchart {\n",
              "      --bg-color: #3B4455;\n",
              "      --fill-color: #D2E3FC;\n",
              "      --hover-bg-color: #434B5C;\n",
              "      --hover-fill-color: #FFFFFF;\n",
              "      --disabled-bg-color: #3B4455;\n",
              "      --disabled-fill-color: #666;\n",
              "  }\n",
              "\n",
              "  .colab-df-quickchart {\n",
              "    background-color: var(--bg-color);\n",
              "    border: none;\n",
              "    border-radius: 50%;\n",
              "    cursor: pointer;\n",
              "    display: none;\n",
              "    fill: var(--fill-color);\n",
              "    height: 32px;\n",
              "    padding: 0;\n",
              "    width: 32px;\n",
              "  }\n",
              "\n",
              "  .colab-df-quickchart:hover {\n",
              "    background-color: var(--hover-bg-color);\n",
              "    box-shadow: 0 1px 2px rgba(60, 64, 67, 0.3), 0 1px 3px 1px rgba(60, 64, 67, 0.15);\n",
              "    fill: var(--button-hover-fill-color);\n",
              "  }\n",
              "\n",
              "  .colab-df-quickchart-complete:disabled,\n",
              "  .colab-df-quickchart-complete:disabled:hover {\n",
              "    background-color: var(--disabled-bg-color);\n",
              "    fill: var(--disabled-fill-color);\n",
              "    box-shadow: none;\n",
              "  }\n",
              "\n",
              "  .colab-df-spinner {\n",
              "    border: 2px solid var(--fill-color);\n",
              "    border-color: transparent;\n",
              "    border-bottom-color: var(--fill-color);\n",
              "    animation:\n",
              "      spin 1s steps(1) infinite;\n",
              "  }\n",
              "\n",
              "  @keyframes spin {\n",
              "    0% {\n",
              "      border-color: transparent;\n",
              "      border-bottom-color: var(--fill-color);\n",
              "      border-left-color: var(--fill-color);\n",
              "    }\n",
              "    20% {\n",
              "      border-color: transparent;\n",
              "      border-left-color: var(--fill-color);\n",
              "      border-top-color: var(--fill-color);\n",
              "    }\n",
              "    30% {\n",
              "      border-color: transparent;\n",
              "      border-left-color: var(--fill-color);\n",
              "      border-top-color: var(--fill-color);\n",
              "      border-right-color: var(--fill-color);\n",
              "    }\n",
              "    40% {\n",
              "      border-color: transparent;\n",
              "      border-right-color: var(--fill-color);\n",
              "      border-top-color: var(--fill-color);\n",
              "    }\n",
              "    60% {\n",
              "      border-color: transparent;\n",
              "      border-right-color: var(--fill-color);\n",
              "    }\n",
              "    80% {\n",
              "      border-color: transparent;\n",
              "      border-right-color: var(--fill-color);\n",
              "      border-bottom-color: var(--fill-color);\n",
              "    }\n",
              "    90% {\n",
              "      border-color: transparent;\n",
              "      border-bottom-color: var(--fill-color);\n",
              "    }\n",
              "  }\n",
              "</style>\n",
              "\n",
              "  <script>\n",
              "    async function quickchart(key) {\n",
              "      const quickchartButtonEl =\n",
              "        document.querySelector('#' + key + ' button');\n",
              "      quickchartButtonEl.disabled = true;  // To prevent multiple clicks.\n",
              "      quickchartButtonEl.classList.add('colab-df-spinner');\n",
              "      try {\n",
              "        const charts = await google.colab.kernel.invokeFunction(\n",
              "            'suggestCharts', [key], {});\n",
              "      } catch (error) {\n",
              "        console.error('Error during call to suggestCharts:', error);\n",
              "      }\n",
              "      quickchartButtonEl.classList.remove('colab-df-spinner');\n",
              "      quickchartButtonEl.classList.add('colab-df-quickchart-complete');\n",
              "    }\n",
              "    (() => {\n",
              "      let quickchartButtonEl =\n",
              "        document.querySelector('#df-b02fe254-8c34-4f87-922d-26068e0e873d button');\n",
              "      quickchartButtonEl.style.display =\n",
              "        google.colab.kernel.accessAllowed ? 'block' : 'none';\n",
              "    })();\n",
              "  </script>\n",
              "</div>\n",
              "    </div>\n",
              "  </div>\n"
            ],
            "application/vnd.google.colaboratory.intrinsic+json": {
              "type": "dataframe"
            }
          },
          "metadata": {},
          "execution_count": 122
        }
      ],
      "source": [
        "import pandas as pd\n",
        "import numpy as np\n",
        "from sklearn.model_selection import train_test_split, GroupShuffleSplit, GridSearchCV\n",
        "from lightgbm import LGBMRanker\n",
        "from sklearn.metrics import ndcg_score\n",
        "import matplotlib.pyplot as plt\n",
        "\n",
        "data = pd.read_csv('intern_task.csv')\n",
        "data.describe()"
      ]
    },
    {
      "cell_type": "code",
      "source": [
        "print(\"Количество дубликатов:\", data.duplicated().sum())\n",
        "data = data.drop_duplicates()\n",
        "\n",
        "print(\"Количество пропущенных значений по столбцам:\\n\", data.isnull().sum())\n",
        "data.fillna(data.median(), inplace=True)"
      ],
      "metadata": {
        "colab": {
          "base_uri": "https://localhost:8080/"
        },
        "id": "WWZu7Axg_8JW",
        "outputId": "59a9d4d8-1e15-410c-8698-54af7bf9b688"
      },
      "execution_count": 123,
      "outputs": [
        {
          "output_type": "stream",
          "name": "stdout",
          "text": [
            "Количество дубликатов: 0\n",
            "Количество пропущенных значений по столбцам:\n",
            " rank           0\n",
            "query_id       0\n",
            "feature_0      0\n",
            "feature_1      0\n",
            "feature_2      0\n",
            "              ..\n",
            "feature_139    0\n",
            "feature_140    0\n",
            "feature_141    0\n",
            "feature_142    0\n",
            "feature_143    0\n",
            "Length: 146, dtype: int64\n"
          ]
        }
      ]
    },
    {
      "cell_type": "code",
      "source": [
        "import optuna\n",
        "import numpy as np\n",
        "from sklearn.model_selection import GroupShuffleSplit\n",
        "from sklearn.metrics import ndcg_score\n",
        "from lightgbm import LGBMRanker\n",
        "\n",
        "def objective(trial):\n",
        "    param = {\n",
        "        'objective': 'lambdarank',\n",
        "        'metric': 'ndcg',\n",
        "        'learning_rate': trial.suggest_float('learning_rate', 0.01, 0.3),\n",
        "        'num_leaves': trial.suggest_int('num_leaves', 20, 300),\n",
        "        'feature_fraction': trial.suggest_float('feature_fraction', 0.6, 1.0),\n",
        "        'bagging_fraction': trial.suggest_float('bagging_fraction', 0.6, 1.0),\n",
        "        'bagging_freq': trial.suggest_int('bagging_freq', 1, 7),\n",
        "        'min_child_samples': trial.suggest_int('min_child_samples', 5, 100),\n",
        "        'lambda_l1': trial.suggest_float('lambda_l1', 1e-8, 10.0, log=True),\n",
        "        'lambda_l2': trial.suggest_float('lambda_l2', 1e-8, 10.0, log=True)\n",
        "    }\n",
        "\n",
        "    model = LGBMRanker(**param)\n",
        "    model.fit(\n",
        "        X_train, y_train,\n",
        "        group=groups_train.groupby(groups_train).size().to_numpy(),\n",
        "        eval_set=[(X_test, y_test)],\n",
        "        eval_group=[groups_test.groupby(groups_test).size().to_numpy()],\n",
        "        eval_metric='ndcg', eval_at=[5]\n",
        "    )\n",
        "\n",
        "    predictions = model.predict(X_test)\n",
        "    ndcg = ndcg_score(np.asarray([y_test]), np.asarray([predictions]), k=5)\n",
        "    return ndcg\n",
        "\n",
        "# Presuming your data pre-processing code stays the same...\n",
        "conditions = True\n",
        "for i in range(144):\n",
        "    feature_name = f'feature_{i}'\n",
        "    q_low = data[feature_name].quantile(0.001)\n",
        "    q_high = data[feature_name].quantile(0.999)\n",
        "    conditions &= (data[feature_name] >= q_low) & (data[feature_name] <= q_high)\n",
        "\n",
        "\n",
        "data = data[conditions]\n",
        "\n",
        "print(len(data))\n",
        "X = data.drop(['rank', 'query_id'], axis=1)\n",
        "y = data['rank']\n",
        "\n",
        "groups = data['query_id']\n",
        "\n",
        "gss = GroupShuffleSplit(test_size=0.2, n_splits=1, random_state=42)\n",
        "train_idx, test_idx = next(gss.split(X, y, groups=groups))\n",
        "X_train, X_test = X.iloc[train_idx], X.iloc[test_idx]\n",
        "y_train, y_test = y.iloc[train_idx], y.iloc[test_idx]\n",
        "groups_train, groups_test = groups.iloc[train_idx], groups.iloc[test_idx]\n",
        "\n",
        "# Running the Optuna optimization\n",
        "study = optuna.create_study(direction='maximize')\n",
        "study.optimize(objective, n_trials=100)\n",
        "\n",
        "# Output best parameters and re-train the model using those parameters\n",
        "print('Best trial:', study.best_trial.params)\n",
        "best_params = study.best_trial.params\n",
        "best_model = LGBMRanker(**best_params)\n",
        "best_model.fit(\n",
        "    X_train, y_train,\n",
        "    group=groups_train.groupby(groups_train).size().to_numpy(),\n",
        "    eval_set=[(X_test, y_test)],\n",
        "    eval_group=[groups_test.groupby(groups_test).size().to_numpy()],\n",
        "    eval_metric='ndcg', eval_at=[5]\n",
        ")\n",
        "\n",
        "final_predictions = best_model.predict(X_test)\n",
        "final_ndcg = ndcg_score(np.asarray([y_test]), np.asarray([final_predictions]), k=5)\n",
        "print(f\"Final NDCG@5 score: {final_ndcg:.4f}\")\n"
      ],
      "metadata": {
        "id": "WwBGWQkULec7",
        "colab": {
          "base_uri": "https://localhost:8080/"
        },
        "outputId": "55a94e41-bb1a-48a1-9e6d-eceffef6ce06"
      },
      "execution_count": 124,
      "outputs": [
        {
          "metadata": {
            "tags": null
          },
          "name": "stderr",
          "output_type": "stream",
          "text": [
            "[I 2024-04-29 15:54:20,700] A new study created in memory with name: no-name-eda670ea-8f4f-4f4e-b139-de50db11d84f\n"
          ]
        },
        {
          "metadata": {
            "tags": null
          },
          "name": "stdout",
          "output_type": "stream",
          "text": [
            "226365\n",
            "[LightGBM] [Warning] feature_fraction is set=0.6305612236438758, colsample_bytree=1.0 will be ignored. Current value: feature_fraction=0.6305612236438758\n",
            "[LightGBM] [Warning] lambda_l2 is set=1.2567718150451241e-08, reg_lambda=0.0 will be ignored. Current value: lambda_l2=1.2567718150451241e-08\n",
            "[LightGBM] [Warning] lambda_l1 is set=0.07122610696425168, reg_alpha=0.0 will be ignored. Current value: lambda_l1=0.07122610696425168\n",
            "[LightGBM] [Warning] bagging_fraction is set=0.6295869738922888, subsample=1.0 will be ignored. Current value: bagging_fraction=0.6295869738922888\n",
            "[LightGBM] [Warning] bagging_freq is set=1, subsample_freq=0 will be ignored. Current value: bagging_freq=1\n",
            "[LightGBM] [Warning] feature_fraction is set=0.6305612236438758, colsample_bytree=1.0 will be ignored. Current value: feature_fraction=0.6305612236438758\n",
            "[LightGBM] [Warning] lambda_l2 is set=1.2567718150451241e-08, reg_lambda=0.0 will be ignored. Current value: lambda_l2=1.2567718150451241e-08\n",
            "[LightGBM] [Warning] lambda_l1 is set=0.07122610696425168, reg_alpha=0.0 will be ignored. Current value: lambda_l1=0.07122610696425168\n",
            "[LightGBM] [Warning] bagging_fraction is set=0.6295869738922888, subsample=1.0 will be ignored. Current value: bagging_fraction=0.6295869738922888\n",
            "[LightGBM] [Warning] bagging_freq is set=1, subsample_freq=0 will be ignored. Current value: bagging_freq=1\n",
            "[LightGBM] [Info] Auto-choosing col-wise multi-threading, the overhead of testing was 0.537018 seconds.\n",
            "You can set `force_col_wise=true` to remove the overhead.\n",
            "[LightGBM] [Info] Total Bins 25279\n",
            "[LightGBM] [Info] Number of data points in the train set: 181724, number of used features: 140\n",
            "[LightGBM] [Warning] feature_fraction is set=0.6305612236438758, colsample_bytree=1.0 will be ignored. Current value: feature_fraction=0.6305612236438758\n",
            "[LightGBM] [Warning] lambda_l2 is set=1.2567718150451241e-08, reg_lambda=0.0 will be ignored. Current value: lambda_l2=1.2567718150451241e-08\n",
            "[LightGBM] [Warning] lambda_l1 is set=0.07122610696425168, reg_alpha=0.0 will be ignored. Current value: lambda_l1=0.07122610696425168\n",
            "[LightGBM] [Warning] bagging_fraction is set=0.6295869738922888, subsample=1.0 will be ignored. Current value: bagging_fraction=0.6295869738922888\n",
            "[LightGBM] [Warning] bagging_freq is set=1, subsample_freq=0 will be ignored. Current value: bagging_freq=1\n",
            "[LightGBM] [Warning] feature_fraction is set=0.6305612236438758, colsample_bytree=1.0 will be ignored. Current value: feature_fraction=0.6305612236438758\n",
            "[LightGBM] [Warning] lambda_l2 is set=1.2567718150451241e-08, reg_lambda=0.0 will be ignored. Current value: lambda_l2=1.2567718150451241e-08\n",
            "[LightGBM] [Warning] lambda_l1 is set=0.07122610696425168, reg_alpha=0.0 will be ignored. Current value: lambda_l1=0.07122610696425168\n",
            "[LightGBM] [Warning] bagging_fraction is set=0.6295869738922888, subsample=1.0 will be ignored. Current value: bagging_fraction=0.6295869738922888\n",
            "[LightGBM] [Warning] bagging_freq is set=1, subsample_freq=0 will be ignored. Current value: bagging_freq=1\n"
          ]
        },
        {
          "metadata": {
            "tags": null
          },
          "name": "stderr",
          "output_type": "stream",
          "text": [
            "[I 2024-04-29 15:54:46,809] Trial 0 finished with value: 0.6800273072886168 and parameters: {'learning_rate': 0.2960741423436491, 'num_leaves': 68, 'feature_fraction': 0.6305612236438758, 'bagging_fraction': 0.6295869738922888, 'bagging_freq': 1, 'min_child_samples': 92, 'lambda_l1': 0.07122610696425168, 'lambda_l2': 1.2567718150451241e-08}. Best is trial 0 with value: 0.6800273072886168.\n"
          ]
        },
        {
          "metadata": {
            "tags": null
          },
          "name": "stdout",
          "output_type": "stream",
          "text": [
            "[LightGBM] [Warning] feature_fraction is set=0.9447322165295355, colsample_bytree=1.0 will be ignored. Current value: feature_fraction=0.9447322165295355\n",
            "[LightGBM] [Warning] lambda_l2 is set=3.2356034222319527, reg_lambda=0.0 will be ignored. Current value: lambda_l2=3.2356034222319527\n",
            "[LightGBM] [Warning] lambda_l1 is set=1.7694528182771584e-06, reg_alpha=0.0 will be ignored. Current value: lambda_l1=1.7694528182771584e-06\n",
            "[LightGBM] [Warning] bagging_fraction is set=0.8278002616100191, subsample=1.0 will be ignored. Current value: bagging_fraction=0.8278002616100191\n",
            "[LightGBM] [Warning] bagging_freq is set=3, subsample_freq=0 will be ignored. Current value: bagging_freq=3\n",
            "[LightGBM] [Warning] feature_fraction is set=0.9447322165295355, colsample_bytree=1.0 will be ignored. Current value: feature_fraction=0.9447322165295355\n",
            "[LightGBM] [Warning] lambda_l2 is set=3.2356034222319527, reg_lambda=0.0 will be ignored. Current value: lambda_l2=3.2356034222319527\n",
            "[LightGBM] [Warning] lambda_l1 is set=1.7694528182771584e-06, reg_alpha=0.0 will be ignored. Current value: lambda_l1=1.7694528182771584e-06\n",
            "[LightGBM] [Warning] bagging_fraction is set=0.8278002616100191, subsample=1.0 will be ignored. Current value: bagging_fraction=0.8278002616100191\n",
            "[LightGBM] [Warning] bagging_freq is set=3, subsample_freq=0 will be ignored. Current value: bagging_freq=3\n",
            "[LightGBM] [Info] Auto-choosing row-wise multi-threading, the overhead of testing was 0.147098 seconds.\n",
            "You can set `force_row_wise=true` to remove the overhead.\n",
            "And if memory is not enough, you can set `force_col_wise=true`.\n",
            "[LightGBM] [Info] Total Bins 25279\n",
            "[LightGBM] [Info] Number of data points in the train set: 181724, number of used features: 140\n",
            "[LightGBM] [Warning] feature_fraction is set=0.9447322165295355, colsample_bytree=1.0 will be ignored. Current value: feature_fraction=0.9447322165295355\n",
            "[LightGBM] [Warning] lambda_l2 is set=3.2356034222319527, reg_lambda=0.0 will be ignored. Current value: lambda_l2=3.2356034222319527\n",
            "[LightGBM] [Warning] lambda_l1 is set=1.7694528182771584e-06, reg_alpha=0.0 will be ignored. Current value: lambda_l1=1.7694528182771584e-06\n",
            "[LightGBM] [Warning] bagging_fraction is set=0.8278002616100191, subsample=1.0 will be ignored. Current value: bagging_fraction=0.8278002616100191\n",
            "[LightGBM] [Warning] bagging_freq is set=3, subsample_freq=0 will be ignored. Current value: bagging_freq=3\n",
            "[LightGBM] [Warning] feature_fraction is set=0.9447322165295355, colsample_bytree=1.0 will be ignored. Current value: feature_fraction=0.9447322165295355\n",
            "[LightGBM] [Warning] lambda_l2 is set=3.2356034222319527, reg_lambda=0.0 will be ignored. Current value: lambda_l2=3.2356034222319527\n",
            "[LightGBM] [Warning] lambda_l1 is set=1.7694528182771584e-06, reg_alpha=0.0 will be ignored. Current value: lambda_l1=1.7694528182771584e-06\n",
            "[LightGBM] [Warning] bagging_fraction is set=0.8278002616100191, subsample=1.0 will be ignored. Current value: bagging_fraction=0.8278002616100191\n",
            "[LightGBM] [Warning] bagging_freq is set=3, subsample_freq=0 will be ignored. Current value: bagging_freq=3\n"
          ]
        },
        {
          "metadata": {
            "tags": null
          },
          "name": "stderr",
          "output_type": "stream",
          "text": [
            "[I 2024-04-29 15:55:37,924] Trial 1 finished with value: 0.6472260379105315 and parameters: {'learning_rate': 0.21666222665780258, 'num_leaves': 270, 'feature_fraction': 0.9447322165295355, 'bagging_fraction': 0.8278002616100191, 'bagging_freq': 3, 'min_child_samples': 19, 'lambda_l1': 1.7694528182771584e-06, 'lambda_l2': 3.2356034222319527}. Best is trial 0 with value: 0.6800273072886168.\n"
          ]
        },
        {
          "metadata": {
            "tags": null
          },
          "name": "stdout",
          "output_type": "stream",
          "text": [
            "[LightGBM] [Warning] feature_fraction is set=0.6939357102730321, colsample_bytree=1.0 will be ignored. Current value: feature_fraction=0.6939357102730321\n",
            "[LightGBM] [Warning] lambda_l2 is set=0.27729440167890057, reg_lambda=0.0 will be ignored. Current value: lambda_l2=0.27729440167890057\n",
            "[LightGBM] [Warning] lambda_l1 is set=0.0004345382104954, reg_alpha=0.0 will be ignored. Current value: lambda_l1=0.0004345382104954\n",
            "[LightGBM] [Warning] bagging_fraction is set=0.6511487903968484, subsample=1.0 will be ignored. Current value: bagging_fraction=0.6511487903968484\n",
            "[LightGBM] [Warning] bagging_freq is set=6, subsample_freq=0 will be ignored. Current value: bagging_freq=6\n",
            "[LightGBM] [Warning] feature_fraction is set=0.6939357102730321, colsample_bytree=1.0 will be ignored. Current value: feature_fraction=0.6939357102730321\n",
            "[LightGBM] [Warning] lambda_l2 is set=0.27729440167890057, reg_lambda=0.0 will be ignored. Current value: lambda_l2=0.27729440167890057\n",
            "[LightGBM] [Warning] lambda_l1 is set=0.0004345382104954, reg_alpha=0.0 will be ignored. Current value: lambda_l1=0.0004345382104954\n",
            "[LightGBM] [Warning] bagging_fraction is set=0.6511487903968484, subsample=1.0 will be ignored. Current value: bagging_fraction=0.6511487903968484\n",
            "[LightGBM] [Warning] bagging_freq is set=6, subsample_freq=0 will be ignored. Current value: bagging_freq=6\n",
            "[LightGBM] [Info] Auto-choosing row-wise multi-threading, the overhead of testing was 0.138251 seconds.\n",
            "You can set `force_row_wise=true` to remove the overhead.\n",
            "And if memory is not enough, you can set `force_col_wise=true`.\n",
            "[LightGBM] [Info] Total Bins 25279\n",
            "[LightGBM] [Info] Number of data points in the train set: 181724, number of used features: 140\n",
            "[LightGBM] [Warning] feature_fraction is set=0.6939357102730321, colsample_bytree=1.0 will be ignored. Current value: feature_fraction=0.6939357102730321\n",
            "[LightGBM] [Warning] lambda_l2 is set=0.27729440167890057, reg_lambda=0.0 will be ignored. Current value: lambda_l2=0.27729440167890057\n",
            "[LightGBM] [Warning] lambda_l1 is set=0.0004345382104954, reg_alpha=0.0 will be ignored. Current value: lambda_l1=0.0004345382104954\n",
            "[LightGBM] [Warning] bagging_fraction is set=0.6511487903968484, subsample=1.0 will be ignored. Current value: bagging_fraction=0.6511487903968484\n",
            "[LightGBM] [Warning] bagging_freq is set=6, subsample_freq=0 will be ignored. Current value: bagging_freq=6\n",
            "[LightGBM] [Warning] feature_fraction is set=0.6939357102730321, colsample_bytree=1.0 will be ignored. Current value: feature_fraction=0.6939357102730321\n",
            "[LightGBM] [Warning] lambda_l2 is set=0.27729440167890057, reg_lambda=0.0 will be ignored. Current value: lambda_l2=0.27729440167890057\n",
            "[LightGBM] [Warning] lambda_l1 is set=0.0004345382104954, reg_alpha=0.0 will be ignored. Current value: lambda_l1=0.0004345382104954\n",
            "[LightGBM] [Warning] bagging_fraction is set=0.6511487903968484, subsample=1.0 will be ignored. Current value: bagging_fraction=0.6511487903968484\n",
            "[LightGBM] [Warning] bagging_freq is set=6, subsample_freq=0 will be ignored. Current value: bagging_freq=6\n"
          ]
        },
        {
          "metadata": {
            "tags": null
          },
          "name": "stderr",
          "output_type": "stream",
          "text": [
            "[I 2024-04-29 15:56:17,391] Trial 2 finished with value: 0.7547202501307002 and parameters: {'learning_rate': 0.2716585408951839, 'num_leaves': 255, 'feature_fraction': 0.6939357102730321, 'bagging_fraction': 0.6511487903968484, 'bagging_freq': 6, 'min_child_samples': 27, 'lambda_l1': 0.0004345382104954, 'lambda_l2': 0.27729440167890057}. Best is trial 2 with value: 0.7547202501307002.\n"
          ]
        },
        {
          "metadata": {
            "tags": null
          },
          "name": "stdout",
          "output_type": "stream",
          "text": [
            "[LightGBM] [Warning] feature_fraction is set=0.7439435519246475, colsample_bytree=1.0 will be ignored. Current value: feature_fraction=0.7439435519246475\n",
            "[LightGBM] [Warning] lambda_l2 is set=6.967345620369769e-07, reg_lambda=0.0 will be ignored. Current value: lambda_l2=6.967345620369769e-07\n",
            "[LightGBM] [Warning] lambda_l1 is set=7.496166615688945e-08, reg_alpha=0.0 will be ignored. Current value: lambda_l1=7.496166615688945e-08\n",
            "[LightGBM] [Warning] bagging_fraction is set=0.678464370593757, subsample=1.0 will be ignored. Current value: bagging_fraction=0.678464370593757\n",
            "[LightGBM] [Warning] bagging_freq is set=5, subsample_freq=0 will be ignored. Current value: bagging_freq=5\n",
            "[LightGBM] [Warning] feature_fraction is set=0.7439435519246475, colsample_bytree=1.0 will be ignored. Current value: feature_fraction=0.7439435519246475\n",
            "[LightGBM] [Warning] lambda_l2 is set=6.967345620369769e-07, reg_lambda=0.0 will be ignored. Current value: lambda_l2=6.967345620369769e-07\n",
            "[LightGBM] [Warning] lambda_l1 is set=7.496166615688945e-08, reg_alpha=0.0 will be ignored. Current value: lambda_l1=7.496166615688945e-08\n",
            "[LightGBM] [Warning] bagging_fraction is set=0.678464370593757, subsample=1.0 will be ignored. Current value: bagging_fraction=0.678464370593757\n",
            "[LightGBM] [Warning] bagging_freq is set=5, subsample_freq=0 will be ignored. Current value: bagging_freq=5\n",
            "[LightGBM] [Info] Auto-choosing row-wise multi-threading, the overhead of testing was 0.160450 seconds.\n",
            "You can set `force_row_wise=true` to remove the overhead.\n",
            "And if memory is not enough, you can set `force_col_wise=true`.\n",
            "[LightGBM] [Info] Total Bins 25279\n",
            "[LightGBM] [Info] Number of data points in the train set: 181724, number of used features: 140\n",
            "[LightGBM] [Warning] feature_fraction is set=0.7439435519246475, colsample_bytree=1.0 will be ignored. Current value: feature_fraction=0.7439435519246475\n",
            "[LightGBM] [Warning] lambda_l2 is set=6.967345620369769e-07, reg_lambda=0.0 will be ignored. Current value: lambda_l2=6.967345620369769e-07\n",
            "[LightGBM] [Warning] lambda_l1 is set=7.496166615688945e-08, reg_alpha=0.0 will be ignored. Current value: lambda_l1=7.496166615688945e-08\n",
            "[LightGBM] [Warning] bagging_fraction is set=0.678464370593757, subsample=1.0 will be ignored. Current value: bagging_fraction=0.678464370593757\n",
            "[LightGBM] [Warning] bagging_freq is set=5, subsample_freq=0 will be ignored. Current value: bagging_freq=5\n",
            "[LightGBM] [Warning] feature_fraction is set=0.7439435519246475, colsample_bytree=1.0 will be ignored. Current value: feature_fraction=0.7439435519246475\n",
            "[LightGBM] [Warning] lambda_l2 is set=6.967345620369769e-07, reg_lambda=0.0 will be ignored. Current value: lambda_l2=6.967345620369769e-07\n",
            "[LightGBM] [Warning] lambda_l1 is set=7.496166615688945e-08, reg_alpha=0.0 will be ignored. Current value: lambda_l1=7.496166615688945e-08\n",
            "[LightGBM] [Warning] bagging_fraction is set=0.678464370593757, subsample=1.0 will be ignored. Current value: bagging_fraction=0.678464370593757\n",
            "[LightGBM] [Warning] bagging_freq is set=5, subsample_freq=0 will be ignored. Current value: bagging_freq=5\n"
          ]
        },
        {
          "metadata": {
            "tags": null
          },
          "name": "stderr",
          "output_type": "stream",
          "text": [
            "[I 2024-04-29 15:56:55,863] Trial 3 finished with value: 0.5878056198050305 and parameters: {'learning_rate': 0.17660506572417892, 'num_leaves': 239, 'feature_fraction': 0.7439435519246475, 'bagging_fraction': 0.678464370593757, 'bagging_freq': 5, 'min_child_samples': 36, 'lambda_l1': 7.496166615688945e-08, 'lambda_l2': 6.967345620369769e-07}. Best is trial 2 with value: 0.7547202501307002.\n"
          ]
        },
        {
          "metadata": {
            "tags": null
          },
          "name": "stdout",
          "output_type": "stream",
          "text": [
            "[LightGBM] [Warning] feature_fraction is set=0.9624815167091466, colsample_bytree=1.0 will be ignored. Current value: feature_fraction=0.9624815167091466\n",
            "[LightGBM] [Warning] lambda_l2 is set=0.0234908776495222, reg_lambda=0.0 will be ignored. Current value: lambda_l2=0.0234908776495222\n",
            "[LightGBM] [Warning] lambda_l1 is set=2.4171268369304814e-06, reg_alpha=0.0 will be ignored. Current value: lambda_l1=2.4171268369304814e-06\n",
            "[LightGBM] [Warning] bagging_fraction is set=0.6697282226995876, subsample=1.0 will be ignored. Current value: bagging_fraction=0.6697282226995876\n",
            "[LightGBM] [Warning] bagging_freq is set=5, subsample_freq=0 will be ignored. Current value: bagging_freq=5\n",
            "[LightGBM] [Warning] feature_fraction is set=0.9624815167091466, colsample_bytree=1.0 will be ignored. Current value: feature_fraction=0.9624815167091466\n",
            "[LightGBM] [Warning] lambda_l2 is set=0.0234908776495222, reg_lambda=0.0 will be ignored. Current value: lambda_l2=0.0234908776495222\n",
            "[LightGBM] [Warning] lambda_l1 is set=2.4171268369304814e-06, reg_alpha=0.0 will be ignored. Current value: lambda_l1=2.4171268369304814e-06\n",
            "[LightGBM] [Warning] bagging_fraction is set=0.6697282226995876, subsample=1.0 will be ignored. Current value: bagging_fraction=0.6697282226995876\n",
            "[LightGBM] [Warning] bagging_freq is set=5, subsample_freq=0 will be ignored. Current value: bagging_freq=5\n",
            "[LightGBM] [Info] Auto-choosing row-wise multi-threading, the overhead of testing was 0.152287 seconds.\n",
            "You can set `force_row_wise=true` to remove the overhead.\n",
            "And if memory is not enough, you can set `force_col_wise=true`.\n",
            "[LightGBM] [Info] Total Bins 25279\n",
            "[LightGBM] [Info] Number of data points in the train set: 181724, number of used features: 140\n",
            "[LightGBM] [Warning] feature_fraction is set=0.9624815167091466, colsample_bytree=1.0 will be ignored. Current value: feature_fraction=0.9624815167091466\n",
            "[LightGBM] [Warning] lambda_l2 is set=0.0234908776495222, reg_lambda=0.0 will be ignored. Current value: lambda_l2=0.0234908776495222\n",
            "[LightGBM] [Warning] lambda_l1 is set=2.4171268369304814e-06, reg_alpha=0.0 will be ignored. Current value: lambda_l1=2.4171268369304814e-06\n",
            "[LightGBM] [Warning] bagging_fraction is set=0.6697282226995876, subsample=1.0 will be ignored. Current value: bagging_fraction=0.6697282226995876\n",
            "[LightGBM] [Warning] bagging_freq is set=5, subsample_freq=0 will be ignored. Current value: bagging_freq=5\n",
            "[LightGBM] [Warning] feature_fraction is set=0.9624815167091466, colsample_bytree=1.0 will be ignored. Current value: feature_fraction=0.9624815167091466\n",
            "[LightGBM] [Warning] lambda_l2 is set=0.0234908776495222, reg_lambda=0.0 will be ignored. Current value: lambda_l2=0.0234908776495222\n",
            "[LightGBM] [Warning] lambda_l1 is set=2.4171268369304814e-06, reg_alpha=0.0 will be ignored. Current value: lambda_l1=2.4171268369304814e-06\n",
            "[LightGBM] [Warning] bagging_fraction is set=0.6697282226995876, subsample=1.0 will be ignored. Current value: bagging_fraction=0.6697282226995876\n",
            "[LightGBM] [Warning] bagging_freq is set=5, subsample_freq=0 will be ignored. Current value: bagging_freq=5\n"
          ]
        },
        {
          "metadata": {
            "tags": null
          },
          "name": "stderr",
          "output_type": "stream",
          "text": [
            "[I 2024-04-29 15:57:21,110] Trial 4 finished with value: 0.8072123842662229 and parameters: {'learning_rate': 0.15226772108214864, 'num_leaves': 44, 'feature_fraction': 0.9624815167091466, 'bagging_fraction': 0.6697282226995876, 'bagging_freq': 5, 'min_child_samples': 23, 'lambda_l1': 2.4171268369304814e-06, 'lambda_l2': 0.0234908776495222}. Best is trial 4 with value: 0.8072123842662229.\n"
          ]
        },
        {
          "metadata": {
            "tags": null
          },
          "name": "stdout",
          "output_type": "stream",
          "text": [
            "[LightGBM] [Warning] feature_fraction is set=0.8274214676735618, colsample_bytree=1.0 will be ignored. Current value: feature_fraction=0.8274214676735618\n",
            "[LightGBM] [Warning] lambda_l2 is set=7.3388769920749715, reg_lambda=0.0 will be ignored. Current value: lambda_l2=7.3388769920749715\n",
            "[LightGBM] [Warning] lambda_l1 is set=8.464863474792395, reg_alpha=0.0 will be ignored. Current value: lambda_l1=8.464863474792395\n",
            "[LightGBM] [Warning] bagging_fraction is set=0.656660037307778, subsample=1.0 will be ignored. Current value: bagging_fraction=0.656660037307778\n",
            "[LightGBM] [Warning] bagging_freq is set=7, subsample_freq=0 will be ignored. Current value: bagging_freq=7\n",
            "[LightGBM] [Warning] feature_fraction is set=0.8274214676735618, colsample_bytree=1.0 will be ignored. Current value: feature_fraction=0.8274214676735618\n",
            "[LightGBM] [Warning] lambda_l2 is set=7.3388769920749715, reg_lambda=0.0 will be ignored. Current value: lambda_l2=7.3388769920749715\n",
            "[LightGBM] [Warning] lambda_l1 is set=8.464863474792395, reg_alpha=0.0 will be ignored. Current value: lambda_l1=8.464863474792395\n",
            "[LightGBM] [Warning] bagging_fraction is set=0.656660037307778, subsample=1.0 will be ignored. Current value: bagging_fraction=0.656660037307778\n",
            "[LightGBM] [Warning] bagging_freq is set=7, subsample_freq=0 will be ignored. Current value: bagging_freq=7\n",
            "[LightGBM] [Info] Auto-choosing row-wise multi-threading, the overhead of testing was 0.138604 seconds.\n",
            "You can set `force_row_wise=true` to remove the overhead.\n",
            "And if memory is not enough, you can set `force_col_wise=true`.\n",
            "[LightGBM] [Info] Total Bins 25279\n",
            "[LightGBM] [Info] Number of data points in the train set: 181724, number of used features: 140\n",
            "[LightGBM] [Warning] feature_fraction is set=0.8274214676735618, colsample_bytree=1.0 will be ignored. Current value: feature_fraction=0.8274214676735618\n",
            "[LightGBM] [Warning] lambda_l2 is set=7.3388769920749715, reg_lambda=0.0 will be ignored. Current value: lambda_l2=7.3388769920749715\n",
            "[LightGBM] [Warning] lambda_l1 is set=8.464863474792395, reg_alpha=0.0 will be ignored. Current value: lambda_l1=8.464863474792395\n",
            "[LightGBM] [Warning] bagging_fraction is set=0.656660037307778, subsample=1.0 will be ignored. Current value: bagging_fraction=0.656660037307778\n",
            "[LightGBM] [Warning] bagging_freq is set=7, subsample_freq=0 will be ignored. Current value: bagging_freq=7\n",
            "[LightGBM] [Warning] No further splits with positive gain, best gain: -inf\n",
            "[LightGBM] [Warning] No further splits with positive gain, best gain: -inf\n",
            "[LightGBM] [Warning] No further splits with positive gain, best gain: -inf\n",
            "[LightGBM] [Warning] No further splits with positive gain, best gain: -inf\n",
            "[LightGBM] [Warning] No further splits with positive gain, best gain: -inf\n",
            "[LightGBM] [Warning] No further splits with positive gain, best gain: -inf\n",
            "[LightGBM] [Warning] No further splits with positive gain, best gain: -inf\n",
            "[LightGBM] [Warning] No further splits with positive gain, best gain: -inf\n",
            "[LightGBM] [Warning] No further splits with positive gain, best gain: -inf\n",
            "[LightGBM] [Warning] No further splits with positive gain, best gain: -inf\n",
            "[LightGBM] [Warning] No further splits with positive gain, best gain: -inf\n",
            "[LightGBM] [Warning] No further splits with positive gain, best gain: -inf\n",
            "[LightGBM] [Warning] No further splits with positive gain, best gain: -inf\n",
            "[LightGBM] [Warning] No further splits with positive gain, best gain: -inf\n",
            "[LightGBM] [Warning] No further splits with positive gain, best gain: -inf\n",
            "[LightGBM] [Warning] No further splits with positive gain, best gain: -inf\n",
            "[LightGBM] [Warning] No further splits with positive gain, best gain: -inf\n",
            "[LightGBM] [Warning] No further splits with positive gain, best gain: -inf\n",
            "[LightGBM] [Warning] No further splits with positive gain, best gain: -inf\n",
            "[LightGBM] [Warning] No further splits with positive gain, best gain: -inf\n",
            "[LightGBM] [Warning] No further splits with positive gain, best gain: -inf\n",
            "[LightGBM] [Warning] No further splits with positive gain, best gain: -inf\n",
            "[LightGBM] [Warning] No further splits with positive gain, best gain: -inf\n",
            "[LightGBM] [Warning] No further splits with positive gain, best gain: -inf\n",
            "[LightGBM] [Warning] No further splits with positive gain, best gain: -inf\n",
            "[LightGBM] [Warning] No further splits with positive gain, best gain: -inf\n",
            "[LightGBM] [Warning] No further splits with positive gain, best gain: -inf\n",
            "[LightGBM] [Warning] No further splits with positive gain, best gain: -inf\n",
            "[LightGBM] [Warning] No further splits with positive gain, best gain: -inf\n",
            "[LightGBM] [Warning] No further splits with positive gain, best gain: -inf\n",
            "[LightGBM] [Warning] No further splits with positive gain, best gain: -inf\n",
            "[LightGBM] [Warning] No further splits with positive gain, best gain: -inf\n",
            "[LightGBM] [Warning] No further splits with positive gain, best gain: -inf\n",
            "[LightGBM] [Warning] feature_fraction is set=0.8274214676735618, colsample_bytree=1.0 will be ignored. Current value: feature_fraction=0.8274214676735618\n",
            "[LightGBM] [Warning] lambda_l2 is set=7.3388769920749715, reg_lambda=0.0 will be ignored. Current value: lambda_l2=7.3388769920749715\n",
            "[LightGBM] [Warning] lambda_l1 is set=8.464863474792395, reg_alpha=0.0 will be ignored. Current value: lambda_l1=8.464863474792395\n",
            "[LightGBM] [Warning] bagging_fraction is set=0.656660037307778, subsample=1.0 will be ignored. Current value: bagging_fraction=0.656660037307778\n",
            "[LightGBM] [Warning] bagging_freq is set=7, subsample_freq=0 will be ignored. Current value: bagging_freq=7\n"
          ]
        },
        {
          "metadata": {
            "tags": null
          },
          "name": "stderr",
          "output_type": "stream",
          "text": [
            "[I 2024-04-29 15:57:50,917] Trial 5 finished with value: 0.7456298460447878 and parameters: {'learning_rate': 0.10492722095696588, 'num_leaves': 125, 'feature_fraction': 0.8274214676735618, 'bagging_fraction': 0.656660037307778, 'bagging_freq': 7, 'min_child_samples': 70, 'lambda_l1': 8.464863474792395, 'lambda_l2': 7.3388769920749715}. Best is trial 4 with value: 0.8072123842662229.\n"
          ]
        },
        {
          "metadata": {
            "tags": null
          },
          "name": "stdout",
          "output_type": "stream",
          "text": [
            "[LightGBM] [Warning] feature_fraction is set=0.6312618827127282, colsample_bytree=1.0 will be ignored. Current value: feature_fraction=0.6312618827127282\n",
            "[LightGBM] [Warning] lambda_l2 is set=3.303001610108712, reg_lambda=0.0 will be ignored. Current value: lambda_l2=3.303001610108712\n",
            "[LightGBM] [Warning] lambda_l1 is set=4.533843988647381e-06, reg_alpha=0.0 will be ignored. Current value: lambda_l1=4.533843988647381e-06\n",
            "[LightGBM] [Warning] bagging_fraction is set=0.9244538178093639, subsample=1.0 will be ignored. Current value: bagging_fraction=0.9244538178093639\n",
            "[LightGBM] [Warning] bagging_freq is set=2, subsample_freq=0 will be ignored. Current value: bagging_freq=2\n",
            "[LightGBM] [Warning] feature_fraction is set=0.6312618827127282, colsample_bytree=1.0 will be ignored. Current value: feature_fraction=0.6312618827127282\n",
            "[LightGBM] [Warning] lambda_l2 is set=3.303001610108712, reg_lambda=0.0 will be ignored. Current value: lambda_l2=3.303001610108712\n",
            "[LightGBM] [Warning] lambda_l1 is set=4.533843988647381e-06, reg_alpha=0.0 will be ignored. Current value: lambda_l1=4.533843988647381e-06\n",
            "[LightGBM] [Warning] bagging_fraction is set=0.9244538178093639, subsample=1.0 will be ignored. Current value: bagging_fraction=0.9244538178093639\n",
            "[LightGBM] [Warning] bagging_freq is set=2, subsample_freq=0 will be ignored. Current value: bagging_freq=2\n",
            "[LightGBM] [Info] Auto-choosing row-wise multi-threading, the overhead of testing was 0.137703 seconds.\n",
            "You can set `force_row_wise=true` to remove the overhead.\n",
            "And if memory is not enough, you can set `force_col_wise=true`.\n",
            "[LightGBM] [Info] Total Bins 25279\n",
            "[LightGBM] [Info] Number of data points in the train set: 181724, number of used features: 140\n",
            "[LightGBM] [Warning] feature_fraction is set=0.6312618827127282, colsample_bytree=1.0 will be ignored. Current value: feature_fraction=0.6312618827127282\n",
            "[LightGBM] [Warning] lambda_l2 is set=3.303001610108712, reg_lambda=0.0 will be ignored. Current value: lambda_l2=3.303001610108712\n",
            "[LightGBM] [Warning] lambda_l1 is set=4.533843988647381e-06, reg_alpha=0.0 will be ignored. Current value: lambda_l1=4.533843988647381e-06\n",
            "[LightGBM] [Warning] bagging_fraction is set=0.9244538178093639, subsample=1.0 will be ignored. Current value: bagging_fraction=0.9244538178093639\n",
            "[LightGBM] [Warning] bagging_freq is set=2, subsample_freq=0 will be ignored. Current value: bagging_freq=2\n",
            "[LightGBM] [Warning] feature_fraction is set=0.6312618827127282, colsample_bytree=1.0 will be ignored. Current value: feature_fraction=0.6312618827127282\n",
            "[LightGBM] [Warning] lambda_l2 is set=3.303001610108712, reg_lambda=0.0 will be ignored. Current value: lambda_l2=3.303001610108712\n",
            "[LightGBM] [Warning] lambda_l1 is set=4.533843988647381e-06, reg_alpha=0.0 will be ignored. Current value: lambda_l1=4.533843988647381e-06\n",
            "[LightGBM] [Warning] bagging_fraction is set=0.9244538178093639, subsample=1.0 will be ignored. Current value: bagging_fraction=0.9244538178093639\n",
            "[LightGBM] [Warning] bagging_freq is set=2, subsample_freq=0 will be ignored. Current value: bagging_freq=2\n"
          ]
        },
        {
          "metadata": {
            "tags": null
          },
          "name": "stderr",
          "output_type": "stream",
          "text": [
            "[I 2024-04-29 15:58:39,035] Trial 6 finished with value: 0.614424768532446 and parameters: {'learning_rate': 0.2825159076687792, 'num_leaves': 278, 'feature_fraction': 0.6312618827127282, 'bagging_fraction': 0.9244538178093639, 'bagging_freq': 2, 'min_child_samples': 92, 'lambda_l1': 4.533843988647381e-06, 'lambda_l2': 3.303001610108712}. Best is trial 4 with value: 0.8072123842662229.\n"
          ]
        },
        {
          "metadata": {
            "tags": null
          },
          "name": "stdout",
          "output_type": "stream",
          "text": [
            "[LightGBM] [Warning] feature_fraction is set=0.797750463565952, colsample_bytree=1.0 will be ignored. Current value: feature_fraction=0.797750463565952\n",
            "[LightGBM] [Warning] lambda_l2 is set=5.680436119211693e-07, reg_lambda=0.0 will be ignored. Current value: lambda_l2=5.680436119211693e-07\n",
            "[LightGBM] [Warning] lambda_l1 is set=0.0010281388087272358, reg_alpha=0.0 will be ignored. Current value: lambda_l1=0.0010281388087272358\n",
            "[LightGBM] [Warning] bagging_fraction is set=0.9297332380630339, subsample=1.0 will be ignored. Current value: bagging_fraction=0.9297332380630339\n",
            "[LightGBM] [Warning] bagging_freq is set=6, subsample_freq=0 will be ignored. Current value: bagging_freq=6\n",
            "[LightGBM] [Warning] feature_fraction is set=0.797750463565952, colsample_bytree=1.0 will be ignored. Current value: feature_fraction=0.797750463565952\n",
            "[LightGBM] [Warning] lambda_l2 is set=5.680436119211693e-07, reg_lambda=0.0 will be ignored. Current value: lambda_l2=5.680436119211693e-07\n",
            "[LightGBM] [Warning] lambda_l1 is set=0.0010281388087272358, reg_alpha=0.0 will be ignored. Current value: lambda_l1=0.0010281388087272358\n",
            "[LightGBM] [Warning] bagging_fraction is set=0.9297332380630339, subsample=1.0 will be ignored. Current value: bagging_fraction=0.9297332380630339\n",
            "[LightGBM] [Warning] bagging_freq is set=6, subsample_freq=0 will be ignored. Current value: bagging_freq=6\n",
            "[LightGBM] [Info] Auto-choosing row-wise multi-threading, the overhead of testing was 0.240887 seconds.\n",
            "You can set `force_row_wise=true` to remove the overhead.\n",
            "And if memory is not enough, you can set `force_col_wise=true`.\n",
            "[LightGBM] [Info] Total Bins 25279\n",
            "[LightGBM] [Info] Number of data points in the train set: 181724, number of used features: 140\n",
            "[LightGBM] [Warning] feature_fraction is set=0.797750463565952, colsample_bytree=1.0 will be ignored. Current value: feature_fraction=0.797750463565952\n",
            "[LightGBM] [Warning] lambda_l2 is set=5.680436119211693e-07, reg_lambda=0.0 will be ignored. Current value: lambda_l2=5.680436119211693e-07\n",
            "[LightGBM] [Warning] lambda_l1 is set=0.0010281388087272358, reg_alpha=0.0 will be ignored. Current value: lambda_l1=0.0010281388087272358\n",
            "[LightGBM] [Warning] bagging_fraction is set=0.9297332380630339, subsample=1.0 will be ignored. Current value: bagging_fraction=0.9297332380630339\n",
            "[LightGBM] [Warning] bagging_freq is set=6, subsample_freq=0 will be ignored. Current value: bagging_freq=6\n",
            "[LightGBM] [Warning] feature_fraction is set=0.797750463565952, colsample_bytree=1.0 will be ignored. Current value: feature_fraction=0.797750463565952\n",
            "[LightGBM] [Warning] lambda_l2 is set=5.680436119211693e-07, reg_lambda=0.0 will be ignored. Current value: lambda_l2=5.680436119211693e-07\n",
            "[LightGBM] [Warning] lambda_l1 is set=0.0010281388087272358, reg_alpha=0.0 will be ignored. Current value: lambda_l1=0.0010281388087272358\n",
            "[LightGBM] [Warning] bagging_fraction is set=0.9297332380630339, subsample=1.0 will be ignored. Current value: bagging_fraction=0.9297332380630339\n",
            "[LightGBM] [Warning] bagging_freq is set=6, subsample_freq=0 will be ignored. Current value: bagging_freq=6\n"
          ]
        },
        {
          "metadata": {
            "tags": null
          },
          "name": "stderr",
          "output_type": "stream",
          "text": [
            "[I 2024-04-29 15:59:17,517] Trial 7 finished with value: 0.6643565003109035 and parameters: {'learning_rate': 0.22511631645369395, 'num_leaves': 222, 'feature_fraction': 0.797750463565952, 'bagging_fraction': 0.9297332380630339, 'bagging_freq': 6, 'min_child_samples': 81, 'lambda_l1': 0.0010281388087272358, 'lambda_l2': 5.680436119211693e-07}. Best is trial 4 with value: 0.8072123842662229.\n"
          ]
        },
        {
          "metadata": {
            "tags": null
          },
          "name": "stdout",
          "output_type": "stream",
          "text": [
            "[LightGBM] [Warning] feature_fraction is set=0.7124495832307967, colsample_bytree=1.0 will be ignored. Current value: feature_fraction=0.7124495832307967\n",
            "[LightGBM] [Warning] lambda_l2 is set=2.98466748792195e-08, reg_lambda=0.0 will be ignored. Current value: lambda_l2=2.98466748792195e-08\n",
            "[LightGBM] [Warning] lambda_l1 is set=0.001999374978409128, reg_alpha=0.0 will be ignored. Current value: lambda_l1=0.001999374978409128\n",
            "[LightGBM] [Warning] bagging_fraction is set=0.7859023189965224, subsample=1.0 will be ignored. Current value: bagging_fraction=0.7859023189965224\n",
            "[LightGBM] [Warning] bagging_freq is set=4, subsample_freq=0 will be ignored. Current value: bagging_freq=4\n",
            "[LightGBM] [Warning] feature_fraction is set=0.7124495832307967, colsample_bytree=1.0 will be ignored. Current value: feature_fraction=0.7124495832307967\n",
            "[LightGBM] [Warning] lambda_l2 is set=2.98466748792195e-08, reg_lambda=0.0 will be ignored. Current value: lambda_l2=2.98466748792195e-08\n",
            "[LightGBM] [Warning] lambda_l1 is set=0.001999374978409128, reg_alpha=0.0 will be ignored. Current value: lambda_l1=0.001999374978409128\n",
            "[LightGBM] [Warning] bagging_fraction is set=0.7859023189965224, subsample=1.0 will be ignored. Current value: bagging_fraction=0.7859023189965224\n",
            "[LightGBM] [Warning] bagging_freq is set=4, subsample_freq=0 will be ignored. Current value: bagging_freq=4\n",
            "[LightGBM] [Info] Auto-choosing row-wise multi-threading, the overhead of testing was 0.138782 seconds.\n",
            "You can set `force_row_wise=true` to remove the overhead.\n",
            "And if memory is not enough, you can set `force_col_wise=true`.\n",
            "[LightGBM] [Info] Total Bins 25279\n",
            "[LightGBM] [Info] Number of data points in the train set: 181724, number of used features: 140\n",
            "[LightGBM] [Warning] feature_fraction is set=0.7124495832307967, colsample_bytree=1.0 will be ignored. Current value: feature_fraction=0.7124495832307967\n",
            "[LightGBM] [Warning] lambda_l2 is set=2.98466748792195e-08, reg_lambda=0.0 will be ignored. Current value: lambda_l2=2.98466748792195e-08\n",
            "[LightGBM] [Warning] lambda_l1 is set=0.001999374978409128, reg_alpha=0.0 will be ignored. Current value: lambda_l1=0.001999374978409128\n",
            "[LightGBM] [Warning] bagging_fraction is set=0.7859023189965224, subsample=1.0 will be ignored. Current value: bagging_fraction=0.7859023189965224\n",
            "[LightGBM] [Warning] bagging_freq is set=4, subsample_freq=0 will be ignored. Current value: bagging_freq=4\n",
            "[LightGBM] [Warning] feature_fraction is set=0.7124495832307967, colsample_bytree=1.0 will be ignored. Current value: feature_fraction=0.7124495832307967\n",
            "[LightGBM] [Warning] lambda_l2 is set=2.98466748792195e-08, reg_lambda=0.0 will be ignored. Current value: lambda_l2=2.98466748792195e-08\n",
            "[LightGBM] [Warning] lambda_l1 is set=0.001999374978409128, reg_alpha=0.0 will be ignored. Current value: lambda_l1=0.001999374978409128\n",
            "[LightGBM] [Warning] bagging_fraction is set=0.7859023189965224, subsample=1.0 will be ignored. Current value: bagging_fraction=0.7859023189965224\n",
            "[LightGBM] [Warning] bagging_freq is set=4, subsample_freq=0 will be ignored. Current value: bagging_freq=4\n"
          ]
        },
        {
          "metadata": {
            "tags": null
          },
          "name": "stderr",
          "output_type": "stream",
          "text": [
            "[I 2024-04-29 16:00:00,027] Trial 8 finished with value: 0.8395103014491042 and parameters: {'learning_rate': 0.09777384973003748, 'num_leaves': 248, 'feature_fraction': 0.7124495832307967, 'bagging_fraction': 0.7859023189965224, 'bagging_freq': 4, 'min_child_samples': 35, 'lambda_l1': 0.001999374978409128, 'lambda_l2': 2.98466748792195e-08}. Best is trial 8 with value: 0.8395103014491042.\n"
          ]
        },
        {
          "metadata": {
            "tags": null
          },
          "name": "stdout",
          "output_type": "stream",
          "text": [
            "[LightGBM] [Warning] feature_fraction is set=0.8589633541523708, colsample_bytree=1.0 will be ignored. Current value: feature_fraction=0.8589633541523708\n",
            "[LightGBM] [Warning] lambda_l2 is set=3.9670047485435854e-07, reg_lambda=0.0 will be ignored. Current value: lambda_l2=3.9670047485435854e-07\n",
            "[LightGBM] [Warning] lambda_l1 is set=1.7720574496119086, reg_alpha=0.0 will be ignored. Current value: lambda_l1=1.7720574496119086\n",
            "[LightGBM] [Warning] bagging_fraction is set=0.7230256467777585, subsample=1.0 will be ignored. Current value: bagging_fraction=0.7230256467777585\n",
            "[LightGBM] [Warning] bagging_freq is set=4, subsample_freq=0 will be ignored. Current value: bagging_freq=4\n",
            "[LightGBM] [Warning] feature_fraction is set=0.8589633541523708, colsample_bytree=1.0 will be ignored. Current value: feature_fraction=0.8589633541523708\n",
            "[LightGBM] [Warning] lambda_l2 is set=3.9670047485435854e-07, reg_lambda=0.0 will be ignored. Current value: lambda_l2=3.9670047485435854e-07\n",
            "[LightGBM] [Warning] lambda_l1 is set=1.7720574496119086, reg_alpha=0.0 will be ignored. Current value: lambda_l1=1.7720574496119086\n",
            "[LightGBM] [Warning] bagging_fraction is set=0.7230256467777585, subsample=1.0 will be ignored. Current value: bagging_fraction=0.7230256467777585\n",
            "[LightGBM] [Warning] bagging_freq is set=4, subsample_freq=0 will be ignored. Current value: bagging_freq=4\n",
            "[LightGBM] [Info] Auto-choosing row-wise multi-threading, the overhead of testing was 0.140050 seconds.\n",
            "You can set `force_row_wise=true` to remove the overhead.\n",
            "And if memory is not enough, you can set `force_col_wise=true`.\n",
            "[LightGBM] [Info] Total Bins 25279\n",
            "[LightGBM] [Info] Number of data points in the train set: 181724, number of used features: 140\n",
            "[LightGBM] [Warning] feature_fraction is set=0.8589633541523708, colsample_bytree=1.0 will be ignored. Current value: feature_fraction=0.8589633541523708\n",
            "[LightGBM] [Warning] lambda_l2 is set=3.9670047485435854e-07, reg_lambda=0.0 will be ignored. Current value: lambda_l2=3.9670047485435854e-07\n",
            "[LightGBM] [Warning] lambda_l1 is set=1.7720574496119086, reg_alpha=0.0 will be ignored. Current value: lambda_l1=1.7720574496119086\n",
            "[LightGBM] [Warning] bagging_fraction is set=0.7230256467777585, subsample=1.0 will be ignored. Current value: bagging_fraction=0.7230256467777585\n",
            "[LightGBM] [Warning] bagging_freq is set=4, subsample_freq=0 will be ignored. Current value: bagging_freq=4\n",
            "[LightGBM] [Warning] feature_fraction is set=0.8589633541523708, colsample_bytree=1.0 will be ignored. Current value: feature_fraction=0.8589633541523708\n",
            "[LightGBM] [Warning] lambda_l2 is set=3.9670047485435854e-07, reg_lambda=0.0 will be ignored. Current value: lambda_l2=3.9670047485435854e-07\n",
            "[LightGBM] [Warning] lambda_l1 is set=1.7720574496119086, reg_alpha=0.0 will be ignored. Current value: lambda_l1=1.7720574496119086\n",
            "[LightGBM] [Warning] bagging_fraction is set=0.7230256467777585, subsample=1.0 will be ignored. Current value: bagging_fraction=0.7230256467777585\n",
            "[LightGBM] [Warning] bagging_freq is set=4, subsample_freq=0 will be ignored. Current value: bagging_freq=4\n"
          ]
        },
        {
          "metadata": {
            "tags": null
          },
          "name": "stderr",
          "output_type": "stream",
          "text": [
            "[I 2024-04-29 16:00:42,337] Trial 9 finished with value: 0.8395103014491042 and parameters: {'learning_rate': 0.22544961188826917, 'num_leaves': 289, 'feature_fraction': 0.8589633541523708, 'bagging_fraction': 0.7230256467777585, 'bagging_freq': 4, 'min_child_samples': 61, 'lambda_l1': 1.7720574496119086, 'lambda_l2': 3.9670047485435854e-07}. Best is trial 8 with value: 0.8395103014491042.\n"
          ]
        },
        {
          "metadata": {
            "tags": null
          },
          "name": "stdout",
          "output_type": "stream",
          "text": [
            "[LightGBM] [Warning] feature_fraction is set=0.7237463037433908, colsample_bytree=1.0 will be ignored. Current value: feature_fraction=0.7237463037433908\n",
            "[LightGBM] [Warning] lambda_l2 is set=5.5607600118804644e-05, reg_lambda=0.0 will be ignored. Current value: lambda_l2=5.5607600118804644e-05\n",
            "[LightGBM] [Warning] lambda_l1 is set=0.020519793949856275, reg_alpha=0.0 will be ignored. Current value: lambda_l1=0.020519793949856275\n",
            "[LightGBM] [Warning] bagging_fraction is set=0.8088437959582139, subsample=1.0 will be ignored. Current value: bagging_fraction=0.8088437959582139\n",
            "[LightGBM] [Warning] bagging_freq is set=3, subsample_freq=0 will be ignored. Current value: bagging_freq=3\n",
            "[LightGBM] [Warning] feature_fraction is set=0.7237463037433908, colsample_bytree=1.0 will be ignored. Current value: feature_fraction=0.7237463037433908\n",
            "[LightGBM] [Warning] lambda_l2 is set=5.5607600118804644e-05, reg_lambda=0.0 will be ignored. Current value: lambda_l2=5.5607600118804644e-05\n",
            "[LightGBM] [Warning] lambda_l1 is set=0.020519793949856275, reg_alpha=0.0 will be ignored. Current value: lambda_l1=0.020519793949856275\n",
            "[LightGBM] [Warning] bagging_fraction is set=0.8088437959582139, subsample=1.0 will be ignored. Current value: bagging_fraction=0.8088437959582139\n",
            "[LightGBM] [Warning] bagging_freq is set=3, subsample_freq=0 will be ignored. Current value: bagging_freq=3\n",
            "[LightGBM] [Info] Auto-choosing row-wise multi-threading, the overhead of testing was 0.140297 seconds.\n",
            "You can set `force_row_wise=true` to remove the overhead.\n",
            "And if memory is not enough, you can set `force_col_wise=true`.\n",
            "[LightGBM] [Info] Total Bins 25279\n",
            "[LightGBM] [Info] Number of data points in the train set: 181724, number of used features: 140\n",
            "[LightGBM] [Warning] feature_fraction is set=0.7237463037433908, colsample_bytree=1.0 will be ignored. Current value: feature_fraction=0.7237463037433908\n",
            "[LightGBM] [Warning] lambda_l2 is set=5.5607600118804644e-05, reg_lambda=0.0 will be ignored. Current value: lambda_l2=5.5607600118804644e-05\n",
            "[LightGBM] [Warning] lambda_l1 is set=0.020519793949856275, reg_alpha=0.0 will be ignored. Current value: lambda_l1=0.020519793949856275\n",
            "[LightGBM] [Warning] bagging_fraction is set=0.8088437959582139, subsample=1.0 will be ignored. Current value: bagging_fraction=0.8088437959582139\n",
            "[LightGBM] [Warning] bagging_freq is set=3, subsample_freq=0 will be ignored. Current value: bagging_freq=3\n",
            "[LightGBM] [Warning] feature_fraction is set=0.7237463037433908, colsample_bytree=1.0 will be ignored. Current value: feature_fraction=0.7237463037433908\n",
            "[LightGBM] [Warning] lambda_l2 is set=5.5607600118804644e-05, reg_lambda=0.0 will be ignored. Current value: lambda_l2=5.5607600118804644e-05\n",
            "[LightGBM] [Warning] lambda_l1 is set=0.020519793949856275, reg_alpha=0.0 will be ignored. Current value: lambda_l1=0.020519793949856275\n",
            "[LightGBM] [Warning] bagging_fraction is set=0.8088437959582139, subsample=1.0 will be ignored. Current value: bagging_fraction=0.8088437959582139\n",
            "[LightGBM] [Warning] bagging_freq is set=3, subsample_freq=0 will be ignored. Current value: bagging_freq=3\n"
          ]
        },
        {
          "metadata": {
            "tags": null
          },
          "name": "stderr",
          "output_type": "stream",
          "text": [
            "[I 2024-04-29 16:01:22,596] Trial 10 finished with value: 0.7925700737469461 and parameters: {'learning_rate': 0.018955972292280743, 'num_leaves': 182, 'feature_fraction': 0.7237463037433908, 'bagging_fraction': 0.8088437959582139, 'bagging_freq': 3, 'min_child_samples': 6, 'lambda_l1': 0.020519793949856275, 'lambda_l2': 5.5607600118804644e-05}. Best is trial 8 with value: 0.8395103014491042.\n"
          ]
        },
        {
          "metadata": {
            "tags": null
          },
          "name": "stdout",
          "output_type": "stream",
          "text": [
            "[LightGBM] [Warning] feature_fraction is set=0.8702953575870397, colsample_bytree=1.0 will be ignored. Current value: feature_fraction=0.8702953575870397\n",
            "[LightGBM] [Warning] lambda_l2 is set=1.0610892511737913e-08, reg_lambda=0.0 will be ignored. Current value: lambda_l2=1.0610892511737913e-08\n",
            "[LightGBM] [Warning] lambda_l1 is set=0.7316725626481994, reg_alpha=0.0 will be ignored. Current value: lambda_l1=0.7316725626481994\n",
            "[LightGBM] [Warning] bagging_fraction is set=0.7537385282629598, subsample=1.0 will be ignored. Current value: bagging_fraction=0.7537385282629598\n",
            "[LightGBM] [Warning] bagging_freq is set=4, subsample_freq=0 will be ignored. Current value: bagging_freq=4\n",
            "[LightGBM] [Warning] feature_fraction is set=0.8702953575870397, colsample_bytree=1.0 will be ignored. Current value: feature_fraction=0.8702953575870397\n",
            "[LightGBM] [Warning] lambda_l2 is set=1.0610892511737913e-08, reg_lambda=0.0 will be ignored. Current value: lambda_l2=1.0610892511737913e-08\n",
            "[LightGBM] [Warning] lambda_l1 is set=0.7316725626481994, reg_alpha=0.0 will be ignored. Current value: lambda_l1=0.7316725626481994\n",
            "[LightGBM] [Warning] bagging_fraction is set=0.7537385282629598, subsample=1.0 will be ignored. Current value: bagging_fraction=0.7537385282629598\n",
            "[LightGBM] [Warning] bagging_freq is set=4, subsample_freq=0 will be ignored. Current value: bagging_freq=4\n",
            "[LightGBM] [Info] Auto-choosing row-wise multi-threading, the overhead of testing was 0.147064 seconds.\n",
            "You can set `force_row_wise=true` to remove the overhead.\n",
            "And if memory is not enough, you can set `force_col_wise=true`.\n",
            "[LightGBM] [Info] Total Bins 25279\n",
            "[LightGBM] [Info] Number of data points in the train set: 181724, number of used features: 140\n",
            "[LightGBM] [Warning] feature_fraction is set=0.8702953575870397, colsample_bytree=1.0 will be ignored. Current value: feature_fraction=0.8702953575870397\n",
            "[LightGBM] [Warning] lambda_l2 is set=1.0610892511737913e-08, reg_lambda=0.0 will be ignored. Current value: lambda_l2=1.0610892511737913e-08\n",
            "[LightGBM] [Warning] lambda_l1 is set=0.7316725626481994, reg_alpha=0.0 will be ignored. Current value: lambda_l1=0.7316725626481994\n",
            "[LightGBM] [Warning] bagging_fraction is set=0.7537385282629598, subsample=1.0 will be ignored. Current value: bagging_fraction=0.7537385282629598\n",
            "[LightGBM] [Warning] bagging_freq is set=4, subsample_freq=0 will be ignored. Current value: bagging_freq=4\n",
            "[LightGBM] [Warning] feature_fraction is set=0.8702953575870397, colsample_bytree=1.0 will be ignored. Current value: feature_fraction=0.8702953575870397\n",
            "[LightGBM] [Warning] lambda_l2 is set=1.0610892511737913e-08, reg_lambda=0.0 will be ignored. Current value: lambda_l2=1.0610892511737913e-08\n",
            "[LightGBM] [Warning] lambda_l1 is set=0.7316725626481994, reg_alpha=0.0 will be ignored. Current value: lambda_l1=0.7316725626481994\n",
            "[LightGBM] [Warning] bagging_fraction is set=0.7537385282629598, subsample=1.0 will be ignored. Current value: bagging_fraction=0.7537385282629598\n",
            "[LightGBM] [Warning] bagging_freq is set=4, subsample_freq=0 will be ignored. Current value: bagging_freq=4\n"
          ]
        },
        {
          "metadata": {
            "tags": null
          },
          "name": "stderr",
          "output_type": "stream",
          "text": [
            "[I 2024-04-29 16:02:08,676] Trial 11 finished with value: 0.7456298460447878 and parameters: {'learning_rate': 0.07522445576547258, 'num_leaves': 298, 'feature_fraction': 0.8702953575870397, 'bagging_fraction': 0.7537385282629598, 'bagging_freq': 4, 'min_child_samples': 55, 'lambda_l1': 0.7316725626481994, 'lambda_l2': 1.0610892511737913e-08}. Best is trial 8 with value: 0.8395103014491042.\n"
          ]
        },
        {
          "metadata": {
            "tags": null
          },
          "name": "stdout",
          "output_type": "stream",
          "text": [
            "[LightGBM] [Warning] feature_fraction is set=0.8958427095452814, colsample_bytree=1.0 will be ignored. Current value: feature_fraction=0.8958427095452814\n",
            "[LightGBM] [Warning] lambda_l2 is set=4.632113309217647e-06, reg_lambda=0.0 will be ignored. Current value: lambda_l2=4.632113309217647e-06\n",
            "[LightGBM] [Warning] lambda_l1 is set=0.006354314194767805, reg_alpha=0.0 will be ignored. Current value: lambda_l1=0.006354314194767805\n",
            "[LightGBM] [Warning] bagging_fraction is set=0.7408801212993015, subsample=1.0 will be ignored. Current value: bagging_fraction=0.7408801212993015\n",
            "[LightGBM] [Warning] bagging_freq is set=4, subsample_freq=0 will be ignored. Current value: bagging_freq=4\n",
            "[LightGBM] [Warning] feature_fraction is set=0.8958427095452814, colsample_bytree=1.0 will be ignored. Current value: feature_fraction=0.8958427095452814\n",
            "[LightGBM] [Warning] lambda_l2 is set=4.632113309217647e-06, reg_lambda=0.0 will be ignored. Current value: lambda_l2=4.632113309217647e-06\n",
            "[LightGBM] [Warning] lambda_l1 is set=0.006354314194767805, reg_alpha=0.0 will be ignored. Current value: lambda_l1=0.006354314194767805\n",
            "[LightGBM] [Warning] bagging_fraction is set=0.7408801212993015, subsample=1.0 will be ignored. Current value: bagging_fraction=0.7408801212993015\n",
            "[LightGBM] [Warning] bagging_freq is set=4, subsample_freq=0 will be ignored. Current value: bagging_freq=4\n",
            "[LightGBM] [Info] Auto-choosing row-wise multi-threading, the overhead of testing was 0.159429 seconds.\n",
            "You can set `force_row_wise=true` to remove the overhead.\n",
            "And if memory is not enough, you can set `force_col_wise=true`.\n",
            "[LightGBM] [Info] Total Bins 25279\n",
            "[LightGBM] [Info] Number of data points in the train set: 181724, number of used features: 140\n",
            "[LightGBM] [Warning] feature_fraction is set=0.8958427095452814, colsample_bytree=1.0 will be ignored. Current value: feature_fraction=0.8958427095452814\n",
            "[LightGBM] [Warning] lambda_l2 is set=4.632113309217647e-06, reg_lambda=0.0 will be ignored. Current value: lambda_l2=4.632113309217647e-06\n",
            "[LightGBM] [Warning] lambda_l1 is set=0.006354314194767805, reg_alpha=0.0 will be ignored. Current value: lambda_l1=0.006354314194767805\n",
            "[LightGBM] [Warning] bagging_fraction is set=0.7408801212993015, subsample=1.0 will be ignored. Current value: bagging_fraction=0.7408801212993015\n",
            "[LightGBM] [Warning] bagging_freq is set=4, subsample_freq=0 will be ignored. Current value: bagging_freq=4\n",
            "[LightGBM] [Warning] feature_fraction is set=0.8958427095452814, colsample_bytree=1.0 will be ignored. Current value: feature_fraction=0.8958427095452814\n",
            "[LightGBM] [Warning] lambda_l2 is set=4.632113309217647e-06, reg_lambda=0.0 will be ignored. Current value: lambda_l2=4.632113309217647e-06\n",
            "[LightGBM] [Warning] lambda_l1 is set=0.006354314194767805, reg_alpha=0.0 will be ignored. Current value: lambda_l1=0.006354314194767805\n",
            "[LightGBM] [Warning] bagging_fraction is set=0.7408801212993015, subsample=1.0 will be ignored. Current value: bagging_fraction=0.7408801212993015\n",
            "[LightGBM] [Warning] bagging_freq is set=4, subsample_freq=0 will be ignored. Current value: bagging_freq=4\n"
          ]
        },
        {
          "metadata": {
            "tags": null
          },
          "name": "stderr",
          "output_type": "stream",
          "text": [
            "[I 2024-04-29 16:02:47,013] Trial 12 finished with value: 0.8395103014491042 and parameters: {'learning_rate': 0.1114171691271639, 'num_leaves': 196, 'feature_fraction': 0.8958427095452814, 'bagging_fraction': 0.7408801212993015, 'bagging_freq': 4, 'min_child_samples': 49, 'lambda_l1': 0.006354314194767805, 'lambda_l2': 4.632113309217647e-06}. Best is trial 8 with value: 0.8395103014491042.\n"
          ]
        },
        {
          "metadata": {
            "tags": null
          },
          "name": "stdout",
          "output_type": "stream",
          "text": [
            "[LightGBM] [Warning] feature_fraction is set=0.7683054600282054, colsample_bytree=1.0 will be ignored. Current value: feature_fraction=0.7683054600282054\n",
            "[LightGBM] [Warning] lambda_l2 is set=0.0007244213895017241, reg_lambda=0.0 will be ignored. Current value: lambda_l2=0.0007244213895017241\n",
            "[LightGBM] [Warning] lambda_l1 is set=7.645438426501901, reg_alpha=0.0 will be ignored. Current value: lambda_l1=7.645438426501901\n",
            "[LightGBM] [Warning] bagging_fraction is set=0.868308255768677, subsample=1.0 will be ignored. Current value: bagging_fraction=0.868308255768677\n",
            "[LightGBM] [Warning] bagging_freq is set=3, subsample_freq=0 will be ignored. Current value: bagging_freq=3\n",
            "[LightGBM] [Warning] feature_fraction is set=0.7683054600282054, colsample_bytree=1.0 will be ignored. Current value: feature_fraction=0.7683054600282054\n",
            "[LightGBM] [Warning] lambda_l2 is set=0.0007244213895017241, reg_lambda=0.0 will be ignored. Current value: lambda_l2=0.0007244213895017241\n",
            "[LightGBM] [Warning] lambda_l1 is set=7.645438426501901, reg_alpha=0.0 will be ignored. Current value: lambda_l1=7.645438426501901\n",
            "[LightGBM] [Warning] bagging_fraction is set=0.868308255768677, subsample=1.0 will be ignored. Current value: bagging_fraction=0.868308255768677\n",
            "[LightGBM] [Warning] bagging_freq is set=3, subsample_freq=0 will be ignored. Current value: bagging_freq=3\n",
            "[LightGBM] [Info] Auto-choosing row-wise multi-threading, the overhead of testing was 0.146837 seconds.\n",
            "You can set `force_row_wise=true` to remove the overhead.\n",
            "And if memory is not enough, you can set `force_col_wise=true`.\n",
            "[LightGBM] [Info] Total Bins 25279\n",
            "[LightGBM] [Info] Number of data points in the train set: 181724, number of used features: 140\n",
            "[LightGBM] [Warning] feature_fraction is set=0.7683054600282054, colsample_bytree=1.0 will be ignored. Current value: feature_fraction=0.7683054600282054\n",
            "[LightGBM] [Warning] lambda_l2 is set=0.0007244213895017241, reg_lambda=0.0 will be ignored. Current value: lambda_l2=0.0007244213895017241\n",
            "[LightGBM] [Warning] lambda_l1 is set=7.645438426501901, reg_alpha=0.0 will be ignored. Current value: lambda_l1=7.645438426501901\n",
            "[LightGBM] [Warning] bagging_fraction is set=0.868308255768677, subsample=1.0 will be ignored. Current value: bagging_fraction=0.868308255768677\n",
            "[LightGBM] [Warning] bagging_freq is set=3, subsample_freq=0 will be ignored. Current value: bagging_freq=3\n",
            "[LightGBM] [Warning] feature_fraction is set=0.7683054600282054, colsample_bytree=1.0 will be ignored. Current value: feature_fraction=0.7683054600282054\n",
            "[LightGBM] [Warning] lambda_l2 is set=0.0007244213895017241, reg_lambda=0.0 will be ignored. Current value: lambda_l2=0.0007244213895017241\n",
            "[LightGBM] [Warning] lambda_l1 is set=7.645438426501901, reg_alpha=0.0 will be ignored. Current value: lambda_l1=7.645438426501901\n",
            "[LightGBM] [Warning] bagging_fraction is set=0.868308255768677, subsample=1.0 will be ignored. Current value: bagging_fraction=0.868308255768677\n",
            "[LightGBM] [Warning] bagging_freq is set=3, subsample_freq=0 will be ignored. Current value: bagging_freq=3\n"
          ]
        },
        {
          "metadata": {
            "tags": null
          },
          "name": "stderr",
          "output_type": "stream",
          "text": [
            "[I 2024-04-29 16:03:20,921] Trial 13 finished with value: 0.6800273072886168 and parameters: {'learning_rate': 0.037520596754818676, 'num_leaves': 127, 'feature_fraction': 0.7683054600282054, 'bagging_fraction': 0.868308255768677, 'bagging_freq': 3, 'min_child_samples': 55, 'lambda_l1': 7.645438426501901, 'lambda_l2': 0.0007244213895017241}. Best is trial 8 with value: 0.8395103014491042.\n"
          ]
        },
        {
          "metadata": {
            "tags": null
          },
          "name": "stdout",
          "output_type": "stream",
          "text": [
            "[LightGBM] [Warning] feature_fraction is set=0.6867145422287068, colsample_bytree=1.0 will be ignored. Current value: feature_fraction=0.6867145422287068\n",
            "[LightGBM] [Warning] lambda_l2 is set=1.86399065502705e-07, reg_lambda=0.0 will be ignored. Current value: lambda_l2=1.86399065502705e-07\n",
            "[LightGBM] [Warning] lambda_l1 is set=4.7599108989488065e-05, reg_alpha=0.0 will be ignored. Current value: lambda_l1=4.7599108989488065e-05\n",
            "[LightGBM] [Warning] bagging_fraction is set=0.7369399023102637, subsample=1.0 will be ignored. Current value: bagging_fraction=0.7369399023102637\n",
            "[LightGBM] [Warning] bagging_freq is set=5, subsample_freq=0 will be ignored. Current value: bagging_freq=5\n",
            "[LightGBM] [Warning] feature_fraction is set=0.6867145422287068, colsample_bytree=1.0 will be ignored. Current value: feature_fraction=0.6867145422287068\n",
            "[LightGBM] [Warning] lambda_l2 is set=1.86399065502705e-07, reg_lambda=0.0 will be ignored. Current value: lambda_l2=1.86399065502705e-07\n",
            "[LightGBM] [Warning] lambda_l1 is set=4.7599108989488065e-05, reg_alpha=0.0 will be ignored. Current value: lambda_l1=4.7599108989488065e-05\n",
            "[LightGBM] [Warning] bagging_fraction is set=0.7369399023102637, subsample=1.0 will be ignored. Current value: bagging_fraction=0.7369399023102637\n",
            "[LightGBM] [Warning] bagging_freq is set=5, subsample_freq=0 will be ignored. Current value: bagging_freq=5\n",
            "[LightGBM] [Info] Auto-choosing col-wise multi-threading, the overhead of testing was 0.336990 seconds.\n",
            "You can set `force_col_wise=true` to remove the overhead.\n",
            "[LightGBM] [Info] Total Bins 25279\n",
            "[LightGBM] [Info] Number of data points in the train set: 181724, number of used features: 140\n",
            "[LightGBM] [Warning] feature_fraction is set=0.6867145422287068, colsample_bytree=1.0 will be ignored. Current value: feature_fraction=0.6867145422287068\n",
            "[LightGBM] [Warning] lambda_l2 is set=1.86399065502705e-07, reg_lambda=0.0 will be ignored. Current value: lambda_l2=1.86399065502705e-07\n",
            "[LightGBM] [Warning] lambda_l1 is set=4.7599108989488065e-05, reg_alpha=0.0 will be ignored. Current value: lambda_l1=4.7599108989488065e-05\n",
            "[LightGBM] [Warning] bagging_fraction is set=0.7369399023102637, subsample=1.0 will be ignored. Current value: bagging_fraction=0.7369399023102637\n",
            "[LightGBM] [Warning] bagging_freq is set=5, subsample_freq=0 will be ignored. Current value: bagging_freq=5\n",
            "[LightGBM] [Warning] feature_fraction is set=0.6867145422287068, colsample_bytree=1.0 will be ignored. Current value: feature_fraction=0.6867145422287068\n",
            "[LightGBM] [Warning] lambda_l2 is set=1.86399065502705e-07, reg_lambda=0.0 will be ignored. Current value: lambda_l2=1.86399065502705e-07\n",
            "[LightGBM] [Warning] lambda_l1 is set=4.7599108989488065e-05, reg_alpha=0.0 will be ignored. Current value: lambda_l1=4.7599108989488065e-05\n",
            "[LightGBM] [Warning] bagging_fraction is set=0.7369399023102637, subsample=1.0 will be ignored. Current value: bagging_fraction=0.7369399023102637\n",
            "[LightGBM] [Warning] bagging_freq is set=5, subsample_freq=0 will be ignored. Current value: bagging_freq=5\n"
          ]
        },
        {
          "metadata": {
            "tags": null
          },
          "name": "stderr",
          "output_type": "stream",
          "text": [
            "[I 2024-04-29 16:03:59,574] Trial 14 finished with value: 0.6472260379105315 and parameters: {'learning_rate': 0.16462237176003933, 'num_leaves': 208, 'feature_fraction': 0.6867145422287068, 'bagging_fraction': 0.7369399023102637, 'bagging_freq': 5, 'min_child_samples': 41, 'lambda_l1': 4.7599108989488065e-05, 'lambda_l2': 1.86399065502705e-07}. Best is trial 8 with value: 0.8395103014491042.\n"
          ]
        },
        {
          "metadata": {
            "tags": null
          },
          "name": "stdout",
          "output_type": "stream",
          "text": [
            "[LightGBM] [Warning] feature_fraction is set=0.8429950749453329, colsample_bytree=1.0 will be ignored. Current value: feature_fraction=0.8429950749453329\n",
            "[LightGBM] [Warning] lambda_l2 is set=2.417891915943065e-05, reg_lambda=0.0 will be ignored. Current value: lambda_l2=2.417891915943065e-05\n",
            "[LightGBM] [Warning] lambda_l1 is set=0.2934415996474837, reg_alpha=0.0 will be ignored. Current value: lambda_l1=0.2934415996474837\n",
            "[LightGBM] [Warning] bagging_fraction is set=0.9930515087201123, subsample=1.0 will be ignored. Current value: bagging_fraction=0.9930515087201123\n",
            "[LightGBM] [Warning] bagging_freq is set=2, subsample_freq=0 will be ignored. Current value: bagging_freq=2\n",
            "[LightGBM] [Warning] feature_fraction is set=0.8429950749453329, colsample_bytree=1.0 will be ignored. Current value: feature_fraction=0.8429950749453329\n",
            "[LightGBM] [Warning] lambda_l2 is set=2.417891915943065e-05, reg_lambda=0.0 will be ignored. Current value: lambda_l2=2.417891915943065e-05\n",
            "[LightGBM] [Warning] lambda_l1 is set=0.2934415996474837, reg_alpha=0.0 will be ignored. Current value: lambda_l1=0.2934415996474837\n",
            "[LightGBM] [Warning] bagging_fraction is set=0.9930515087201123, subsample=1.0 will be ignored. Current value: bagging_fraction=0.9930515087201123\n",
            "[LightGBM] [Warning] bagging_freq is set=2, subsample_freq=0 will be ignored. Current value: bagging_freq=2\n",
            "[LightGBM] [Info] Auto-choosing row-wise multi-threading, the overhead of testing was 0.141799 seconds.\n",
            "You can set `force_row_wise=true` to remove the overhead.\n",
            "And if memory is not enough, you can set `force_col_wise=true`.\n",
            "[LightGBM] [Info] Total Bins 25279\n",
            "[LightGBM] [Info] Number of data points in the train set: 181724, number of used features: 140\n",
            "[LightGBM] [Warning] feature_fraction is set=0.8429950749453329, colsample_bytree=1.0 will be ignored. Current value: feature_fraction=0.8429950749453329\n",
            "[LightGBM] [Warning] lambda_l2 is set=2.417891915943065e-05, reg_lambda=0.0 will be ignored. Current value: lambda_l2=2.417891915943065e-05\n",
            "[LightGBM] [Warning] lambda_l1 is set=0.2934415996474837, reg_alpha=0.0 will be ignored. Current value: lambda_l1=0.2934415996474837\n",
            "[LightGBM] [Warning] bagging_fraction is set=0.9930515087201123, subsample=1.0 will be ignored. Current value: bagging_fraction=0.9930515087201123\n",
            "[LightGBM] [Warning] bagging_freq is set=2, subsample_freq=0 will be ignored. Current value: bagging_freq=2\n",
            "[LightGBM] [Warning] feature_fraction is set=0.8429950749453329, colsample_bytree=1.0 will be ignored. Current value: feature_fraction=0.8429950749453329\n",
            "[LightGBM] [Warning] lambda_l2 is set=2.417891915943065e-05, reg_lambda=0.0 will be ignored. Current value: lambda_l2=2.417891915943065e-05\n",
            "[LightGBM] [Warning] lambda_l1 is set=0.2934415996474837, reg_alpha=0.0 will be ignored. Current value: lambda_l1=0.2934415996474837\n",
            "[LightGBM] [Warning] bagging_fraction is set=0.9930515087201123, subsample=1.0 will be ignored. Current value: bagging_fraction=0.9930515087201123\n",
            "[LightGBM] [Warning] bagging_freq is set=2, subsample_freq=0 will be ignored. Current value: bagging_freq=2\n"
          ]
        },
        {
          "metadata": {
            "tags": null
          },
          "name": "stderr",
          "output_type": "stream",
          "text": [
            "[I 2024-04-29 16:04:47,487] Trial 15 finished with value: 0.6800273072886168 and parameters: {'learning_rate': 0.22386288761893805, 'num_leaves': 296, 'feature_fraction': 0.8429950749453329, 'bagging_fraction': 0.9930515087201123, 'bagging_freq': 2, 'min_child_samples': 70, 'lambda_l1': 0.2934415996474837, 'lambda_l2': 2.417891915943065e-05}. Best is trial 8 with value: 0.8395103014491042.\n"
          ]
        },
        {
          "metadata": {
            "tags": null
          },
          "name": "stdout",
          "output_type": "stream",
          "text": [
            "[LightGBM] [Warning] feature_fraction is set=0.9055355783310243, colsample_bytree=1.0 will be ignored. Current value: feature_fraction=0.9055355783310243\n",
            "[LightGBM] [Warning] lambda_l2 is set=0.0007561468200486233, reg_lambda=0.0 will be ignored. Current value: lambda_l2=0.0007561468200486233\n",
            "[LightGBM] [Warning] lambda_l1 is set=1.1682790436458151e-08, reg_alpha=0.0 will be ignored. Current value: lambda_l1=1.1682790436458151e-08\n",
            "[LightGBM] [Warning] bagging_fraction is set=0.7752596442147288, subsample=1.0 will be ignored. Current value: bagging_fraction=0.7752596442147288\n",
            "[LightGBM] [Warning] bagging_freq is set=4, subsample_freq=0 will be ignored. Current value: bagging_freq=4\n",
            "[LightGBM] [Warning] feature_fraction is set=0.9055355783310243, colsample_bytree=1.0 will be ignored. Current value: feature_fraction=0.9055355783310243\n",
            "[LightGBM] [Warning] lambda_l2 is set=0.0007561468200486233, reg_lambda=0.0 will be ignored. Current value: lambda_l2=0.0007561468200486233\n",
            "[LightGBM] [Warning] lambda_l1 is set=1.1682790436458151e-08, reg_alpha=0.0 will be ignored. Current value: lambda_l1=1.1682790436458151e-08\n",
            "[LightGBM] [Warning] bagging_fraction is set=0.7752596442147288, subsample=1.0 will be ignored. Current value: bagging_fraction=0.7752596442147288\n",
            "[LightGBM] [Warning] bagging_freq is set=4, subsample_freq=0 will be ignored. Current value: bagging_freq=4\n",
            "[LightGBM] [Info] Auto-choosing row-wise multi-threading, the overhead of testing was 0.151013 seconds.\n",
            "You can set `force_row_wise=true` to remove the overhead.\n",
            "And if memory is not enough, you can set `force_col_wise=true`.\n",
            "[LightGBM] [Info] Total Bins 25279\n",
            "[LightGBM] [Info] Number of data points in the train set: 181724, number of used features: 140\n",
            "[LightGBM] [Warning] feature_fraction is set=0.9055355783310243, colsample_bytree=1.0 will be ignored. Current value: feature_fraction=0.9055355783310243\n",
            "[LightGBM] [Warning] lambda_l2 is set=0.0007561468200486233, reg_lambda=0.0 will be ignored. Current value: lambda_l2=0.0007561468200486233\n",
            "[LightGBM] [Warning] lambda_l1 is set=1.1682790436458151e-08, reg_alpha=0.0 will be ignored. Current value: lambda_l1=1.1682790436458151e-08\n",
            "[LightGBM] [Warning] bagging_fraction is set=0.7752596442147288, subsample=1.0 will be ignored. Current value: bagging_fraction=0.7752596442147288\n",
            "[LightGBM] [Warning] bagging_freq is set=4, subsample_freq=0 will be ignored. Current value: bagging_freq=4\n",
            "[LightGBM] [Warning] feature_fraction is set=0.9055355783310243, colsample_bytree=1.0 will be ignored. Current value: feature_fraction=0.9055355783310243\n",
            "[LightGBM] [Warning] lambda_l2 is set=0.0007561468200486233, reg_lambda=0.0 will be ignored. Current value: lambda_l2=0.0007561468200486233\n",
            "[LightGBM] [Warning] lambda_l1 is set=1.1682790436458151e-08, reg_alpha=0.0 will be ignored. Current value: lambda_l1=1.1682790436458151e-08\n",
            "[LightGBM] [Warning] bagging_fraction is set=0.7752596442147288, subsample=1.0 will be ignored. Current value: bagging_fraction=0.7752596442147288\n",
            "[LightGBM] [Warning] bagging_freq is set=4, subsample_freq=0 will be ignored. Current value: bagging_freq=4\n"
          ]
        },
        {
          "metadata": {
            "tags": null
          },
          "name": "stderr",
          "output_type": "stream",
          "text": [
            "[I 2024-04-29 16:05:22,410] Trial 16 finished with value: 0.7456298460447878 and parameters: {'learning_rate': 0.126495842195991, 'num_leaves': 159, 'feature_fraction': 0.9055355783310243, 'bagging_fraction': 0.7752596442147288, 'bagging_freq': 4, 'min_child_samples': 66, 'lambda_l1': 1.1682790436458151e-08, 'lambda_l2': 0.0007561468200486233}. Best is trial 8 with value: 0.8395103014491042.\n"
          ]
        },
        {
          "metadata": {
            "tags": null
          },
          "name": "stdout",
          "output_type": "stream",
          "text": [
            "[LightGBM] [Warning] feature_fraction is set=0.9936896340069744, colsample_bytree=1.0 will be ignored. Current value: feature_fraction=0.9936896340069744\n",
            "[LightGBM] [Warning] lambda_l2 is set=1.0553081006321152e-07, reg_lambda=0.0 will be ignored. Current value: lambda_l2=1.0553081006321152e-07\n",
            "[LightGBM] [Warning] lambda_l1 is set=0.00012285567602051295, reg_alpha=0.0 will be ignored. Current value: lambda_l1=0.00012285567602051295\n",
            "[LightGBM] [Warning] bagging_fraction is set=0.7031104996701455, subsample=1.0 will be ignored. Current value: bagging_fraction=0.7031104996701455\n",
            "[LightGBM] [Warning] bagging_freq is set=2, subsample_freq=0 will be ignored. Current value: bagging_freq=2\n",
            "[LightGBM] [Warning] feature_fraction is set=0.9936896340069744, colsample_bytree=1.0 will be ignored. Current value: feature_fraction=0.9936896340069744\n",
            "[LightGBM] [Warning] lambda_l2 is set=1.0553081006321152e-07, reg_lambda=0.0 will be ignored. Current value: lambda_l2=1.0553081006321152e-07\n",
            "[LightGBM] [Warning] lambda_l1 is set=0.00012285567602051295, reg_alpha=0.0 will be ignored. Current value: lambda_l1=0.00012285567602051295\n",
            "[LightGBM] [Warning] bagging_fraction is set=0.7031104996701455, subsample=1.0 will be ignored. Current value: bagging_fraction=0.7031104996701455\n",
            "[LightGBM] [Warning] bagging_freq is set=2, subsample_freq=0 will be ignored. Current value: bagging_freq=2\n",
            "[LightGBM] [Info] Auto-choosing row-wise multi-threading, the overhead of testing was 0.145178 seconds.\n",
            "You can set `force_row_wise=true` to remove the overhead.\n",
            "And if memory is not enough, you can set `force_col_wise=true`.\n",
            "[LightGBM] [Info] Total Bins 25279\n",
            "[LightGBM] [Info] Number of data points in the train set: 181724, number of used features: 140\n",
            "[LightGBM] [Warning] feature_fraction is set=0.9936896340069744, colsample_bytree=1.0 will be ignored. Current value: feature_fraction=0.9936896340069744\n",
            "[LightGBM] [Warning] lambda_l2 is set=1.0553081006321152e-07, reg_lambda=0.0 will be ignored. Current value: lambda_l2=1.0553081006321152e-07\n",
            "[LightGBM] [Warning] lambda_l1 is set=0.00012285567602051295, reg_alpha=0.0 will be ignored. Current value: lambda_l1=0.00012285567602051295\n",
            "[LightGBM] [Warning] bagging_fraction is set=0.7031104996701455, subsample=1.0 will be ignored. Current value: bagging_fraction=0.7031104996701455\n",
            "[LightGBM] [Warning] bagging_freq is set=2, subsample_freq=0 will be ignored. Current value: bagging_freq=2\n",
            "[LightGBM] [Warning] feature_fraction is set=0.9936896340069744, colsample_bytree=1.0 will be ignored. Current value: feature_fraction=0.9936896340069744\n",
            "[LightGBM] [Warning] lambda_l2 is set=1.0553081006321152e-07, reg_lambda=0.0 will be ignored. Current value: lambda_l2=1.0553081006321152e-07\n",
            "[LightGBM] [Warning] lambda_l1 is set=0.00012285567602051295, reg_alpha=0.0 will be ignored. Current value: lambda_l1=0.00012285567602051295\n",
            "[LightGBM] [Warning] bagging_fraction is set=0.7031104996701455, subsample=1.0 will be ignored. Current value: bagging_fraction=0.7031104996701455\n",
            "[LightGBM] [Warning] bagging_freq is set=2, subsample_freq=0 will be ignored. Current value: bagging_freq=2\n"
          ]
        },
        {
          "metadata": {
            "tags": null
          },
          "name": "stderr",
          "output_type": "stream",
          "text": [
            "[I 2024-04-29 16:06:06,121] Trial 17 finished with value: 0.8395103014491042 and parameters: {'learning_rate': 0.06270572685712278, 'num_leaves': 229, 'feature_fraction': 0.9936896340069744, 'bagging_fraction': 0.7031104996701455, 'bagging_freq': 2, 'min_child_samples': 40, 'lambda_l1': 0.00012285567602051295, 'lambda_l2': 1.0553081006321152e-07}. Best is trial 8 with value: 0.8395103014491042.\n"
          ]
        },
        {
          "metadata": {
            "tags": null
          },
          "name": "stdout",
          "output_type": "stream",
          "text": [
            "[LightGBM] [Warning] feature_fraction is set=0.7945956935002082, colsample_bytree=1.0 will be ignored. Current value: feature_fraction=0.7945956935002082\n",
            "[LightGBM] [Warning] lambda_l2 is set=3.961264199274473e-06, reg_lambda=0.0 will be ignored. Current value: lambda_l2=3.961264199274473e-06\n",
            "[LightGBM] [Warning] lambda_l1 is set=0.0031941472815254952, reg_alpha=0.0 will be ignored. Current value: lambda_l1=0.0031941472815254952\n",
            "[LightGBM] [Warning] bagging_fraction is set=0.8343760873386754, subsample=1.0 will be ignored. Current value: bagging_fraction=0.8343760873386754\n",
            "[LightGBM] [Warning] bagging_freq is set=6, subsample_freq=0 will be ignored. Current value: bagging_freq=6\n",
            "[LightGBM] [Warning] feature_fraction is set=0.7945956935002082, colsample_bytree=1.0 will be ignored. Current value: feature_fraction=0.7945956935002082\n",
            "[LightGBM] [Warning] lambda_l2 is set=3.961264199274473e-06, reg_lambda=0.0 will be ignored. Current value: lambda_l2=3.961264199274473e-06\n",
            "[LightGBM] [Warning] lambda_l1 is set=0.0031941472815254952, reg_alpha=0.0 will be ignored. Current value: lambda_l1=0.0031941472815254952\n",
            "[LightGBM] [Warning] bagging_fraction is set=0.8343760873386754, subsample=1.0 will be ignored. Current value: bagging_fraction=0.8343760873386754\n",
            "[LightGBM] [Warning] bagging_freq is set=6, subsample_freq=0 will be ignored. Current value: bagging_freq=6\n",
            "[LightGBM] [Info] Auto-choosing row-wise multi-threading, the overhead of testing was 0.151629 seconds.\n",
            "You can set `force_row_wise=true` to remove the overhead.\n",
            "And if memory is not enough, you can set `force_col_wise=true`.\n",
            "[LightGBM] [Info] Total Bins 25279\n",
            "[LightGBM] [Info] Number of data points in the train set: 181724, number of used features: 140\n",
            "[LightGBM] [Warning] feature_fraction is set=0.7945956935002082, colsample_bytree=1.0 will be ignored. Current value: feature_fraction=0.7945956935002082\n",
            "[LightGBM] [Warning] lambda_l2 is set=3.961264199274473e-06, reg_lambda=0.0 will be ignored. Current value: lambda_l2=3.961264199274473e-06\n",
            "[LightGBM] [Warning] lambda_l1 is set=0.0031941472815254952, reg_alpha=0.0 will be ignored. Current value: lambda_l1=0.0031941472815254952\n",
            "[LightGBM] [Warning] bagging_fraction is set=0.8343760873386754, subsample=1.0 will be ignored. Current value: bagging_fraction=0.8343760873386754\n",
            "[LightGBM] [Warning] bagging_freq is set=6, subsample_freq=0 will be ignored. Current value: bagging_freq=6\n",
            "[LightGBM] [Warning] feature_fraction is set=0.7945956935002082, colsample_bytree=1.0 will be ignored. Current value: feature_fraction=0.7945956935002082\n",
            "[LightGBM] [Warning] lambda_l2 is set=3.961264199274473e-06, reg_lambda=0.0 will be ignored. Current value: lambda_l2=3.961264199274473e-06\n",
            "[LightGBM] [Warning] lambda_l1 is set=0.0031941472815254952, reg_alpha=0.0 will be ignored. Current value: lambda_l1=0.0031941472815254952\n",
            "[LightGBM] [Warning] bagging_fraction is set=0.8343760873386754, subsample=1.0 will be ignored. Current value: bagging_fraction=0.8343760873386754\n",
            "[LightGBM] [Warning] bagging_freq is set=6, subsample_freq=0 will be ignored. Current value: bagging_freq=6\n"
          ]
        },
        {
          "metadata": {
            "tags": null
          },
          "name": "stderr",
          "output_type": "stream",
          "text": [
            "[I 2024-04-29 16:06:47,737] Trial 18 finished with value: 0.7632636606403639 and parameters: {'learning_rate': 0.19822288746918004, 'num_leaves': 256, 'feature_fraction': 0.7945956935002082, 'bagging_fraction': 0.8343760873386754, 'bagging_freq': 6, 'min_child_samples': 6, 'lambda_l1': 0.0031941472815254952, 'lambda_l2': 3.961264199274473e-06}. Best is trial 8 with value: 0.8395103014491042.\n"
          ]
        },
        {
          "metadata": {
            "tags": null
          },
          "name": "stdout",
          "output_type": "stream",
          "text": [
            "[LightGBM] [Warning] feature_fraction is set=0.6818273334033881, colsample_bytree=1.0 will be ignored. Current value: feature_fraction=0.6818273334033881\n",
            "[LightGBM] [Warning] lambda_l2 is set=5.4717195653415376e-08, reg_lambda=0.0 will be ignored. Current value: lambda_l2=5.4717195653415376e-08\n",
            "[LightGBM] [Warning] lambda_l1 is set=0.729521198191253, reg_alpha=0.0 will be ignored. Current value: lambda_l1=0.729521198191253\n",
            "[LightGBM] [Warning] bagging_fraction is set=0.7083507814957335, subsample=1.0 will be ignored. Current value: bagging_fraction=0.7083507814957335\n",
            "[LightGBM] [Warning] bagging_freq is set=5, subsample_freq=0 will be ignored. Current value: bagging_freq=5\n",
            "[LightGBM] [Warning] feature_fraction is set=0.6818273334033881, colsample_bytree=1.0 will be ignored. Current value: feature_fraction=0.6818273334033881\n",
            "[LightGBM] [Warning] lambda_l2 is set=5.4717195653415376e-08, reg_lambda=0.0 will be ignored. Current value: lambda_l2=5.4717195653415376e-08\n",
            "[LightGBM] [Warning] lambda_l1 is set=0.729521198191253, reg_alpha=0.0 will be ignored. Current value: lambda_l1=0.729521198191253\n",
            "[LightGBM] [Warning] bagging_fraction is set=0.7083507814957335, subsample=1.0 will be ignored. Current value: bagging_fraction=0.7083507814957335\n",
            "[LightGBM] [Warning] bagging_freq is set=5, subsample_freq=0 will be ignored. Current value: bagging_freq=5\n",
            "[LightGBM] [Info] Auto-choosing row-wise multi-threading, the overhead of testing was 0.136761 seconds.\n",
            "You can set `force_row_wise=true` to remove the overhead.\n",
            "And if memory is not enough, you can set `force_col_wise=true`.\n",
            "[LightGBM] [Info] Total Bins 25279\n",
            "[LightGBM] [Info] Number of data points in the train set: 181724, number of used features: 140\n",
            "[LightGBM] [Warning] feature_fraction is set=0.6818273334033881, colsample_bytree=1.0 will be ignored. Current value: feature_fraction=0.6818273334033881\n",
            "[LightGBM] [Warning] lambda_l2 is set=5.4717195653415376e-08, reg_lambda=0.0 will be ignored. Current value: lambda_l2=5.4717195653415376e-08\n",
            "[LightGBM] [Warning] lambda_l1 is set=0.729521198191253, reg_alpha=0.0 will be ignored. Current value: lambda_l1=0.729521198191253\n",
            "[LightGBM] [Warning] bagging_fraction is set=0.7083507814957335, subsample=1.0 will be ignored. Current value: bagging_fraction=0.7083507814957335\n",
            "[LightGBM] [Warning] bagging_freq is set=5, subsample_freq=0 will be ignored. Current value: bagging_freq=5\n",
            "[LightGBM] [Warning] feature_fraction is set=0.6818273334033881, colsample_bytree=1.0 will be ignored. Current value: feature_fraction=0.6818273334033881\n",
            "[LightGBM] [Warning] lambda_l2 is set=5.4717195653415376e-08, reg_lambda=0.0 will be ignored. Current value: lambda_l2=5.4717195653415376e-08\n",
            "[LightGBM] [Warning] lambda_l1 is set=0.729521198191253, reg_alpha=0.0 will be ignored. Current value: lambda_l1=0.729521198191253\n",
            "[LightGBM] [Warning] bagging_fraction is set=0.7083507814957335, subsample=1.0 will be ignored. Current value: bagging_fraction=0.7083507814957335\n",
            "[LightGBM] [Warning] bagging_freq is set=5, subsample_freq=0 will be ignored. Current value: bagging_freq=5\n"
          ]
        },
        {
          "metadata": {
            "tags": null
          },
          "name": "stderr",
          "output_type": "stream",
          "text": [
            "[I 2024-04-29 16:07:23,495] Trial 19 finished with value: 0.8067090320710189 and parameters: {'learning_rate': 0.24930764870580677, 'num_leaves': 162, 'feature_fraction': 0.6818273334033881, 'bagging_fraction': 0.7083507814957335, 'bagging_freq': 5, 'min_child_samples': 63, 'lambda_l1': 0.729521198191253, 'lambda_l2': 5.4717195653415376e-08}. Best is trial 8 with value: 0.8395103014491042.\n"
          ]
        },
        {
          "metadata": {
            "tags": null
          },
          "name": "stdout",
          "output_type": "stream",
          "text": [
            "[LightGBM] [Warning] feature_fraction is set=0.7543179057075712, colsample_bytree=1.0 will be ignored. Current value: feature_fraction=0.7543179057075712\n",
            "[LightGBM] [Warning] lambda_l2 is set=0.00726651611698184, reg_lambda=0.0 will be ignored. Current value: lambda_l2=0.00726651611698184\n",
            "[LightGBM] [Warning] lambda_l1 is set=0.061827139393406366, reg_alpha=0.0 will be ignored. Current value: lambda_l1=0.061827139393406366\n",
            "[LightGBM] [Warning] bagging_fraction is set=0.6049627411215486, subsample=1.0 will be ignored. Current value: bagging_fraction=0.6049627411215486\n",
            "[LightGBM] [Warning] bagging_freq is set=3, subsample_freq=0 will be ignored. Current value: bagging_freq=3\n",
            "[LightGBM] [Warning] feature_fraction is set=0.7543179057075712, colsample_bytree=1.0 will be ignored. Current value: feature_fraction=0.7543179057075712\n",
            "[LightGBM] [Warning] lambda_l2 is set=0.00726651611698184, reg_lambda=0.0 will be ignored. Current value: lambda_l2=0.00726651611698184\n",
            "[LightGBM] [Warning] lambda_l1 is set=0.061827139393406366, reg_alpha=0.0 will be ignored. Current value: lambda_l1=0.061827139393406366\n",
            "[LightGBM] [Warning] bagging_fraction is set=0.6049627411215486, subsample=1.0 will be ignored. Current value: bagging_fraction=0.6049627411215486\n",
            "[LightGBM] [Warning] bagging_freq is set=3, subsample_freq=0 will be ignored. Current value: bagging_freq=3\n",
            "[LightGBM] [Info] Auto-choosing row-wise multi-threading, the overhead of testing was 0.139587 seconds.\n",
            "You can set `force_row_wise=true` to remove the overhead.\n",
            "And if memory is not enough, you can set `force_col_wise=true`.\n",
            "[LightGBM] [Info] Total Bins 25279\n",
            "[LightGBM] [Info] Number of data points in the train set: 181724, number of used features: 140\n",
            "[LightGBM] [Warning] feature_fraction is set=0.7543179057075712, colsample_bytree=1.0 will be ignored. Current value: feature_fraction=0.7543179057075712\n",
            "[LightGBM] [Warning] lambda_l2 is set=0.00726651611698184, reg_lambda=0.0 will be ignored. Current value: lambda_l2=0.00726651611698184\n",
            "[LightGBM] [Warning] lambda_l1 is set=0.061827139393406366, reg_alpha=0.0 will be ignored. Current value: lambda_l1=0.061827139393406366\n",
            "[LightGBM] [Warning] bagging_fraction is set=0.6049627411215486, subsample=1.0 will be ignored. Current value: bagging_fraction=0.6049627411215486\n",
            "[LightGBM] [Warning] bagging_freq is set=3, subsample_freq=0 will be ignored. Current value: bagging_freq=3\n",
            "[LightGBM] [Warning] feature_fraction is set=0.7543179057075712, colsample_bytree=1.0 will be ignored. Current value: feature_fraction=0.7543179057075712\n",
            "[LightGBM] [Warning] lambda_l2 is set=0.00726651611698184, reg_lambda=0.0 will be ignored. Current value: lambda_l2=0.00726651611698184\n",
            "[LightGBM] [Warning] lambda_l1 is set=0.061827139393406366, reg_alpha=0.0 will be ignored. Current value: lambda_l1=0.061827139393406366\n",
            "[LightGBM] [Warning] bagging_fraction is set=0.6049627411215486, subsample=1.0 will be ignored. Current value: bagging_fraction=0.6049627411215486\n",
            "[LightGBM] [Warning] bagging_freq is set=3, subsample_freq=0 will be ignored. Current value: bagging_freq=3\n"
          ]
        },
        {
          "metadata": {
            "tags": null
          },
          "name": "stderr",
          "output_type": "stream",
          "text": [
            "[I 2024-04-29 16:07:52,867] Trial 20 finished with value: 0.5200409609329254 and parameters: {'learning_rate': 0.1383592332129891, 'num_leaves': 96, 'feature_fraction': 0.7543179057075712, 'bagging_fraction': 0.6049627411215486, 'bagging_freq': 3, 'min_child_samples': 82, 'lambda_l1': 0.061827139393406366, 'lambda_l2': 0.00726651611698184}. Best is trial 8 with value: 0.8395103014491042.\n"
          ]
        },
        {
          "metadata": {
            "tags": null
          },
          "name": "stdout",
          "output_type": "stream",
          "text": [
            "[LightGBM] [Warning] feature_fraction is set=0.8886708742829141, colsample_bytree=1.0 will be ignored. Current value: feature_fraction=0.8886708742829141\n",
            "[LightGBM] [Warning] lambda_l2 is set=2.33580763850483e-06, reg_lambda=0.0 will be ignored. Current value: lambda_l2=2.33580763850483e-06\n",
            "[LightGBM] [Warning] lambda_l1 is set=0.009333199249467242, reg_alpha=0.0 will be ignored. Current value: lambda_l1=0.009333199249467242\n",
            "[LightGBM] [Warning] bagging_fraction is set=0.7723494879698367, subsample=1.0 will be ignored. Current value: bagging_fraction=0.7723494879698367\n",
            "[LightGBM] [Warning] bagging_freq is set=4, subsample_freq=0 will be ignored. Current value: bagging_freq=4\n",
            "[LightGBM] [Warning] feature_fraction is set=0.8886708742829141, colsample_bytree=1.0 will be ignored. Current value: feature_fraction=0.8886708742829141\n",
            "[LightGBM] [Warning] lambda_l2 is set=2.33580763850483e-06, reg_lambda=0.0 will be ignored. Current value: lambda_l2=2.33580763850483e-06\n",
            "[LightGBM] [Warning] lambda_l1 is set=0.009333199249467242, reg_alpha=0.0 will be ignored. Current value: lambda_l1=0.009333199249467242\n",
            "[LightGBM] [Warning] bagging_fraction is set=0.7723494879698367, subsample=1.0 will be ignored. Current value: bagging_fraction=0.7723494879698367\n",
            "[LightGBM] [Warning] bagging_freq is set=4, subsample_freq=0 will be ignored. Current value: bagging_freq=4\n",
            "[LightGBM] [Info] Auto-choosing row-wise multi-threading, the overhead of testing was 0.143103 seconds.\n",
            "You can set `force_row_wise=true` to remove the overhead.\n",
            "And if memory is not enough, you can set `force_col_wise=true`.\n",
            "[LightGBM] [Info] Total Bins 25279\n",
            "[LightGBM] [Info] Number of data points in the train set: 181724, number of used features: 140\n",
            "[LightGBM] [Warning] feature_fraction is set=0.8886708742829141, colsample_bytree=1.0 will be ignored. Current value: feature_fraction=0.8886708742829141\n",
            "[LightGBM] [Warning] lambda_l2 is set=2.33580763850483e-06, reg_lambda=0.0 will be ignored. Current value: lambda_l2=2.33580763850483e-06\n",
            "[LightGBM] [Warning] lambda_l1 is set=0.009333199249467242, reg_alpha=0.0 will be ignored. Current value: lambda_l1=0.009333199249467242\n",
            "[LightGBM] [Warning] bagging_fraction is set=0.7723494879698367, subsample=1.0 will be ignored. Current value: bagging_fraction=0.7723494879698367\n",
            "[LightGBM] [Warning] bagging_freq is set=4, subsample_freq=0 will be ignored. Current value: bagging_freq=4\n",
            "[LightGBM] [Warning] feature_fraction is set=0.8886708742829141, colsample_bytree=1.0 will be ignored. Current value: feature_fraction=0.8886708742829141\n",
            "[LightGBM] [Warning] lambda_l2 is set=2.33580763850483e-06, reg_lambda=0.0 will be ignored. Current value: lambda_l2=2.33580763850483e-06\n",
            "[LightGBM] [Warning] lambda_l1 is set=0.009333199249467242, reg_alpha=0.0 will be ignored. Current value: lambda_l1=0.009333199249467242\n",
            "[LightGBM] [Warning] bagging_fraction is set=0.7723494879698367, subsample=1.0 will be ignored. Current value: bagging_fraction=0.7723494879698367\n",
            "[LightGBM] [Warning] bagging_freq is set=4, subsample_freq=0 will be ignored. Current value: bagging_freq=4\n"
          ]
        },
        {
          "metadata": {
            "tags": null
          },
          "name": "stderr",
          "output_type": "stream",
          "text": [
            "[I 2024-04-29 16:08:33,726] Trial 21 finished with value: 0.7456298460447878 and parameters: {'learning_rate': 0.1048724408472074, 'num_leaves': 199, 'feature_fraction': 0.8886708742829141, 'bagging_fraction': 0.7723494879698367, 'bagging_freq': 4, 'min_child_samples': 48, 'lambda_l1': 0.009333199249467242, 'lambda_l2': 2.33580763850483e-06}. Best is trial 8 with value: 0.8395103014491042.\n"
          ]
        },
        {
          "metadata": {
            "tags": null
          },
          "name": "stdout",
          "output_type": "stream",
          "text": [
            "[LightGBM] [Warning] feature_fraction is set=0.9193819061193762, colsample_bytree=1.0 will be ignored. Current value: feature_fraction=0.9193819061193762\n",
            "[LightGBM] [Warning] lambda_l2 is set=7.007630954531494e-06, reg_lambda=0.0 will be ignored. Current value: lambda_l2=7.007630954531494e-06\n",
            "[LightGBM] [Warning] lambda_l1 is set=0.00391733544674918, reg_alpha=0.0 will be ignored. Current value: lambda_l1=0.00391733544674918\n",
            "[LightGBM] [Warning] bagging_fraction is set=0.7307705799324565, subsample=1.0 will be ignored. Current value: bagging_fraction=0.7307705799324565\n",
            "[LightGBM] [Warning] bagging_freq is set=4, subsample_freq=0 will be ignored. Current value: bagging_freq=4\n",
            "[LightGBM] [Warning] feature_fraction is set=0.9193819061193762, colsample_bytree=1.0 will be ignored. Current value: feature_fraction=0.9193819061193762\n",
            "[LightGBM] [Warning] lambda_l2 is set=7.007630954531494e-06, reg_lambda=0.0 will be ignored. Current value: lambda_l2=7.007630954531494e-06\n",
            "[LightGBM] [Warning] lambda_l1 is set=0.00391733544674918, reg_alpha=0.0 will be ignored. Current value: lambda_l1=0.00391733544674918\n",
            "[LightGBM] [Warning] bagging_fraction is set=0.7307705799324565, subsample=1.0 will be ignored. Current value: bagging_fraction=0.7307705799324565\n",
            "[LightGBM] [Warning] bagging_freq is set=4, subsample_freq=0 will be ignored. Current value: bagging_freq=4\n",
            "[LightGBM] [Info] Auto-choosing row-wise multi-threading, the overhead of testing was 0.146193 seconds.\n",
            "You can set `force_row_wise=true` to remove the overhead.\n",
            "And if memory is not enough, you can set `force_col_wise=true`.\n",
            "[LightGBM] [Info] Total Bins 25279\n",
            "[LightGBM] [Info] Number of data points in the train set: 181724, number of used features: 140\n",
            "[LightGBM] [Warning] feature_fraction is set=0.9193819061193762, colsample_bytree=1.0 will be ignored. Current value: feature_fraction=0.9193819061193762\n",
            "[LightGBM] [Warning] lambda_l2 is set=7.007630954531494e-06, reg_lambda=0.0 will be ignored. Current value: lambda_l2=7.007630954531494e-06\n",
            "[LightGBM] [Warning] lambda_l1 is set=0.00391733544674918, reg_alpha=0.0 will be ignored. Current value: lambda_l1=0.00391733544674918\n",
            "[LightGBM] [Warning] bagging_fraction is set=0.7307705799324565, subsample=1.0 will be ignored. Current value: bagging_fraction=0.7307705799324565\n",
            "[LightGBM] [Warning] bagging_freq is set=4, subsample_freq=0 will be ignored. Current value: bagging_freq=4\n",
            "[LightGBM] [Warning] feature_fraction is set=0.9193819061193762, colsample_bytree=1.0 will be ignored. Current value: feature_fraction=0.9193819061193762\n",
            "[LightGBM] [Warning] lambda_l2 is set=7.007630954531494e-06, reg_lambda=0.0 will be ignored. Current value: lambda_l2=7.007630954531494e-06\n",
            "[LightGBM] [Warning] lambda_l1 is set=0.00391733544674918, reg_alpha=0.0 will be ignored. Current value: lambda_l1=0.00391733544674918\n",
            "[LightGBM] [Warning] bagging_fraction is set=0.7307705799324565, subsample=1.0 will be ignored. Current value: bagging_fraction=0.7307705799324565\n",
            "[LightGBM] [Warning] bagging_freq is set=4, subsample_freq=0 will be ignored. Current value: bagging_freq=4\n"
          ]
        },
        {
          "metadata": {
            "tags": null
          },
          "name": "stderr",
          "output_type": "stream",
          "text": [
            "[I 2024-04-29 16:09:17,251] Trial 22 finished with value: 0.7456298460447878 and parameters: {'learning_rate': 0.0939138416284021, 'num_leaves': 245, 'feature_fraction': 0.9193819061193762, 'bagging_fraction': 0.7307705799324565, 'bagging_freq': 4, 'min_child_samples': 33, 'lambda_l1': 0.00391733544674918, 'lambda_l2': 7.007630954531494e-06}. Best is trial 8 with value: 0.8395103014491042.\n"
          ]
        },
        {
          "metadata": {
            "tags": null
          },
          "name": "stdout",
          "output_type": "stream",
          "text": [
            "[LightGBM] [Warning] feature_fraction is set=0.8463079151962947, colsample_bytree=1.0 will be ignored. Current value: feature_fraction=0.8463079151962947\n",
            "[LightGBM] [Warning] lambda_l2 is set=8.659159150427508e-05, reg_lambda=0.0 will be ignored. Current value: lambda_l2=8.659159150427508e-05\n",
            "[LightGBM] [Warning] lambda_l1 is set=6.707543620668334e-05, reg_alpha=0.0 will be ignored. Current value: lambda_l1=6.707543620668334e-05\n",
            "[LightGBM] [Warning] bagging_fraction is set=0.863511266991357, subsample=1.0 will be ignored. Current value: bagging_fraction=0.863511266991357\n",
            "[LightGBM] [Warning] bagging_freq is set=4, subsample_freq=0 will be ignored. Current value: bagging_freq=4\n",
            "[LightGBM] [Warning] feature_fraction is set=0.8463079151962947, colsample_bytree=1.0 will be ignored. Current value: feature_fraction=0.8463079151962947\n",
            "[LightGBM] [Warning] lambda_l2 is set=8.659159150427508e-05, reg_lambda=0.0 will be ignored. Current value: lambda_l2=8.659159150427508e-05\n",
            "[LightGBM] [Warning] lambda_l1 is set=6.707543620668334e-05, reg_alpha=0.0 will be ignored. Current value: lambda_l1=6.707543620668334e-05\n",
            "[LightGBM] [Warning] bagging_fraction is set=0.863511266991357, subsample=1.0 will be ignored. Current value: bagging_fraction=0.863511266991357\n",
            "[LightGBM] [Warning] bagging_freq is set=4, subsample_freq=0 will be ignored. Current value: bagging_freq=4\n",
            "[LightGBM] [Info] Auto-choosing row-wise multi-threading, the overhead of testing was 0.151656 seconds.\n",
            "You can set `force_row_wise=true` to remove the overhead.\n",
            "And if memory is not enough, you can set `force_col_wise=true`.\n",
            "[LightGBM] [Info] Total Bins 25279\n",
            "[LightGBM] [Info] Number of data points in the train set: 181724, number of used features: 140\n",
            "[LightGBM] [Warning] feature_fraction is set=0.8463079151962947, colsample_bytree=1.0 will be ignored. Current value: feature_fraction=0.8463079151962947\n",
            "[LightGBM] [Warning] lambda_l2 is set=8.659159150427508e-05, reg_lambda=0.0 will be ignored. Current value: lambda_l2=8.659159150427508e-05\n",
            "[LightGBM] [Warning] lambda_l1 is set=6.707543620668334e-05, reg_alpha=0.0 will be ignored. Current value: lambda_l1=6.707543620668334e-05\n",
            "[LightGBM] [Warning] bagging_fraction is set=0.863511266991357, subsample=1.0 will be ignored. Current value: bagging_fraction=0.863511266991357\n",
            "[LightGBM] [Warning] bagging_freq is set=4, subsample_freq=0 will be ignored. Current value: bagging_freq=4\n",
            "[LightGBM] [Warning] feature_fraction is set=0.8463079151962947, colsample_bytree=1.0 will be ignored. Current value: feature_fraction=0.8463079151962947\n",
            "[LightGBM] [Warning] lambda_l2 is set=8.659159150427508e-05, reg_lambda=0.0 will be ignored. Current value: lambda_l2=8.659159150427508e-05\n",
            "[LightGBM] [Warning] lambda_l1 is set=6.707543620668334e-05, reg_alpha=0.0 will be ignored. Current value: lambda_l1=6.707543620668334e-05\n",
            "[LightGBM] [Warning] bagging_fraction is set=0.863511266991357, subsample=1.0 will be ignored. Current value: bagging_fraction=0.863511266991357\n",
            "[LightGBM] [Warning] bagging_freq is set=4, subsample_freq=0 will be ignored. Current value: bagging_freq=4\n"
          ]
        },
        {
          "metadata": {
            "tags": null
          },
          "name": "stderr",
          "output_type": "stream",
          "text": [
            "[I 2024-04-29 16:09:55,284] Trial 23 finished with value: 0.8072123842662229 and parameters: {'learning_rate': 0.1251265967172827, 'num_leaves': 186, 'feature_fraction': 0.8463079151962947, 'bagging_fraction': 0.863511266991357, 'bagging_freq': 4, 'min_child_samples': 52, 'lambda_l1': 6.707543620668334e-05, 'lambda_l2': 8.659159150427508e-05}. Best is trial 8 with value: 0.8395103014491042.\n"
          ]
        },
        {
          "metadata": {
            "tags": null
          },
          "name": "stdout",
          "output_type": "stream",
          "text": [
            "[LightGBM] [Warning] feature_fraction is set=0.8755405853968868, colsample_bytree=1.0 will be ignored. Current value: feature_fraction=0.8755405853968868\n",
            "[LightGBM] [Warning] lambda_l2 is set=6.341114787253863e-07, reg_lambda=0.0 will be ignored. Current value: lambda_l2=6.341114787253863e-07\n",
            "[LightGBM] [Warning] lambda_l1 is set=0.16130071177833255, reg_alpha=0.0 will be ignored. Current value: lambda_l1=0.16130071177833255\n",
            "[LightGBM] [Warning] bagging_fraction is set=0.783167174809108, subsample=1.0 will be ignored. Current value: bagging_fraction=0.783167174809108\n",
            "[LightGBM] [Warning] bagging_freq is set=5, subsample_freq=0 will be ignored. Current value: bagging_freq=5\n",
            "[LightGBM] [Warning] feature_fraction is set=0.8755405853968868, colsample_bytree=1.0 will be ignored. Current value: feature_fraction=0.8755405853968868\n",
            "[LightGBM] [Warning] lambda_l2 is set=6.341114787253863e-07, reg_lambda=0.0 will be ignored. Current value: lambda_l2=6.341114787253863e-07\n",
            "[LightGBM] [Warning] lambda_l1 is set=0.16130071177833255, reg_alpha=0.0 will be ignored. Current value: lambda_l1=0.16130071177833255\n",
            "[LightGBM] [Warning] bagging_fraction is set=0.783167174809108, subsample=1.0 will be ignored. Current value: bagging_fraction=0.783167174809108\n",
            "[LightGBM] [Warning] bagging_freq is set=5, subsample_freq=0 will be ignored. Current value: bagging_freq=5\n",
            "[LightGBM] [Info] Auto-choosing row-wise multi-threading, the overhead of testing was 0.147895 seconds.\n",
            "You can set `force_row_wise=true` to remove the overhead.\n",
            "And if memory is not enough, you can set `force_col_wise=true`.\n",
            "[LightGBM] [Info] Total Bins 25279\n",
            "[LightGBM] [Info] Number of data points in the train set: 181724, number of used features: 140\n",
            "[LightGBM] [Warning] feature_fraction is set=0.8755405853968868, colsample_bytree=1.0 will be ignored. Current value: feature_fraction=0.8755405853968868\n",
            "[LightGBM] [Warning] lambda_l2 is set=6.341114787253863e-07, reg_lambda=0.0 will be ignored. Current value: lambda_l2=6.341114787253863e-07\n",
            "[LightGBM] [Warning] lambda_l1 is set=0.16130071177833255, reg_alpha=0.0 will be ignored. Current value: lambda_l1=0.16130071177833255\n",
            "[LightGBM] [Warning] bagging_fraction is set=0.783167174809108, subsample=1.0 will be ignored. Current value: bagging_fraction=0.783167174809108\n",
            "[LightGBM] [Warning] bagging_freq is set=5, subsample_freq=0 will be ignored. Current value: bagging_freq=5\n",
            "[LightGBM] [Warning] feature_fraction is set=0.8755405853968868, colsample_bytree=1.0 will be ignored. Current value: feature_fraction=0.8755405853968868\n",
            "[LightGBM] [Warning] lambda_l2 is set=6.341114787253863e-07, reg_lambda=0.0 will be ignored. Current value: lambda_l2=6.341114787253863e-07\n",
            "[LightGBM] [Warning] lambda_l1 is set=0.16130071177833255, reg_alpha=0.0 will be ignored. Current value: lambda_l1=0.16130071177833255\n",
            "[LightGBM] [Warning] bagging_fraction is set=0.783167174809108, subsample=1.0 will be ignored. Current value: bagging_fraction=0.783167174809108\n",
            "[LightGBM] [Warning] bagging_freq is set=5, subsample_freq=0 will be ignored. Current value: bagging_freq=5\n"
          ]
        },
        {
          "metadata": {
            "tags": null
          },
          "name": "stderr",
          "output_type": "stream",
          "text": [
            "[I 2024-04-29 16:10:42,656] Trial 24 finished with value: 0.7456298460447878 and parameters: {'learning_rate': 0.06908404000994287, 'num_leaves': 275, 'feature_fraction': 0.8755405853968868, 'bagging_fraction': 0.783167174809108, 'bagging_freq': 5, 'min_child_samples': 44, 'lambda_l1': 0.16130071177833255, 'lambda_l2': 6.341114787253863e-07}. Best is trial 8 with value: 0.8395103014491042.\n"
          ]
        },
        {
          "metadata": {
            "tags": null
          },
          "name": "stdout",
          "output_type": "stream",
          "text": [
            "[LightGBM] [Warning] feature_fraction is set=0.8183457646121781, colsample_bytree=1.0 will be ignored. Current value: feature_fraction=0.8183457646121781\n",
            "[LightGBM] [Warning] lambda_l2 is set=7.07476766862908e-08, reg_lambda=0.0 will be ignored. Current value: lambda_l2=7.07476766862908e-08\n",
            "[LightGBM] [Warning] lambda_l1 is set=1.6706563214967984, reg_alpha=0.0 will be ignored. Current value: lambda_l1=1.6706563214967984\n",
            "[LightGBM] [Warning] bagging_fraction is set=0.7201478048359455, subsample=1.0 will be ignored. Current value: bagging_fraction=0.7201478048359455\n",
            "[LightGBM] [Warning] bagging_freq is set=3, subsample_freq=0 will be ignored. Current value: bagging_freq=3\n",
            "[LightGBM] [Warning] feature_fraction is set=0.8183457646121781, colsample_bytree=1.0 will be ignored. Current value: feature_fraction=0.8183457646121781\n",
            "[LightGBM] [Warning] lambda_l2 is set=7.07476766862908e-08, reg_lambda=0.0 will be ignored. Current value: lambda_l2=7.07476766862908e-08\n",
            "[LightGBM] [Warning] lambda_l1 is set=1.6706563214967984, reg_alpha=0.0 will be ignored. Current value: lambda_l1=1.6706563214967984\n",
            "[LightGBM] [Warning] bagging_fraction is set=0.7201478048359455, subsample=1.0 will be ignored. Current value: bagging_fraction=0.7201478048359455\n",
            "[LightGBM] [Warning] bagging_freq is set=3, subsample_freq=0 will be ignored. Current value: bagging_freq=3\n",
            "[LightGBM] [Info] Auto-choosing row-wise multi-threading, the overhead of testing was 0.144391 seconds.\n",
            "You can set `force_row_wise=true` to remove the overhead.\n",
            "And if memory is not enough, you can set `force_col_wise=true`.\n",
            "[LightGBM] [Info] Total Bins 25279\n",
            "[LightGBM] [Info] Number of data points in the train set: 181724, number of used features: 140\n",
            "[LightGBM] [Warning] feature_fraction is set=0.8183457646121781, colsample_bytree=1.0 will be ignored. Current value: feature_fraction=0.8183457646121781\n",
            "[LightGBM] [Warning] lambda_l2 is set=7.07476766862908e-08, reg_lambda=0.0 will be ignored. Current value: lambda_l2=7.07476766862908e-08\n",
            "[LightGBM] [Warning] lambda_l1 is set=1.6706563214967984, reg_alpha=0.0 will be ignored. Current value: lambda_l1=1.6706563214967984\n",
            "[LightGBM] [Warning] bagging_fraction is set=0.7201478048359455, subsample=1.0 will be ignored. Current value: bagging_fraction=0.7201478048359455\n",
            "[LightGBM] [Warning] bagging_freq is set=3, subsample_freq=0 will be ignored. Current value: bagging_freq=3\n",
            "[LightGBM] [Warning] feature_fraction is set=0.8183457646121781, colsample_bytree=1.0 will be ignored. Current value: feature_fraction=0.8183457646121781\n",
            "[LightGBM] [Warning] lambda_l2 is set=7.07476766862908e-08, reg_lambda=0.0 will be ignored. Current value: lambda_l2=7.07476766862908e-08\n",
            "[LightGBM] [Warning] lambda_l1 is set=1.6706563214967984, reg_alpha=0.0 will be ignored. Current value: lambda_l1=1.6706563214967984\n",
            "[LightGBM] [Warning] bagging_fraction is set=0.7201478048359455, subsample=1.0 will be ignored. Current value: bagging_fraction=0.7201478048359455\n",
            "[LightGBM] [Warning] bagging_freq is set=3, subsample_freq=0 will be ignored. Current value: bagging_freq=3\n"
          ]
        },
        {
          "metadata": {
            "tags": null
          },
          "name": "stderr",
          "output_type": "stream",
          "text": [
            "[I 2024-04-29 16:11:21,443] Trial 25 finished with value: 0.614424768532446 and parameters: {'learning_rate': 0.1795112319455672, 'num_leaves': 220, 'feature_fraction': 0.8183457646121781, 'bagging_fraction': 0.7201478048359455, 'bagging_freq': 3, 'min_child_samples': 58, 'lambda_l1': 1.6706563214967984, 'lambda_l2': 7.07476766862908e-08}. Best is trial 8 with value: 0.8395103014491042.\n"
          ]
        },
        {
          "metadata": {
            "tags": null
          },
          "name": "stdout",
          "output_type": "stream",
          "text": [
            "[LightGBM] [Warning] feature_fraction is set=0.7804408793284296, colsample_bytree=1.0 will be ignored. Current value: feature_fraction=0.7804408793284296\n",
            "[LightGBM] [Warning] lambda_l2 is set=1.519297462857646e-05, reg_lambda=0.0 will be ignored. Current value: lambda_l2=1.519297462857646e-05\n",
            "[LightGBM] [Warning] lambda_l1 is set=0.0011789528222905725, reg_alpha=0.0 will be ignored. Current value: lambda_l1=0.0011789528222905725\n",
            "[LightGBM] [Warning] bagging_fraction is set=0.8031492374375918, subsample=1.0 will be ignored. Current value: bagging_fraction=0.8031492374375918\n",
            "[LightGBM] [Warning] bagging_freq is set=4, subsample_freq=0 will be ignored. Current value: bagging_freq=4\n",
            "[LightGBM] [Warning] feature_fraction is set=0.7804408793284296, colsample_bytree=1.0 will be ignored. Current value: feature_fraction=0.7804408793284296\n",
            "[LightGBM] [Warning] lambda_l2 is set=1.519297462857646e-05, reg_lambda=0.0 will be ignored. Current value: lambda_l2=1.519297462857646e-05\n",
            "[LightGBM] [Warning] lambda_l1 is set=0.0011789528222905725, reg_alpha=0.0 will be ignored. Current value: lambda_l1=0.0011789528222905725\n",
            "[LightGBM] [Warning] bagging_fraction is set=0.8031492374375918, subsample=1.0 will be ignored. Current value: bagging_fraction=0.8031492374375918\n",
            "[LightGBM] [Warning] bagging_freq is set=4, subsample_freq=0 will be ignored. Current value: bagging_freq=4\n",
            "[LightGBM] [Info] Auto-choosing row-wise multi-threading, the overhead of testing was 0.149122 seconds.\n",
            "You can set `force_row_wise=true` to remove the overhead.\n",
            "And if memory is not enough, you can set `force_col_wise=true`.\n",
            "[LightGBM] [Info] Total Bins 25279\n",
            "[LightGBM] [Info] Number of data points in the train set: 181724, number of used features: 140\n",
            "[LightGBM] [Warning] feature_fraction is set=0.7804408793284296, colsample_bytree=1.0 will be ignored. Current value: feature_fraction=0.7804408793284296\n",
            "[LightGBM] [Warning] lambda_l2 is set=1.519297462857646e-05, reg_lambda=0.0 will be ignored. Current value: lambda_l2=1.519297462857646e-05\n",
            "[LightGBM] [Warning] lambda_l1 is set=0.0011789528222905725, reg_alpha=0.0 will be ignored. Current value: lambda_l1=0.0011789528222905725\n",
            "[LightGBM] [Warning] bagging_fraction is set=0.8031492374375918, subsample=1.0 will be ignored. Current value: bagging_fraction=0.8031492374375918\n",
            "[LightGBM] [Warning] bagging_freq is set=4, subsample_freq=0 will be ignored. Current value: bagging_freq=4\n",
            "[LightGBM] [Warning] feature_fraction is set=0.7804408793284296, colsample_bytree=1.0 will be ignored. Current value: feature_fraction=0.7804408793284296\n",
            "[LightGBM] [Warning] lambda_l2 is set=1.519297462857646e-05, reg_lambda=0.0 will be ignored. Current value: lambda_l2=1.519297462857646e-05\n",
            "[LightGBM] [Warning] lambda_l1 is set=0.0011789528222905725, reg_alpha=0.0 will be ignored. Current value: lambda_l1=0.0011789528222905725\n",
            "[LightGBM] [Warning] bagging_fraction is set=0.8031492374375918, subsample=1.0 will be ignored. Current value: bagging_fraction=0.8031492374375918\n",
            "[LightGBM] [Warning] bagging_freq is set=4, subsample_freq=0 will be ignored. Current value: bagging_freq=4\n"
          ]
        },
        {
          "metadata": {
            "tags": null
          },
          "name": "stderr",
          "output_type": "stream",
          "text": [
            "[I 2024-04-29 16:11:58,436] Trial 26 finished with value: 0.7456298460447878 and parameters: {'learning_rate': 0.04918312954292883, 'num_leaves': 162, 'feature_fraction': 0.7804408793284296, 'bagging_fraction': 0.8031492374375918, 'bagging_freq': 4, 'min_child_samples': 77, 'lambda_l1': 0.0011789528222905725, 'lambda_l2': 1.519297462857646e-05}. Best is trial 8 with value: 0.8395103014491042.\n"
          ]
        },
        {
          "metadata": {
            "tags": null
          },
          "name": "stdout",
          "output_type": "stream",
          "text": [
            "[LightGBM] [Warning] feature_fraction is set=0.9292459590688472, colsample_bytree=1.0 will be ignored. Current value: feature_fraction=0.9292459590688472\n",
            "[LightGBM] [Warning] lambda_l2 is set=1.4828773072748937e-06, reg_lambda=0.0 will be ignored. Current value: lambda_l2=1.4828773072748937e-06\n",
            "[LightGBM] [Warning] lambda_l1 is set=1.2509886353388102e-05, reg_alpha=0.0 will be ignored. Current value: lambda_l1=1.2509886353388102e-05\n",
            "[LightGBM] [Warning] bagging_fraction is set=0.7535201459648841, subsample=1.0 will be ignored. Current value: bagging_fraction=0.7535201459648841\n",
            "[LightGBM] [Warning] bagging_freq is set=1, subsample_freq=0 will be ignored. Current value: bagging_freq=1\n",
            "[LightGBM] [Warning] feature_fraction is set=0.9292459590688472, colsample_bytree=1.0 will be ignored. Current value: feature_fraction=0.9292459590688472\n",
            "[LightGBM] [Warning] lambda_l2 is set=1.4828773072748937e-06, reg_lambda=0.0 will be ignored. Current value: lambda_l2=1.4828773072748937e-06\n",
            "[LightGBM] [Warning] lambda_l1 is set=1.2509886353388102e-05, reg_alpha=0.0 will be ignored. Current value: lambda_l1=1.2509886353388102e-05\n",
            "[LightGBM] [Warning] bagging_fraction is set=0.7535201459648841, subsample=1.0 will be ignored. Current value: bagging_fraction=0.7535201459648841\n",
            "[LightGBM] [Warning] bagging_freq is set=1, subsample_freq=0 will be ignored. Current value: bagging_freq=1\n",
            "[LightGBM] [Info] Auto-choosing row-wise multi-threading, the overhead of testing was 0.188034 seconds.\n",
            "You can set `force_row_wise=true` to remove the overhead.\n",
            "And if memory is not enough, you can set `force_col_wise=true`.\n",
            "[LightGBM] [Info] Total Bins 25279\n",
            "[LightGBM] [Info] Number of data points in the train set: 181724, number of used features: 140\n",
            "[LightGBM] [Warning] feature_fraction is set=0.9292459590688472, colsample_bytree=1.0 will be ignored. Current value: feature_fraction=0.9292459590688472\n",
            "[LightGBM] [Warning] lambda_l2 is set=1.4828773072748937e-06, reg_lambda=0.0 will be ignored. Current value: lambda_l2=1.4828773072748937e-06\n",
            "[LightGBM] [Warning] lambda_l1 is set=1.2509886353388102e-05, reg_alpha=0.0 will be ignored. Current value: lambda_l1=1.2509886353388102e-05\n",
            "[LightGBM] [Warning] bagging_fraction is set=0.7535201459648841, subsample=1.0 will be ignored. Current value: bagging_fraction=0.7535201459648841\n",
            "[LightGBM] [Warning] bagging_freq is set=1, subsample_freq=0 will be ignored. Current value: bagging_freq=1\n",
            "[LightGBM] [Warning] feature_fraction is set=0.9292459590688472, colsample_bytree=1.0 will be ignored. Current value: feature_fraction=0.9292459590688472\n",
            "[LightGBM] [Warning] lambda_l2 is set=1.4828773072748937e-06, reg_lambda=0.0 will be ignored. Current value: lambda_l2=1.4828773072748937e-06\n",
            "[LightGBM] [Warning] lambda_l1 is set=1.2509886353388102e-05, reg_alpha=0.0 will be ignored. Current value: lambda_l1=1.2509886353388102e-05\n",
            "[LightGBM] [Warning] bagging_fraction is set=0.7535201459648841, subsample=1.0 will be ignored. Current value: bagging_fraction=0.7535201459648841\n",
            "[LightGBM] [Warning] bagging_freq is set=1, subsample_freq=0 will be ignored. Current value: bagging_freq=1\n"
          ]
        },
        {
          "metadata": {
            "tags": null
          },
          "name": "stderr",
          "output_type": "stream",
          "text": [
            "[I 2024-04-29 16:12:40,686] Trial 27 finished with value: 0.8728149230223938 and parameters: {'learning_rate': 0.09159395171410924, 'num_leaves': 281, 'feature_fraction': 0.9292459590688472, 'bagging_fraction': 0.7535201459648841, 'bagging_freq': 1, 'min_child_samples': 31, 'lambda_l1': 1.2509886353388102e-05, 'lambda_l2': 1.4828773072748937e-06}. Best is trial 27 with value: 0.8728149230223938.\n"
          ]
        },
        {
          "metadata": {
            "tags": null
          },
          "name": "stdout",
          "output_type": "stream",
          "text": [
            "[LightGBM] [Warning] feature_fraction is set=0.9375173062393368, colsample_bytree=1.0 will be ignored. Current value: feature_fraction=0.9375173062393368\n",
            "[LightGBM] [Warning] lambda_l2 is set=3.276758911002198e-08, reg_lambda=0.0 will be ignored. Current value: lambda_l2=3.276758911002198e-08\n",
            "[LightGBM] [Warning] lambda_l1 is set=1.062243793898552e-07, reg_alpha=0.0 will be ignored. Current value: lambda_l1=1.062243793898552e-07\n",
            "[LightGBM] [Warning] bagging_fraction is set=0.6845978974544903, subsample=1.0 will be ignored. Current value: bagging_fraction=0.6845978974544903\n",
            "[LightGBM] [Warning] bagging_freq is set=1, subsample_freq=0 will be ignored. Current value: bagging_freq=1\n",
            "[LightGBM] [Warning] feature_fraction is set=0.9375173062393368, colsample_bytree=1.0 will be ignored. Current value: feature_fraction=0.9375173062393368\n",
            "[LightGBM] [Warning] lambda_l2 is set=3.276758911002198e-08, reg_lambda=0.0 will be ignored. Current value: lambda_l2=3.276758911002198e-08\n",
            "[LightGBM] [Warning] lambda_l1 is set=1.062243793898552e-07, reg_alpha=0.0 will be ignored. Current value: lambda_l1=1.062243793898552e-07\n",
            "[LightGBM] [Warning] bagging_fraction is set=0.6845978974544903, subsample=1.0 will be ignored. Current value: bagging_fraction=0.6845978974544903\n",
            "[LightGBM] [Warning] bagging_freq is set=1, subsample_freq=0 will be ignored. Current value: bagging_freq=1\n",
            "[LightGBM] [Info] Auto-choosing row-wise multi-threading, the overhead of testing was 0.148400 seconds.\n",
            "You can set `force_row_wise=true` to remove the overhead.\n",
            "And if memory is not enough, you can set `force_col_wise=true`.\n",
            "[LightGBM] [Info] Total Bins 25279\n",
            "[LightGBM] [Info] Number of data points in the train set: 181724, number of used features: 140\n",
            "[LightGBM] [Warning] feature_fraction is set=0.9375173062393368, colsample_bytree=1.0 will be ignored. Current value: feature_fraction=0.9375173062393368\n",
            "[LightGBM] [Warning] lambda_l2 is set=3.276758911002198e-08, reg_lambda=0.0 will be ignored. Current value: lambda_l2=3.276758911002198e-08\n",
            "[LightGBM] [Warning] lambda_l1 is set=1.062243793898552e-07, reg_alpha=0.0 will be ignored. Current value: lambda_l1=1.062243793898552e-07\n",
            "[LightGBM] [Warning] bagging_fraction is set=0.6845978974544903, subsample=1.0 will be ignored. Current value: bagging_fraction=0.6845978974544903\n",
            "[LightGBM] [Warning] bagging_freq is set=1, subsample_freq=0 will be ignored. Current value: bagging_freq=1\n",
            "[LightGBM] [Warning] feature_fraction is set=0.9375173062393368, colsample_bytree=1.0 will be ignored. Current value: feature_fraction=0.9375173062393368\n",
            "[LightGBM] [Warning] lambda_l2 is set=3.276758911002198e-08, reg_lambda=0.0 will be ignored. Current value: lambda_l2=3.276758911002198e-08\n",
            "[LightGBM] [Warning] lambda_l1 is set=1.062243793898552e-07, reg_alpha=0.0 will be ignored. Current value: lambda_l1=1.062243793898552e-07\n",
            "[LightGBM] [Warning] bagging_fraction is set=0.6845978974544903, subsample=1.0 will be ignored. Current value: bagging_fraction=0.6845978974544903\n",
            "[LightGBM] [Warning] bagging_freq is set=1, subsample_freq=0 will be ignored. Current value: bagging_freq=1\n"
          ]
        },
        {
          "metadata": {
            "tags": null
          },
          "name": "stderr",
          "output_type": "stream",
          "text": [
            "[I 2024-04-29 16:13:24,277] Trial 28 finished with value: 0.6800273072886168 and parameters: {'learning_rate': 0.09017064171583482, 'num_leaves': 298, 'feature_fraction': 0.9375173062393368, 'bagging_fraction': 0.6845978974544903, 'bagging_freq': 1, 'min_child_samples': 18, 'lambda_l1': 1.062243793898552e-07, 'lambda_l2': 3.276758911002198e-08}. Best is trial 27 with value: 0.8728149230223938.\n"
          ]
        },
        {
          "metadata": {
            "tags": null
          },
          "name": "stdout",
          "output_type": "stream",
          "text": [
            "[LightGBM] [Warning] feature_fraction is set=0.6027714906675132, colsample_bytree=1.0 will be ignored. Current value: feature_fraction=0.6027714906675132\n",
            "[LightGBM] [Warning] lambda_l2 is set=1.1354015462056747e-08, reg_lambda=0.0 will be ignored. Current value: lambda_l2=1.1354015462056747e-08\n",
            "[LightGBM] [Warning] lambda_l1 is set=1.4219494275085697e-05, reg_alpha=0.0 will be ignored. Current value: lambda_l1=1.4219494275085697e-05\n",
            "[LightGBM] [Warning] bagging_fraction is set=0.7591816204676667, subsample=1.0 will be ignored. Current value: bagging_fraction=0.7591816204676667\n",
            "[LightGBM] [Warning] bagging_freq is set=1, subsample_freq=0 will be ignored. Current value: bagging_freq=1\n",
            "[LightGBM] [Warning] feature_fraction is set=0.6027714906675132, colsample_bytree=1.0 will be ignored. Current value: feature_fraction=0.6027714906675132\n",
            "[LightGBM] [Warning] lambda_l2 is set=1.1354015462056747e-08, reg_lambda=0.0 will be ignored. Current value: lambda_l2=1.1354015462056747e-08\n",
            "[LightGBM] [Warning] lambda_l1 is set=1.4219494275085697e-05, reg_alpha=0.0 will be ignored. Current value: lambda_l1=1.4219494275085697e-05\n",
            "[LightGBM] [Warning] bagging_fraction is set=0.7591816204676667, subsample=1.0 will be ignored. Current value: bagging_fraction=0.7591816204676667\n",
            "[LightGBM] [Warning] bagging_freq is set=1, subsample_freq=0 will be ignored. Current value: bagging_freq=1\n",
            "[LightGBM] [Info] Auto-choosing col-wise multi-threading, the overhead of testing was 0.359000 seconds.\n",
            "You can set `force_col_wise=true` to remove the overhead.\n",
            "[LightGBM] [Info] Total Bins 25279\n",
            "[LightGBM] [Info] Number of data points in the train set: 181724, number of used features: 140\n",
            "[LightGBM] [Warning] feature_fraction is set=0.6027714906675132, colsample_bytree=1.0 will be ignored. Current value: feature_fraction=0.6027714906675132\n",
            "[LightGBM] [Warning] lambda_l2 is set=1.1354015462056747e-08, reg_lambda=0.0 will be ignored. Current value: lambda_l2=1.1354015462056747e-08\n",
            "[LightGBM] [Warning] lambda_l1 is set=1.4219494275085697e-05, reg_alpha=0.0 will be ignored. Current value: lambda_l1=1.4219494275085697e-05\n",
            "[LightGBM] [Warning] bagging_fraction is set=0.7591816204676667, subsample=1.0 will be ignored. Current value: bagging_fraction=0.7591816204676667\n",
            "[LightGBM] [Warning] bagging_freq is set=1, subsample_freq=0 will be ignored. Current value: bagging_freq=1\n",
            "[LightGBM] [Warning] feature_fraction is set=0.6027714906675132, colsample_bytree=1.0 will be ignored. Current value: feature_fraction=0.6027714906675132\n",
            "[LightGBM] [Warning] lambda_l2 is set=1.1354015462056747e-08, reg_lambda=0.0 will be ignored. Current value: lambda_l2=1.1354015462056747e-08\n",
            "[LightGBM] [Warning] lambda_l1 is set=1.4219494275085697e-05, reg_alpha=0.0 will be ignored. Current value: lambda_l1=1.4219494275085697e-05\n",
            "[LightGBM] [Warning] bagging_fraction is set=0.7591816204676667, subsample=1.0 will be ignored. Current value: bagging_fraction=0.7591816204676667\n",
            "[LightGBM] [Warning] bagging_freq is set=1, subsample_freq=0 will be ignored. Current value: bagging_freq=1\n"
          ]
        },
        {
          "metadata": {
            "tags": null
          },
          "name": "stderr",
          "output_type": "stream",
          "text": [
            "[I 2024-04-29 16:14:06,986] Trial 29 finished with value: 0.8395103014491042 and parameters: {'learning_rate': 0.018766304513914506, 'num_leaves': 278, 'feature_fraction': 0.6027714906675132, 'bagging_fraction': 0.7591816204676667, 'bagging_freq': 1, 'min_child_samples': 31, 'lambda_l1': 1.4219494275085697e-05, 'lambda_l2': 1.1354015462056747e-08}. Best is trial 27 with value: 0.8728149230223938.\n"
          ]
        },
        {
          "metadata": {
            "tags": null
          },
          "name": "stdout",
          "output_type": "stream",
          "text": [
            "[LightGBM] [Warning] feature_fraction is set=0.9910994215085286, colsample_bytree=1.0 will be ignored. Current value: feature_fraction=0.9910994215085286\n",
            "[LightGBM] [Warning] lambda_l2 is set=1.4376941624956267e-06, reg_lambda=0.0 will be ignored. Current value: lambda_l2=1.4376941624956267e-06\n",
            "[LightGBM] [Warning] lambda_l1 is set=5.040771847375105e-07, reg_alpha=0.0 will be ignored. Current value: lambda_l1=5.040771847375105e-07\n",
            "[LightGBM] [Warning] bagging_fraction is set=0.6277282073401145, subsample=1.0 will be ignored. Current value: bagging_fraction=0.6277282073401145\n",
            "[LightGBM] [Warning] bagging_freq is set=7, subsample_freq=0 will be ignored. Current value: bagging_freq=7\n",
            "[LightGBM] [Warning] feature_fraction is set=0.9910994215085286, colsample_bytree=1.0 will be ignored. Current value: feature_fraction=0.9910994215085286\n",
            "[LightGBM] [Warning] lambda_l2 is set=1.4376941624956267e-06, reg_lambda=0.0 will be ignored. Current value: lambda_l2=1.4376941624956267e-06\n",
            "[LightGBM] [Warning] lambda_l1 is set=5.040771847375105e-07, reg_alpha=0.0 will be ignored. Current value: lambda_l1=5.040771847375105e-07\n",
            "[LightGBM] [Warning] bagging_fraction is set=0.6277282073401145, subsample=1.0 will be ignored. Current value: bagging_fraction=0.6277282073401145\n",
            "[LightGBM] [Warning] bagging_freq is set=7, subsample_freq=0 will be ignored. Current value: bagging_freq=7\n",
            "[LightGBM] [Info] Auto-choosing row-wise multi-threading, the overhead of testing was 0.148988 seconds.\n",
            "You can set `force_row_wise=true` to remove the overhead.\n",
            "And if memory is not enough, you can set `force_col_wise=true`.\n",
            "[LightGBM] [Info] Total Bins 25279\n",
            "[LightGBM] [Info] Number of data points in the train set: 181724, number of used features: 140\n",
            "[LightGBM] [Warning] feature_fraction is set=0.9910994215085286, colsample_bytree=1.0 will be ignored. Current value: feature_fraction=0.9910994215085286\n",
            "[LightGBM] [Warning] lambda_l2 is set=1.4376941624956267e-06, reg_lambda=0.0 will be ignored. Current value: lambda_l2=1.4376941624956267e-06\n",
            "[LightGBM] [Warning] lambda_l1 is set=5.040771847375105e-07, reg_alpha=0.0 will be ignored. Current value: lambda_l1=5.040771847375105e-07\n",
            "[LightGBM] [Warning] bagging_fraction is set=0.6277282073401145, subsample=1.0 will be ignored. Current value: bagging_fraction=0.6277282073401145\n",
            "[LightGBM] [Warning] bagging_freq is set=7, subsample_freq=0 will be ignored. Current value: bagging_freq=7\n",
            "[LightGBM] [Warning] feature_fraction is set=0.9910994215085286, colsample_bytree=1.0 will be ignored. Current value: feature_fraction=0.9910994215085286\n",
            "[LightGBM] [Warning] lambda_l2 is set=1.4376941624956267e-06, reg_lambda=0.0 will be ignored. Current value: lambda_l2=1.4376941624956267e-06\n",
            "[LightGBM] [Warning] lambda_l1 is set=5.040771847375105e-07, reg_alpha=0.0 will be ignored. Current value: lambda_l1=5.040771847375105e-07\n",
            "[LightGBM] [Warning] bagging_fraction is set=0.6277282073401145, subsample=1.0 will be ignored. Current value: bagging_fraction=0.6277282073401145\n",
            "[LightGBM] [Warning] bagging_freq is set=7, subsample_freq=0 will be ignored. Current value: bagging_freq=7\n"
          ]
        },
        {
          "metadata": {
            "tags": null
          },
          "name": "stderr",
          "output_type": "stream",
          "text": [
            "[I 2024-04-29 16:14:50,102] Trial 30 finished with value: 0.7739077626929334 and parameters: {'learning_rate': 0.14808671938443907, 'num_leaves': 260, 'feature_fraction': 0.9910994215085286, 'bagging_fraction': 0.6277282073401145, 'bagging_freq': 7, 'min_child_samples': 13, 'lambda_l1': 5.040771847375105e-07, 'lambda_l2': 1.4376941624956267e-06}. Best is trial 27 with value: 0.8728149230223938.\n"
          ]
        },
        {
          "metadata": {
            "tags": null
          },
          "name": "stdout",
          "output_type": "stream",
          "text": [
            "[LightGBM] [Warning] feature_fraction is set=0.86114592436316, colsample_bytree=1.0 will be ignored. Current value: feature_fraction=0.86114592436316\n",
            "[LightGBM] [Warning] lambda_l2 is set=2.42005355414643e-07, reg_lambda=0.0 will be ignored. Current value: lambda_l2=2.42005355414643e-07\n",
            "[LightGBM] [Warning] lambda_l1 is set=0.04563154648790844, reg_alpha=0.0 will be ignored. Current value: lambda_l1=0.04563154648790844\n",
            "[LightGBM] [Warning] bagging_fraction is set=0.7434259877843282, subsample=1.0 will be ignored. Current value: bagging_fraction=0.7434259877843282\n",
            "[LightGBM] [Warning] bagging_freq is set=2, subsample_freq=0 will be ignored. Current value: bagging_freq=2\n",
            "[LightGBM] [Warning] feature_fraction is set=0.86114592436316, colsample_bytree=1.0 will be ignored. Current value: feature_fraction=0.86114592436316\n",
            "[LightGBM] [Warning] lambda_l2 is set=2.42005355414643e-07, reg_lambda=0.0 will be ignored. Current value: lambda_l2=2.42005355414643e-07\n",
            "[LightGBM] [Warning] lambda_l1 is set=0.04563154648790844, reg_alpha=0.0 will be ignored. Current value: lambda_l1=0.04563154648790844\n",
            "[LightGBM] [Warning] bagging_fraction is set=0.7434259877843282, subsample=1.0 will be ignored. Current value: bagging_fraction=0.7434259877843282\n",
            "[LightGBM] [Warning] bagging_freq is set=2, subsample_freq=0 will be ignored. Current value: bagging_freq=2\n",
            "[LightGBM] [Info] Auto-choosing row-wise multi-threading, the overhead of testing was 0.146492 seconds.\n",
            "You can set `force_row_wise=true` to remove the overhead.\n",
            "And if memory is not enough, you can set `force_col_wise=true`.\n",
            "[LightGBM] [Info] Total Bins 25279\n",
            "[LightGBM] [Info] Number of data points in the train set: 181724, number of used features: 140\n",
            "[LightGBM] [Warning] feature_fraction is set=0.86114592436316, colsample_bytree=1.0 will be ignored. Current value: feature_fraction=0.86114592436316\n",
            "[LightGBM] [Warning] lambda_l2 is set=2.42005355414643e-07, reg_lambda=0.0 will be ignored. Current value: lambda_l2=2.42005355414643e-07\n",
            "[LightGBM] [Warning] lambda_l1 is set=0.04563154648790844, reg_alpha=0.0 will be ignored. Current value: lambda_l1=0.04563154648790844\n",
            "[LightGBM] [Warning] bagging_fraction is set=0.7434259877843282, subsample=1.0 will be ignored. Current value: bagging_fraction=0.7434259877843282\n",
            "[LightGBM] [Warning] bagging_freq is set=2, subsample_freq=0 will be ignored. Current value: bagging_freq=2\n",
            "[LightGBM] [Warning] feature_fraction is set=0.86114592436316, colsample_bytree=1.0 will be ignored. Current value: feature_fraction=0.86114592436316\n",
            "[LightGBM] [Warning] lambda_l2 is set=2.42005355414643e-07, reg_lambda=0.0 will be ignored. Current value: lambda_l2=2.42005355414643e-07\n",
            "[LightGBM] [Warning] lambda_l1 is set=0.04563154648790844, reg_alpha=0.0 will be ignored. Current value: lambda_l1=0.04563154648790844\n",
            "[LightGBM] [Warning] bagging_fraction is set=0.7434259877843282, subsample=1.0 will be ignored. Current value: bagging_fraction=0.7434259877843282\n",
            "[LightGBM] [Warning] bagging_freq is set=2, subsample_freq=0 will be ignored. Current value: bagging_freq=2\n"
          ]
        },
        {
          "metadata": {
            "tags": null
          },
          "name": "stderr",
          "output_type": "stream",
          "text": [
            "[I 2024-04-29 16:15:33,044] Trial 31 finished with value: 0.6800273072886168 and parameters: {'learning_rate': 0.12095745548532402, 'num_leaves': 235, 'feature_fraction': 0.86114592436316, 'bagging_fraction': 0.7434259877843282, 'bagging_freq': 2, 'min_child_samples': 48, 'lambda_l1': 0.04563154648790844, 'lambda_l2': 2.42005355414643e-07}. Best is trial 27 with value: 0.8728149230223938.\n"
          ]
        },
        {
          "metadata": {
            "tags": null
          },
          "name": "stdout",
          "output_type": "stream",
          "text": [
            "[LightGBM] [Warning] feature_fraction is set=0.9036171947379774, colsample_bytree=1.0 will be ignored. Current value: feature_fraction=0.9036171947379774\n",
            "[LightGBM] [Warning] lambda_l2 is set=6.76374842837314e-06, reg_lambda=0.0 will be ignored. Current value: lambda_l2=6.76374842837314e-06\n",
            "[LightGBM] [Warning] lambda_l1 is set=2.101055868085652e-05, reg_alpha=0.0 will be ignored. Current value: lambda_l1=2.101055868085652e-05\n",
            "[LightGBM] [Warning] bagging_fraction is set=0.8402390795592165, subsample=1.0 will be ignored. Current value: bagging_fraction=0.8402390795592165\n",
            "[LightGBM] [Warning] bagging_freq is set=1, subsample_freq=0 will be ignored. Current value: bagging_freq=1\n",
            "[LightGBM] [Warning] feature_fraction is set=0.9036171947379774, colsample_bytree=1.0 will be ignored. Current value: feature_fraction=0.9036171947379774\n",
            "[LightGBM] [Warning] lambda_l2 is set=6.76374842837314e-06, reg_lambda=0.0 will be ignored. Current value: lambda_l2=6.76374842837314e-06\n",
            "[LightGBM] [Warning] lambda_l1 is set=2.101055868085652e-05, reg_alpha=0.0 will be ignored. Current value: lambda_l1=2.101055868085652e-05\n",
            "[LightGBM] [Warning] bagging_fraction is set=0.8402390795592165, subsample=1.0 will be ignored. Current value: bagging_fraction=0.8402390795592165\n",
            "[LightGBM] [Warning] bagging_freq is set=1, subsample_freq=0 will be ignored. Current value: bagging_freq=1\n",
            "[LightGBM] [Info] Auto-choosing row-wise multi-threading, the overhead of testing was 0.145331 seconds.\n",
            "You can set `force_row_wise=true` to remove the overhead.\n",
            "And if memory is not enough, you can set `force_col_wise=true`.\n",
            "[LightGBM] [Info] Total Bins 25279\n",
            "[LightGBM] [Info] Number of data points in the train set: 181724, number of used features: 140\n",
            "[LightGBM] [Warning] feature_fraction is set=0.9036171947379774, colsample_bytree=1.0 will be ignored. Current value: feature_fraction=0.9036171947379774\n",
            "[LightGBM] [Warning] lambda_l2 is set=6.76374842837314e-06, reg_lambda=0.0 will be ignored. Current value: lambda_l2=6.76374842837314e-06\n",
            "[LightGBM] [Warning] lambda_l1 is set=2.101055868085652e-05, reg_alpha=0.0 will be ignored. Current value: lambda_l1=2.101055868085652e-05\n",
            "[LightGBM] [Warning] bagging_fraction is set=0.8402390795592165, subsample=1.0 will be ignored. Current value: bagging_fraction=0.8402390795592165\n",
            "[LightGBM] [Warning] bagging_freq is set=1, subsample_freq=0 will be ignored. Current value: bagging_freq=1\n",
            "[LightGBM] [Warning] feature_fraction is set=0.9036171947379774, colsample_bytree=1.0 will be ignored. Current value: feature_fraction=0.9036171947379774\n",
            "[LightGBM] [Warning] lambda_l2 is set=6.76374842837314e-06, reg_lambda=0.0 will be ignored. Current value: lambda_l2=6.76374842837314e-06\n",
            "[LightGBM] [Warning] lambda_l1 is set=2.101055868085652e-05, reg_alpha=0.0 will be ignored. Current value: lambda_l1=2.101055868085652e-05\n",
            "[LightGBM] [Warning] bagging_fraction is set=0.8402390795592165, subsample=1.0 will be ignored. Current value: bagging_fraction=0.8402390795592165\n",
            "[LightGBM] [Warning] bagging_freq is set=1, subsample_freq=0 will be ignored. Current value: bagging_freq=1\n"
          ]
        },
        {
          "metadata": {
            "tags": null
          },
          "name": "stderr",
          "output_type": "stream",
          "text": [
            "[I 2024-04-29 16:16:16,677] Trial 32 finished with value: 0.8904487376179699 and parameters: {'learning_rate': 0.08100621601939514, 'num_leaves': 284, 'feature_fraction': 0.9036171947379774, 'bagging_fraction': 0.8402390795592165, 'bagging_freq': 1, 'min_child_samples': 36, 'lambda_l1': 2.101055868085652e-05, 'lambda_l2': 6.76374842837314e-06}. Best is trial 32 with value: 0.8904487376179699.\n"
          ]
        },
        {
          "metadata": {
            "tags": null
          },
          "name": "stdout",
          "output_type": "stream",
          "text": [
            "[LightGBM] [Warning] feature_fraction is set=0.947703878575784, colsample_bytree=1.0 will be ignored. Current value: feature_fraction=0.947703878575784\n",
            "[LightGBM] [Warning] lambda_l2 is set=3.3542363816809743e-07, reg_lambda=0.0 will be ignored. Current value: lambda_l2=3.3542363816809743e-07\n",
            "[LightGBM] [Warning] lambda_l1 is set=1.3984914326653793e-05, reg_alpha=0.0 will be ignored. Current value: lambda_l1=1.3984914326653793e-05\n",
            "[LightGBM] [Warning] bagging_fraction is set=0.8405362750407809, subsample=1.0 will be ignored. Current value: bagging_fraction=0.8405362750407809\n",
            "[LightGBM] [Warning] bagging_freq is set=1, subsample_freq=0 will be ignored. Current value: bagging_freq=1\n",
            "[LightGBM] [Warning] feature_fraction is set=0.947703878575784, colsample_bytree=1.0 will be ignored. Current value: feature_fraction=0.947703878575784\n",
            "[LightGBM] [Warning] lambda_l2 is set=3.3542363816809743e-07, reg_lambda=0.0 will be ignored. Current value: lambda_l2=3.3542363816809743e-07\n",
            "[LightGBM] [Warning] lambda_l1 is set=1.3984914326653793e-05, reg_alpha=0.0 will be ignored. Current value: lambda_l1=1.3984914326653793e-05\n",
            "[LightGBM] [Warning] bagging_fraction is set=0.8405362750407809, subsample=1.0 will be ignored. Current value: bagging_fraction=0.8405362750407809\n",
            "[LightGBM] [Warning] bagging_freq is set=1, subsample_freq=0 will be ignored. Current value: bagging_freq=1\n",
            "[LightGBM] [Info] Auto-choosing row-wise multi-threading, the overhead of testing was 0.185713 seconds.\n",
            "You can set `force_row_wise=true` to remove the overhead.\n",
            "And if memory is not enough, you can set `force_col_wise=true`.\n",
            "[LightGBM] [Info] Total Bins 25279\n",
            "[LightGBM] [Info] Number of data points in the train set: 181724, number of used features: 140\n",
            "[LightGBM] [Warning] feature_fraction is set=0.947703878575784, colsample_bytree=1.0 will be ignored. Current value: feature_fraction=0.947703878575784\n",
            "[LightGBM] [Warning] lambda_l2 is set=3.3542363816809743e-07, reg_lambda=0.0 will be ignored. Current value: lambda_l2=3.3542363816809743e-07\n",
            "[LightGBM] [Warning] lambda_l1 is set=1.3984914326653793e-05, reg_alpha=0.0 will be ignored. Current value: lambda_l1=1.3984914326653793e-05\n",
            "[LightGBM] [Warning] bagging_fraction is set=0.8405362750407809, subsample=1.0 will be ignored. Current value: bagging_fraction=0.8405362750407809\n",
            "[LightGBM] [Warning] bagging_freq is set=1, subsample_freq=0 will be ignored. Current value: bagging_freq=1\n",
            "[LightGBM] [Warning] feature_fraction is set=0.947703878575784, colsample_bytree=1.0 will be ignored. Current value: feature_fraction=0.947703878575784\n",
            "[LightGBM] [Warning] lambda_l2 is set=3.3542363816809743e-07, reg_lambda=0.0 will be ignored. Current value: lambda_l2=3.3542363816809743e-07\n",
            "[LightGBM] [Warning] lambda_l1 is set=1.3984914326653793e-05, reg_alpha=0.0 will be ignored. Current value: lambda_l1=1.3984914326653793e-05\n",
            "[LightGBM] [Warning] bagging_fraction is set=0.8405362750407809, subsample=1.0 will be ignored. Current value: bagging_fraction=0.8405362750407809\n",
            "[LightGBM] [Warning] bagging_freq is set=1, subsample_freq=0 will be ignored. Current value: bagging_freq=1\n"
          ]
        },
        {
          "metadata": {
            "tags": null
          },
          "name": "stderr",
          "output_type": "stream",
          "text": [
            "[I 2024-04-29 16:17:00,252] Trial 33 finished with value: 0.8067090320710189 and parameters: {'learning_rate': 0.08205746700266589, 'num_leaves': 283, 'feature_fraction': 0.947703878575784, 'bagging_fraction': 0.8405362750407809, 'bagging_freq': 1, 'min_child_samples': 28, 'lambda_l1': 1.3984914326653793e-05, 'lambda_l2': 3.3542363816809743e-07}. Best is trial 32 with value: 0.8904487376179699.\n"
          ]
        },
        {
          "metadata": {
            "tags": null
          },
          "name": "stdout",
          "output_type": "stream",
          "text": [
            "[LightGBM] [Warning] feature_fraction is set=0.921689941569655, colsample_bytree=1.0 will be ignored. Current value: feature_fraction=0.921689941569655\n",
            "[LightGBM] [Warning] lambda_l2 is set=3.757719850422911e-08, reg_lambda=0.0 will be ignored. Current value: lambda_l2=3.757719850422911e-08\n",
            "[LightGBM] [Warning] lambda_l1 is set=5.274804747913248e-07, reg_alpha=0.0 will be ignored. Current value: lambda_l1=5.274804747913248e-07\n",
            "[LightGBM] [Warning] bagging_fraction is set=0.8845357449141279, subsample=1.0 will be ignored. Current value: bagging_fraction=0.8845357449141279\n",
            "[LightGBM] [Warning] bagging_freq is set=1, subsample_freq=0 will be ignored. Current value: bagging_freq=1\n",
            "[LightGBM] [Warning] feature_fraction is set=0.921689941569655, colsample_bytree=1.0 will be ignored. Current value: feature_fraction=0.921689941569655\n",
            "[LightGBM] [Warning] lambda_l2 is set=3.757719850422911e-08, reg_lambda=0.0 will be ignored. Current value: lambda_l2=3.757719850422911e-08\n",
            "[LightGBM] [Warning] lambda_l1 is set=5.274804747913248e-07, reg_alpha=0.0 will be ignored. Current value: lambda_l1=5.274804747913248e-07\n",
            "[LightGBM] [Warning] bagging_fraction is set=0.8845357449141279, subsample=1.0 will be ignored. Current value: bagging_fraction=0.8845357449141279\n",
            "[LightGBM] [Warning] bagging_freq is set=1, subsample_freq=0 will be ignored. Current value: bagging_freq=1\n",
            "[LightGBM] [Info] Auto-choosing row-wise multi-threading, the overhead of testing was 0.232119 seconds.\n",
            "You can set `force_row_wise=true` to remove the overhead.\n",
            "And if memory is not enough, you can set `force_col_wise=true`.\n",
            "[LightGBM] [Info] Total Bins 25279\n",
            "[LightGBM] [Info] Number of data points in the train set: 181724, number of used features: 140\n",
            "[LightGBM] [Warning] feature_fraction is set=0.921689941569655, colsample_bytree=1.0 will be ignored. Current value: feature_fraction=0.921689941569655\n",
            "[LightGBM] [Warning] lambda_l2 is set=3.757719850422911e-08, reg_lambda=0.0 will be ignored. Current value: lambda_l2=3.757719850422911e-08\n",
            "[LightGBM] [Warning] lambda_l1 is set=5.274804747913248e-07, reg_alpha=0.0 will be ignored. Current value: lambda_l1=5.274804747913248e-07\n",
            "[LightGBM] [Warning] bagging_fraction is set=0.8845357449141279, subsample=1.0 will be ignored. Current value: bagging_fraction=0.8845357449141279\n",
            "[LightGBM] [Warning] bagging_freq is set=1, subsample_freq=0 will be ignored. Current value: bagging_freq=1\n",
            "[LightGBM] [Warning] feature_fraction is set=0.921689941569655, colsample_bytree=1.0 will be ignored. Current value: feature_fraction=0.921689941569655\n",
            "[LightGBM] [Warning] lambda_l2 is set=3.757719850422911e-08, reg_lambda=0.0 will be ignored. Current value: lambda_l2=3.757719850422911e-08\n",
            "[LightGBM] [Warning] lambda_l1 is set=5.274804747913248e-07, reg_alpha=0.0 will be ignored. Current value: lambda_l1=5.274804747913248e-07\n",
            "[LightGBM] [Warning] bagging_fraction is set=0.8845357449141279, subsample=1.0 will be ignored. Current value: bagging_fraction=0.8845357449141279\n",
            "[LightGBM] [Warning] bagging_freq is set=1, subsample_freq=0 will be ignored. Current value: bagging_freq=1\n"
          ]
        },
        {
          "metadata": {
            "tags": null
          },
          "name": "stderr",
          "output_type": "stream",
          "text": [
            "[I 2024-04-29 16:17:43,230] Trial 34 finished with value: 0.6800273072886168 and parameters: {'learning_rate': 0.0504416397374525, 'num_leaves': 262, 'feature_fraction': 0.921689941569655, 'bagging_fraction': 0.8845357449141279, 'bagging_freq': 1, 'min_child_samples': 36, 'lambda_l1': 5.274804747913248e-07, 'lambda_l2': 3.757719850422911e-08}. Best is trial 32 with value: 0.8904487376179699.\n"
          ]
        },
        {
          "metadata": {
            "tags": null
          },
          "name": "stdout",
          "output_type": "stream",
          "text": [
            "[LightGBM] [Warning] feature_fraction is set=0.7128285899411363, colsample_bytree=1.0 will be ignored. Current value: feature_fraction=0.7128285899411363\n",
            "[LightGBM] [Warning] lambda_l2 is set=0.0001400561580907754, reg_lambda=0.0 will be ignored. Current value: lambda_l2=0.0001400561580907754\n",
            "[LightGBM] [Warning] lambda_l1 is set=0.00029017516521389274, reg_alpha=0.0 will be ignored. Current value: lambda_l1=0.00029017516521389274\n",
            "[LightGBM] [Warning] bagging_fraction is set=0.796415089562724, subsample=1.0 will be ignored. Current value: bagging_fraction=0.796415089562724\n",
            "[LightGBM] [Warning] bagging_freq is set=2, subsample_freq=0 will be ignored. Current value: bagging_freq=2\n",
            "[LightGBM] [Warning] feature_fraction is set=0.7128285899411363, colsample_bytree=1.0 will be ignored. Current value: feature_fraction=0.7128285899411363\n",
            "[LightGBM] [Warning] lambda_l2 is set=0.0001400561580907754, reg_lambda=0.0 will be ignored. Current value: lambda_l2=0.0001400561580907754\n",
            "[LightGBM] [Warning] lambda_l1 is set=0.00029017516521389274, reg_alpha=0.0 will be ignored. Current value: lambda_l1=0.00029017516521389274\n",
            "[LightGBM] [Warning] bagging_fraction is set=0.796415089562724, subsample=1.0 will be ignored. Current value: bagging_fraction=0.796415089562724\n",
            "[LightGBM] [Warning] bagging_freq is set=2, subsample_freq=0 will be ignored. Current value: bagging_freq=2\n",
            "[LightGBM] [Info] Auto-choosing col-wise multi-threading, the overhead of testing was 0.565159 seconds.\n",
            "You can set `force_col_wise=true` to remove the overhead.\n",
            "[LightGBM] [Info] Total Bins 25279\n",
            "[LightGBM] [Info] Number of data points in the train set: 181724, number of used features: 140\n",
            "[LightGBM] [Warning] feature_fraction is set=0.7128285899411363, colsample_bytree=1.0 will be ignored. Current value: feature_fraction=0.7128285899411363\n",
            "[LightGBM] [Warning] lambda_l2 is set=0.0001400561580907754, reg_lambda=0.0 will be ignored. Current value: lambda_l2=0.0001400561580907754\n",
            "[LightGBM] [Warning] lambda_l1 is set=0.00029017516521389274, reg_alpha=0.0 will be ignored. Current value: lambda_l1=0.00029017516521389274\n",
            "[LightGBM] [Warning] bagging_fraction is set=0.796415089562724, subsample=1.0 will be ignored. Current value: bagging_fraction=0.796415089562724\n",
            "[LightGBM] [Warning] bagging_freq is set=2, subsample_freq=0 will be ignored. Current value: bagging_freq=2\n",
            "[LightGBM] [Warning] feature_fraction is set=0.7128285899411363, colsample_bytree=1.0 will be ignored. Current value: feature_fraction=0.7128285899411363\n",
            "[LightGBM] [Warning] lambda_l2 is set=0.0001400561580907754, reg_lambda=0.0 will be ignored. Current value: lambda_l2=0.0001400561580907754\n",
            "[LightGBM] [Warning] lambda_l1 is set=0.00029017516521389274, reg_alpha=0.0 will be ignored. Current value: lambda_l1=0.00029017516521389274\n",
            "[LightGBM] [Warning] bagging_fraction is set=0.796415089562724, subsample=1.0 will be ignored. Current value: bagging_fraction=0.796415089562724\n",
            "[LightGBM] [Warning] bagging_freq is set=2, subsample_freq=0 will be ignored. Current value: bagging_freq=2\n"
          ]
        },
        {
          "metadata": {
            "tags": null
          },
          "name": "stderr",
          "output_type": "stream",
          "text": [
            "[I 2024-04-29 16:18:31,323] Trial 35 finished with value: 0.8072123842662229 and parameters: {'learning_rate': 0.29669949704372856, 'num_leaves': 285, 'feature_fraction': 0.7128285899411363, 'bagging_fraction': 0.796415089562724, 'bagging_freq': 2, 'min_child_samples': 23, 'lambda_l1': 0.00029017516521389274, 'lambda_l2': 0.0001400561580907754}. Best is trial 32 with value: 0.8904487376179699.\n"
          ]
        },
        {
          "metadata": {
            "tags": null
          },
          "name": "stdout",
          "output_type": "stream",
          "text": [
            "[LightGBM] [Warning] feature_fraction is set=0.9525014565826783, colsample_bytree=1.0 will be ignored. Current value: feature_fraction=0.9525014565826783\n",
            "[LightGBM] [Warning] lambda_l2 is set=1.3202132260076512e-05, reg_lambda=0.0 will be ignored. Current value: lambda_l2=1.3202132260076512e-05\n",
            "[LightGBM] [Warning] lambda_l1 is set=2.202515697590482e-05, reg_alpha=0.0 will be ignored. Current value: lambda_l1=2.202515697590482e-05\n",
            "[LightGBM] [Warning] bagging_fraction is set=0.8160848827686557, subsample=1.0 will be ignored. Current value: bagging_fraction=0.8160848827686557\n",
            "[LightGBM] [Warning] bagging_freq is set=1, subsample_freq=0 will be ignored. Current value: bagging_freq=1\n",
            "[LightGBM] [Warning] feature_fraction is set=0.9525014565826783, colsample_bytree=1.0 will be ignored. Current value: feature_fraction=0.9525014565826783\n",
            "[LightGBM] [Warning] lambda_l2 is set=1.3202132260076512e-05, reg_lambda=0.0 will be ignored. Current value: lambda_l2=1.3202132260076512e-05\n",
            "[LightGBM] [Warning] lambda_l1 is set=2.202515697590482e-05, reg_alpha=0.0 will be ignored. Current value: lambda_l1=2.202515697590482e-05\n",
            "[LightGBM] [Warning] bagging_fraction is set=0.8160848827686557, subsample=1.0 will be ignored. Current value: bagging_fraction=0.8160848827686557\n",
            "[LightGBM] [Warning] bagging_freq is set=1, subsample_freq=0 will be ignored. Current value: bagging_freq=1\n",
            "[LightGBM] [Info] Auto-choosing row-wise multi-threading, the overhead of testing was 0.153023 seconds.\n",
            "You can set `force_row_wise=true` to remove the overhead.\n",
            "And if memory is not enough, you can set `force_col_wise=true`.\n",
            "[LightGBM] [Info] Total Bins 25279\n",
            "[LightGBM] [Info] Number of data points in the train set: 181724, number of used features: 140\n",
            "[LightGBM] [Warning] feature_fraction is set=0.9525014565826783, colsample_bytree=1.0 will be ignored. Current value: feature_fraction=0.9525014565826783\n",
            "[LightGBM] [Warning] lambda_l2 is set=1.3202132260076512e-05, reg_lambda=0.0 will be ignored. Current value: lambda_l2=1.3202132260076512e-05\n",
            "[LightGBM] [Warning] lambda_l1 is set=2.202515697590482e-05, reg_alpha=0.0 will be ignored. Current value: lambda_l1=2.202515697590482e-05\n",
            "[LightGBM] [Warning] bagging_fraction is set=0.8160848827686557, subsample=1.0 will be ignored. Current value: bagging_fraction=0.8160848827686557\n",
            "[LightGBM] [Warning] bagging_freq is set=1, subsample_freq=0 will be ignored. Current value: bagging_freq=1\n",
            "[LightGBM] [Warning] feature_fraction is set=0.9525014565826783, colsample_bytree=1.0 will be ignored. Current value: feature_fraction=0.9525014565826783\n",
            "[LightGBM] [Warning] lambda_l2 is set=1.3202132260076512e-05, reg_lambda=0.0 will be ignored. Current value: lambda_l2=1.3202132260076512e-05\n",
            "[LightGBM] [Warning] lambda_l1 is set=2.202515697590482e-05, reg_alpha=0.0 will be ignored. Current value: lambda_l1=2.202515697590482e-05\n",
            "[LightGBM] [Warning] bagging_fraction is set=0.8160848827686557, subsample=1.0 will be ignored. Current value: bagging_fraction=0.8160848827686557\n",
            "[LightGBM] [Warning] bagging_freq is set=1, subsample_freq=0 will be ignored. Current value: bagging_freq=1\n"
          ]
        },
        {
          "metadata": {
            "tags": null
          },
          "name": "stderr",
          "output_type": "stream",
          "text": [
            "[I 2024-04-29 16:19:09,063] Trial 36 finished with value: 0.8395103014491042 and parameters: {'learning_rate': 0.20336097211984172, 'num_leaves': 247, 'feature_fraction': 0.9525014565826783, 'bagging_fraction': 0.8160848827686557, 'bagging_freq': 1, 'min_child_samples': 37, 'lambda_l1': 2.202515697590482e-05, 'lambda_l2': 1.3202132260076512e-05}. Best is trial 32 with value: 0.8904487376179699.\n"
          ]
        },
        {
          "metadata": {
            "tags": null
          },
          "name": "stdout",
          "output_type": "stream",
          "text": [
            "[LightGBM] [Warning] feature_fraction is set=0.6564325288523712, colsample_bytree=1.0 will be ignored. Current value: feature_fraction=0.6564325288523712\n",
            "[LightGBM] [Warning] lambda_l2 is set=1.359720656663585e-06, reg_lambda=0.0 will be ignored. Current value: lambda_l2=1.359720656663585e-06\n",
            "[LightGBM] [Warning] lambda_l1 is set=4.570115158752262e-06, reg_alpha=0.0 will be ignored. Current value: lambda_l1=4.570115158752262e-06\n",
            "[LightGBM] [Warning] bagging_fraction is set=0.6950535497346699, subsample=1.0 will be ignored. Current value: bagging_fraction=0.6950535497346699\n",
            "[LightGBM] [Warning] bagging_freq is set=3, subsample_freq=0 will be ignored. Current value: bagging_freq=3\n",
            "[LightGBM] [Warning] feature_fraction is set=0.6564325288523712, colsample_bytree=1.0 will be ignored. Current value: feature_fraction=0.6564325288523712\n",
            "[LightGBM] [Warning] lambda_l2 is set=1.359720656663585e-06, reg_lambda=0.0 will be ignored. Current value: lambda_l2=1.359720656663585e-06\n",
            "[LightGBM] [Warning] lambda_l1 is set=4.570115158752262e-06, reg_alpha=0.0 will be ignored. Current value: lambda_l1=4.570115158752262e-06\n",
            "[LightGBM] [Warning] bagging_fraction is set=0.6950535497346699, subsample=1.0 will be ignored. Current value: bagging_fraction=0.6950535497346699\n",
            "[LightGBM] [Warning] bagging_freq is set=3, subsample_freq=0 will be ignored. Current value: bagging_freq=3\n",
            "[LightGBM] [Info] Auto-choosing col-wise multi-threading, the overhead of testing was 0.530777 seconds.\n",
            "You can set `force_col_wise=true` to remove the overhead.\n",
            "[LightGBM] [Info] Total Bins 25279\n",
            "[LightGBM] [Info] Number of data points in the train set: 181724, number of used features: 140\n",
            "[LightGBM] [Warning] feature_fraction is set=0.6564325288523712, colsample_bytree=1.0 will be ignored. Current value: feature_fraction=0.6564325288523712\n",
            "[LightGBM] [Warning] lambda_l2 is set=1.359720656663585e-06, reg_lambda=0.0 will be ignored. Current value: lambda_l2=1.359720656663585e-06\n",
            "[LightGBM] [Warning] lambda_l1 is set=4.570115158752262e-06, reg_alpha=0.0 will be ignored. Current value: lambda_l1=4.570115158752262e-06\n",
            "[LightGBM] [Warning] bagging_fraction is set=0.6950535497346699, subsample=1.0 will be ignored. Current value: bagging_fraction=0.6950535497346699\n",
            "[LightGBM] [Warning] bagging_freq is set=3, subsample_freq=0 will be ignored. Current value: bagging_freq=3\n",
            "[LightGBM] [Warning] feature_fraction is set=0.6564325288523712, colsample_bytree=1.0 will be ignored. Current value: feature_fraction=0.6564325288523712\n",
            "[LightGBM] [Warning] lambda_l2 is set=1.359720656663585e-06, reg_lambda=0.0 will be ignored. Current value: lambda_l2=1.359720656663585e-06\n",
            "[LightGBM] [Warning] lambda_l1 is set=4.570115158752262e-06, reg_alpha=0.0 will be ignored. Current value: lambda_l1=4.570115158752262e-06\n",
            "[LightGBM] [Warning] bagging_fraction is set=0.6950535497346699, subsample=1.0 will be ignored. Current value: bagging_fraction=0.6950535497346699\n",
            "[LightGBM] [Warning] bagging_freq is set=3, subsample_freq=0 will be ignored. Current value: bagging_freq=3\n"
          ]
        },
        {
          "metadata": {
            "tags": null
          },
          "name": "stderr",
          "output_type": "stream",
          "text": [
            "[I 2024-04-29 16:19:32,117] Trial 37 finished with value: 0.7920449294837136 and parameters: {'learning_rate': 0.23748436218230665, 'num_leaves': 27, 'feature_fraction': 0.6564325288523712, 'bagging_fraction': 0.6950535497346699, 'bagging_freq': 3, 'min_child_samples': 17, 'lambda_l1': 4.570115158752262e-06, 'lambda_l2': 1.359720656663585e-06}. Best is trial 32 with value: 0.8904487376179699.\n"
          ]
        },
        {
          "metadata": {
            "tags": null
          },
          "name": "stdout",
          "output_type": "stream",
          "text": [
            "[LightGBM] [Warning] feature_fraction is set=0.817846376777039, colsample_bytree=1.0 will be ignored. Current value: feature_fraction=0.817846376777039\n",
            "[LightGBM] [Warning] lambda_l2 is set=0.12159082846468297, reg_lambda=0.0 will be ignored. Current value: lambda_l2=0.12159082846468297\n",
            "[LightGBM] [Warning] lambda_l1 is set=0.00024086911176853713, reg_alpha=0.0 will be ignored. Current value: lambda_l1=0.00024086911176853713\n",
            "[LightGBM] [Warning] bagging_fraction is set=0.9024980559623121, subsample=1.0 will be ignored. Current value: bagging_fraction=0.9024980559623121\n",
            "[LightGBM] [Warning] bagging_freq is set=2, subsample_freq=0 will be ignored. Current value: bagging_freq=2\n",
            "[LightGBM] [Warning] feature_fraction is set=0.817846376777039, colsample_bytree=1.0 will be ignored. Current value: feature_fraction=0.817846376777039\n",
            "[LightGBM] [Warning] lambda_l2 is set=0.12159082846468297, reg_lambda=0.0 will be ignored. Current value: lambda_l2=0.12159082846468297\n",
            "[LightGBM] [Warning] lambda_l1 is set=0.00024086911176853713, reg_alpha=0.0 will be ignored. Current value: lambda_l1=0.00024086911176853713\n",
            "[LightGBM] [Warning] bagging_fraction is set=0.9024980559623121, subsample=1.0 will be ignored. Current value: bagging_fraction=0.9024980559623121\n",
            "[LightGBM] [Warning] bagging_freq is set=2, subsample_freq=0 will be ignored. Current value: bagging_freq=2\n",
            "[LightGBM] [Info] Auto-choosing row-wise multi-threading, the overhead of testing was 0.150220 seconds.\n",
            "You can set `force_row_wise=true` to remove the overhead.\n",
            "And if memory is not enough, you can set `force_col_wise=true`.\n",
            "[LightGBM] [Info] Total Bins 25279\n",
            "[LightGBM] [Info] Number of data points in the train set: 181724, number of used features: 140\n",
            "[LightGBM] [Warning] feature_fraction is set=0.817846376777039, colsample_bytree=1.0 will be ignored. Current value: feature_fraction=0.817846376777039\n",
            "[LightGBM] [Warning] lambda_l2 is set=0.12159082846468297, reg_lambda=0.0 will be ignored. Current value: lambda_l2=0.12159082846468297\n",
            "[LightGBM] [Warning] lambda_l1 is set=0.00024086911176853713, reg_alpha=0.0 will be ignored. Current value: lambda_l1=0.00024086911176853713\n",
            "[LightGBM] [Warning] bagging_fraction is set=0.9024980559623121, subsample=1.0 will be ignored. Current value: bagging_fraction=0.9024980559623121\n",
            "[LightGBM] [Warning] bagging_freq is set=2, subsample_freq=0 will be ignored. Current value: bagging_freq=2\n",
            "[LightGBM] [Warning] feature_fraction is set=0.817846376777039, colsample_bytree=1.0 will be ignored. Current value: feature_fraction=0.817846376777039\n",
            "[LightGBM] [Warning] lambda_l2 is set=0.12159082846468297, reg_lambda=0.0 will be ignored. Current value: lambda_l2=0.12159082846468297\n",
            "[LightGBM] [Warning] lambda_l1 is set=0.00024086911176853713, reg_alpha=0.0 will be ignored. Current value: lambda_l1=0.00024086911176853713\n",
            "[LightGBM] [Warning] bagging_fraction is set=0.9024980559623121, subsample=1.0 will be ignored. Current value: bagging_fraction=0.9024980559623121\n",
            "[LightGBM] [Warning] bagging_freq is set=2, subsample_freq=0 will be ignored. Current value: bagging_freq=2\n"
          ]
        },
        {
          "metadata": {
            "tags": null
          },
          "name": "stderr",
          "output_type": "stream",
          "text": [
            "[I 2024-04-29 16:20:16,932] Trial 38 finished with value: 0.8395103014491042 and parameters: {'learning_rate': 0.17858634453657707, 'num_leaves': 266, 'feature_fraction': 0.817846376777039, 'bagging_fraction': 0.9024980559623121, 'bagging_freq': 2, 'min_child_samples': 25, 'lambda_l1': 0.00024086911176853713, 'lambda_l2': 0.12159082846468297}. Best is trial 32 with value: 0.8904487376179699.\n"
          ]
        },
        {
          "metadata": {
            "tags": null
          },
          "name": "stdout",
          "output_type": "stream",
          "text": [
            "[LightGBM] [Warning] feature_fraction is set=0.9227839955986029, colsample_bytree=1.0 will be ignored. Current value: feature_fraction=0.9227839955986029\n",
            "[LightGBM] [Warning] lambda_l2 is set=1.144469313812695e-06, reg_lambda=0.0 will be ignored. Current value: lambda_l2=1.144469313812695e-06\n",
            "[LightGBM] [Warning] lambda_l1 is set=9.775968821892626e-07, reg_alpha=0.0 will be ignored. Current value: lambda_l1=9.775968821892626e-07\n",
            "[LightGBM] [Warning] bagging_fraction is set=0.8552595511147615, subsample=1.0 will be ignored. Current value: bagging_fraction=0.8552595511147615\n",
            "[LightGBM] [Warning] bagging_freq is set=1, subsample_freq=0 will be ignored. Current value: bagging_freq=1\n",
            "[LightGBM] [Warning] feature_fraction is set=0.9227839955986029, colsample_bytree=1.0 will be ignored. Current value: feature_fraction=0.9227839955986029\n",
            "[LightGBM] [Warning] lambda_l2 is set=1.144469313812695e-06, reg_lambda=0.0 will be ignored. Current value: lambda_l2=1.144469313812695e-06\n",
            "[LightGBM] [Warning] lambda_l1 is set=9.775968821892626e-07, reg_alpha=0.0 will be ignored. Current value: lambda_l1=9.775968821892626e-07\n",
            "[LightGBM] [Warning] bagging_fraction is set=0.8552595511147615, subsample=1.0 will be ignored. Current value: bagging_fraction=0.8552595511147615\n",
            "[LightGBM] [Warning] bagging_freq is set=1, subsample_freq=0 will be ignored. Current value: bagging_freq=1\n",
            "[LightGBM] [Info] Auto-choosing row-wise multi-threading, the overhead of testing was 0.148373 seconds.\n",
            "You can set `force_row_wise=true` to remove the overhead.\n",
            "And if memory is not enough, you can set `force_col_wise=true`.\n",
            "[LightGBM] [Info] Total Bins 25279\n",
            "[LightGBM] [Info] Number of data points in the train set: 181724, number of used features: 140\n",
            "[LightGBM] [Warning] feature_fraction is set=0.9227839955986029, colsample_bytree=1.0 will be ignored. Current value: feature_fraction=0.9227839955986029\n",
            "[LightGBM] [Warning] lambda_l2 is set=1.144469313812695e-06, reg_lambda=0.0 will be ignored. Current value: lambda_l2=1.144469313812695e-06\n",
            "[LightGBM] [Warning] lambda_l1 is set=9.775968821892626e-07, reg_alpha=0.0 will be ignored. Current value: lambda_l1=9.775968821892626e-07\n",
            "[LightGBM] [Warning] bagging_fraction is set=0.8552595511147615, subsample=1.0 will be ignored. Current value: bagging_fraction=0.8552595511147615\n",
            "[LightGBM] [Warning] bagging_freq is set=1, subsample_freq=0 will be ignored. Current value: bagging_freq=1\n",
            "[LightGBM] [Warning] feature_fraction is set=0.9227839955986029, colsample_bytree=1.0 will be ignored. Current value: feature_fraction=0.9227839955986029\n",
            "[LightGBM] [Warning] lambda_l2 is set=1.144469313812695e-06, reg_lambda=0.0 will be ignored. Current value: lambda_l2=1.144469313812695e-06\n",
            "[LightGBM] [Warning] lambda_l1 is set=9.775968821892626e-07, reg_alpha=0.0 will be ignored. Current value: lambda_l1=9.775968821892626e-07\n",
            "[LightGBM] [Warning] bagging_fraction is set=0.8552595511147615, subsample=1.0 will be ignored. Current value: bagging_fraction=0.8552595511147615\n",
            "[LightGBM] [Warning] bagging_freq is set=1, subsample_freq=0 will be ignored. Current value: bagging_freq=1\n"
          ]
        },
        {
          "metadata": {
            "tags": null
          },
          "name": "stderr",
          "output_type": "stream",
          "text": [
            "[I 2024-04-29 16:20:53,550] Trial 39 finished with value: 0.8078667201388439 and parameters: {'learning_rate': 0.26618469253132004, 'num_leaves': 249, 'feature_fraction': 0.9227839955986029, 'bagging_fraction': 0.8552595511147615, 'bagging_freq': 1, 'min_child_samples': 43, 'lambda_l1': 9.775968821892626e-07, 'lambda_l2': 1.144469313812695e-06}. Best is trial 32 with value: 0.8904487376179699.\n"
          ]
        },
        {
          "metadata": {
            "tags": null
          },
          "name": "stdout",
          "output_type": "stream",
          "text": [
            "[LightGBM] [Warning] feature_fraction is set=0.9688643451810255, colsample_bytree=1.0 will be ignored. Current value: feature_fraction=0.9688643451810255\n",
            "[LightGBM] [Warning] lambda_l2 is set=2.1760897495280196e-07, reg_lambda=0.0 will be ignored. Current value: lambda_l2=2.1760897495280196e-07\n",
            "[LightGBM] [Warning] lambda_l1 is set=0.001514968019648845, reg_alpha=0.0 will be ignored. Current value: lambda_l1=0.001514968019648845\n",
            "[LightGBM] [Warning] bagging_fraction is set=0.6625770071679112, subsample=1.0 will be ignored. Current value: bagging_fraction=0.6625770071679112\n",
            "[LightGBM] [Warning] bagging_freq is set=6, subsample_freq=0 will be ignored. Current value: bagging_freq=6\n",
            "[LightGBM] [Warning] feature_fraction is set=0.9688643451810255, colsample_bytree=1.0 will be ignored. Current value: feature_fraction=0.9688643451810255\n",
            "[LightGBM] [Warning] lambda_l2 is set=2.1760897495280196e-07, reg_lambda=0.0 will be ignored. Current value: lambda_l2=2.1760897495280196e-07\n",
            "[LightGBM] [Warning] lambda_l1 is set=0.001514968019648845, reg_alpha=0.0 will be ignored. Current value: lambda_l1=0.001514968019648845\n",
            "[LightGBM] [Warning] bagging_fraction is set=0.6625770071679112, subsample=1.0 will be ignored. Current value: bagging_fraction=0.6625770071679112\n",
            "[LightGBM] [Warning] bagging_freq is set=6, subsample_freq=0 will be ignored. Current value: bagging_freq=6\n",
            "[LightGBM] [Info] Auto-choosing row-wise multi-threading, the overhead of testing was 0.147285 seconds.\n",
            "You can set `force_row_wise=true` to remove the overhead.\n",
            "And if memory is not enough, you can set `force_col_wise=true`.\n",
            "[LightGBM] [Info] Total Bins 25279\n",
            "[LightGBM] [Info] Number of data points in the train set: 181724, number of used features: 140\n",
            "[LightGBM] [Warning] feature_fraction is set=0.9688643451810255, colsample_bytree=1.0 will be ignored. Current value: feature_fraction=0.9688643451810255\n",
            "[LightGBM] [Warning] lambda_l2 is set=2.1760897495280196e-07, reg_lambda=0.0 will be ignored. Current value: lambda_l2=2.1760897495280196e-07\n",
            "[LightGBM] [Warning] lambda_l1 is set=0.001514968019648845, reg_alpha=0.0 will be ignored. Current value: lambda_l1=0.001514968019648845\n",
            "[LightGBM] [Warning] bagging_fraction is set=0.6625770071679112, subsample=1.0 will be ignored. Current value: bagging_fraction=0.6625770071679112\n",
            "[LightGBM] [Warning] bagging_freq is set=6, subsample_freq=0 will be ignored. Current value: bagging_freq=6\n",
            "[LightGBM] [Warning] feature_fraction is set=0.9688643451810255, colsample_bytree=1.0 will be ignored. Current value: feature_fraction=0.9688643451810255\n",
            "[LightGBM] [Warning] lambda_l2 is set=2.1760897495280196e-07, reg_lambda=0.0 will be ignored. Current value: lambda_l2=2.1760897495280196e-07\n",
            "[LightGBM] [Warning] lambda_l1 is set=0.001514968019648845, reg_alpha=0.0 will be ignored. Current value: lambda_l1=0.001514968019648845\n",
            "[LightGBM] [Warning] bagging_fraction is set=0.6625770071679112, subsample=1.0 will be ignored. Current value: bagging_fraction=0.6625770071679112\n",
            "[LightGBM] [Warning] bagging_freq is set=6, subsample_freq=0 will be ignored. Current value: bagging_freq=6\n"
          ]
        },
        {
          "metadata": {
            "tags": null
          },
          "name": "stderr",
          "output_type": "stream",
          "text": [
            "[I 2024-04-29 16:21:40,361] Trial 40 finished with value: 0.8395103014491042 and parameters: {'learning_rate': 0.03731092867684482, 'num_leaves': 287, 'feature_fraction': 0.9688643451810255, 'bagging_fraction': 0.6625770071679112, 'bagging_freq': 6, 'min_child_samples': 31, 'lambda_l1': 0.001514968019648845, 'lambda_l2': 2.1760897495280196e-07}. Best is trial 32 with value: 0.8904487376179699.\n"
          ]
        },
        {
          "metadata": {
            "tags": null
          },
          "name": "stdout",
          "output_type": "stream",
          "text": [
            "[LightGBM] [Warning] feature_fraction is set=0.8955366536635957, colsample_bytree=1.0 will be ignored. Current value: feature_fraction=0.8955366536635957\n",
            "[LightGBM] [Warning] lambda_l2 is set=4.378658564091024e-06, reg_lambda=0.0 will be ignored. Current value: lambda_l2=4.378658564091024e-06\n",
            "[LightGBM] [Warning] lambda_l1 is set=0.006521065463296033, reg_alpha=0.0 will be ignored. Current value: lambda_l1=0.006521065463296033\n",
            "[LightGBM] [Warning] bagging_fraction is set=0.7620928657911354, subsample=1.0 will be ignored. Current value: bagging_fraction=0.7620928657911354\n",
            "[LightGBM] [Warning] bagging_freq is set=3, subsample_freq=0 will be ignored. Current value: bagging_freq=3\n",
            "[LightGBM] [Warning] feature_fraction is set=0.8955366536635957, colsample_bytree=1.0 will be ignored. Current value: feature_fraction=0.8955366536635957\n",
            "[LightGBM] [Warning] lambda_l2 is set=4.378658564091024e-06, reg_lambda=0.0 will be ignored. Current value: lambda_l2=4.378658564091024e-06\n",
            "[LightGBM] [Warning] lambda_l1 is set=0.006521065463296033, reg_alpha=0.0 will be ignored. Current value: lambda_l1=0.006521065463296033\n",
            "[LightGBM] [Warning] bagging_fraction is set=0.7620928657911354, subsample=1.0 will be ignored. Current value: bagging_fraction=0.7620928657911354\n",
            "[LightGBM] [Warning] bagging_freq is set=3, subsample_freq=0 will be ignored. Current value: bagging_freq=3\n",
            "[LightGBM] [Info] Auto-choosing row-wise multi-threading, the overhead of testing was 0.142770 seconds.\n",
            "You can set `force_row_wise=true` to remove the overhead.\n",
            "And if memory is not enough, you can set `force_col_wise=true`.\n",
            "[LightGBM] [Info] Total Bins 25279\n",
            "[LightGBM] [Info] Number of data points in the train set: 181724, number of used features: 140\n",
            "[LightGBM] [Warning] feature_fraction is set=0.8955366536635957, colsample_bytree=1.0 will be ignored. Current value: feature_fraction=0.8955366536635957\n",
            "[LightGBM] [Warning] lambda_l2 is set=4.378658564091024e-06, reg_lambda=0.0 will be ignored. Current value: lambda_l2=4.378658564091024e-06\n",
            "[LightGBM] [Warning] lambda_l1 is set=0.006521065463296033, reg_alpha=0.0 will be ignored. Current value: lambda_l1=0.006521065463296033\n",
            "[LightGBM] [Warning] bagging_fraction is set=0.7620928657911354, subsample=1.0 will be ignored. Current value: bagging_fraction=0.7620928657911354\n",
            "[LightGBM] [Warning] bagging_freq is set=3, subsample_freq=0 will be ignored. Current value: bagging_freq=3\n",
            "[LightGBM] [Warning] feature_fraction is set=0.8955366536635957, colsample_bytree=1.0 will be ignored. Current value: feature_fraction=0.8955366536635957\n",
            "[LightGBM] [Warning] lambda_l2 is set=4.378658564091024e-06, reg_lambda=0.0 will be ignored. Current value: lambda_l2=4.378658564091024e-06\n",
            "[LightGBM] [Warning] lambda_l1 is set=0.006521065463296033, reg_alpha=0.0 will be ignored. Current value: lambda_l1=0.006521065463296033\n",
            "[LightGBM] [Warning] bagging_fraction is set=0.7620928657911354, subsample=1.0 will be ignored. Current value: bagging_fraction=0.7620928657911354\n",
            "[LightGBM] [Warning] bagging_freq is set=3, subsample_freq=0 will be ignored. Current value: bagging_freq=3\n"
          ]
        },
        {
          "metadata": {
            "tags": null
          },
          "name": "stderr",
          "output_type": "stream",
          "text": [
            "[I 2024-04-29 16:22:25,208] Trial 41 finished with value: 0.6386367136775241 and parameters: {'learning_rate': 0.10040185944610429, 'num_leaves': 268, 'feature_fraction': 0.8955366536635957, 'bagging_fraction': 0.7620928657911354, 'bagging_freq': 3, 'min_child_samples': 47, 'lambda_l1': 0.006521065463296033, 'lambda_l2': 4.378658564091024e-06}. Best is trial 32 with value: 0.8904487376179699.\n"
          ]
        },
        {
          "metadata": {
            "tags": null
          },
          "name": "stdout",
          "output_type": "stream",
          "text": [
            "[LightGBM] [Warning] feature_fraction is set=0.8537673170431331, colsample_bytree=1.0 will be ignored. Current value: feature_fraction=0.8537673170431331\n",
            "[LightGBM] [Warning] lambda_l2 is set=3.557783004369079e-05, reg_lambda=0.0 will be ignored. Current value: lambda_l2=3.557783004369079e-05\n",
            "[LightGBM] [Warning] lambda_l1 is set=5.63872790529689e-06, reg_alpha=0.0 will be ignored. Current value: lambda_l1=5.63872790529689e-06\n",
            "[LightGBM] [Warning] bagging_fraction is set=0.7863573222726303, subsample=1.0 will be ignored. Current value: bagging_fraction=0.7863573222726303\n",
            "[LightGBM] [Warning] bagging_freq is set=5, subsample_freq=0 will be ignored. Current value: bagging_freq=5\n",
            "[LightGBM] [Warning] feature_fraction is set=0.8537673170431331, colsample_bytree=1.0 will be ignored. Current value: feature_fraction=0.8537673170431331\n",
            "[LightGBM] [Warning] lambda_l2 is set=3.557783004369079e-05, reg_lambda=0.0 will be ignored. Current value: lambda_l2=3.557783004369079e-05\n",
            "[LightGBM] [Warning] lambda_l1 is set=5.63872790529689e-06, reg_alpha=0.0 will be ignored. Current value: lambda_l1=5.63872790529689e-06\n",
            "[LightGBM] [Warning] bagging_fraction is set=0.7863573222726303, subsample=1.0 will be ignored. Current value: bagging_fraction=0.7863573222726303\n",
            "[LightGBM] [Warning] bagging_freq is set=5, subsample_freq=0 will be ignored. Current value: bagging_freq=5\n",
            "[LightGBM] [Info] Auto-choosing row-wise multi-threading, the overhead of testing was 0.141215 seconds.\n",
            "You can set `force_row_wise=true` to remove the overhead.\n",
            "And if memory is not enough, you can set `force_col_wise=true`.\n",
            "[LightGBM] [Info] Total Bins 25279\n",
            "[LightGBM] [Info] Number of data points in the train set: 181724, number of used features: 140\n",
            "[LightGBM] [Warning] feature_fraction is set=0.8537673170431331, colsample_bytree=1.0 will be ignored. Current value: feature_fraction=0.8537673170431331\n",
            "[LightGBM] [Warning] lambda_l2 is set=3.557783004369079e-05, reg_lambda=0.0 will be ignored. Current value: lambda_l2=3.557783004369079e-05\n",
            "[LightGBM] [Warning] lambda_l1 is set=5.63872790529689e-06, reg_alpha=0.0 will be ignored. Current value: lambda_l1=5.63872790529689e-06\n",
            "[LightGBM] [Warning] bagging_fraction is set=0.7863573222726303, subsample=1.0 will be ignored. Current value: bagging_fraction=0.7863573222726303\n",
            "[LightGBM] [Warning] bagging_freq is set=5, subsample_freq=0 will be ignored. Current value: bagging_freq=5\n",
            "[LightGBM] [Warning] feature_fraction is set=0.8537673170431331, colsample_bytree=1.0 will be ignored. Current value: feature_fraction=0.8537673170431331\n",
            "[LightGBM] [Warning] lambda_l2 is set=3.557783004369079e-05, reg_lambda=0.0 will be ignored. Current value: lambda_l2=3.557783004369079e-05\n",
            "[LightGBM] [Warning] lambda_l1 is set=5.63872790529689e-06, reg_alpha=0.0 will be ignored. Current value: lambda_l1=5.63872790529689e-06\n",
            "[LightGBM] [Warning] bagging_fraction is set=0.7863573222726303, subsample=1.0 will be ignored. Current value: bagging_fraction=0.7863573222726303\n",
            "[LightGBM] [Warning] bagging_freq is set=5, subsample_freq=0 will be ignored. Current value: bagging_freq=5\n"
          ]
        },
        {
          "metadata": {
            "tags": null
          },
          "name": "stderr",
          "output_type": "stream",
          "text": [
            "[I 2024-04-29 16:23:04,439] Trial 42 finished with value: 0.9015961918657435 and parameters: {'learning_rate': 0.11502104203738103, 'num_leaves': 215, 'feature_fraction': 0.8537673170431331, 'bagging_fraction': 0.7863573222726303, 'bagging_freq': 5, 'min_child_samples': 59, 'lambda_l1': 5.63872790529689e-06, 'lambda_l2': 3.557783004369079e-05}. Best is trial 42 with value: 0.9015961918657435.\n"
          ]
        },
        {
          "metadata": {
            "tags": null
          },
          "name": "stdout",
          "output_type": "stream",
          "text": [
            "[LightGBM] [Warning] feature_fraction is set=0.8480658487424766, colsample_bytree=1.0 will be ignored. Current value: feature_fraction=0.8480658487424766\n",
            "[LightGBM] [Warning] lambda_l2 is set=3.4153819999753635e-05, reg_lambda=0.0 will be ignored. Current value: lambda_l2=3.4153819999753635e-05\n",
            "[LightGBM] [Warning] lambda_l1 is set=3.7680924006462865e-06, reg_alpha=0.0 will be ignored. Current value: lambda_l1=3.7680924006462865e-06\n",
            "[LightGBM] [Warning] bagging_fraction is set=0.7899844823679768, subsample=1.0 will be ignored. Current value: bagging_fraction=0.7899844823679768\n",
            "[LightGBM] [Warning] bagging_freq is set=5, subsample_freq=0 will be ignored. Current value: bagging_freq=5\n",
            "[LightGBM] [Warning] feature_fraction is set=0.8480658487424766, colsample_bytree=1.0 will be ignored. Current value: feature_fraction=0.8480658487424766\n",
            "[LightGBM] [Warning] lambda_l2 is set=3.4153819999753635e-05, reg_lambda=0.0 will be ignored. Current value: lambda_l2=3.4153819999753635e-05\n",
            "[LightGBM] [Warning] lambda_l1 is set=3.7680924006462865e-06, reg_alpha=0.0 will be ignored. Current value: lambda_l1=3.7680924006462865e-06\n",
            "[LightGBM] [Warning] bagging_fraction is set=0.7899844823679768, subsample=1.0 will be ignored. Current value: bagging_fraction=0.7899844823679768\n",
            "[LightGBM] [Warning] bagging_freq is set=5, subsample_freq=0 will be ignored. Current value: bagging_freq=5\n",
            "[LightGBM] [Info] Auto-choosing row-wise multi-threading, the overhead of testing was 0.139073 seconds.\n",
            "You can set `force_row_wise=true` to remove the overhead.\n",
            "And if memory is not enough, you can set `force_col_wise=true`.\n",
            "[LightGBM] [Info] Total Bins 25279\n",
            "[LightGBM] [Info] Number of data points in the train set: 181724, number of used features: 140\n",
            "[LightGBM] [Warning] feature_fraction is set=0.8480658487424766, colsample_bytree=1.0 will be ignored. Current value: feature_fraction=0.8480658487424766\n",
            "[LightGBM] [Warning] lambda_l2 is set=3.4153819999753635e-05, reg_lambda=0.0 will be ignored. Current value: lambda_l2=3.4153819999753635e-05\n",
            "[LightGBM] [Warning] lambda_l1 is set=3.7680924006462865e-06, reg_alpha=0.0 will be ignored. Current value: lambda_l1=3.7680924006462865e-06\n",
            "[LightGBM] [Warning] bagging_fraction is set=0.7899844823679768, subsample=1.0 will be ignored. Current value: bagging_fraction=0.7899844823679768\n",
            "[LightGBM] [Warning] bagging_freq is set=5, subsample_freq=0 will be ignored. Current value: bagging_freq=5\n",
            "[LightGBM] [Warning] feature_fraction is set=0.8480658487424766, colsample_bytree=1.0 will be ignored. Current value: feature_fraction=0.8480658487424766\n",
            "[LightGBM] [Warning] lambda_l2 is set=3.4153819999753635e-05, reg_lambda=0.0 will be ignored. Current value: lambda_l2=3.4153819999753635e-05\n",
            "[LightGBM] [Warning] lambda_l1 is set=3.7680924006462865e-06, reg_alpha=0.0 will be ignored. Current value: lambda_l1=3.7680924006462865e-06\n",
            "[LightGBM] [Warning] bagging_fraction is set=0.7899844823679768, subsample=1.0 will be ignored. Current value: bagging_fraction=0.7899844823679768\n",
            "[LightGBM] [Warning] bagging_freq is set=5, subsample_freq=0 will be ignored. Current value: bagging_freq=5\n"
          ]
        },
        {
          "metadata": {
            "tags": null
          },
          "name": "stderr",
          "output_type": "stream",
          "text": [
            "[I 2024-04-29 16:23:44,389] Trial 43 finished with value: 0.6643565003109035 and parameters: {'learning_rate': 0.08199978574087768, 'num_leaves': 220, 'feature_fraction': 0.8480658487424766, 'bagging_fraction': 0.7899844823679768, 'bagging_freq': 5, 'min_child_samples': 98, 'lambda_l1': 3.7680924006462865e-06, 'lambda_l2': 3.4153819999753635e-05}. Best is trial 42 with value: 0.9015961918657435.\n"
          ]
        },
        {
          "metadata": {
            "tags": null
          },
          "name": "stdout",
          "output_type": "stream",
          "text": [
            "[LightGBM] [Warning] feature_fraction is set=0.8731693718620974, colsample_bytree=1.0 will be ignored. Current value: feature_fraction=0.8731693718620974\n",
            "[LightGBM] [Warning] lambda_l2 is set=0.0003155922261803189, reg_lambda=0.0 will be ignored. Current value: lambda_l2=0.0003155922261803189\n",
            "[LightGBM] [Warning] lambda_l1 is set=7.899779623639025e-06, reg_alpha=0.0 will be ignored. Current value: lambda_l1=7.899779623639025e-06\n",
            "[LightGBM] [Warning] bagging_fraction is set=0.8217097605073451, subsample=1.0 will be ignored. Current value: bagging_fraction=0.8217097605073451\n",
            "[LightGBM] [Warning] bagging_freq is set=5, subsample_freq=0 will be ignored. Current value: bagging_freq=5\n",
            "[LightGBM] [Warning] feature_fraction is set=0.8731693718620974, colsample_bytree=1.0 will be ignored. Current value: feature_fraction=0.8731693718620974\n",
            "[LightGBM] [Warning] lambda_l2 is set=0.0003155922261803189, reg_lambda=0.0 will be ignored. Current value: lambda_l2=0.0003155922261803189\n",
            "[LightGBM] [Warning] lambda_l1 is set=7.899779623639025e-06, reg_alpha=0.0 will be ignored. Current value: lambda_l1=7.899779623639025e-06\n",
            "[LightGBM] [Warning] bagging_fraction is set=0.8217097605073451, subsample=1.0 will be ignored. Current value: bagging_fraction=0.8217097605073451\n",
            "[LightGBM] [Warning] bagging_freq is set=5, subsample_freq=0 will be ignored. Current value: bagging_freq=5\n",
            "[LightGBM] [Info] Auto-choosing row-wise multi-threading, the overhead of testing was 0.137966 seconds.\n",
            "You can set `force_row_wise=true` to remove the overhead.\n",
            "And if memory is not enough, you can set `force_col_wise=true`.\n",
            "[LightGBM] [Info] Total Bins 25279\n",
            "[LightGBM] [Info] Number of data points in the train set: 181724, number of used features: 140\n",
            "[LightGBM] [Warning] feature_fraction is set=0.8731693718620974, colsample_bytree=1.0 will be ignored. Current value: feature_fraction=0.8731693718620974\n",
            "[LightGBM] [Warning] lambda_l2 is set=0.0003155922261803189, reg_lambda=0.0 will be ignored. Current value: lambda_l2=0.0003155922261803189\n",
            "[LightGBM] [Warning] lambda_l1 is set=7.899779623639025e-06, reg_alpha=0.0 will be ignored. Current value: lambda_l1=7.899779623639025e-06\n",
            "[LightGBM] [Warning] bagging_fraction is set=0.8217097605073451, subsample=1.0 will be ignored. Current value: bagging_fraction=0.8217097605073451\n",
            "[LightGBM] [Warning] bagging_freq is set=5, subsample_freq=0 will be ignored. Current value: bagging_freq=5\n",
            "[LightGBM] [Warning] feature_fraction is set=0.8731693718620974, colsample_bytree=1.0 will be ignored. Current value: feature_fraction=0.8731693718620974\n",
            "[LightGBM] [Warning] lambda_l2 is set=0.0003155922261803189, reg_lambda=0.0 will be ignored. Current value: lambda_l2=0.0003155922261803189\n",
            "[LightGBM] [Warning] lambda_l1 is set=7.899779623639025e-06, reg_alpha=0.0 will be ignored. Current value: lambda_l1=7.899779623639025e-06\n",
            "[LightGBM] [Warning] bagging_fraction is set=0.8217097605073451, subsample=1.0 will be ignored. Current value: bagging_fraction=0.8217097605073451\n",
            "[LightGBM] [Warning] bagging_freq is set=5, subsample_freq=0 will be ignored. Current value: bagging_freq=5\n"
          ]
        },
        {
          "metadata": {
            "tags": null
          },
          "name": "stderr",
          "output_type": "stream",
          "text": [
            "[I 2024-04-29 16:24:23,295] Trial 44 finished with value: 0.6386367136775241 and parameters: {'learning_rate': 0.1387974087083615, 'num_leaves': 233, 'feature_fraction': 0.8731693718620974, 'bagging_fraction': 0.8217097605073451, 'bagging_freq': 5, 'min_child_samples': 61, 'lambda_l1': 7.899779623639025e-06, 'lambda_l2': 0.0003155922261803189}. Best is trial 42 with value: 0.9015961918657435.\n"
          ]
        },
        {
          "metadata": {
            "tags": null
          },
          "name": "stdout",
          "output_type": "stream",
          "text": [
            "[LightGBM] [Warning] feature_fraction is set=0.8319437717216158, colsample_bytree=1.0 will be ignored. Current value: feature_fraction=0.8319437717216158\n",
            "[LightGBM] [Warning] lambda_l2 is set=0.004574946727974841, reg_lambda=0.0 will be ignored. Current value: lambda_l2=0.004574946727974841\n",
            "[LightGBM] [Warning] lambda_l1 is set=1.5342008840830174e-06, reg_alpha=0.0 will be ignored. Current value: lambda_l1=1.5342008840830174e-06\n",
            "[LightGBM] [Warning] bagging_fraction is set=0.840234366724232, subsample=1.0 will be ignored. Current value: bagging_fraction=0.840234366724232\n",
            "[LightGBM] [Warning] bagging_freq is set=7, subsample_freq=0 will be ignored. Current value: bagging_freq=7\n",
            "[LightGBM] [Warning] feature_fraction is set=0.8319437717216158, colsample_bytree=1.0 will be ignored. Current value: feature_fraction=0.8319437717216158\n",
            "[LightGBM] [Warning] lambda_l2 is set=0.004574946727974841, reg_lambda=0.0 will be ignored. Current value: lambda_l2=0.004574946727974841\n",
            "[LightGBM] [Warning] lambda_l1 is set=1.5342008840830174e-06, reg_alpha=0.0 will be ignored. Current value: lambda_l1=1.5342008840830174e-06\n",
            "[LightGBM] [Warning] bagging_fraction is set=0.840234366724232, subsample=1.0 will be ignored. Current value: bagging_fraction=0.840234366724232\n",
            "[LightGBM] [Warning] bagging_freq is set=7, subsample_freq=0 will be ignored. Current value: bagging_freq=7\n",
            "[LightGBM] [Info] Auto-choosing row-wise multi-threading, the overhead of testing was 0.150916 seconds.\n",
            "You can set `force_row_wise=true` to remove the overhead.\n",
            "And if memory is not enough, you can set `force_col_wise=true`.\n",
            "[LightGBM] [Info] Total Bins 25279\n",
            "[LightGBM] [Info] Number of data points in the train set: 181724, number of used features: 140\n",
            "[LightGBM] [Warning] feature_fraction is set=0.8319437717216158, colsample_bytree=1.0 will be ignored. Current value: feature_fraction=0.8319437717216158\n",
            "[LightGBM] [Warning] lambda_l2 is set=0.004574946727974841, reg_lambda=0.0 will be ignored. Current value: lambda_l2=0.004574946727974841\n",
            "[LightGBM] [Warning] lambda_l1 is set=1.5342008840830174e-06, reg_alpha=0.0 will be ignored. Current value: lambda_l1=1.5342008840830174e-06\n",
            "[LightGBM] [Warning] bagging_fraction is set=0.840234366724232, subsample=1.0 will be ignored. Current value: bagging_fraction=0.840234366724232\n",
            "[LightGBM] [Warning] bagging_freq is set=7, subsample_freq=0 will be ignored. Current value: bagging_freq=7\n",
            "[LightGBM] [Warning] feature_fraction is set=0.8319437717216158, colsample_bytree=1.0 will be ignored. Current value: feature_fraction=0.8319437717216158\n",
            "[LightGBM] [Warning] lambda_l2 is set=0.004574946727974841, reg_lambda=0.0 will be ignored. Current value: lambda_l2=0.004574946727974841\n",
            "[LightGBM] [Warning] lambda_l1 is set=1.5342008840830174e-06, reg_alpha=0.0 will be ignored. Current value: lambda_l1=1.5342008840830174e-06\n",
            "[LightGBM] [Warning] bagging_fraction is set=0.840234366724232, subsample=1.0 will be ignored. Current value: bagging_fraction=0.840234366724232\n",
            "[LightGBM] [Warning] bagging_freq is set=7, subsample_freq=0 will be ignored. Current value: bagging_freq=7\n"
          ]
        },
        {
          "metadata": {
            "tags": null
          },
          "name": "stderr",
          "output_type": "stream",
          "text": [
            "[I 2024-04-29 16:25:04,659] Trial 45 finished with value: 0.6069931323672637 and parameters: {'learning_rate': 0.11473285878664734, 'num_leaves': 270, 'feature_fraction': 0.8319437717216158, 'bagging_fraction': 0.840234366724232, 'bagging_freq': 7, 'min_child_samples': 72, 'lambda_l1': 1.5342008840830174e-06, 'lambda_l2': 0.004574946727974841}. Best is trial 42 with value: 0.9015961918657435.\n"
          ]
        },
        {
          "metadata": {
            "tags": null
          },
          "name": "stdout",
          "output_type": "stream",
          "text": [
            "[LightGBM] [Warning] feature_fraction is set=0.8603089713569776, colsample_bytree=1.0 will be ignored. Current value: feature_fraction=0.8603089713569776\n",
            "[LightGBM] [Warning] lambda_l2 is set=5.523764000723433e-07, reg_lambda=0.0 will be ignored. Current value: lambda_l2=5.523764000723433e-07\n",
            "[LightGBM] [Warning] lambda_l1 is set=1.9718501577922627e-07, reg_alpha=0.0 will be ignored. Current value: lambda_l1=1.9718501577922627e-07\n",
            "[LightGBM] [Warning] bagging_fraction is set=0.7252137176973316, subsample=1.0 will be ignored. Current value: bagging_fraction=0.7252137176973316\n",
            "[LightGBM] [Warning] bagging_freq is set=6, subsample_freq=0 will be ignored. Current value: bagging_freq=6\n",
            "[LightGBM] [Warning] feature_fraction is set=0.8603089713569776, colsample_bytree=1.0 will be ignored. Current value: feature_fraction=0.8603089713569776\n",
            "[LightGBM] [Warning] lambda_l2 is set=5.523764000723433e-07, reg_lambda=0.0 will be ignored. Current value: lambda_l2=5.523764000723433e-07\n",
            "[LightGBM] [Warning] lambda_l1 is set=1.9718501577922627e-07, reg_alpha=0.0 will be ignored. Current value: lambda_l1=1.9718501577922627e-07\n",
            "[LightGBM] [Warning] bagging_fraction is set=0.7252137176973316, subsample=1.0 will be ignored. Current value: bagging_fraction=0.7252137176973316\n",
            "[LightGBM] [Warning] bagging_freq is set=6, subsample_freq=0 will be ignored. Current value: bagging_freq=6\n",
            "[LightGBM] [Info] Auto-choosing row-wise multi-threading, the overhead of testing was 0.136945 seconds.\n",
            "You can set `force_row_wise=true` to remove the overhead.\n",
            "And if memory is not enough, you can set `force_col_wise=true`.\n",
            "[LightGBM] [Info] Total Bins 25279\n",
            "[LightGBM] [Info] Number of data points in the train set: 181724, number of used features: 140\n",
            "[LightGBM] [Warning] feature_fraction is set=0.8603089713569776, colsample_bytree=1.0 will be ignored. Current value: feature_fraction=0.8603089713569776\n",
            "[LightGBM] [Warning] lambda_l2 is set=5.523764000723433e-07, reg_lambda=0.0 will be ignored. Current value: lambda_l2=5.523764000723433e-07\n",
            "[LightGBM] [Warning] lambda_l1 is set=1.9718501577922627e-07, reg_alpha=0.0 will be ignored. Current value: lambda_l1=1.9718501577922627e-07\n",
            "[LightGBM] [Warning] bagging_fraction is set=0.7252137176973316, subsample=1.0 will be ignored. Current value: bagging_fraction=0.7252137176973316\n",
            "[LightGBM] [Warning] bagging_freq is set=6, subsample_freq=0 will be ignored. Current value: bagging_freq=6\n",
            "[LightGBM] [Warning] feature_fraction is set=0.8603089713569776, colsample_bytree=1.0 will be ignored. Current value: feature_fraction=0.8603089713569776\n",
            "[LightGBM] [Warning] lambda_l2 is set=5.523764000723433e-07, reg_lambda=0.0 will be ignored. Current value: lambda_l2=5.523764000723433e-07\n",
            "[LightGBM] [Warning] lambda_l1 is set=1.9718501577922627e-07, reg_alpha=0.0 will be ignored. Current value: lambda_l1=1.9718501577922627e-07\n",
            "[LightGBM] [Warning] bagging_fraction is set=0.7252137176973316, subsample=1.0 will be ignored. Current value: bagging_fraction=0.7252137176973316\n",
            "[LightGBM] [Warning] bagging_freq is set=6, subsample_freq=0 will be ignored. Current value: bagging_freq=6\n"
          ]
        },
        {
          "metadata": {
            "tags": null
          },
          "name": "stderr",
          "output_type": "stream",
          "text": [
            "[I 2024-04-29 16:25:46,294] Trial 46 finished with value: 0.7664761265277511 and parameters: {'learning_rate': 0.16085718083361764, 'num_leaves': 298, 'feature_fraction': 0.8603089713569776, 'bagging_fraction': 0.7252137176973316, 'bagging_freq': 6, 'min_child_samples': 54, 'lambda_l1': 1.9718501577922627e-07, 'lambda_l2': 5.523764000723433e-07}. Best is trial 42 with value: 0.9015961918657435.\n"
          ]
        },
        {
          "metadata": {
            "tags": null
          },
          "name": "stdout",
          "output_type": "stream",
          "text": [
            "[LightGBM] [Warning] feature_fraction is set=0.73047655383769, colsample_bytree=1.0 will be ignored. Current value: feature_fraction=0.73047655383769\n",
            "[LightGBM] [Warning] lambda_l2 is set=3.542632372530186e-05, reg_lambda=0.0 will be ignored. Current value: lambda_l2=3.542632372530186e-05\n",
            "[LightGBM] [Warning] lambda_l1 is set=3.9272551394740406e-05, reg_alpha=0.0 will be ignored. Current value: lambda_l1=3.9272551394740406e-05\n",
            "[LightGBM] [Warning] bagging_fraction is set=0.8063247501407844, subsample=1.0 will be ignored. Current value: bagging_fraction=0.8063247501407844\n",
            "[LightGBM] [Warning] bagging_freq is set=5, subsample_freq=0 will be ignored. Current value: bagging_freq=5\n",
            "[LightGBM] [Warning] feature_fraction is set=0.73047655383769, colsample_bytree=1.0 will be ignored. Current value: feature_fraction=0.73047655383769\n",
            "[LightGBM] [Warning] lambda_l2 is set=3.542632372530186e-05, reg_lambda=0.0 will be ignored. Current value: lambda_l2=3.542632372530186e-05\n",
            "[LightGBM] [Warning] lambda_l1 is set=3.9272551394740406e-05, reg_alpha=0.0 will be ignored. Current value: lambda_l1=3.9272551394740406e-05\n",
            "[LightGBM] [Warning] bagging_fraction is set=0.8063247501407844, subsample=1.0 will be ignored. Current value: bagging_fraction=0.8063247501407844\n",
            "[LightGBM] [Warning] bagging_freq is set=5, subsample_freq=0 will be ignored. Current value: bagging_freq=5\n",
            "[LightGBM] [Info] Auto-choosing row-wise multi-threading, the overhead of testing was 0.146425 seconds.\n",
            "You can set `force_row_wise=true` to remove the overhead.\n",
            "And if memory is not enough, you can set `force_col_wise=true`.\n",
            "[LightGBM] [Info] Total Bins 25279\n",
            "[LightGBM] [Info] Number of data points in the train set: 181724, number of used features: 140\n",
            "[LightGBM] [Warning] feature_fraction is set=0.73047655383769, colsample_bytree=1.0 will be ignored. Current value: feature_fraction=0.73047655383769\n",
            "[LightGBM] [Warning] lambda_l2 is set=3.542632372530186e-05, reg_lambda=0.0 will be ignored. Current value: lambda_l2=3.542632372530186e-05\n",
            "[LightGBM] [Warning] lambda_l1 is set=3.9272551394740406e-05, reg_alpha=0.0 will be ignored. Current value: lambda_l1=3.9272551394740406e-05\n",
            "[LightGBM] [Warning] bagging_fraction is set=0.8063247501407844, subsample=1.0 will be ignored. Current value: bagging_fraction=0.8063247501407844\n",
            "[LightGBM] [Warning] bagging_freq is set=5, subsample_freq=0 will be ignored. Current value: bagging_freq=5\n",
            "[LightGBM] [Warning] feature_fraction is set=0.73047655383769, colsample_bytree=1.0 will be ignored. Current value: feature_fraction=0.73047655383769\n",
            "[LightGBM] [Warning] lambda_l2 is set=3.542632372530186e-05, reg_lambda=0.0 will be ignored. Current value: lambda_l2=3.542632372530186e-05\n",
            "[LightGBM] [Warning] lambda_l1 is set=3.9272551394740406e-05, reg_alpha=0.0 will be ignored. Current value: lambda_l1=3.9272551394740406e-05\n",
            "[LightGBM] [Warning] bagging_fraction is set=0.8063247501407844, subsample=1.0 will be ignored. Current value: bagging_fraction=0.8063247501407844\n",
            "[LightGBM] [Warning] bagging_freq is set=5, subsample_freq=0 will be ignored. Current value: bagging_freq=5\n"
          ]
        },
        {
          "metadata": {
            "tags": null
          },
          "name": "stderr",
          "output_type": "stream",
          "text": [
            "[I 2024-04-29 16:26:25,317] Trial 47 finished with value: 0.8395103014491042 and parameters: {'learning_rate': 0.054115717495614474, 'num_leaves': 210, 'feature_fraction': 0.73047655383769, 'bagging_fraction': 0.8063247501407844, 'bagging_freq': 5, 'min_child_samples': 59, 'lambda_l1': 3.9272551394740406e-05, 'lambda_l2': 3.542632372530186e-05}. Best is trial 42 with value: 0.9015961918657435.\n"
          ]
        },
        {
          "metadata": {
            "tags": null
          },
          "name": "stdout",
          "output_type": "stream",
          "text": [
            "[LightGBM] [Warning] feature_fraction is set=0.9699812972052091, colsample_bytree=1.0 will be ignored. Current value: feature_fraction=0.9699812972052091\n",
            "[LightGBM] [Warning] lambda_l2 is set=2.3049685774408283e-08, reg_lambda=0.0 will be ignored. Current value: lambda_l2=2.3049685774408283e-08\n",
            "[LightGBM] [Warning] lambda_l1 is set=0.00011152357387315572, reg_alpha=0.0 will be ignored. Current value: lambda_l1=0.00011152357387315572\n",
            "[LightGBM] [Warning] bagging_fraction is set=0.7554613856766546, subsample=1.0 will be ignored. Current value: bagging_fraction=0.7554613856766546\n",
            "[LightGBM] [Warning] bagging_freq is set=6, subsample_freq=0 will be ignored. Current value: bagging_freq=6\n",
            "[LightGBM] [Warning] feature_fraction is set=0.9699812972052091, colsample_bytree=1.0 will be ignored. Current value: feature_fraction=0.9699812972052091\n",
            "[LightGBM] [Warning] lambda_l2 is set=2.3049685774408283e-08, reg_lambda=0.0 will be ignored. Current value: lambda_l2=2.3049685774408283e-08\n",
            "[LightGBM] [Warning] lambda_l1 is set=0.00011152357387315572, reg_alpha=0.0 will be ignored. Current value: lambda_l1=0.00011152357387315572\n",
            "[LightGBM] [Warning] bagging_fraction is set=0.7554613856766546, subsample=1.0 will be ignored. Current value: bagging_fraction=0.7554613856766546\n",
            "[LightGBM] [Warning] bagging_freq is set=6, subsample_freq=0 will be ignored. Current value: bagging_freq=6\n",
            "[LightGBM] [Info] Auto-choosing row-wise multi-threading, the overhead of testing was 0.210866 seconds.\n",
            "You can set `force_row_wise=true` to remove the overhead.\n",
            "And if memory is not enough, you can set `force_col_wise=true`.\n",
            "[LightGBM] [Info] Total Bins 25279\n",
            "[LightGBM] [Info] Number of data points in the train set: 181724, number of used features: 140\n",
            "[LightGBM] [Warning] feature_fraction is set=0.9699812972052091, colsample_bytree=1.0 will be ignored. Current value: feature_fraction=0.9699812972052091\n",
            "[LightGBM] [Warning] lambda_l2 is set=2.3049685774408283e-08, reg_lambda=0.0 will be ignored. Current value: lambda_l2=2.3049685774408283e-08\n",
            "[LightGBM] [Warning] lambda_l1 is set=0.00011152357387315572, reg_alpha=0.0 will be ignored. Current value: lambda_l1=0.00011152357387315572\n",
            "[LightGBM] [Warning] bagging_fraction is set=0.7554613856766546, subsample=1.0 will be ignored. Current value: bagging_fraction=0.7554613856766546\n",
            "[LightGBM] [Warning] bagging_freq is set=6, subsample_freq=0 will be ignored. Current value: bagging_freq=6\n",
            "[LightGBM] [Warning] feature_fraction is set=0.9699812972052091, colsample_bytree=1.0 will be ignored. Current value: feature_fraction=0.9699812972052091\n",
            "[LightGBM] [Warning] lambda_l2 is set=2.3049685774408283e-08, reg_lambda=0.0 will be ignored. Current value: lambda_l2=2.3049685774408283e-08\n",
            "[LightGBM] [Warning] lambda_l1 is set=0.00011152357387315572, reg_alpha=0.0 will be ignored. Current value: lambda_l1=0.00011152357387315572\n",
            "[LightGBM] [Warning] bagging_fraction is set=0.7554613856766546, subsample=1.0 will be ignored. Current value: bagging_fraction=0.7554613856766546\n",
            "[LightGBM] [Warning] bagging_freq is set=6, subsample_freq=0 will be ignored. Current value: bagging_freq=6\n"
          ]
        },
        {
          "metadata": {
            "tags": null
          },
          "name": "stderr",
          "output_type": "stream",
          "text": [
            "[I 2024-04-29 16:27:06,979] Trial 48 finished with value: 0.6360785836627579 and parameters: {'learning_rate': 0.1355633089219228, 'num_leaves': 253, 'feature_fraction': 0.9699812972052091, 'bagging_fraction': 0.7554613856766546, 'bagging_freq': 6, 'min_child_samples': 39, 'lambda_l1': 0.00011152357387315572, 'lambda_l2': 2.3049685774408283e-08}. Best is trial 42 with value: 0.9015961918657435.\n"
          ]
        },
        {
          "metadata": {
            "tags": null
          },
          "name": "stdout",
          "output_type": "stream",
          "text": [
            "[LightGBM] [Warning] feature_fraction is set=0.8078462705810974, colsample_bytree=1.0 will be ignored. Current value: feature_fraction=0.8078462705810974\n",
            "[LightGBM] [Warning] lambda_l2 is set=7.842316051826297e-06, reg_lambda=0.0 will be ignored. Current value: lambda_l2=7.842316051826297e-06\n",
            "[LightGBM] [Warning] lambda_l1 is set=1.7177174578006404e-08, reg_alpha=0.0 will be ignored. Current value: lambda_l1=1.7177174578006404e-08\n",
            "[LightGBM] [Warning] bagging_fraction is set=0.7805659664831425, subsample=1.0 will be ignored. Current value: bagging_fraction=0.7805659664831425\n",
            "[LightGBM] [Warning] bagging_freq is set=4, subsample_freq=0 will be ignored. Current value: bagging_freq=4\n",
            "[LightGBM] [Warning] feature_fraction is set=0.8078462705810974, colsample_bytree=1.0 will be ignored. Current value: feature_fraction=0.8078462705810974\n",
            "[LightGBM] [Warning] lambda_l2 is set=7.842316051826297e-06, reg_lambda=0.0 will be ignored. Current value: lambda_l2=7.842316051826297e-06\n",
            "[LightGBM] [Warning] lambda_l1 is set=1.7177174578006404e-08, reg_alpha=0.0 will be ignored. Current value: lambda_l1=1.7177174578006404e-08\n",
            "[LightGBM] [Warning] bagging_fraction is set=0.7805659664831425, subsample=1.0 will be ignored. Current value: bagging_fraction=0.7805659664831425\n",
            "[LightGBM] [Warning] bagging_freq is set=4, subsample_freq=0 will be ignored. Current value: bagging_freq=4\n",
            "[LightGBM] [Info] Auto-choosing row-wise multi-threading, the overhead of testing was 0.169851 seconds.\n",
            "You can set `force_row_wise=true` to remove the overhead.\n",
            "And if memory is not enough, you can set `force_col_wise=true`.\n",
            "[LightGBM] [Info] Total Bins 25279\n",
            "[LightGBM] [Info] Number of data points in the train set: 181724, number of used features: 140\n",
            "[LightGBM] [Warning] feature_fraction is set=0.8078462705810974, colsample_bytree=1.0 will be ignored. Current value: feature_fraction=0.8078462705810974\n",
            "[LightGBM] [Warning] lambda_l2 is set=7.842316051826297e-06, reg_lambda=0.0 will be ignored. Current value: lambda_l2=7.842316051826297e-06\n",
            "[LightGBM] [Warning] lambda_l1 is set=1.7177174578006404e-08, reg_alpha=0.0 will be ignored. Current value: lambda_l1=1.7177174578006404e-08\n",
            "[LightGBM] [Warning] bagging_fraction is set=0.7805659664831425, subsample=1.0 will be ignored. Current value: bagging_fraction=0.7805659664831425\n",
            "[LightGBM] [Warning] bagging_freq is set=4, subsample_freq=0 will be ignored. Current value: bagging_freq=4\n",
            "[LightGBM] [Warning] feature_fraction is set=0.8078462705810974, colsample_bytree=1.0 will be ignored. Current value: feature_fraction=0.8078462705810974\n",
            "[LightGBM] [Warning] lambda_l2 is set=7.842316051826297e-06, reg_lambda=0.0 will be ignored. Current value: lambda_l2=7.842316051826297e-06\n",
            "[LightGBM] [Warning] lambda_l1 is set=1.7177174578006404e-08, reg_alpha=0.0 will be ignored. Current value: lambda_l1=1.7177174578006404e-08\n",
            "[LightGBM] [Warning] bagging_fraction is set=0.7805659664831425, subsample=1.0 will be ignored. Current value: bagging_fraction=0.7805659664831425\n",
            "[LightGBM] [Warning] bagging_freq is set=4, subsample_freq=0 will be ignored. Current value: bagging_freq=4\n"
          ]
        },
        {
          "metadata": {
            "tags": null
          },
          "name": "stderr",
          "output_type": "stream",
          "text": [
            "[I 2024-04-29 16:27:49,992] Trial 49 finished with value: 0.8395103014491042 and parameters: {'learning_rate': 0.08829234594008581, 'num_leaves': 284, 'feature_fraction': 0.8078462705810974, 'bagging_fraction': 0.7805659664831425, 'bagging_freq': 4, 'min_child_samples': 64, 'lambda_l1': 1.7177174578006404e-08, 'lambda_l2': 7.842316051826297e-06}. Best is trial 42 with value: 0.9015961918657435.\n"
          ]
        },
        {
          "metadata": {
            "tags": null
          },
          "name": "stdout",
          "output_type": "stream",
          "text": [
            "[LightGBM] [Warning] feature_fraction is set=0.9148064786500074, colsample_bytree=1.0 will be ignored. Current value: feature_fraction=0.9148064786500074\n",
            "[LightGBM] [Warning] lambda_l2 is set=1.3192393666113427e-07, reg_lambda=0.0 will be ignored. Current value: lambda_l2=1.3192393666113427e-07\n",
            "[LightGBM] [Warning] lambda_l1 is set=0.0006850823019958028, reg_alpha=0.0 will be ignored. Current value: lambda_l1=0.0006850823019958028\n",
            "[LightGBM] [Warning] bagging_fraction is set=0.7121352277867609, subsample=1.0 will be ignored. Current value: bagging_fraction=0.7121352277867609\n",
            "[LightGBM] [Warning] bagging_freq is set=2, subsample_freq=0 will be ignored. Current value: bagging_freq=2\n",
            "[LightGBM] [Warning] feature_fraction is set=0.9148064786500074, colsample_bytree=1.0 will be ignored. Current value: feature_fraction=0.9148064786500074\n",
            "[LightGBM] [Warning] lambda_l2 is set=1.3192393666113427e-07, reg_lambda=0.0 will be ignored. Current value: lambda_l2=1.3192393666113427e-07\n",
            "[LightGBM] [Warning] lambda_l1 is set=0.0006850823019958028, reg_alpha=0.0 will be ignored. Current value: lambda_l1=0.0006850823019958028\n",
            "[LightGBM] [Warning] bagging_fraction is set=0.7121352277867609, subsample=1.0 will be ignored. Current value: bagging_fraction=0.7121352277867609\n",
            "[LightGBM] [Warning] bagging_freq is set=2, subsample_freq=0 will be ignored. Current value: bagging_freq=2\n",
            "[LightGBM] [Info] Auto-choosing row-wise multi-threading, the overhead of testing was 0.221456 seconds.\n",
            "You can set `force_row_wise=true` to remove the overhead.\n",
            "And if memory is not enough, you can set `force_col_wise=true`.\n",
            "[LightGBM] [Info] Total Bins 25279\n",
            "[LightGBM] [Info] Number of data points in the train set: 181724, number of used features: 140\n",
            "[LightGBM] [Warning] feature_fraction is set=0.9148064786500074, colsample_bytree=1.0 will be ignored. Current value: feature_fraction=0.9148064786500074\n",
            "[LightGBM] [Warning] lambda_l2 is set=1.3192393666113427e-07, reg_lambda=0.0 will be ignored. Current value: lambda_l2=1.3192393666113427e-07\n",
            "[LightGBM] [Warning] lambda_l1 is set=0.0006850823019958028, reg_alpha=0.0 will be ignored. Current value: lambda_l1=0.0006850823019958028\n",
            "[LightGBM] [Warning] bagging_fraction is set=0.7121352277867609, subsample=1.0 will be ignored. Current value: bagging_fraction=0.7121352277867609\n",
            "[LightGBM] [Warning] bagging_freq is set=2, subsample_freq=0 will be ignored. Current value: bagging_freq=2\n",
            "[LightGBM] [Warning] feature_fraction is set=0.9148064786500074, colsample_bytree=1.0 will be ignored. Current value: feature_fraction=0.9148064786500074\n",
            "[LightGBM] [Warning] lambda_l2 is set=1.3192393666113427e-07, reg_lambda=0.0 will be ignored. Current value: lambda_l2=1.3192393666113427e-07\n",
            "[LightGBM] [Warning] lambda_l1 is set=0.0006850823019958028, reg_alpha=0.0 will be ignored. Current value: lambda_l1=0.0006850823019958028\n",
            "[LightGBM] [Warning] bagging_fraction is set=0.7121352277867609, subsample=1.0 will be ignored. Current value: bagging_fraction=0.7121352277867609\n",
            "[LightGBM] [Warning] bagging_freq is set=2, subsample_freq=0 will be ignored. Current value: bagging_freq=2\n"
          ]
        },
        {
          "metadata": {
            "tags": null
          },
          "name": "stderr",
          "output_type": "stream",
          "text": [
            "[I 2024-04-29 16:28:25,938] Trial 50 finished with value: 0.7456298460447878 and parameters: {'learning_rate': 0.06666053829350932, 'num_leaves': 132, 'feature_fraction': 0.9148064786500074, 'bagging_fraction': 0.7121352277867609, 'bagging_freq': 2, 'min_child_samples': 68, 'lambda_l1': 0.0006850823019958028, 'lambda_l2': 1.3192393666113427e-07}. Best is trial 42 with value: 0.9015961918657435.\n"
          ]
        },
        {
          "metadata": {
            "tags": null
          },
          "name": "stdout",
          "output_type": "stream",
          "text": [
            "[LightGBM] [Warning] feature_fraction is set=0.8902399251618952, colsample_bytree=1.0 will be ignored. Current value: feature_fraction=0.8902399251618952\n",
            "[LightGBM] [Warning] lambda_l2 is set=2.4961071663950126e-06, reg_lambda=0.0 will be ignored. Current value: lambda_l2=2.4961071663950126e-06\n",
            "[LightGBM] [Warning] lambda_l1 is set=0.022605207526282468, reg_alpha=0.0 will be ignored. Current value: lambda_l1=0.022605207526282468\n",
            "[LightGBM] [Warning] bagging_fraction is set=0.7523910289708464, subsample=1.0 will be ignored. Current value: bagging_fraction=0.7523910289708464\n",
            "[LightGBM] [Warning] bagging_freq is set=4, subsample_freq=0 will be ignored. Current value: bagging_freq=4\n",
            "[LightGBM] [Warning] feature_fraction is set=0.8902399251618952, colsample_bytree=1.0 will be ignored. Current value: feature_fraction=0.8902399251618952\n",
            "[LightGBM] [Warning] lambda_l2 is set=2.4961071663950126e-06, reg_lambda=0.0 will be ignored. Current value: lambda_l2=2.4961071663950126e-06\n",
            "[LightGBM] [Warning] lambda_l1 is set=0.022605207526282468, reg_alpha=0.0 will be ignored. Current value: lambda_l1=0.022605207526282468\n",
            "[LightGBM] [Warning] bagging_fraction is set=0.7523910289708464, subsample=1.0 will be ignored. Current value: bagging_fraction=0.7523910289708464\n",
            "[LightGBM] [Warning] bagging_freq is set=4, subsample_freq=0 will be ignored. Current value: bagging_freq=4\n",
            "[LightGBM] [Info] Auto-choosing row-wise multi-threading, the overhead of testing was 0.142075 seconds.\n",
            "You can set `force_row_wise=true` to remove the overhead.\n",
            "And if memory is not enough, you can set `force_col_wise=true`.\n",
            "[LightGBM] [Info] Total Bins 25279\n",
            "[LightGBM] [Info] Number of data points in the train set: 181724, number of used features: 140\n",
            "[LightGBM] [Warning] feature_fraction is set=0.8902399251618952, colsample_bytree=1.0 will be ignored. Current value: feature_fraction=0.8902399251618952\n",
            "[LightGBM] [Warning] lambda_l2 is set=2.4961071663950126e-06, reg_lambda=0.0 will be ignored. Current value: lambda_l2=2.4961071663950126e-06\n",
            "[LightGBM] [Warning] lambda_l1 is set=0.022605207526282468, reg_alpha=0.0 will be ignored. Current value: lambda_l1=0.022605207526282468\n",
            "[LightGBM] [Warning] bagging_fraction is set=0.7523910289708464, subsample=1.0 will be ignored. Current value: bagging_fraction=0.7523910289708464\n",
            "[LightGBM] [Warning] bagging_freq is set=4, subsample_freq=0 will be ignored. Current value: bagging_freq=4\n",
            "[LightGBM] [Warning] feature_fraction is set=0.8902399251618952, colsample_bytree=1.0 will be ignored. Current value: feature_fraction=0.8902399251618952\n",
            "[LightGBM] [Warning] lambda_l2 is set=2.4961071663950126e-06, reg_lambda=0.0 will be ignored. Current value: lambda_l2=2.4961071663950126e-06\n",
            "[LightGBM] [Warning] lambda_l1 is set=0.022605207526282468, reg_alpha=0.0 will be ignored. Current value: lambda_l1=0.022605207526282468\n",
            "[LightGBM] [Warning] bagging_fraction is set=0.7523910289708464, subsample=1.0 will be ignored. Current value: bagging_fraction=0.7523910289708464\n",
            "[LightGBM] [Warning] bagging_freq is set=4, subsample_freq=0 will be ignored. Current value: bagging_freq=4\n"
          ]
        },
        {
          "metadata": {
            "tags": null
          },
          "name": "stderr",
          "output_type": "stream",
          "text": [
            "[I 2024-04-29 16:29:03,042] Trial 51 finished with value: 0.7456298460447878 and parameters: {'learning_rate': 0.11248200888348561, 'num_leaves': 188, 'feature_fraction': 0.8902399251618952, 'bagging_fraction': 0.7523910289708464, 'bagging_freq': 4, 'min_child_samples': 53, 'lambda_l1': 0.022605207526282468, 'lambda_l2': 2.4961071663950126e-06}. Best is trial 42 with value: 0.9015961918657435.\n"
          ]
        },
        {
          "metadata": {
            "tags": null
          },
          "name": "stdout",
          "output_type": "stream",
          "text": [
            "[LightGBM] [Warning] feature_fraction is set=0.8999091021956146, colsample_bytree=1.0 will be ignored. Current value: feature_fraction=0.8999091021956146\n",
            "[LightGBM] [Warning] lambda_l2 is set=0.00019826861094486128, reg_lambda=0.0 will be ignored. Current value: lambda_l2=0.00019826861094486128\n",
            "[LightGBM] [Warning] lambda_l1 is set=2.3602227454278144, reg_alpha=0.0 will be ignored. Current value: lambda_l1=2.3602227454278144\n",
            "[LightGBM] [Warning] bagging_fraction is set=0.7390535761590235, subsample=1.0 will be ignored. Current value: bagging_fraction=0.7390535761590235\n",
            "[LightGBM] [Warning] bagging_freq is set=4, subsample_freq=0 will be ignored. Current value: bagging_freq=4\n",
            "[LightGBM] [Warning] feature_fraction is set=0.8999091021956146, colsample_bytree=1.0 will be ignored. Current value: feature_fraction=0.8999091021956146\n",
            "[LightGBM] [Warning] lambda_l2 is set=0.00019826861094486128, reg_lambda=0.0 will be ignored. Current value: lambda_l2=0.00019826861094486128\n",
            "[LightGBM] [Warning] lambda_l1 is set=2.3602227454278144, reg_alpha=0.0 will be ignored. Current value: lambda_l1=2.3602227454278144\n",
            "[LightGBM] [Warning] bagging_fraction is set=0.7390535761590235, subsample=1.0 will be ignored. Current value: bagging_fraction=0.7390535761590235\n",
            "[LightGBM] [Warning] bagging_freq is set=4, subsample_freq=0 will be ignored. Current value: bagging_freq=4\n",
            "[LightGBM] [Info] Auto-choosing row-wise multi-threading, the overhead of testing was 0.144280 seconds.\n",
            "You can set `force_row_wise=true` to remove the overhead.\n",
            "And if memory is not enough, you can set `force_col_wise=true`.\n",
            "[LightGBM] [Info] Total Bins 25279\n",
            "[LightGBM] [Info] Number of data points in the train set: 181724, number of used features: 140\n",
            "[LightGBM] [Warning] feature_fraction is set=0.8999091021956146, colsample_bytree=1.0 will be ignored. Current value: feature_fraction=0.8999091021956146\n",
            "[LightGBM] [Warning] lambda_l2 is set=0.00019826861094486128, reg_lambda=0.0 will be ignored. Current value: lambda_l2=0.00019826861094486128\n",
            "[LightGBM] [Warning] lambda_l1 is set=2.3602227454278144, reg_alpha=0.0 will be ignored. Current value: lambda_l1=2.3602227454278144\n",
            "[LightGBM] [Warning] bagging_fraction is set=0.7390535761590235, subsample=1.0 will be ignored. Current value: bagging_fraction=0.7390535761590235\n",
            "[LightGBM] [Warning] bagging_freq is set=4, subsample_freq=0 will be ignored. Current value: bagging_freq=4\n",
            "[LightGBM] [Warning] feature_fraction is set=0.8999091021956146, colsample_bytree=1.0 will be ignored. Current value: feature_fraction=0.8999091021956146\n",
            "[LightGBM] [Warning] lambda_l2 is set=0.00019826861094486128, reg_lambda=0.0 will be ignored. Current value: lambda_l2=0.00019826861094486128\n",
            "[LightGBM] [Warning] lambda_l1 is set=2.3602227454278144, reg_alpha=0.0 will be ignored. Current value: lambda_l1=2.3602227454278144\n",
            "[LightGBM] [Warning] bagging_fraction is set=0.7390535761590235, subsample=1.0 will be ignored. Current value: bagging_fraction=0.7390535761590235\n",
            "[LightGBM] [Warning] bagging_freq is set=4, subsample_freq=0 will be ignored. Current value: bagging_freq=4\n"
          ]
        },
        {
          "metadata": {
            "tags": null
          },
          "name": "stderr",
          "output_type": "stream",
          "text": [
            "[I 2024-04-29 16:29:40,638] Trial 52 finished with value: 0.8395103014491042 and parameters: {'learning_rate': 0.10604368035502068, 'num_leaves': 203, 'feature_fraction': 0.8999091021956146, 'bagging_fraction': 0.7390535761590235, 'bagging_freq': 4, 'min_child_samples': 50, 'lambda_l1': 2.3602227454278144, 'lambda_l2': 0.00019826861094486128}. Best is trial 42 with value: 0.9015961918657435.\n"
          ]
        },
        {
          "metadata": {
            "tags": null
          },
          "name": "stdout",
          "output_type": "stream",
          "text": [
            "[LightGBM] [Warning] feature_fraction is set=0.9351023931362195, colsample_bytree=1.0 will be ignored. Current value: feature_fraction=0.9351023931362195\n",
            "[LightGBM] [Warning] lambda_l2 is set=8.423349271541458e-06, reg_lambda=0.0 will be ignored. Current value: lambda_l2=8.423349271541458e-06\n",
            "[LightGBM] [Warning] lambda_l1 is set=3.8850076993310174e-05, reg_alpha=0.0 will be ignored. Current value: lambda_l1=3.8850076993310174e-05\n",
            "[LightGBM] [Warning] bagging_fraction is set=0.9935797977597496, subsample=1.0 will be ignored. Current value: bagging_fraction=0.9935797977597496\n",
            "[LightGBM] [Warning] bagging_freq is set=3, subsample_freq=0 will be ignored. Current value: bagging_freq=3\n",
            "[LightGBM] [Warning] feature_fraction is set=0.9351023931362195, colsample_bytree=1.0 will be ignored. Current value: feature_fraction=0.9351023931362195\n",
            "[LightGBM] [Warning] lambda_l2 is set=8.423349271541458e-06, reg_lambda=0.0 will be ignored. Current value: lambda_l2=8.423349271541458e-06\n",
            "[LightGBM] [Warning] lambda_l1 is set=3.8850076993310174e-05, reg_alpha=0.0 will be ignored. Current value: lambda_l1=3.8850076993310174e-05\n",
            "[LightGBM] [Warning] bagging_fraction is set=0.9935797977597496, subsample=1.0 will be ignored. Current value: bagging_fraction=0.9935797977597496\n",
            "[LightGBM] [Warning] bagging_freq is set=3, subsample_freq=0 will be ignored. Current value: bagging_freq=3\n",
            "[LightGBM] [Info] Auto-choosing row-wise multi-threading, the overhead of testing was 0.144548 seconds.\n",
            "You can set `force_row_wise=true` to remove the overhead.\n",
            "And if memory is not enough, you can set `force_col_wise=true`.\n",
            "[LightGBM] [Info] Total Bins 25279\n",
            "[LightGBM] [Info] Number of data points in the train set: 181724, number of used features: 140\n",
            "[LightGBM] [Warning] feature_fraction is set=0.9351023931362195, colsample_bytree=1.0 will be ignored. Current value: feature_fraction=0.9351023931362195\n",
            "[LightGBM] [Warning] lambda_l2 is set=8.423349271541458e-06, reg_lambda=0.0 will be ignored. Current value: lambda_l2=8.423349271541458e-06\n",
            "[LightGBM] [Warning] lambda_l1 is set=3.8850076993310174e-05, reg_alpha=0.0 will be ignored. Current value: lambda_l1=3.8850076993310174e-05\n",
            "[LightGBM] [Warning] bagging_fraction is set=0.9935797977597496, subsample=1.0 will be ignored. Current value: bagging_fraction=0.9935797977597496\n",
            "[LightGBM] [Warning] bagging_freq is set=3, subsample_freq=0 will be ignored. Current value: bagging_freq=3\n",
            "[LightGBM] [Warning] feature_fraction is set=0.9351023931362195, colsample_bytree=1.0 will be ignored. Current value: feature_fraction=0.9351023931362195\n",
            "[LightGBM] [Warning] lambda_l2 is set=8.423349271541458e-06, reg_lambda=0.0 will be ignored. Current value: lambda_l2=8.423349271541458e-06\n",
            "[LightGBM] [Warning] lambda_l1 is set=3.8850076993310174e-05, reg_alpha=0.0 will be ignored. Current value: lambda_l1=3.8850076993310174e-05\n",
            "[LightGBM] [Warning] bagging_fraction is set=0.9935797977597496, subsample=1.0 will be ignored. Current value: bagging_fraction=0.9935797977597496\n",
            "[LightGBM] [Warning] bagging_freq is set=3, subsample_freq=0 will be ignored. Current value: bagging_freq=3\n"
          ]
        },
        {
          "metadata": {
            "tags": null
          },
          "name": "stderr",
          "output_type": "stream",
          "text": [
            "[I 2024-04-29 16:30:21,528] Trial 53 finished with value: 0.7456298460447878 and parameters: {'learning_rate': 0.07882563688504596, 'num_leaves': 170, 'feature_fraction': 0.9351023931362195, 'bagging_fraction': 0.9935797977597496, 'bagging_freq': 3, 'min_child_samples': 34, 'lambda_l1': 3.8850076993310174e-05, 'lambda_l2': 8.423349271541458e-06}. Best is trial 42 with value: 0.9015961918657435.\n"
          ]
        },
        {
          "metadata": {
            "tags": null
          },
          "name": "stdout",
          "output_type": "stream",
          "text": [
            "[LightGBM] [Warning] feature_fraction is set=0.8367944655034203, colsample_bytree=1.0 will be ignored. Current value: feature_fraction=0.8367944655034203\n",
            "[LightGBM] [Warning] lambda_l2 is set=0.0012718945244863974, reg_lambda=0.0 will be ignored. Current value: lambda_l2=0.0012718945244863974\n",
            "[LightGBM] [Warning] lambda_l1 is set=0.00015671662424064165, reg_alpha=0.0 will be ignored. Current value: lambda_l1=0.00015671662424064165\n",
            "[LightGBM] [Warning] bagging_fraction is set=0.7676115787529973, subsample=1.0 will be ignored. Current value: bagging_fraction=0.7676115787529973\n",
            "[LightGBM] [Warning] bagging_freq is set=5, subsample_freq=0 will be ignored. Current value: bagging_freq=5\n",
            "[LightGBM] [Warning] feature_fraction is set=0.8367944655034203, colsample_bytree=1.0 will be ignored. Current value: feature_fraction=0.8367944655034203\n",
            "[LightGBM] [Warning] lambda_l2 is set=0.0012718945244863974, reg_lambda=0.0 will be ignored. Current value: lambda_l2=0.0012718945244863974\n",
            "[LightGBM] [Warning] lambda_l1 is set=0.00015671662424064165, reg_alpha=0.0 will be ignored. Current value: lambda_l1=0.00015671662424064165\n",
            "[LightGBM] [Warning] bagging_fraction is set=0.7676115787529973, subsample=1.0 will be ignored. Current value: bagging_fraction=0.7676115787529973\n",
            "[LightGBM] [Warning] bagging_freq is set=5, subsample_freq=0 will be ignored. Current value: bagging_freq=5\n",
            "[LightGBM] [Info] Auto-choosing row-wise multi-threading, the overhead of testing was 0.142226 seconds.\n",
            "You can set `force_row_wise=true` to remove the overhead.\n",
            "And if memory is not enough, you can set `force_col_wise=true`.\n",
            "[LightGBM] [Info] Total Bins 25279\n",
            "[LightGBM] [Info] Number of data points in the train set: 181724, number of used features: 140\n",
            "[LightGBM] [Warning] feature_fraction is set=0.8367944655034203, colsample_bytree=1.0 will be ignored. Current value: feature_fraction=0.8367944655034203\n",
            "[LightGBM] [Warning] lambda_l2 is set=0.0012718945244863974, reg_lambda=0.0 will be ignored. Current value: lambda_l2=0.0012718945244863974\n",
            "[LightGBM] [Warning] lambda_l1 is set=0.00015671662424064165, reg_alpha=0.0 will be ignored. Current value: lambda_l1=0.00015671662424064165\n",
            "[LightGBM] [Warning] bagging_fraction is set=0.7676115787529973, subsample=1.0 will be ignored. Current value: bagging_fraction=0.7676115787529973\n",
            "[LightGBM] [Warning] bagging_freq is set=5, subsample_freq=0 will be ignored. Current value: bagging_freq=5\n",
            "[LightGBM] [Warning] feature_fraction is set=0.8367944655034203, colsample_bytree=1.0 will be ignored. Current value: feature_fraction=0.8367944655034203\n",
            "[LightGBM] [Warning] lambda_l2 is set=0.0012718945244863974, reg_lambda=0.0 will be ignored. Current value: lambda_l2=0.0012718945244863974\n",
            "[LightGBM] [Warning] lambda_l1 is set=0.00015671662424064165, reg_alpha=0.0 will be ignored. Current value: lambda_l1=0.00015671662424064165\n",
            "[LightGBM] [Warning] bagging_fraction is set=0.7676115787529973, subsample=1.0 will be ignored. Current value: bagging_fraction=0.7676115787529973\n",
            "[LightGBM] [Warning] bagging_freq is set=5, subsample_freq=0 will be ignored. Current value: bagging_freq=5\n"
          ]
        },
        {
          "metadata": {
            "tags": null
          },
          "name": "stderr",
          "output_type": "stream",
          "text": [
            "[I 2024-04-29 16:31:02,475] Trial 54 finished with value: 0.8072123842662229 and parameters: {'learning_rate': 0.09766023424083012, 'num_leaves': 238, 'feature_fraction': 0.8367944655034203, 'bagging_fraction': 0.7676115787529973, 'bagging_freq': 5, 'min_child_samples': 44, 'lambda_l1': 0.00015671662424064165, 'lambda_l2': 0.0012718945244863974}. Best is trial 42 with value: 0.9015961918657435.\n"
          ]
        },
        {
          "metadata": {
            "tags": null
          },
          "name": "stdout",
          "output_type": "stream",
          "text": [
            "[LightGBM] [Warning] feature_fraction is set=0.8803013826744726, colsample_bytree=1.0 will be ignored. Current value: feature_fraction=0.8803013826744726\n",
            "[LightGBM] [Warning] lambda_l2 is set=6.961002549111056e-05, reg_lambda=0.0 will be ignored. Current value: lambda_l2=6.961002549111056e-05\n",
            "[LightGBM] [Warning] lambda_l1 is set=0.0024208725597441383, reg_alpha=0.0 will be ignored. Current value: lambda_l1=0.0024208725597441383\n",
            "[LightGBM] [Warning] bagging_fraction is set=0.9503343314764584, subsample=1.0 will be ignored. Current value: bagging_fraction=0.9503343314764584\n",
            "[LightGBM] [Warning] bagging_freq is set=4, subsample_freq=0 will be ignored. Current value: bagging_freq=4\n",
            "[LightGBM] [Warning] feature_fraction is set=0.8803013826744726, colsample_bytree=1.0 will be ignored. Current value: feature_fraction=0.8803013826744726\n",
            "[LightGBM] [Warning] lambda_l2 is set=6.961002549111056e-05, reg_lambda=0.0 will be ignored. Current value: lambda_l2=6.961002549111056e-05\n",
            "[LightGBM] [Warning] lambda_l1 is set=0.0024208725597441383, reg_alpha=0.0 will be ignored. Current value: lambda_l1=0.0024208725597441383\n",
            "[LightGBM] [Warning] bagging_fraction is set=0.9503343314764584, subsample=1.0 will be ignored. Current value: bagging_fraction=0.9503343314764584\n",
            "[LightGBM] [Warning] bagging_freq is set=4, subsample_freq=0 will be ignored. Current value: bagging_freq=4\n",
            "[LightGBM] [Info] Auto-choosing col-wise multi-threading, the overhead of testing was 0.356801 seconds.\n",
            "You can set `force_col_wise=true` to remove the overhead.\n",
            "[LightGBM] [Info] Total Bins 25279\n",
            "[LightGBM] [Info] Number of data points in the train set: 181724, number of used features: 140\n",
            "[LightGBM] [Warning] feature_fraction is set=0.8803013826744726, colsample_bytree=1.0 will be ignored. Current value: feature_fraction=0.8803013826744726\n",
            "[LightGBM] [Warning] lambda_l2 is set=6.961002549111056e-05, reg_lambda=0.0 will be ignored. Current value: lambda_l2=6.961002549111056e-05\n",
            "[LightGBM] [Warning] lambda_l1 is set=0.0024208725597441383, reg_alpha=0.0 will be ignored. Current value: lambda_l1=0.0024208725597441383\n",
            "[LightGBM] [Warning] bagging_fraction is set=0.9503343314764584, subsample=1.0 will be ignored. Current value: bagging_fraction=0.9503343314764584\n",
            "[LightGBM] [Warning] bagging_freq is set=4, subsample_freq=0 will be ignored. Current value: bagging_freq=4\n",
            "[LightGBM] [Warning] feature_fraction is set=0.8803013826744726, colsample_bytree=1.0 will be ignored. Current value: feature_fraction=0.8803013826744726\n",
            "[LightGBM] [Warning] lambda_l2 is set=6.961002549111056e-05, reg_lambda=0.0 will be ignored. Current value: lambda_l2=6.961002549111056e-05\n",
            "[LightGBM] [Warning] lambda_l1 is set=0.0024208725597441383, reg_alpha=0.0 will be ignored. Current value: lambda_l1=0.0024208725597441383\n",
            "[LightGBM] [Warning] bagging_fraction is set=0.9503343314764584, subsample=1.0 will be ignored. Current value: bagging_fraction=0.9503343314764584\n",
            "[LightGBM] [Warning] bagging_freq is set=4, subsample_freq=0 will be ignored. Current value: bagging_freq=4\n"
          ]
        },
        {
          "metadata": {
            "tags": null
          },
          "name": "stderr",
          "output_type": "stream",
          "text": [
            "[I 2024-04-29 16:31:47,175] Trial 55 finished with value: 0.6069931323672637 and parameters: {'learning_rate': 0.13112835168481266, 'num_leaves': 177, 'feature_fraction': 0.8803013826744726, 'bagging_fraction': 0.9503343314764584, 'bagging_freq': 4, 'min_child_samples': 57, 'lambda_l1': 0.0024208725597441383, 'lambda_l2': 6.961002549111056e-05}. Best is trial 42 with value: 0.9015961918657435.\n"
          ]
        },
        {
          "metadata": {
            "tags": null
          },
          "name": "stdout",
          "output_type": "stream",
          "text": [
            "[LightGBM] [Warning] feature_fraction is set=0.8568290571976193, colsample_bytree=1.0 will be ignored. Current value: feature_fraction=0.8568290571976193\n",
            "[LightGBM] [Warning] lambda_l2 is set=3.2301554552649704e-06, reg_lambda=0.0 will be ignored. Current value: lambda_l2=3.2301554552649704e-06\n",
            "[LightGBM] [Warning] lambda_l1 is set=0.182429824852514, reg_alpha=0.0 will be ignored. Current value: lambda_l1=0.182429824852514\n",
            "[LightGBM] [Warning] bagging_fraction is set=0.6891921063388714, subsample=1.0 will be ignored. Current value: bagging_fraction=0.6891921063388714\n",
            "[LightGBM] [Warning] bagging_freq is set=5, subsample_freq=0 will be ignored. Current value: bagging_freq=5\n",
            "[LightGBM] [Warning] feature_fraction is set=0.8568290571976193, colsample_bytree=1.0 will be ignored. Current value: feature_fraction=0.8568290571976193\n",
            "[LightGBM] [Warning] lambda_l2 is set=3.2301554552649704e-06, reg_lambda=0.0 will be ignored. Current value: lambda_l2=3.2301554552649704e-06\n",
            "[LightGBM] [Warning] lambda_l1 is set=0.182429824852514, reg_alpha=0.0 will be ignored. Current value: lambda_l1=0.182429824852514\n",
            "[LightGBM] [Warning] bagging_fraction is set=0.6891921063388714, subsample=1.0 will be ignored. Current value: bagging_fraction=0.6891921063388714\n",
            "[LightGBM] [Warning] bagging_freq is set=5, subsample_freq=0 will be ignored. Current value: bagging_freq=5\n",
            "[LightGBM] [Info] Auto-choosing row-wise multi-threading, the overhead of testing was 0.184506 seconds.\n",
            "You can set `force_row_wise=true` to remove the overhead.\n",
            "And if memory is not enough, you can set `force_col_wise=true`.\n",
            "[LightGBM] [Info] Total Bins 25279\n",
            "[LightGBM] [Info] Number of data points in the train set: 181724, number of used features: 140\n",
            "[LightGBM] [Warning] feature_fraction is set=0.8568290571976193, colsample_bytree=1.0 will be ignored. Current value: feature_fraction=0.8568290571976193\n",
            "[LightGBM] [Warning] lambda_l2 is set=3.2301554552649704e-06, reg_lambda=0.0 will be ignored. Current value: lambda_l2=3.2301554552649704e-06\n",
            "[LightGBM] [Warning] lambda_l1 is set=0.182429824852514, reg_alpha=0.0 will be ignored. Current value: lambda_l1=0.182429824852514\n",
            "[LightGBM] [Warning] bagging_fraction is set=0.6891921063388714, subsample=1.0 will be ignored. Current value: bagging_fraction=0.6891921063388714\n",
            "[LightGBM] [Warning] bagging_freq is set=5, subsample_freq=0 will be ignored. Current value: bagging_freq=5\n",
            "[LightGBM] [Warning] feature_fraction is set=0.8568290571976193, colsample_bytree=1.0 will be ignored. Current value: feature_fraction=0.8568290571976193\n",
            "[LightGBM] [Warning] lambda_l2 is set=3.2301554552649704e-06, reg_lambda=0.0 will be ignored. Current value: lambda_l2=3.2301554552649704e-06\n",
            "[LightGBM] [Warning] lambda_l1 is set=0.182429824852514, reg_alpha=0.0 will be ignored. Current value: lambda_l1=0.182429824852514\n",
            "[LightGBM] [Warning] bagging_fraction is set=0.6891921063388714, subsample=1.0 will be ignored. Current value: bagging_fraction=0.6891921063388714\n",
            "[LightGBM] [Warning] bagging_freq is set=5, subsample_freq=0 will be ignored. Current value: bagging_freq=5\n"
          ]
        },
        {
          "metadata": {
            "tags": null
          },
          "name": "stderr",
          "output_type": "stream",
          "text": [
            "[I 2024-04-29 16:32:27,621] Trial 56 finished with value: 0.7008735877715802 and parameters: {'learning_rate': 0.14778982556312595, 'num_leaves': 216, 'feature_fraction': 0.8568290571976193, 'bagging_fraction': 0.6891921063388714, 'bagging_freq': 5, 'min_child_samples': 28, 'lambda_l1': 0.182429824852514, 'lambda_l2': 3.2301554552649704e-06}. Best is trial 42 with value: 0.9015961918657435.\n"
          ]
        },
        {
          "metadata": {
            "tags": null
          },
          "name": "stdout",
          "output_type": "stream",
          "text": [
            "[LightGBM] [Warning] feature_fraction is set=0.7641363778374994, colsample_bytree=1.0 will be ignored. Current value: feature_fraction=0.7641363778374994\n",
            "[LightGBM] [Warning] lambda_l2 is set=2.0738928662205593e-05, reg_lambda=0.0 will be ignored. Current value: lambda_l2=2.0738928662205593e-05\n",
            "[LightGBM] [Warning] lambda_l1 is set=0.0007176286860640574, reg_alpha=0.0 will be ignored. Current value: lambda_l1=0.0007176286860640574\n",
            "[LightGBM] [Warning] bagging_fraction is set=0.8264398399963311, subsample=1.0 will be ignored. Current value: bagging_fraction=0.8264398399963311\n",
            "[LightGBM] [Warning] bagging_freq is set=4, subsample_freq=0 will be ignored. Current value: bagging_freq=4\n",
            "[LightGBM] [Warning] feature_fraction is set=0.7641363778374994, colsample_bytree=1.0 will be ignored. Current value: feature_fraction=0.7641363778374994\n",
            "[LightGBM] [Warning] lambda_l2 is set=2.0738928662205593e-05, reg_lambda=0.0 will be ignored. Current value: lambda_l2=2.0738928662205593e-05\n",
            "[LightGBM] [Warning] lambda_l1 is set=0.0007176286860640574, reg_alpha=0.0 will be ignored. Current value: lambda_l1=0.0007176286860640574\n",
            "[LightGBM] [Warning] bagging_fraction is set=0.8264398399963311, subsample=1.0 will be ignored. Current value: bagging_fraction=0.8264398399963311\n",
            "[LightGBM] [Warning] bagging_freq is set=4, subsample_freq=0 will be ignored. Current value: bagging_freq=4\n",
            "[LightGBM] [Info] Auto-choosing row-wise multi-threading, the overhead of testing was 0.136461 seconds.\n",
            "You can set `force_row_wise=true` to remove the overhead.\n",
            "And if memory is not enough, you can set `force_col_wise=true`.\n",
            "[LightGBM] [Info] Total Bins 25279\n",
            "[LightGBM] [Info] Number of data points in the train set: 181724, number of used features: 140\n",
            "[LightGBM] [Warning] feature_fraction is set=0.7641363778374994, colsample_bytree=1.0 will be ignored. Current value: feature_fraction=0.7641363778374994\n",
            "[LightGBM] [Warning] lambda_l2 is set=2.0738928662205593e-05, reg_lambda=0.0 will be ignored. Current value: lambda_l2=2.0738928662205593e-05\n",
            "[LightGBM] [Warning] lambda_l1 is set=0.0007176286860640574, reg_alpha=0.0 will be ignored. Current value: lambda_l1=0.0007176286860640574\n",
            "[LightGBM] [Warning] bagging_fraction is set=0.8264398399963311, subsample=1.0 will be ignored. Current value: bagging_fraction=0.8264398399963311\n",
            "[LightGBM] [Warning] bagging_freq is set=4, subsample_freq=0 will be ignored. Current value: bagging_freq=4\n",
            "[LightGBM] [Warning] feature_fraction is set=0.7641363778374994, colsample_bytree=1.0 will be ignored. Current value: feature_fraction=0.7641363778374994\n",
            "[LightGBM] [Warning] lambda_l2 is set=2.0738928662205593e-05, reg_lambda=0.0 will be ignored. Current value: lambda_l2=2.0738928662205593e-05\n",
            "[LightGBM] [Warning] lambda_l1 is set=0.0007176286860640574, reg_alpha=0.0 will be ignored. Current value: lambda_l1=0.0007176286860640574\n",
            "[LightGBM] [Warning] bagging_fraction is set=0.8264398399963311, subsample=1.0 will be ignored. Current value: bagging_fraction=0.8264398399963311\n",
            "[LightGBM] [Warning] bagging_freq is set=4, subsample_freq=0 will be ignored. Current value: bagging_freq=4\n"
          ]
        },
        {
          "metadata": {
            "tags": null
          },
          "name": "stderr",
          "output_type": "stream",
          "text": [
            "[I 2024-04-29 16:33:02,657] Trial 57 finished with value: 0.7456298460447878 and parameters: {'learning_rate': 0.060381782507790166, 'num_leaves': 144, 'feature_fraction': 0.7641363778374994, 'bagging_fraction': 0.8264398399963311, 'bagging_freq': 4, 'min_child_samples': 41, 'lambda_l1': 0.0007176286860640574, 'lambda_l2': 2.0738928662205593e-05}. Best is trial 42 with value: 0.9015961918657435.\n"
          ]
        },
        {
          "metadata": {
            "tags": null
          },
          "name": "stdout",
          "output_type": "stream",
          "text": [
            "[LightGBM] [Warning] feature_fraction is set=0.9008172009717659, colsample_bytree=1.0 will be ignored. Current value: feature_fraction=0.9008172009717659\n",
            "[LightGBM] [Warning] lambda_l2 is set=5.75059378765019e-07, reg_lambda=0.0 will be ignored. Current value: lambda_l2=5.75059378765019e-07\n",
            "[LightGBM] [Warning] lambda_l1 is set=7.23921696198877e-06, reg_alpha=0.0 will be ignored. Current value: lambda_l1=7.23921696198877e-06\n",
            "[LightGBM] [Warning] bagging_fraction is set=0.6417973280517231, subsample=1.0 will be ignored. Current value: bagging_fraction=0.6417973280517231\n",
            "[LightGBM] [Warning] bagging_freq is set=3, subsample_freq=0 will be ignored. Current value: bagging_freq=3\n",
            "[LightGBM] [Warning] feature_fraction is set=0.9008172009717659, colsample_bytree=1.0 will be ignored. Current value: feature_fraction=0.9008172009717659\n",
            "[LightGBM] [Warning] lambda_l2 is set=5.75059378765019e-07, reg_lambda=0.0 will be ignored. Current value: lambda_l2=5.75059378765019e-07\n",
            "[LightGBM] [Warning] lambda_l1 is set=7.23921696198877e-06, reg_alpha=0.0 will be ignored. Current value: lambda_l1=7.23921696198877e-06\n",
            "[LightGBM] [Warning] bagging_fraction is set=0.6417973280517231, subsample=1.0 will be ignored. Current value: bagging_fraction=0.6417973280517231\n",
            "[LightGBM] [Warning] bagging_freq is set=3, subsample_freq=0 will be ignored. Current value: bagging_freq=3\n",
            "[LightGBM] [Info] Auto-choosing row-wise multi-threading, the overhead of testing was 0.141747 seconds.\n",
            "You can set `force_row_wise=true` to remove the overhead.\n",
            "And if memory is not enough, you can set `force_col_wise=true`.\n",
            "[LightGBM] [Info] Total Bins 25279\n",
            "[LightGBM] [Info] Number of data points in the train set: 181724, number of used features: 140\n",
            "[LightGBM] [Warning] feature_fraction is set=0.9008172009717659, colsample_bytree=1.0 will be ignored. Current value: feature_fraction=0.9008172009717659\n",
            "[LightGBM] [Warning] lambda_l2 is set=5.75059378765019e-07, reg_lambda=0.0 will be ignored. Current value: lambda_l2=5.75059378765019e-07\n",
            "[LightGBM] [Warning] lambda_l1 is set=7.23921696198877e-06, reg_alpha=0.0 will be ignored. Current value: lambda_l1=7.23921696198877e-06\n",
            "[LightGBM] [Warning] bagging_fraction is set=0.6417973280517231, subsample=1.0 will be ignored. Current value: bagging_fraction=0.6417973280517231\n",
            "[LightGBM] [Warning] bagging_freq is set=3, subsample_freq=0 will be ignored. Current value: bagging_freq=3\n",
            "[LightGBM] [Warning] feature_fraction is set=0.9008172009717659, colsample_bytree=1.0 will be ignored. Current value: feature_fraction=0.9008172009717659\n",
            "[LightGBM] [Warning] lambda_l2 is set=5.75059378765019e-07, reg_lambda=0.0 will be ignored. Current value: lambda_l2=5.75059378765019e-07\n",
            "[LightGBM] [Warning] lambda_l1 is set=7.23921696198877e-06, reg_alpha=0.0 will be ignored. Current value: lambda_l1=7.23921696198877e-06\n",
            "[LightGBM] [Warning] bagging_fraction is set=0.6417973280517231, subsample=1.0 will be ignored. Current value: bagging_fraction=0.6417973280517231\n",
            "[LightGBM] [Warning] bagging_freq is set=3, subsample_freq=0 will be ignored. Current value: bagging_freq=3\n"
          ]
        },
        {
          "metadata": {
            "tags": null
          },
          "name": "stderr",
          "output_type": "stream",
          "text": [
            "[I 2024-04-29 16:33:42,904] Trial 58 finished with value: 0.6725956711234345 and parameters: {'learning_rate': 0.11308556529174107, 'num_leaves': 231, 'feature_fraction': 0.9008172009717659, 'bagging_fraction': 0.6417973280517231, 'bagging_freq': 3, 'min_child_samples': 23, 'lambda_l1': 7.23921696198877e-06, 'lambda_l2': 5.75059378765019e-07}. Best is trial 42 with value: 0.9015961918657435.\n"
          ]
        },
        {
          "output_type": "stream",
          "name": "stdout",
          "text": [
            "[LightGBM] [Warning] feature_fraction is set=0.783025181545331, colsample_bytree=1.0 will be ignored. Current value: feature_fraction=0.783025181545331\n",
            "[LightGBM] [Warning] lambda_l2 is set=6.852971949008672e-08, reg_lambda=0.0 will be ignored. Current value: lambda_l2=6.852971949008672e-08\n",
            "[LightGBM] [Warning] lambda_l1 is set=0.013316877829084204, reg_alpha=0.0 will be ignored. Current value: lambda_l1=0.013316877829084204\n",
            "[LightGBM] [Warning] bagging_fraction is set=0.7912288367835999, subsample=1.0 will be ignored. Current value: bagging_fraction=0.7912288367835999\n",
            "[LightGBM] [Warning] bagging_freq is set=1, subsample_freq=0 will be ignored. Current value: bagging_freq=1\n",
            "[LightGBM] [Warning] feature_fraction is set=0.783025181545331, colsample_bytree=1.0 will be ignored. Current value: feature_fraction=0.783025181545331\n",
            "[LightGBM] [Warning] lambda_l2 is set=6.852971949008672e-08, reg_lambda=0.0 will be ignored. Current value: lambda_l2=6.852971949008672e-08\n",
            "[LightGBM] [Warning] lambda_l1 is set=0.013316877829084204, reg_alpha=0.0 will be ignored. Current value: lambda_l1=0.013316877829084204\n",
            "[LightGBM] [Warning] bagging_fraction is set=0.7912288367835999, subsample=1.0 will be ignored. Current value: bagging_fraction=0.7912288367835999\n",
            "[LightGBM] [Warning] bagging_freq is set=1, subsample_freq=0 will be ignored. Current value: bagging_freq=1\n",
            "[LightGBM] [Info] Auto-choosing row-wise multi-threading, the overhead of testing was 0.139996 seconds.\n",
            "You can set `force_row_wise=true` to remove the overhead.\n",
            "And if memory is not enough, you can set `force_col_wise=true`.\n",
            "[LightGBM] [Info] Total Bins 25279\n",
            "[LightGBM] [Info] Number of data points in the train set: 181724, number of used features: 140\n",
            "[LightGBM] [Warning] feature_fraction is set=0.783025181545331, colsample_bytree=1.0 will be ignored. Current value: feature_fraction=0.783025181545331\n",
            "[LightGBM] [Warning] lambda_l2 is set=6.852971949008672e-08, reg_lambda=0.0 will be ignored. Current value: lambda_l2=6.852971949008672e-08\n",
            "[LightGBM] [Warning] lambda_l1 is set=0.013316877829084204, reg_alpha=0.0 will be ignored. Current value: lambda_l1=0.013316877829084204\n",
            "[LightGBM] [Warning] bagging_fraction is set=0.7912288367835999, subsample=1.0 will be ignored. Current value: bagging_fraction=0.7912288367835999\n",
            "[LightGBM] [Warning] bagging_freq is set=1, subsample_freq=0 will be ignored. Current value: bagging_freq=1\n",
            "[LightGBM] [Warning] feature_fraction is set=0.783025181545331, colsample_bytree=1.0 will be ignored. Current value: feature_fraction=0.783025181545331\n",
            "[LightGBM] [Warning] lambda_l2 is set=6.852971949008672e-08, reg_lambda=0.0 will be ignored. Current value: lambda_l2=6.852971949008672e-08\n",
            "[LightGBM] [Warning] lambda_l1 is set=0.013316877829084204, reg_alpha=0.0 will be ignored. Current value: lambda_l1=0.013316877829084204\n",
            "[LightGBM] [Warning] bagging_fraction is set=0.7912288367835999, subsample=1.0 will be ignored. Current value: bagging_fraction=0.7912288367835999\n",
            "[LightGBM] [Warning] bagging_freq is set=1, subsample_freq=0 will be ignored. Current value: bagging_freq=1\n"
          ]
        },
        {
          "output_type": "stream",
          "name": "stderr",
          "text": [
            "[I 2024-04-29 16:34:09,849] Trial 59 finished with value: 0.7269675349907752 and parameters: {'learning_rate': 0.12030237682097508, 'num_leaves': 81, 'feature_fraction': 0.783025181545331, 'bagging_fraction': 0.7912288367835999, 'bagging_freq': 1, 'min_child_samples': 45, 'lambda_l1': 0.013316877829084204, 'lambda_l2': 6.852971949008672e-08}. Best is trial 42 with value: 0.9015961918657435.\n"
          ]
        },
        {
          "output_type": "stream",
          "name": "stdout",
          "text": [
            "[LightGBM] [Warning] feature_fraction is set=0.883060242587679, colsample_bytree=1.0 will be ignored. Current value: feature_fraction=0.883060242587679\n",
            "[LightGBM] [Warning] lambda_l2 is set=1.4125547966875845e-06, reg_lambda=0.0 will be ignored. Current value: lambda_l2=1.4125547966875845e-06\n",
            "[LightGBM] [Warning] lambda_l1 is set=6.525284683237864, reg_alpha=0.0 will be ignored. Current value: lambda_l1=6.525284683237864\n",
            "[LightGBM] [Warning] bagging_fraction is set=0.6760779007208447, subsample=1.0 will be ignored. Current value: bagging_fraction=0.6760779007208447\n",
            "[LightGBM] [Warning] bagging_freq is set=6, subsample_freq=0 will be ignored. Current value: bagging_freq=6\n",
            "[LightGBM] [Warning] feature_fraction is set=0.883060242587679, colsample_bytree=1.0 will be ignored. Current value: feature_fraction=0.883060242587679\n",
            "[LightGBM] [Warning] lambda_l2 is set=1.4125547966875845e-06, reg_lambda=0.0 will be ignored. Current value: lambda_l2=1.4125547966875845e-06\n",
            "[LightGBM] [Warning] lambda_l1 is set=6.525284683237864, reg_alpha=0.0 will be ignored. Current value: lambda_l1=6.525284683237864\n",
            "[LightGBM] [Warning] bagging_fraction is set=0.6760779007208447, subsample=1.0 will be ignored. Current value: bagging_fraction=0.6760779007208447\n",
            "[LightGBM] [Warning] bagging_freq is set=6, subsample_freq=0 will be ignored. Current value: bagging_freq=6\n",
            "[LightGBM] [Info] Auto-choosing col-wise multi-threading, the overhead of testing was 0.719274 seconds.\n",
            "You can set `force_col_wise=true` to remove the overhead.\n",
            "[LightGBM] [Info] Total Bins 25279\n",
            "[LightGBM] [Info] Number of data points in the train set: 181724, number of used features: 140\n",
            "[LightGBM] [Warning] feature_fraction is set=0.883060242587679, colsample_bytree=1.0 will be ignored. Current value: feature_fraction=0.883060242587679\n",
            "[LightGBM] [Warning] lambda_l2 is set=1.4125547966875845e-06, reg_lambda=0.0 will be ignored. Current value: lambda_l2=1.4125547966875845e-06\n",
            "[LightGBM] [Warning] lambda_l1 is set=6.525284683237864, reg_alpha=0.0 will be ignored. Current value: lambda_l1=6.525284683237864\n",
            "[LightGBM] [Warning] bagging_fraction is set=0.6760779007208447, subsample=1.0 will be ignored. Current value: bagging_fraction=0.6760779007208447\n",
            "[LightGBM] [Warning] bagging_freq is set=6, subsample_freq=0 will be ignored. Current value: bagging_freq=6\n",
            "[LightGBM] [Warning] No further splits with positive gain, best gain: -inf\n",
            "[LightGBM] [Warning] No further splits with positive gain, best gain: -inf\n",
            "[LightGBM] [Warning] No further splits with positive gain, best gain: -inf\n",
            "[LightGBM] [Warning] No further splits with positive gain, best gain: -inf\n",
            "[LightGBM] [Warning] No further splits with positive gain, best gain: -inf\n",
            "[LightGBM] [Warning] No further splits with positive gain, best gain: -inf\n",
            "[LightGBM] [Warning] No further splits with positive gain, best gain: -inf\n",
            "[LightGBM] [Warning] No further splits with positive gain, best gain: -inf\n",
            "[LightGBM] [Warning] No further splits with positive gain, best gain: -inf\n",
            "[LightGBM] [Warning] No further splits with positive gain, best gain: -inf\n",
            "[LightGBM] [Warning] No further splits with positive gain, best gain: -inf\n",
            "[LightGBM] [Warning] No further splits with positive gain, best gain: -inf\n",
            "[LightGBM] [Warning] No further splits with positive gain, best gain: -inf\n",
            "[LightGBM] [Warning] No further splits with positive gain, best gain: -inf\n",
            "[LightGBM] [Warning] No further splits with positive gain, best gain: -inf\n",
            "[LightGBM] [Warning] No further splits with positive gain, best gain: -inf\n",
            "[LightGBM] [Warning] No further splits with positive gain, best gain: -inf\n",
            "[LightGBM] [Warning] No further splits with positive gain, best gain: -inf\n",
            "[LightGBM] [Warning] No further splits with positive gain, best gain: -inf\n",
            "[LightGBM] [Warning] No further splits with positive gain, best gain: -inf\n",
            "[LightGBM] [Warning] No further splits with positive gain, best gain: -inf\n",
            "[LightGBM] [Warning] No further splits with positive gain, best gain: -inf\n",
            "[LightGBM] [Warning] No further splits with positive gain, best gain: -inf\n",
            "[LightGBM] [Warning] No further splits with positive gain, best gain: -inf\n",
            "[LightGBM] [Warning] No further splits with positive gain, best gain: -inf\n",
            "[LightGBM] [Warning] No further splits with positive gain, best gain: -inf\n",
            "[LightGBM] [Warning] No further splits with positive gain, best gain: -inf\n",
            "[LightGBM] [Warning] No further splits with positive gain, best gain: -inf\n",
            "[LightGBM] [Warning] No further splits with positive gain, best gain: -inf\n",
            "[LightGBM] [Warning] No further splits with positive gain, best gain: -inf\n",
            "[LightGBM] [Warning] No further splits with positive gain, best gain: -inf\n",
            "[LightGBM] [Warning] No further splits with positive gain, best gain: -inf\n",
            "[LightGBM] [Warning] No further splits with positive gain, best gain: -inf\n",
            "[LightGBM] [Warning] No further splits with positive gain, best gain: -inf\n",
            "[LightGBM] [Warning] No further splits with positive gain, best gain: -inf\n",
            "[LightGBM] [Warning] No further splits with positive gain, best gain: -inf\n",
            "[LightGBM] [Warning] No further splits with positive gain, best gain: -inf\n",
            "[LightGBM] [Warning] No further splits with positive gain, best gain: -inf\n",
            "[LightGBM] [Warning] No further splits with positive gain, best gain: -inf\n",
            "[LightGBM] [Warning] No further splits with positive gain, best gain: -inf\n",
            "[LightGBM] [Warning] No further splits with positive gain, best gain: -inf\n",
            "[LightGBM] [Warning] No further splits with positive gain, best gain: -inf\n",
            "[LightGBM] [Warning] No further splits with positive gain, best gain: -inf\n",
            "[LightGBM] [Warning] No further splits with positive gain, best gain: -inf\n",
            "[LightGBM] [Warning] No further splits with positive gain, best gain: -inf\n",
            "[LightGBM] [Warning] No further splits with positive gain, best gain: -inf\n",
            "[LightGBM] [Warning] No further splits with positive gain, best gain: -inf\n",
            "[LightGBM] [Warning] No further splits with positive gain, best gain: -inf\n",
            "[LightGBM] [Warning] No further splits with positive gain, best gain: -inf\n",
            "[LightGBM] [Warning] No further splits with positive gain, best gain: -inf\n",
            "[LightGBM] [Warning] No further splits with positive gain, best gain: -inf\n",
            "[LightGBM] [Warning] No further splits with positive gain, best gain: -inf\n",
            "[LightGBM] [Warning] No further splits with positive gain, best gain: -inf\n",
            "[LightGBM] [Warning] feature_fraction is set=0.883060242587679, colsample_bytree=1.0 will be ignored. Current value: feature_fraction=0.883060242587679\n",
            "[LightGBM] [Warning] lambda_l2 is set=1.4125547966875845e-06, reg_lambda=0.0 will be ignored. Current value: lambda_l2=1.4125547966875845e-06\n",
            "[LightGBM] [Warning] lambda_l1 is set=6.525284683237864, reg_alpha=0.0 will be ignored. Current value: lambda_l1=6.525284683237864\n",
            "[LightGBM] [Warning] bagging_fraction is set=0.6760779007208447, subsample=1.0 will be ignored. Current value: bagging_fraction=0.6760779007208447\n",
            "[LightGBM] [Warning] bagging_freq is set=6, subsample_freq=0 will be ignored. Current value: bagging_freq=6\n"
          ]
        },
        {
          "output_type": "stream",
          "name": "stderr",
          "text": [
            "[I 2024-04-29 16:34:44,256] Trial 60 finished with value: 0.7739077626929334 and parameters: {'learning_rate': 0.03567711188147743, 'num_leaves': 199, 'feature_fraction': 0.883060242587679, 'bagging_fraction': 0.6760779007208447, 'bagging_freq': 6, 'min_child_samples': 74, 'lambda_l1': 6.525284683237864, 'lambda_l2': 1.4125547966875845e-06}. Best is trial 42 with value: 0.9015961918657435.\n"
          ]
        },
        {
          "output_type": "stream",
          "name": "stdout",
          "text": [
            "[LightGBM] [Warning] feature_fraction is set=0.988461185774873, colsample_bytree=1.0 will be ignored. Current value: feature_fraction=0.988461185774873\n",
            "[LightGBM] [Warning] lambda_l2 is set=1.2247400328804644e-07, reg_lambda=0.0 will be ignored. Current value: lambda_l2=1.2247400328804644e-07\n",
            "[LightGBM] [Warning] lambda_l1 is set=7.084436560811849e-05, reg_alpha=0.0 will be ignored. Current value: lambda_l1=7.084436560811849e-05\n",
            "[LightGBM] [Warning] bagging_fraction is set=0.7031798656893201, subsample=1.0 will be ignored. Current value: bagging_fraction=0.7031798656893201\n",
            "[LightGBM] [Warning] bagging_freq is set=2, subsample_freq=0 will be ignored. Current value: bagging_freq=2\n",
            "[LightGBM] [Warning] feature_fraction is set=0.988461185774873, colsample_bytree=1.0 will be ignored. Current value: feature_fraction=0.988461185774873\n",
            "[LightGBM] [Warning] lambda_l2 is set=1.2247400328804644e-07, reg_lambda=0.0 will be ignored. Current value: lambda_l2=1.2247400328804644e-07\n",
            "[LightGBM] [Warning] lambda_l1 is set=7.084436560811849e-05, reg_alpha=0.0 will be ignored. Current value: lambda_l1=7.084436560811849e-05\n",
            "[LightGBM] [Warning] bagging_fraction is set=0.7031798656893201, subsample=1.0 will be ignored. Current value: bagging_fraction=0.7031798656893201\n",
            "[LightGBM] [Warning] bagging_freq is set=2, subsample_freq=0 will be ignored. Current value: bagging_freq=2\n",
            "[LightGBM] [Info] Auto-choosing row-wise multi-threading, the overhead of testing was 0.144534 seconds.\n",
            "You can set `force_row_wise=true` to remove the overhead.\n",
            "And if memory is not enough, you can set `force_col_wise=true`.\n",
            "[LightGBM] [Info] Total Bins 25279\n",
            "[LightGBM] [Info] Number of data points in the train set: 181724, number of used features: 140\n",
            "[LightGBM] [Warning] feature_fraction is set=0.988461185774873, colsample_bytree=1.0 will be ignored. Current value: feature_fraction=0.988461185774873\n",
            "[LightGBM] [Warning] lambda_l2 is set=1.2247400328804644e-07, reg_lambda=0.0 will be ignored. Current value: lambda_l2=1.2247400328804644e-07\n",
            "[LightGBM] [Warning] lambda_l1 is set=7.084436560811849e-05, reg_alpha=0.0 will be ignored. Current value: lambda_l1=7.084436560811849e-05\n",
            "[LightGBM] [Warning] bagging_fraction is set=0.7031798656893201, subsample=1.0 will be ignored. Current value: bagging_fraction=0.7031798656893201\n",
            "[LightGBM] [Warning] bagging_freq is set=2, subsample_freq=0 will be ignored. Current value: bagging_freq=2\n",
            "[LightGBM] [Warning] feature_fraction is set=0.988461185774873, colsample_bytree=1.0 will be ignored. Current value: feature_fraction=0.988461185774873\n",
            "[LightGBM] [Warning] lambda_l2 is set=1.2247400328804644e-07, reg_lambda=0.0 will be ignored. Current value: lambda_l2=1.2247400328804644e-07\n",
            "[LightGBM] [Warning] lambda_l1 is set=7.084436560811849e-05, reg_alpha=0.0 will be ignored. Current value: lambda_l1=7.084436560811849e-05\n",
            "[LightGBM] [Warning] bagging_fraction is set=0.7031798656893201, subsample=1.0 will be ignored. Current value: bagging_fraction=0.7031798656893201\n",
            "[LightGBM] [Warning] bagging_freq is set=2, subsample_freq=0 will be ignored. Current value: bagging_freq=2\n"
          ]
        },
        {
          "output_type": "stream",
          "name": "stderr",
          "text": [
            "[I 2024-04-29 16:35:27,530] Trial 61 finished with value: 0.7456298460447878 and parameters: {'learning_rate': 0.07274317480211787, 'num_leaves': 228, 'feature_fraction': 0.988461185774873, 'bagging_fraction': 0.7031798656893201, 'bagging_freq': 2, 'min_child_samples': 35, 'lambda_l1': 7.084436560811849e-05, 'lambda_l2': 1.2247400328804644e-07}. Best is trial 42 with value: 0.9015961918657435.\n"
          ]
        },
        {
          "output_type": "stream",
          "name": "stdout",
          "text": [
            "[LightGBM] [Warning] feature_fraction is set=0.959184348177509, colsample_bytree=1.0 will be ignored. Current value: feature_fraction=0.959184348177509\n",
            "[LightGBM] [Warning] lambda_l2 is set=2.0909440132116662e-08, reg_lambda=0.0 will be ignored. Current value: lambda_l2=2.0909440132116662e-08\n",
            "[LightGBM] [Warning] lambda_l1 is set=2.1662913632717722e-05, reg_alpha=0.0 will be ignored. Current value: lambda_l1=2.1662913632717722e-05\n",
            "[LightGBM] [Warning] bagging_fraction is set=0.7227086392392257, subsample=1.0 will be ignored. Current value: bagging_fraction=0.7227086392392257\n",
            "[LightGBM] [Warning] bagging_freq is set=1, subsample_freq=0 will be ignored. Current value: bagging_freq=1\n",
            "[LightGBM] [Warning] feature_fraction is set=0.959184348177509, colsample_bytree=1.0 will be ignored. Current value: feature_fraction=0.959184348177509\n",
            "[LightGBM] [Warning] lambda_l2 is set=2.0909440132116662e-08, reg_lambda=0.0 will be ignored. Current value: lambda_l2=2.0909440132116662e-08\n",
            "[LightGBM] [Warning] lambda_l1 is set=2.1662913632717722e-05, reg_alpha=0.0 will be ignored. Current value: lambda_l1=2.1662913632717722e-05\n",
            "[LightGBM] [Warning] bagging_fraction is set=0.7227086392392257, subsample=1.0 will be ignored. Current value: bagging_fraction=0.7227086392392257\n",
            "[LightGBM] [Warning] bagging_freq is set=1, subsample_freq=0 will be ignored. Current value: bagging_freq=1\n",
            "[LightGBM] [Info] Auto-choosing row-wise multi-threading, the overhead of testing was 0.144068 seconds.\n",
            "You can set `force_row_wise=true` to remove the overhead.\n",
            "And if memory is not enough, you can set `force_col_wise=true`.\n",
            "[LightGBM] [Info] Total Bins 25279\n",
            "[LightGBM] [Info] Number of data points in the train set: 181724, number of used features: 140\n",
            "[LightGBM] [Warning] feature_fraction is set=0.959184348177509, colsample_bytree=1.0 will be ignored. Current value: feature_fraction=0.959184348177509\n",
            "[LightGBM] [Warning] lambda_l2 is set=2.0909440132116662e-08, reg_lambda=0.0 will be ignored. Current value: lambda_l2=2.0909440132116662e-08\n",
            "[LightGBM] [Warning] lambda_l1 is set=2.1662913632717722e-05, reg_alpha=0.0 will be ignored. Current value: lambda_l1=2.1662913632717722e-05\n",
            "[LightGBM] [Warning] bagging_fraction is set=0.7227086392392257, subsample=1.0 will be ignored. Current value: bagging_fraction=0.7227086392392257\n",
            "[LightGBM] [Warning] bagging_freq is set=1, subsample_freq=0 will be ignored. Current value: bagging_freq=1\n",
            "[LightGBM] [Warning] feature_fraction is set=0.959184348177509, colsample_bytree=1.0 will be ignored. Current value: feature_fraction=0.959184348177509\n",
            "[LightGBM] [Warning] lambda_l2 is set=2.0909440132116662e-08, reg_lambda=0.0 will be ignored. Current value: lambda_l2=2.0909440132116662e-08\n",
            "[LightGBM] [Warning] lambda_l1 is set=2.1662913632717722e-05, reg_alpha=0.0 will be ignored. Current value: lambda_l1=2.1662913632717722e-05\n",
            "[LightGBM] [Warning] bagging_fraction is set=0.7227086392392257, subsample=1.0 will be ignored. Current value: bagging_fraction=0.7227086392392257\n",
            "[LightGBM] [Warning] bagging_freq is set=1, subsample_freq=0 will be ignored. Current value: bagging_freq=1\n"
          ]
        },
        {
          "output_type": "stream",
          "name": "stderr",
          "text": [
            "[I 2024-04-29 16:36:06,512] Trial 62 finished with value: 0.7456298460447878 and parameters: {'learning_rate': 0.09350142132520323, 'num_leaves': 244, 'feature_fraction': 0.959184348177509, 'bagging_fraction': 0.7227086392392257, 'bagging_freq': 1, 'min_child_samples': 39, 'lambda_l1': 2.1662913632717722e-05, 'lambda_l2': 2.0909440132116662e-08}. Best is trial 42 with value: 0.9015961918657435.\n"
          ]
        },
        {
          "output_type": "stream",
          "name": "stdout",
          "text": [
            "[LightGBM] [Warning] feature_fraction is set=0.9990604089911935, colsample_bytree=1.0 will be ignored. Current value: feature_fraction=0.9990604089911935\n",
            "[LightGBM] [Warning] lambda_l2 is set=3.1404296588859186e-07, reg_lambda=0.0 will be ignored. Current value: lambda_l2=3.1404296588859186e-07\n",
            "[LightGBM] [Warning] lambda_l1 is set=0.0001358505291279776, reg_alpha=0.0 will be ignored. Current value: lambda_l1=0.0001358505291279776\n",
            "[LightGBM] [Warning] bagging_fraction is set=0.7459533074711145, subsample=1.0 will be ignored. Current value: bagging_fraction=0.7459533074711145\n",
            "[LightGBM] [Warning] bagging_freq is set=2, subsample_freq=0 will be ignored. Current value: bagging_freq=2\n",
            "[LightGBM] [Warning] feature_fraction is set=0.9990604089911935, colsample_bytree=1.0 will be ignored. Current value: feature_fraction=0.9990604089911935\n",
            "[LightGBM] [Warning] lambda_l2 is set=3.1404296588859186e-07, reg_lambda=0.0 will be ignored. Current value: lambda_l2=3.1404296588859186e-07\n",
            "[LightGBM] [Warning] lambda_l1 is set=0.0001358505291279776, reg_alpha=0.0 will be ignored. Current value: lambda_l1=0.0001358505291279776\n",
            "[LightGBM] [Warning] bagging_fraction is set=0.7459533074711145, subsample=1.0 will be ignored. Current value: bagging_fraction=0.7459533074711145\n",
            "[LightGBM] [Warning] bagging_freq is set=2, subsample_freq=0 will be ignored. Current value: bagging_freq=2\n",
            "[LightGBM] [Info] Auto-choosing row-wise multi-threading, the overhead of testing was 0.154965 seconds.\n",
            "You can set `force_row_wise=true` to remove the overhead.\n",
            "And if memory is not enough, you can set `force_col_wise=true`.\n",
            "[LightGBM] [Info] Total Bins 25279\n",
            "[LightGBM] [Info] Number of data points in the train set: 181724, number of used features: 140\n",
            "[LightGBM] [Warning] feature_fraction is set=0.9990604089911935, colsample_bytree=1.0 will be ignored. Current value: feature_fraction=0.9990604089911935\n",
            "[LightGBM] [Warning] lambda_l2 is set=3.1404296588859186e-07, reg_lambda=0.0 will be ignored. Current value: lambda_l2=3.1404296588859186e-07\n",
            "[LightGBM] [Warning] lambda_l1 is set=0.0001358505291279776, reg_alpha=0.0 will be ignored. Current value: lambda_l1=0.0001358505291279776\n",
            "[LightGBM] [Warning] bagging_fraction is set=0.7459533074711145, subsample=1.0 will be ignored. Current value: bagging_fraction=0.7459533074711145\n",
            "[LightGBM] [Warning] bagging_freq is set=2, subsample_freq=0 will be ignored. Current value: bagging_freq=2\n",
            "[LightGBM] [Warning] feature_fraction is set=0.9990604089911935, colsample_bytree=1.0 will be ignored. Current value: feature_fraction=0.9990604089911935\n",
            "[LightGBM] [Warning] lambda_l2 is set=3.1404296588859186e-07, reg_lambda=0.0 will be ignored. Current value: lambda_l2=3.1404296588859186e-07\n",
            "[LightGBM] [Warning] lambda_l1 is set=0.0001358505291279776, reg_alpha=0.0 will be ignored. Current value: lambda_l1=0.0001358505291279776\n",
            "[LightGBM] [Warning] bagging_fraction is set=0.7459533074711145, subsample=1.0 will be ignored. Current value: bagging_fraction=0.7459533074711145\n",
            "[LightGBM] [Warning] bagging_freq is set=2, subsample_freq=0 will be ignored. Current value: bagging_freq=2\n"
          ]
        },
        {
          "output_type": "stream",
          "name": "stderr",
          "text": [
            "[I 2024-04-29 16:36:44,580] Trial 63 finished with value: 0.8362978355617173 and parameters: {'learning_rate': 0.2832182732283639, 'num_leaves': 192, 'feature_fraction': 0.9990604089911935, 'bagging_fraction': 0.7459533074711145, 'bagging_freq': 2, 'min_child_samples': 32, 'lambda_l1': 0.0001358505291279776, 'lambda_l2': 3.1404296588859186e-07}. Best is trial 42 with value: 0.9015961918657435.\n"
          ]
        },
        {
          "output_type": "stream",
          "name": "stdout",
          "text": [
            "[LightGBM] [Warning] feature_fraction is set=0.9832568177800102, colsample_bytree=1.0 will be ignored. Current value: feature_fraction=0.9832568177800102\n",
            "[LightGBM] [Warning] lambda_l2 is set=9.910264457948877e-08, reg_lambda=0.0 will be ignored. Current value: lambda_l2=9.910264457948877e-08\n",
            "[LightGBM] [Warning] lambda_l1 is set=0.00044321035824499837, reg_alpha=0.0 will be ignored. Current value: lambda_l1=0.00044321035824499837\n",
            "[LightGBM] [Warning] bagging_fraction is set=0.7334718498677308, subsample=1.0 will be ignored. Current value: bagging_fraction=0.7334718498677308\n",
            "[LightGBM] [Warning] bagging_freq is set=1, subsample_freq=0 will be ignored. Current value: bagging_freq=1\n",
            "[LightGBM] [Warning] feature_fraction is set=0.9832568177800102, colsample_bytree=1.0 will be ignored. Current value: feature_fraction=0.9832568177800102\n",
            "[LightGBM] [Warning] lambda_l2 is set=9.910264457948877e-08, reg_lambda=0.0 will be ignored. Current value: lambda_l2=9.910264457948877e-08\n",
            "[LightGBM] [Warning] lambda_l1 is set=0.00044321035824499837, reg_alpha=0.0 will be ignored. Current value: lambda_l1=0.00044321035824499837\n",
            "[LightGBM] [Warning] bagging_fraction is set=0.7334718498677308, subsample=1.0 will be ignored. Current value: bagging_fraction=0.7334718498677308\n",
            "[LightGBM] [Warning] bagging_freq is set=1, subsample_freq=0 will be ignored. Current value: bagging_freq=1\n",
            "[LightGBM] [Info] Auto-choosing row-wise multi-threading, the overhead of testing was 0.262010 seconds.\n",
            "You can set `force_row_wise=true` to remove the overhead.\n",
            "And if memory is not enough, you can set `force_col_wise=true`.\n",
            "[LightGBM] [Info] Total Bins 25279\n",
            "[LightGBM] [Info] Number of data points in the train set: 181724, number of used features: 140\n",
            "[LightGBM] [Warning] feature_fraction is set=0.9832568177800102, colsample_bytree=1.0 will be ignored. Current value: feature_fraction=0.9832568177800102\n",
            "[LightGBM] [Warning] lambda_l2 is set=9.910264457948877e-08, reg_lambda=0.0 will be ignored. Current value: lambda_l2=9.910264457948877e-08\n",
            "[LightGBM] [Warning] lambda_l1 is set=0.00044321035824499837, reg_alpha=0.0 will be ignored. Current value: lambda_l1=0.00044321035824499837\n",
            "[LightGBM] [Warning] bagging_fraction is set=0.7334718498677308, subsample=1.0 will be ignored. Current value: bagging_fraction=0.7334718498677308\n",
            "[LightGBM] [Warning] bagging_freq is set=1, subsample_freq=0 will be ignored. Current value: bagging_freq=1\n",
            "[LightGBM] [Warning] feature_fraction is set=0.9832568177800102, colsample_bytree=1.0 will be ignored. Current value: feature_fraction=0.9832568177800102\n",
            "[LightGBM] [Warning] lambda_l2 is set=9.910264457948877e-08, reg_lambda=0.0 will be ignored. Current value: lambda_l2=9.910264457948877e-08\n",
            "[LightGBM] [Warning] lambda_l1 is set=0.00044321035824499837, reg_alpha=0.0 will be ignored. Current value: lambda_l1=0.00044321035824499837\n",
            "[LightGBM] [Warning] bagging_fraction is set=0.7334718498677308, subsample=1.0 will be ignored. Current value: bagging_fraction=0.7334718498677308\n",
            "[LightGBM] [Warning] bagging_freq is set=1, subsample_freq=0 will be ignored. Current value: bagging_freq=1\n"
          ]
        },
        {
          "output_type": "stream",
          "name": "stderr",
          "text": [
            "[I 2024-04-29 16:37:24,949] Trial 64 finished with value: 0.7739077626929334 and parameters: {'learning_rate': 0.10555228986697905, 'num_leaves': 255, 'feature_fraction': 0.9832568177800102, 'bagging_fraction': 0.7334718498677308, 'bagging_freq': 1, 'min_child_samples': 50, 'lambda_l1': 0.00044321035824499837, 'lambda_l2': 9.910264457948877e-08}. Best is trial 42 with value: 0.9015961918657435.\n"
          ]
        },
        {
          "output_type": "stream",
          "name": "stdout",
          "text": [
            "[LightGBM] [Warning] feature_fraction is set=0.9325798036072109, colsample_bytree=1.0 will be ignored. Current value: feature_fraction=0.9325798036072109\n",
            "[LightGBM] [Warning] lambda_l2 is set=4.820656584750142e-06, reg_lambda=0.0 will be ignored. Current value: lambda_l2=4.820656584750142e-06\n",
            "[LightGBM] [Warning] lambda_l1 is set=2.3826249679424464e-06, reg_alpha=0.0 will be ignored. Current value: lambda_l1=2.3826249679424464e-06\n",
            "[LightGBM] [Warning] bagging_fraction is set=0.7722790831749382, subsample=1.0 will be ignored. Current value: bagging_fraction=0.7722790831749382\n",
            "[LightGBM] [Warning] bagging_freq is set=4, subsample_freq=0 will be ignored. Current value: bagging_freq=4\n",
            "[LightGBM] [Warning] feature_fraction is set=0.9325798036072109, colsample_bytree=1.0 will be ignored. Current value: feature_fraction=0.9325798036072109\n",
            "[LightGBM] [Warning] lambda_l2 is set=4.820656584750142e-06, reg_lambda=0.0 will be ignored. Current value: lambda_l2=4.820656584750142e-06\n",
            "[LightGBM] [Warning] lambda_l1 is set=2.3826249679424464e-06, reg_alpha=0.0 will be ignored. Current value: lambda_l1=2.3826249679424464e-06\n",
            "[LightGBM] [Warning] bagging_fraction is set=0.7722790831749382, subsample=1.0 will be ignored. Current value: bagging_fraction=0.7722790831749382\n",
            "[LightGBM] [Warning] bagging_freq is set=4, subsample_freq=0 will be ignored. Current value: bagging_freq=4\n",
            "[LightGBM] [Info] Auto-choosing row-wise multi-threading, the overhead of testing was 0.228010 seconds.\n",
            "You can set `force_row_wise=true` to remove the overhead.\n",
            "And if memory is not enough, you can set `force_col_wise=true`.\n",
            "[LightGBM] [Info] Total Bins 25279\n",
            "[LightGBM] [Info] Number of data points in the train set: 181724, number of used features: 140\n",
            "[LightGBM] [Warning] feature_fraction is set=0.9325798036072109, colsample_bytree=1.0 will be ignored. Current value: feature_fraction=0.9325798036072109\n",
            "[LightGBM] [Warning] lambda_l2 is set=4.820656584750142e-06, reg_lambda=0.0 will be ignored. Current value: lambda_l2=4.820656584750142e-06\n",
            "[LightGBM] [Warning] lambda_l1 is set=2.3826249679424464e-06, reg_alpha=0.0 will be ignored. Current value: lambda_l1=2.3826249679424464e-06\n",
            "[LightGBM] [Warning] bagging_fraction is set=0.7722790831749382, subsample=1.0 will be ignored. Current value: bagging_fraction=0.7722790831749382\n",
            "[LightGBM] [Warning] bagging_freq is set=4, subsample_freq=0 will be ignored. Current value: bagging_freq=4\n",
            "[LightGBM] [Warning] feature_fraction is set=0.9325798036072109, colsample_bytree=1.0 will be ignored. Current value: feature_fraction=0.9325798036072109\n",
            "[LightGBM] [Warning] lambda_l2 is set=4.820656584750142e-06, reg_lambda=0.0 will be ignored. Current value: lambda_l2=4.820656584750142e-06\n",
            "[LightGBM] [Warning] lambda_l1 is set=2.3826249679424464e-06, reg_alpha=0.0 will be ignored. Current value: lambda_l1=2.3826249679424464e-06\n",
            "[LightGBM] [Warning] bagging_fraction is set=0.7722790831749382, subsample=1.0 will be ignored. Current value: bagging_fraction=0.7722790831749382\n",
            "[LightGBM] [Warning] bagging_freq is set=4, subsample_freq=0 will be ignored. Current value: bagging_freq=4\n"
          ]
        },
        {
          "output_type": "stream",
          "name": "stderr",
          "text": [
            "[I 2024-04-29 16:38:11,924] Trial 65 finished with value: 0.6800273072886168 and parameters: {'learning_rate': 0.06422999970240949, 'num_leaves': 292, 'feature_fraction': 0.9325798036072109, 'bagging_fraction': 0.7722790831749382, 'bagging_freq': 4, 'min_child_samples': 39, 'lambda_l1': 2.3826249679424464e-06, 'lambda_l2': 4.820656584750142e-06}. Best is trial 42 with value: 0.9015961918657435.\n"
          ]
        },
        {
          "output_type": "stream",
          "name": "stdout",
          "text": [
            "[LightGBM] [Warning] feature_fraction is set=0.9107565140792571, colsample_bytree=1.0 will be ignored. Current value: feature_fraction=0.9107565140792571\n",
            "[LightGBM] [Warning] lambda_l2 is set=8.736680264841392e-07, reg_lambda=0.0 will be ignored. Current value: lambda_l2=8.736680264841392e-07\n",
            "[LightGBM] [Warning] lambda_l1 is set=1.5604777538007648e-05, reg_alpha=0.0 will be ignored. Current value: lambda_l1=1.5604777538007648e-05\n",
            "[LightGBM] [Warning] bagging_fraction is set=0.708803739644459, subsample=1.0 will be ignored. Current value: bagging_fraction=0.708803739644459\n",
            "[LightGBM] [Warning] bagging_freq is set=3, subsample_freq=0 will be ignored. Current value: bagging_freq=3\n",
            "[LightGBM] [Warning] feature_fraction is set=0.9107565140792571, colsample_bytree=1.0 will be ignored. Current value: feature_fraction=0.9107565140792571\n",
            "[LightGBM] [Warning] lambda_l2 is set=8.736680264841392e-07, reg_lambda=0.0 will be ignored. Current value: lambda_l2=8.736680264841392e-07\n",
            "[LightGBM] [Warning] lambda_l1 is set=1.5604777538007648e-05, reg_alpha=0.0 will be ignored. Current value: lambda_l1=1.5604777538007648e-05\n",
            "[LightGBM] [Warning] bagging_fraction is set=0.708803739644459, subsample=1.0 will be ignored. Current value: bagging_fraction=0.708803739644459\n",
            "[LightGBM] [Warning] bagging_freq is set=3, subsample_freq=0 will be ignored. Current value: bagging_freq=3\n",
            "[LightGBM] [Info] Auto-choosing row-wise multi-threading, the overhead of testing was 0.157881 seconds.\n",
            "You can set `force_row_wise=true` to remove the overhead.\n",
            "And if memory is not enough, you can set `force_col_wise=true`.\n",
            "[LightGBM] [Info] Total Bins 25279\n",
            "[LightGBM] [Info] Number of data points in the train set: 181724, number of used features: 140\n",
            "[LightGBM] [Warning] feature_fraction is set=0.9107565140792571, colsample_bytree=1.0 will be ignored. Current value: feature_fraction=0.9107565140792571\n",
            "[LightGBM] [Warning] lambda_l2 is set=8.736680264841392e-07, reg_lambda=0.0 will be ignored. Current value: lambda_l2=8.736680264841392e-07\n",
            "[LightGBM] [Warning] lambda_l1 is set=1.5604777538007648e-05, reg_alpha=0.0 will be ignored. Current value: lambda_l1=1.5604777538007648e-05\n",
            "[LightGBM] [Warning] bagging_fraction is set=0.708803739644459, subsample=1.0 will be ignored. Current value: bagging_fraction=0.708803739644459\n",
            "[LightGBM] [Warning] bagging_freq is set=3, subsample_freq=0 will be ignored. Current value: bagging_freq=3\n",
            "[LightGBM] [Warning] feature_fraction is set=0.9107565140792571, colsample_bytree=1.0 will be ignored. Current value: feature_fraction=0.9107565140792571\n",
            "[LightGBM] [Warning] lambda_l2 is set=8.736680264841392e-07, reg_lambda=0.0 will be ignored. Current value: lambda_l2=8.736680264841392e-07\n",
            "[LightGBM] [Warning] lambda_l1 is set=1.5604777538007648e-05, reg_alpha=0.0 will be ignored. Current value: lambda_l1=1.5604777538007648e-05\n",
            "[LightGBM] [Warning] bagging_fraction is set=0.708803739644459, subsample=1.0 will be ignored. Current value: bagging_fraction=0.708803739644459\n",
            "[LightGBM] [Warning] bagging_freq is set=3, subsample_freq=0 will be ignored. Current value: bagging_freq=3\n"
          ]
        },
        {
          "output_type": "stream",
          "name": "stderr",
          "text": [
            "[I 2024-04-29 16:38:52,056] Trial 66 finished with value: 0.7456298460447878 and parameters: {'learning_rate': 0.08272838612385008, 'num_leaves': 212, 'feature_fraction': 0.9107565140792571, 'bagging_fraction': 0.708803739644459, 'bagging_freq': 3, 'min_child_samples': 29, 'lambda_l1': 1.5604777538007648e-05, 'lambda_l2': 8.736680264841392e-07}. Best is trial 42 with value: 0.9015961918657435.\n"
          ]
        },
        {
          "output_type": "stream",
          "name": "stdout",
          "text": [
            "[LightGBM] [Warning] feature_fraction is set=0.6535581072320291, colsample_bytree=1.0 will be ignored. Current value: feature_fraction=0.6535581072320291\n",
            "[LightGBM] [Warning] lambda_l2 is set=2.0507654727775593e-06, reg_lambda=0.0 will be ignored. Current value: lambda_l2=2.0507654727775593e-06\n",
            "[LightGBM] [Warning] lambda_l1 is set=0.40470273753191405, reg_alpha=0.0 will be ignored. Current value: lambda_l1=0.40470273753191405\n",
            "[LightGBM] [Warning] bagging_fraction is set=0.7811692170064723, subsample=1.0 will be ignored. Current value: bagging_fraction=0.7811692170064723\n",
            "[LightGBM] [Warning] bagging_freq is set=1, subsample_freq=0 will be ignored. Current value: bagging_freq=1\n",
            "[LightGBM] [Warning] feature_fraction is set=0.6535581072320291, colsample_bytree=1.0 will be ignored. Current value: feature_fraction=0.6535581072320291\n",
            "[LightGBM] [Warning] lambda_l2 is set=2.0507654727775593e-06, reg_lambda=0.0 will be ignored. Current value: lambda_l2=2.0507654727775593e-06\n",
            "[LightGBM] [Warning] lambda_l1 is set=0.40470273753191405, reg_alpha=0.0 will be ignored. Current value: lambda_l1=0.40470273753191405\n",
            "[LightGBM] [Warning] bagging_fraction is set=0.7811692170064723, subsample=1.0 will be ignored. Current value: bagging_fraction=0.7811692170064723\n",
            "[LightGBM] [Warning] bagging_freq is set=1, subsample_freq=0 will be ignored. Current value: bagging_freq=1\n",
            "[LightGBM] [Info] Auto-choosing col-wise multi-threading, the overhead of testing was 0.392787 seconds.\n",
            "You can set `force_col_wise=true` to remove the overhead.\n",
            "[LightGBM] [Info] Total Bins 25279\n",
            "[LightGBM] [Info] Number of data points in the train set: 181724, number of used features: 140\n",
            "[LightGBM] [Warning] feature_fraction is set=0.6535581072320291, colsample_bytree=1.0 will be ignored. Current value: feature_fraction=0.6535581072320291\n",
            "[LightGBM] [Warning] lambda_l2 is set=2.0507654727775593e-06, reg_lambda=0.0 will be ignored. Current value: lambda_l2=2.0507654727775593e-06\n",
            "[LightGBM] [Warning] lambda_l1 is set=0.40470273753191405, reg_alpha=0.0 will be ignored. Current value: lambda_l1=0.40470273753191405\n",
            "[LightGBM] [Warning] bagging_fraction is set=0.7811692170064723, subsample=1.0 will be ignored. Current value: bagging_fraction=0.7811692170064723\n",
            "[LightGBM] [Warning] bagging_freq is set=1, subsample_freq=0 will be ignored. Current value: bagging_freq=1\n",
            "[LightGBM] [Warning] feature_fraction is set=0.6535581072320291, colsample_bytree=1.0 will be ignored. Current value: feature_fraction=0.6535581072320291\n",
            "[LightGBM] [Warning] lambda_l2 is set=2.0507654727775593e-06, reg_lambda=0.0 will be ignored. Current value: lambda_l2=2.0507654727775593e-06\n",
            "[LightGBM] [Warning] lambda_l1 is set=0.40470273753191405, reg_alpha=0.0 will be ignored. Current value: lambda_l1=0.40470273753191405\n",
            "[LightGBM] [Warning] bagging_fraction is set=0.7811692170064723, subsample=1.0 will be ignored. Current value: bagging_fraction=0.7811692170064723\n",
            "[LightGBM] [Warning] bagging_freq is set=1, subsample_freq=0 will be ignored. Current value: bagging_freq=1\n"
          ]
        },
        {
          "output_type": "stream",
          "name": "stderr",
          "text": [
            "[I 2024-04-29 16:39:34,349] Trial 67 finished with value: 0.7269675349907752 and parameters: {'learning_rate': 0.028889685192278053, 'num_leaves': 271, 'feature_fraction': 0.6535581072320291, 'bagging_fraction': 0.7811692170064723, 'bagging_freq': 1, 'min_child_samples': 62, 'lambda_l1': 0.40470273753191405, 'lambda_l2': 2.0507654727775593e-06}. Best is trial 42 with value: 0.9015961918657435.\n"
          ]
        },
        {
          "output_type": "stream",
          "name": "stdout",
          "text": [
            "[LightGBM] [Warning] feature_fraction is set=0.8662533141261209, colsample_bytree=1.0 will be ignored. Current value: feature_fraction=0.8662533141261209\n",
            "[LightGBM] [Warning] lambda_l2 is set=1.2245362144914043e-05, reg_lambda=0.0 will be ignored. Current value: lambda_l2=1.2245362144914043e-05\n",
            "[LightGBM] [Warning] lambda_l1 is set=0.0051205847482619716, reg_alpha=0.0 will be ignored. Current value: lambda_l1=0.0051205847482619716\n",
            "[LightGBM] [Warning] bagging_fraction is set=0.8103932939337507, subsample=1.0 will be ignored. Current value: bagging_fraction=0.8103932939337507\n",
            "[LightGBM] [Warning] bagging_freq is set=2, subsample_freq=0 will be ignored. Current value: bagging_freq=2\n",
            "[LightGBM] [Warning] feature_fraction is set=0.8662533141261209, colsample_bytree=1.0 will be ignored. Current value: feature_fraction=0.8662533141261209\n",
            "[LightGBM] [Warning] lambda_l2 is set=1.2245362144914043e-05, reg_lambda=0.0 will be ignored. Current value: lambda_l2=1.2245362144914043e-05\n",
            "[LightGBM] [Warning] lambda_l1 is set=0.0051205847482619716, reg_alpha=0.0 will be ignored. Current value: lambda_l1=0.0051205847482619716\n",
            "[LightGBM] [Warning] bagging_fraction is set=0.8103932939337507, subsample=1.0 will be ignored. Current value: bagging_fraction=0.8103932939337507\n",
            "[LightGBM] [Warning] bagging_freq is set=2, subsample_freq=0 will be ignored. Current value: bagging_freq=2\n",
            "[LightGBM] [Info] Auto-choosing row-wise multi-threading, the overhead of testing was 0.174030 seconds.\n",
            "You can set `force_row_wise=true` to remove the overhead.\n",
            "And if memory is not enough, you can set `force_col_wise=true`.\n",
            "[LightGBM] [Info] Total Bins 25279\n",
            "[LightGBM] [Info] Number of data points in the train set: 181724, number of used features: 140\n",
            "[LightGBM] [Warning] feature_fraction is set=0.8662533141261209, colsample_bytree=1.0 will be ignored. Current value: feature_fraction=0.8662533141261209\n",
            "[LightGBM] [Warning] lambda_l2 is set=1.2245362144914043e-05, reg_lambda=0.0 will be ignored. Current value: lambda_l2=1.2245362144914043e-05\n",
            "[LightGBM] [Warning] lambda_l1 is set=0.0051205847482619716, reg_alpha=0.0 will be ignored. Current value: lambda_l1=0.0051205847482619716\n",
            "[LightGBM] [Warning] bagging_fraction is set=0.8103932939337507, subsample=1.0 will be ignored. Current value: bagging_fraction=0.8103932939337507\n",
            "[LightGBM] [Warning] bagging_freq is set=2, subsample_freq=0 will be ignored. Current value: bagging_freq=2\n",
            "[LightGBM] [Warning] feature_fraction is set=0.8662533141261209, colsample_bytree=1.0 will be ignored. Current value: feature_fraction=0.8662533141261209\n",
            "[LightGBM] [Warning] lambda_l2 is set=1.2245362144914043e-05, reg_lambda=0.0 will be ignored. Current value: lambda_l2=1.2245362144914043e-05\n",
            "[LightGBM] [Warning] lambda_l1 is set=0.0051205847482619716, reg_alpha=0.0 will be ignored. Current value: lambda_l1=0.0051205847482619716\n",
            "[LightGBM] [Warning] bagging_fraction is set=0.8103932939337507, subsample=1.0 will be ignored. Current value: bagging_fraction=0.8103932939337507\n",
            "[LightGBM] [Warning] bagging_freq is set=2, subsample_freq=0 will be ignored. Current value: bagging_freq=2\n"
          ]
        },
        {
          "output_type": "stream",
          "name": "stderr",
          "text": [
            "[I 2024-04-29 16:40:18,416] Trial 68 finished with value: 0.9343974612438289 and parameters: {'learning_rate': 0.19352984792919467, 'num_leaves': 276, 'feature_fraction': 0.8662533141261209, 'bagging_fraction': 0.8103932939337507, 'bagging_freq': 2, 'min_child_samples': 56, 'lambda_l1': 0.0051205847482619716, 'lambda_l2': 1.2245362144914043e-05}. Best is trial 68 with value: 0.9343974612438289.\n"
          ]
        },
        {
          "output_type": "stream",
          "name": "stdout",
          "text": [
            "[LightGBM] [Warning] feature_fraction is set=0.8186597795044386, colsample_bytree=1.0 will be ignored. Current value: feature_fraction=0.8186597795044386\n",
            "[LightGBM] [Warning] lambda_l2 is set=4.3725419673608317e-05, reg_lambda=0.0 will be ignored. Current value: lambda_l2=4.3725419673608317e-05\n",
            "[LightGBM] [Warning] lambda_l1 is set=0.035691928218508515, reg_alpha=0.0 will be ignored. Current value: lambda_l1=0.035691928218508515\n",
            "[LightGBM] [Warning] bagging_fraction is set=0.8124891787866746, subsample=1.0 will be ignored. Current value: bagging_fraction=0.8124891787866746\n",
            "[LightGBM] [Warning] bagging_freq is set=3, subsample_freq=0 will be ignored. Current value: bagging_freq=3\n",
            "[LightGBM] [Warning] feature_fraction is set=0.8186597795044386, colsample_bytree=1.0 will be ignored. Current value: feature_fraction=0.8186597795044386\n",
            "[LightGBM] [Warning] lambda_l2 is set=4.3725419673608317e-05, reg_lambda=0.0 will be ignored. Current value: lambda_l2=4.3725419673608317e-05\n",
            "[LightGBM] [Warning] lambda_l1 is set=0.035691928218508515, reg_alpha=0.0 will be ignored. Current value: lambda_l1=0.035691928218508515\n",
            "[LightGBM] [Warning] bagging_fraction is set=0.8124891787866746, subsample=1.0 will be ignored. Current value: bagging_fraction=0.8124891787866746\n",
            "[LightGBM] [Warning] bagging_freq is set=3, subsample_freq=0 will be ignored. Current value: bagging_freq=3\n",
            "[LightGBM] [Info] Auto-choosing row-wise multi-threading, the overhead of testing was 0.141669 seconds.\n",
            "You can set `force_row_wise=true` to remove the overhead.\n",
            "And if memory is not enough, you can set `force_col_wise=true`.\n",
            "[LightGBM] [Info] Total Bins 25279\n",
            "[LightGBM] [Info] Number of data points in the train set: 181724, number of used features: 140\n",
            "[LightGBM] [Warning] feature_fraction is set=0.8186597795044386, colsample_bytree=1.0 will be ignored. Current value: feature_fraction=0.8186597795044386\n",
            "[LightGBM] [Warning] lambda_l2 is set=4.3725419673608317e-05, reg_lambda=0.0 will be ignored. Current value: lambda_l2=4.3725419673608317e-05\n",
            "[LightGBM] [Warning] lambda_l1 is set=0.035691928218508515, reg_alpha=0.0 will be ignored. Current value: lambda_l1=0.035691928218508515\n",
            "[LightGBM] [Warning] bagging_fraction is set=0.8124891787866746, subsample=1.0 will be ignored. Current value: bagging_fraction=0.8124891787866746\n",
            "[LightGBM] [Warning] bagging_freq is set=3, subsample_freq=0 will be ignored. Current value: bagging_freq=3\n",
            "[LightGBM] [Warning] feature_fraction is set=0.8186597795044386, colsample_bytree=1.0 will be ignored. Current value: feature_fraction=0.8186597795044386\n",
            "[LightGBM] [Warning] lambda_l2 is set=4.3725419673608317e-05, reg_lambda=0.0 will be ignored. Current value: lambda_l2=4.3725419673608317e-05\n",
            "[LightGBM] [Warning] lambda_l1 is set=0.035691928218508515, reg_alpha=0.0 will be ignored. Current value: lambda_l1=0.035691928218508515\n",
            "[LightGBM] [Warning] bagging_fraction is set=0.8124891787866746, subsample=1.0 will be ignored. Current value: bagging_fraction=0.8124891787866746\n",
            "[LightGBM] [Warning] bagging_freq is set=3, subsample_freq=0 will be ignored. Current value: bagging_freq=3\n"
          ]
        },
        {
          "output_type": "stream",
          "name": "stderr",
          "text": [
            "[I 2024-04-29 16:41:00,483] Trial 69 finished with value: 0.7208686349811619 and parameters: {'learning_rate': 0.21714313002804186, 'num_leaves': 274, 'feature_fraction': 0.8186597795044386, 'bagging_fraction': 0.8124891787866746, 'bagging_freq': 3, 'min_child_samples': 57, 'lambda_l1': 0.035691928218508515, 'lambda_l2': 4.3725419673608317e-05}. Best is trial 68 with value: 0.9343974612438289.\n"
          ]
        },
        {
          "output_type": "stream",
          "name": "stdout",
          "text": [
            "[LightGBM] [Warning] feature_fraction is set=0.8710743655679892, colsample_bytree=1.0 will be ignored. Current value: feature_fraction=0.8710743655679892\n",
            "[LightGBM] [Warning] lambda_l2 is set=1.1087668582250322e-05, reg_lambda=0.0 will be ignored. Current value: lambda_l2=1.1087668582250322e-05\n",
            "[LightGBM] [Warning] lambda_l1 is set=0.005460137897141757, reg_alpha=0.0 will be ignored. Current value: lambda_l1=0.005460137897141757\n",
            "[LightGBM] [Warning] bagging_fraction is set=0.8593694421862084, subsample=1.0 will be ignored. Current value: bagging_fraction=0.8593694421862084\n",
            "[LightGBM] [Warning] bagging_freq is set=5, subsample_freq=0 will be ignored. Current value: bagging_freq=5\n",
            "[LightGBM] [Warning] feature_fraction is set=0.8710743655679892, colsample_bytree=1.0 will be ignored. Current value: feature_fraction=0.8710743655679892\n",
            "[LightGBM] [Warning] lambda_l2 is set=1.1087668582250322e-05, reg_lambda=0.0 will be ignored. Current value: lambda_l2=1.1087668582250322e-05\n",
            "[LightGBM] [Warning] lambda_l1 is set=0.005460137897141757, reg_alpha=0.0 will be ignored. Current value: lambda_l1=0.005460137897141757\n",
            "[LightGBM] [Warning] bagging_fraction is set=0.8593694421862084, subsample=1.0 will be ignored. Current value: bagging_fraction=0.8593694421862084\n",
            "[LightGBM] [Warning] bagging_freq is set=5, subsample_freq=0 will be ignored. Current value: bagging_freq=5\n",
            "[LightGBM] [Info] Auto-choosing row-wise multi-threading, the overhead of testing was 0.144861 seconds.\n",
            "You can set `force_row_wise=true` to remove the overhead.\n",
            "And if memory is not enough, you can set `force_col_wise=true`.\n",
            "[LightGBM] [Info] Total Bins 25279\n",
            "[LightGBM] [Info] Number of data points in the train set: 181724, number of used features: 140\n",
            "[LightGBM] [Warning] feature_fraction is set=0.8710743655679892, colsample_bytree=1.0 will be ignored. Current value: feature_fraction=0.8710743655679892\n",
            "[LightGBM] [Warning] lambda_l2 is set=1.1087668582250322e-05, reg_lambda=0.0 will be ignored. Current value: lambda_l2=1.1087668582250322e-05\n",
            "[LightGBM] [Warning] lambda_l1 is set=0.005460137897141757, reg_alpha=0.0 will be ignored. Current value: lambda_l1=0.005460137897141757\n",
            "[LightGBM] [Warning] bagging_fraction is set=0.8593694421862084, subsample=1.0 will be ignored. Current value: bagging_fraction=0.8593694421862084\n",
            "[LightGBM] [Warning] bagging_freq is set=5, subsample_freq=0 will be ignored. Current value: bagging_freq=5\n",
            "[LightGBM] [Warning] feature_fraction is set=0.8710743655679892, colsample_bytree=1.0 will be ignored. Current value: feature_fraction=0.8710743655679892\n",
            "[LightGBM] [Warning] lambda_l2 is set=1.1087668582250322e-05, reg_lambda=0.0 will be ignored. Current value: lambda_l2=1.1087668582250322e-05\n",
            "[LightGBM] [Warning] lambda_l1 is set=0.005460137897141757, reg_alpha=0.0 will be ignored. Current value: lambda_l1=0.005460137897141757\n",
            "[LightGBM] [Warning] bagging_fraction is set=0.8593694421862084, subsample=1.0 will be ignored. Current value: bagging_fraction=0.8593694421862084\n",
            "[LightGBM] [Warning] bagging_freq is set=5, subsample_freq=0 will be ignored. Current value: bagging_freq=5\n"
          ]
        },
        {
          "output_type": "stream",
          "name": "stderr",
          "text": [
            "[I 2024-04-29 16:41:43,482] Trial 70 finished with value: 0.780289053086663 and parameters: {'learning_rate': 0.19608744402244518, 'num_leaves': 293, 'feature_fraction': 0.8710743655679892, 'bagging_fraction': 0.8593694421862084, 'bagging_freq': 5, 'min_child_samples': 51, 'lambda_l1': 0.005460137897141757, 'lambda_l2': 1.1087668582250322e-05}. Best is trial 68 with value: 0.9343974612438289.\n"
          ]
        },
        {
          "output_type": "stream",
          "name": "stdout",
          "text": [
            "[LightGBM] [Warning] feature_fraction is set=0.8558884521271406, colsample_bytree=1.0 will be ignored. Current value: feature_fraction=0.8558884521271406\n",
            "[LightGBM] [Warning] lambda_l2 is set=3.7548996606874167e-07, reg_lambda=0.0 will be ignored. Current value: lambda_l2=3.7548996606874167e-07\n",
            "[LightGBM] [Warning] lambda_l1 is set=8.13336157857108e-06, reg_alpha=0.0 will be ignored. Current value: lambda_l1=8.13336157857108e-06\n",
            "[LightGBM] [Warning] bagging_fraction is set=0.8495648097713162, subsample=1.0 will be ignored. Current value: bagging_fraction=0.8495648097713162\n",
            "[LightGBM] [Warning] bagging_freq is set=2, subsample_freq=0 will be ignored. Current value: bagging_freq=2\n",
            "[LightGBM] [Warning] feature_fraction is set=0.8558884521271406, colsample_bytree=1.0 will be ignored. Current value: feature_fraction=0.8558884521271406\n",
            "[LightGBM] [Warning] lambda_l2 is set=3.7548996606874167e-07, reg_lambda=0.0 will be ignored. Current value: lambda_l2=3.7548996606874167e-07\n",
            "[LightGBM] [Warning] lambda_l1 is set=8.13336157857108e-06, reg_alpha=0.0 will be ignored. Current value: lambda_l1=8.13336157857108e-06\n",
            "[LightGBM] [Warning] bagging_fraction is set=0.8495648097713162, subsample=1.0 will be ignored. Current value: bagging_fraction=0.8495648097713162\n",
            "[LightGBM] [Warning] bagging_freq is set=2, subsample_freq=0 will be ignored. Current value: bagging_freq=2\n",
            "[LightGBM] [Info] Auto-choosing row-wise multi-threading, the overhead of testing was 0.141253 seconds.\n",
            "You can set `force_row_wise=true` to remove the overhead.\n",
            "And if memory is not enough, you can set `force_col_wise=true`.\n",
            "[LightGBM] [Info] Total Bins 25279\n",
            "[LightGBM] [Info] Number of data points in the train set: 181724, number of used features: 140\n",
            "[LightGBM] [Warning] feature_fraction is set=0.8558884521271406, colsample_bytree=1.0 will be ignored. Current value: feature_fraction=0.8558884521271406\n",
            "[LightGBM] [Warning] lambda_l2 is set=3.7548996606874167e-07, reg_lambda=0.0 will be ignored. Current value: lambda_l2=3.7548996606874167e-07\n",
            "[LightGBM] [Warning] lambda_l1 is set=8.13336157857108e-06, reg_alpha=0.0 will be ignored. Current value: lambda_l1=8.13336157857108e-06\n",
            "[LightGBM] [Warning] bagging_fraction is set=0.8495648097713162, subsample=1.0 will be ignored. Current value: bagging_fraction=0.8495648097713162\n",
            "[LightGBM] [Warning] bagging_freq is set=2, subsample_freq=0 will be ignored. Current value: bagging_freq=2\n",
            "[LightGBM] [Warning] feature_fraction is set=0.8558884521271406, colsample_bytree=1.0 will be ignored. Current value: feature_fraction=0.8558884521271406\n",
            "[LightGBM] [Warning] lambda_l2 is set=3.7548996606874167e-07, reg_lambda=0.0 will be ignored. Current value: lambda_l2=3.7548996606874167e-07\n",
            "[LightGBM] [Warning] lambda_l1 is set=8.13336157857108e-06, reg_alpha=0.0 will be ignored. Current value: lambda_l1=8.13336157857108e-06\n",
            "[LightGBM] [Warning] bagging_fraction is set=0.8495648097713162, subsample=1.0 will be ignored. Current value: bagging_fraction=0.8495648097713162\n",
            "[LightGBM] [Warning] bagging_freq is set=2, subsample_freq=0 will be ignored. Current value: bagging_freq=2\n"
          ]
        },
        {
          "output_type": "stream",
          "name": "stderr",
          "text": [
            "[I 2024-04-29 16:42:24,885] Trial 71 finished with value: 0.6637021644382826 and parameters: {'learning_rate': 0.18772697641178013, 'num_leaves': 262, 'feature_fraction': 0.8558884521271406, 'bagging_fraction': 0.8495648097713162, 'bagging_freq': 2, 'min_child_samples': 46, 'lambda_l1': 8.13336157857108e-06, 'lambda_l2': 3.7548996606874167e-07}. Best is trial 68 with value: 0.9343974612438289.\n"
          ]
        },
        {
          "output_type": "stream",
          "name": "stdout",
          "text": [
            "[LightGBM] [Warning] feature_fraction is set=0.8450511051277784, colsample_bytree=1.0 will be ignored. Current value: feature_fraction=0.8450511051277784\n",
            "[LightGBM] [Warning] lambda_l2 is set=1.846037734557745e-05, reg_lambda=0.0 will be ignored. Current value: lambda_l2=1.846037734557745e-05\n",
            "[LightGBM] [Warning] lambda_l1 is set=0.0019872075963041735, reg_alpha=0.0 will be ignored. Current value: lambda_l1=0.0019872075963041735\n",
            "[LightGBM] [Warning] bagging_fraction is set=0.8853509117297331, subsample=1.0 will be ignored. Current value: bagging_fraction=0.8853509117297331\n",
            "[LightGBM] [Warning] bagging_freq is set=2, subsample_freq=0 will be ignored. Current value: bagging_freq=2\n",
            "[LightGBM] [Warning] feature_fraction is set=0.8450511051277784, colsample_bytree=1.0 will be ignored. Current value: feature_fraction=0.8450511051277784\n",
            "[LightGBM] [Warning] lambda_l2 is set=1.846037734557745e-05, reg_lambda=0.0 will be ignored. Current value: lambda_l2=1.846037734557745e-05\n",
            "[LightGBM] [Warning] lambda_l1 is set=0.0019872075963041735, reg_alpha=0.0 will be ignored. Current value: lambda_l1=0.0019872075963041735\n",
            "[LightGBM] [Warning] bagging_fraction is set=0.8853509117297331, subsample=1.0 will be ignored. Current value: bagging_fraction=0.8853509117297331\n",
            "[LightGBM] [Warning] bagging_freq is set=2, subsample_freq=0 will be ignored. Current value: bagging_freq=2\n",
            "[LightGBM] [Info] Auto-choosing row-wise multi-threading, the overhead of testing was 0.149568 seconds.\n",
            "You can set `force_row_wise=true` to remove the overhead.\n",
            "And if memory is not enough, you can set `force_col_wise=true`.\n",
            "[LightGBM] [Info] Total Bins 25279\n",
            "[LightGBM] [Info] Number of data points in the train set: 181724, number of used features: 140\n",
            "[LightGBM] [Warning] feature_fraction is set=0.8450511051277784, colsample_bytree=1.0 will be ignored. Current value: feature_fraction=0.8450511051277784\n",
            "[LightGBM] [Warning] lambda_l2 is set=1.846037734557745e-05, reg_lambda=0.0 will be ignored. Current value: lambda_l2=1.846037734557745e-05\n",
            "[LightGBM] [Warning] lambda_l1 is set=0.0019872075963041735, reg_alpha=0.0 will be ignored. Current value: lambda_l1=0.0019872075963041735\n",
            "[LightGBM] [Warning] bagging_fraction is set=0.8853509117297331, subsample=1.0 will be ignored. Current value: bagging_fraction=0.8853509117297331\n",
            "[LightGBM] [Warning] bagging_freq is set=2, subsample_freq=0 will be ignored. Current value: bagging_freq=2\n",
            "[LightGBM] [Warning] feature_fraction is set=0.8450511051277784, colsample_bytree=1.0 will be ignored. Current value: feature_fraction=0.8450511051277784\n",
            "[LightGBM] [Warning] lambda_l2 is set=1.846037734557745e-05, reg_lambda=0.0 will be ignored. Current value: lambda_l2=1.846037734557745e-05\n",
            "[LightGBM] [Warning] lambda_l1 is set=0.0019872075963041735, reg_alpha=0.0 will be ignored. Current value: lambda_l1=0.0019872075963041735\n",
            "[LightGBM] [Warning] bagging_fraction is set=0.8853509117297331, subsample=1.0 will be ignored. Current value: bagging_fraction=0.8853509117297331\n",
            "[LightGBM] [Warning] bagging_freq is set=2, subsample_freq=0 will be ignored. Current value: bagging_freq=2\n"
          ]
        },
        {
          "output_type": "stream",
          "name": "stderr",
          "text": [
            "[I 2024-04-29 16:43:07,639] Trial 72 finished with value: 0.8728149230223938 and parameters: {'learning_rate': 0.23735383956789985, 'num_leaves': 280, 'feature_fraction': 0.8450511051277784, 'bagging_fraction': 0.8853509117297331, 'bagging_freq': 2, 'min_child_samples': 66, 'lambda_l1': 0.0019872075963041735, 'lambda_l2': 1.846037734557745e-05}. Best is trial 68 with value: 0.9343974612438289.\n"
          ]
        },
        {
          "output_type": "stream",
          "name": "stdout",
          "text": [
            "[LightGBM] [Warning] feature_fraction is set=0.8419571020353199, colsample_bytree=1.0 will be ignored. Current value: feature_fraction=0.8419571020353199\n",
            "[LightGBM] [Warning] lambda_l2 is set=2.339183446817919e-05, reg_lambda=0.0 will be ignored. Current value: lambda_l2=2.339183446817919e-05\n",
            "[LightGBM] [Warning] lambda_l1 is set=0.0018557821570385146, reg_alpha=0.0 will be ignored. Current value: lambda_l1=0.0018557821570385146\n",
            "[LightGBM] [Warning] bagging_fraction is set=0.894573580050806, subsample=1.0 will be ignored. Current value: bagging_fraction=0.894573580050806\n",
            "[LightGBM] [Warning] bagging_freq is set=1, subsample_freq=0 will be ignored. Current value: bagging_freq=1\n",
            "[LightGBM] [Warning] feature_fraction is set=0.8419571020353199, colsample_bytree=1.0 will be ignored. Current value: feature_fraction=0.8419571020353199\n",
            "[LightGBM] [Warning] lambda_l2 is set=2.339183446817919e-05, reg_lambda=0.0 will be ignored. Current value: lambda_l2=2.339183446817919e-05\n",
            "[LightGBM] [Warning] lambda_l1 is set=0.0018557821570385146, reg_alpha=0.0 will be ignored. Current value: lambda_l1=0.0018557821570385146\n",
            "[LightGBM] [Warning] bagging_fraction is set=0.894573580050806, subsample=1.0 will be ignored. Current value: bagging_fraction=0.894573580050806\n",
            "[LightGBM] [Warning] bagging_freq is set=1, subsample_freq=0 will be ignored. Current value: bagging_freq=1\n",
            "[LightGBM] [Info] Auto-choosing row-wise multi-threading, the overhead of testing was 0.146230 seconds.\n",
            "You can set `force_row_wise=true` to remove the overhead.\n",
            "And if memory is not enough, you can set `force_col_wise=true`.\n",
            "[LightGBM] [Info] Total Bins 25279\n",
            "[LightGBM] [Info] Number of data points in the train set: 181724, number of used features: 140\n",
            "[LightGBM] [Warning] feature_fraction is set=0.8419571020353199, colsample_bytree=1.0 will be ignored. Current value: feature_fraction=0.8419571020353199\n",
            "[LightGBM] [Warning] lambda_l2 is set=2.339183446817919e-05, reg_lambda=0.0 will be ignored. Current value: lambda_l2=2.339183446817919e-05\n",
            "[LightGBM] [Warning] lambda_l1 is set=0.0018557821570385146, reg_alpha=0.0 will be ignored. Current value: lambda_l1=0.0018557821570385146\n",
            "[LightGBM] [Warning] bagging_fraction is set=0.894573580050806, subsample=1.0 will be ignored. Current value: bagging_fraction=0.894573580050806\n",
            "[LightGBM] [Warning] bagging_freq is set=1, subsample_freq=0 will be ignored. Current value: bagging_freq=1\n",
            "[LightGBM] [Warning] feature_fraction is set=0.8419571020353199, colsample_bytree=1.0 will be ignored. Current value: feature_fraction=0.8419571020353199\n",
            "[LightGBM] [Warning] lambda_l2 is set=2.339183446817919e-05, reg_lambda=0.0 will be ignored. Current value: lambda_l2=2.339183446817919e-05\n",
            "[LightGBM] [Warning] lambda_l1 is set=0.0018557821570385146, reg_alpha=0.0 will be ignored. Current value: lambda_l1=0.0018557821570385146\n",
            "[LightGBM] [Warning] bagging_fraction is set=0.894573580050806, subsample=1.0 will be ignored. Current value: bagging_fraction=0.894573580050806\n",
            "[LightGBM] [Warning] bagging_freq is set=1, subsample_freq=0 will be ignored. Current value: bagging_freq=1\n"
          ]
        },
        {
          "output_type": "stream",
          "name": "stderr",
          "text": [
            "[I 2024-04-29 16:43:45,149] Trial 73 finished with value: 0.6680723183934947 and parameters: {'learning_rate': 0.246378657753736, 'num_leaves': 279, 'feature_fraction': 0.8419571020353199, 'bagging_fraction': 0.894573580050806, 'bagging_freq': 1, 'min_child_samples': 67, 'lambda_l1': 0.0018557821570385146, 'lambda_l2': 2.339183446817919e-05}. Best is trial 68 with value: 0.9343974612438289.\n"
          ]
        },
        {
          "output_type": "stream",
          "name": "stdout",
          "text": [
            "[LightGBM] [Warning] feature_fraction is set=0.827028552761198, colsample_bytree=1.0 will be ignored. Current value: feature_fraction=0.827028552761198\n",
            "[LightGBM] [Warning] lambda_l2 is set=0.00011532331616069224, reg_lambda=0.0 will be ignored. Current value: lambda_l2=0.00011532331616069224\n",
            "[LightGBM] [Warning] lambda_l1 is set=0.09258369508958639, reg_alpha=0.0 will be ignored. Current value: lambda_l1=0.09258369508958639\n",
            "[LightGBM] [Warning] bagging_fraction is set=0.8781282706948423, subsample=1.0 will be ignored. Current value: bagging_fraction=0.8781282706948423\n",
            "[LightGBM] [Warning] bagging_freq is set=2, subsample_freq=0 will be ignored. Current value: bagging_freq=2\n",
            "[LightGBM] [Warning] feature_fraction is set=0.827028552761198, colsample_bytree=1.0 will be ignored. Current value: feature_fraction=0.827028552761198\n",
            "[LightGBM] [Warning] lambda_l2 is set=0.00011532331616069224, reg_lambda=0.0 will be ignored. Current value: lambda_l2=0.00011532331616069224\n",
            "[LightGBM] [Warning] lambda_l1 is set=0.09258369508958639, reg_alpha=0.0 will be ignored. Current value: lambda_l1=0.09258369508958639\n",
            "[LightGBM] [Warning] bagging_fraction is set=0.8781282706948423, subsample=1.0 will be ignored. Current value: bagging_fraction=0.8781282706948423\n",
            "[LightGBM] [Warning] bagging_freq is set=2, subsample_freq=0 will be ignored. Current value: bagging_freq=2\n",
            "[LightGBM] [Info] Auto-choosing col-wise multi-threading, the overhead of testing was 0.585276 seconds.\n",
            "You can set `force_col_wise=true` to remove the overhead.\n",
            "[LightGBM] [Info] Total Bins 25279\n",
            "[LightGBM] [Info] Number of data points in the train set: 181724, number of used features: 140\n",
            "[LightGBM] [Warning] feature_fraction is set=0.827028552761198, colsample_bytree=1.0 will be ignored. Current value: feature_fraction=0.827028552761198\n",
            "[LightGBM] [Warning] lambda_l2 is set=0.00011532331616069224, reg_lambda=0.0 will be ignored. Current value: lambda_l2=0.00011532331616069224\n",
            "[LightGBM] [Warning] lambda_l1 is set=0.09258369508958639, reg_alpha=0.0 will be ignored. Current value: lambda_l1=0.09258369508958639\n",
            "[LightGBM] [Warning] bagging_fraction is set=0.8781282706948423, subsample=1.0 will be ignored. Current value: bagging_fraction=0.8781282706948423\n",
            "[LightGBM] [Warning] bagging_freq is set=2, subsample_freq=0 will be ignored. Current value: bagging_freq=2\n",
            "[LightGBM] [Warning] feature_fraction is set=0.827028552761198, colsample_bytree=1.0 will be ignored. Current value: feature_fraction=0.827028552761198\n",
            "[LightGBM] [Warning] lambda_l2 is set=0.00011532331616069224, reg_lambda=0.0 will be ignored. Current value: lambda_l2=0.00011532331616069224\n",
            "[LightGBM] [Warning] lambda_l1 is set=0.09258369508958639, reg_alpha=0.0 will be ignored. Current value: lambda_l1=0.09258369508958639\n",
            "[LightGBM] [Warning] bagging_fraction is set=0.8781282706948423, subsample=1.0 will be ignored. Current value: bagging_fraction=0.8781282706948423\n",
            "[LightGBM] [Warning] bagging_freq is set=2, subsample_freq=0 will be ignored. Current value: bagging_freq=2\n"
          ]
        },
        {
          "output_type": "stream",
          "name": "stderr",
          "text": [
            "[I 2024-04-29 16:44:38,225] Trial 74 finished with value: 0.8395103014491042 and parameters: {'learning_rate': 0.23508640307917558, 'num_leaves': 291, 'feature_fraction': 0.827028552761198, 'bagging_fraction': 0.8781282706948423, 'bagging_freq': 2, 'min_child_samples': 64, 'lambda_l1': 0.09258369508958639, 'lambda_l2': 0.00011532331616069224}. Best is trial 68 with value: 0.9343974612438289.\n"
          ]
        },
        {
          "output_type": "stream",
          "name": "stdout",
          "text": [
            "[LightGBM] [Warning] feature_fraction is set=0.866059540859574, colsample_bytree=1.0 will be ignored. Current value: feature_fraction=0.866059540859574\n",
            "[LightGBM] [Warning] lambda_l2 is set=5.836903471099201e-06, reg_lambda=0.0 will be ignored. Current value: lambda_l2=5.836903471099201e-06\n",
            "[LightGBM] [Warning] lambda_l1 is set=0.011345631849986939, reg_alpha=0.0 will be ignored. Current value: lambda_l1=0.011345631849986939\n",
            "[LightGBM] [Warning] bagging_fraction is set=0.9091877745744406, subsample=1.0 will be ignored. Current value: bagging_fraction=0.9091877745744406\n",
            "[LightGBM] [Warning] bagging_freq is set=4, subsample_freq=0 will be ignored. Current value: bagging_freq=4\n",
            "[LightGBM] [Warning] feature_fraction is set=0.866059540859574, colsample_bytree=1.0 will be ignored. Current value: feature_fraction=0.866059540859574\n",
            "[LightGBM] [Warning] lambda_l2 is set=5.836903471099201e-06, reg_lambda=0.0 will be ignored. Current value: lambda_l2=5.836903471099201e-06\n",
            "[LightGBM] [Warning] lambda_l1 is set=0.011345631849986939, reg_alpha=0.0 will be ignored. Current value: lambda_l1=0.011345631849986939\n",
            "[LightGBM] [Warning] bagging_fraction is set=0.9091877745744406, subsample=1.0 will be ignored. Current value: bagging_fraction=0.9091877745744406\n",
            "[LightGBM] [Warning] bagging_freq is set=4, subsample_freq=0 will be ignored. Current value: bagging_freq=4\n",
            "[LightGBM] [Info] Auto-choosing row-wise multi-threading, the overhead of testing was 0.144101 seconds.\n",
            "You can set `force_row_wise=true` to remove the overhead.\n",
            "And if memory is not enough, you can set `force_col_wise=true`.\n",
            "[LightGBM] [Info] Total Bins 25279\n",
            "[LightGBM] [Info] Number of data points in the train set: 181724, number of used features: 140\n",
            "[LightGBM] [Warning] feature_fraction is set=0.866059540859574, colsample_bytree=1.0 will be ignored. Current value: feature_fraction=0.866059540859574\n",
            "[LightGBM] [Warning] lambda_l2 is set=5.836903471099201e-06, reg_lambda=0.0 will be ignored. Current value: lambda_l2=5.836903471099201e-06\n",
            "[LightGBM] [Warning] lambda_l1 is set=0.011345631849986939, reg_alpha=0.0 will be ignored. Current value: lambda_l1=0.011345631849986939\n",
            "[LightGBM] [Warning] bagging_fraction is set=0.9091877745744406, subsample=1.0 will be ignored. Current value: bagging_fraction=0.9091877745744406\n",
            "[LightGBM] [Warning] bagging_freq is set=4, subsample_freq=0 will be ignored. Current value: bagging_freq=4\n",
            "[LightGBM] [Warning] feature_fraction is set=0.866059540859574, colsample_bytree=1.0 will be ignored. Current value: feature_fraction=0.866059540859574\n",
            "[LightGBM] [Warning] lambda_l2 is set=5.836903471099201e-06, reg_lambda=0.0 will be ignored. Current value: lambda_l2=5.836903471099201e-06\n",
            "[LightGBM] [Warning] lambda_l1 is set=0.011345631849986939, reg_alpha=0.0 will be ignored. Current value: lambda_l1=0.011345631849986939\n",
            "[LightGBM] [Warning] bagging_fraction is set=0.9091877745744406, subsample=1.0 will be ignored. Current value: bagging_fraction=0.9091877745744406\n",
            "[LightGBM] [Warning] bagging_freq is set=4, subsample_freq=0 will be ignored. Current value: bagging_freq=4\n"
          ]
        },
        {
          "output_type": "stream",
          "name": "stderr",
          "text": [
            "[I 2024-04-29 16:45:20,481] Trial 75 finished with value: 0.8285620169443904 and parameters: {'learning_rate': 0.20837714102588523, 'num_leaves': 279, 'feature_fraction': 0.866059540859574, 'bagging_fraction': 0.9091877745744406, 'bagging_freq': 4, 'min_child_samples': 60, 'lambda_l1': 0.011345631849986939, 'lambda_l2': 5.836903471099201e-06}. Best is trial 68 with value: 0.9343974612438289.\n"
          ]
        },
        {
          "output_type": "stream",
          "name": "stdout",
          "text": [
            "[LightGBM] [Warning] feature_fraction is set=0.8845105155981373, colsample_bytree=1.0 will be ignored. Current value: feature_fraction=0.8845105155981373\n",
            "[LightGBM] [Warning] lambda_l2 is set=2.1584289745853092e-05, reg_lambda=0.0 will be ignored. Current value: lambda_l2=2.1584289745853092e-05\n",
            "[LightGBM] [Warning] lambda_l1 is set=0.0004014593310546627, reg_alpha=0.0 will be ignored. Current value: lambda_l1=0.0004014593310546627\n",
            "[LightGBM] [Warning] bagging_fraction is set=0.9496717633230125, subsample=1.0 will be ignored. Current value: bagging_fraction=0.9496717633230125\n",
            "[LightGBM] [Warning] bagging_freq is set=1, subsample_freq=0 will be ignored. Current value: bagging_freq=1\n",
            "[LightGBM] [Warning] feature_fraction is set=0.8845105155981373, colsample_bytree=1.0 will be ignored. Current value: feature_fraction=0.8845105155981373\n",
            "[LightGBM] [Warning] lambda_l2 is set=2.1584289745853092e-05, reg_lambda=0.0 will be ignored. Current value: lambda_l2=2.1584289745853092e-05\n",
            "[LightGBM] [Warning] lambda_l1 is set=0.0004014593310546627, reg_alpha=0.0 will be ignored. Current value: lambda_l1=0.0004014593310546627\n",
            "[LightGBM] [Warning] bagging_fraction is set=0.9496717633230125, subsample=1.0 will be ignored. Current value: bagging_fraction=0.9496717633230125\n",
            "[LightGBM] [Warning] bagging_freq is set=1, subsample_freq=0 will be ignored. Current value: bagging_freq=1\n",
            "[LightGBM] [Info] Auto-choosing row-wise multi-threading, the overhead of testing was 0.144633 seconds.\n",
            "You can set `force_row_wise=true` to remove the overhead.\n",
            "And if memory is not enough, you can set `force_col_wise=true`.\n",
            "[LightGBM] [Info] Total Bins 25279\n",
            "[LightGBM] [Info] Number of data points in the train set: 181724, number of used features: 140\n",
            "[LightGBM] [Warning] feature_fraction is set=0.8845105155981373, colsample_bytree=1.0 will be ignored. Current value: feature_fraction=0.8845105155981373\n",
            "[LightGBM] [Warning] lambda_l2 is set=2.1584289745853092e-05, reg_lambda=0.0 will be ignored. Current value: lambda_l2=2.1584289745853092e-05\n",
            "[LightGBM] [Warning] lambda_l1 is set=0.0004014593310546627, reg_alpha=0.0 will be ignored. Current value: lambda_l1=0.0004014593310546627\n",
            "[LightGBM] [Warning] bagging_fraction is set=0.9496717633230125, subsample=1.0 will be ignored. Current value: bagging_fraction=0.9496717633230125\n",
            "[LightGBM] [Warning] bagging_freq is set=1, subsample_freq=0 will be ignored. Current value: bagging_freq=1\n",
            "[LightGBM] [Warning] feature_fraction is set=0.8845105155981373, colsample_bytree=1.0 will be ignored. Current value: feature_fraction=0.8845105155981373\n",
            "[LightGBM] [Warning] lambda_l2 is set=2.1584289745853092e-05, reg_lambda=0.0 will be ignored. Current value: lambda_l2=2.1584289745853092e-05\n",
            "[LightGBM] [Warning] lambda_l1 is set=0.0004014593310546627, reg_alpha=0.0 will be ignored. Current value: lambda_l1=0.0004014593310546627\n",
            "[LightGBM] [Warning] bagging_fraction is set=0.9496717633230125, subsample=1.0 will be ignored. Current value: bagging_fraction=0.9496717633230125\n",
            "[LightGBM] [Warning] bagging_freq is set=1, subsample_freq=0 will be ignored. Current value: bagging_freq=1\n"
          ]
        },
        {
          "output_type": "stream",
          "name": "stderr",
          "text": [
            "[I 2024-04-29 16:45:57,347] Trial 76 finished with value: 0.6816860752093471 and parameters: {'learning_rate': 0.23088619788335385, 'num_leaves': 258, 'feature_fraction': 0.8845105155981373, 'bagging_fraction': 0.9496717633230125, 'bagging_freq': 1, 'min_child_samples': 77, 'lambda_l1': 0.0004014593310546627, 'lambda_l2': 2.1584289745853092e-05}. Best is trial 68 with value: 0.9343974612438289.\n"
          ]
        },
        {
          "output_type": "stream",
          "name": "stdout",
          "text": [
            "[LightGBM] [Warning] feature_fraction is set=0.8061535411413637, colsample_bytree=1.0 will be ignored. Current value: feature_fraction=0.8061535411413637\n",
            "[LightGBM] [Warning] lambda_l2 is set=1.3196667313809242e-05, reg_lambda=0.0 will be ignored. Current value: lambda_l2=1.3196667313809242e-05\n",
            "[LightGBM] [Warning] lambda_l1 is set=0.0034118846789883664, reg_alpha=0.0 will be ignored. Current value: lambda_l1=0.0034118846789883664\n",
            "[LightGBM] [Warning] bagging_fraction is set=0.8005017645169108, subsample=1.0 will be ignored. Current value: bagging_fraction=0.8005017645169108\n",
            "[LightGBM] [Warning] bagging_freq is set=3, subsample_freq=0 will be ignored. Current value: bagging_freq=3\n",
            "[LightGBM] [Warning] feature_fraction is set=0.8061535411413637, colsample_bytree=1.0 will be ignored. Current value: feature_fraction=0.8061535411413637\n",
            "[LightGBM] [Warning] lambda_l2 is set=1.3196667313809242e-05, reg_lambda=0.0 will be ignored. Current value: lambda_l2=1.3196667313809242e-05\n",
            "[LightGBM] [Warning] lambda_l1 is set=0.0034118846789883664, reg_alpha=0.0 will be ignored. Current value: lambda_l1=0.0034118846789883664\n",
            "[LightGBM] [Warning] bagging_fraction is set=0.8005017645169108, subsample=1.0 will be ignored. Current value: bagging_fraction=0.8005017645169108\n",
            "[LightGBM] [Warning] bagging_freq is set=3, subsample_freq=0 will be ignored. Current value: bagging_freq=3\n",
            "[LightGBM] [Info] Auto-choosing row-wise multi-threading, the overhead of testing was 0.142978 seconds.\n",
            "You can set `force_row_wise=true` to remove the overhead.\n",
            "And if memory is not enough, you can set `force_col_wise=true`.\n",
            "[LightGBM] [Info] Total Bins 25279\n",
            "[LightGBM] [Info] Number of data points in the train set: 181724, number of used features: 140\n",
            "[LightGBM] [Warning] feature_fraction is set=0.8061535411413637, colsample_bytree=1.0 will be ignored. Current value: feature_fraction=0.8061535411413637\n",
            "[LightGBM] [Warning] lambda_l2 is set=1.3196667313809242e-05, reg_lambda=0.0 will be ignored. Current value: lambda_l2=1.3196667313809242e-05\n",
            "[LightGBM] [Warning] lambda_l1 is set=0.0034118846789883664, reg_alpha=0.0 will be ignored. Current value: lambda_l1=0.0034118846789883664\n",
            "[LightGBM] [Warning] bagging_fraction is set=0.8005017645169108, subsample=1.0 will be ignored. Current value: bagging_fraction=0.8005017645169108\n",
            "[LightGBM] [Warning] bagging_freq is set=3, subsample_freq=0 will be ignored. Current value: bagging_freq=3\n",
            "[LightGBM] [Warning] feature_fraction is set=0.8061535411413637, colsample_bytree=1.0 will be ignored. Current value: feature_fraction=0.8061535411413637\n",
            "[LightGBM] [Warning] lambda_l2 is set=1.3196667313809242e-05, reg_lambda=0.0 will be ignored. Current value: lambda_l2=1.3196667313809242e-05\n",
            "[LightGBM] [Warning] lambda_l1 is set=0.0034118846789883664, reg_alpha=0.0 will be ignored. Current value: lambda_l1=0.0034118846789883664\n",
            "[LightGBM] [Warning] bagging_fraction is set=0.8005017645169108, subsample=1.0 will be ignored. Current value: bagging_fraction=0.8005017645169108\n",
            "[LightGBM] [Warning] bagging_freq is set=3, subsample_freq=0 will be ignored. Current value: bagging_freq=3\n"
          ]
        },
        {
          "output_type": "stream",
          "name": "stderr",
          "text": [
            "[I 2024-04-29 16:46:36,469] Trial 77 finished with value: 0.7411064933148479 and parameters: {'learning_rate': 0.2583721742521491, 'num_leaves': 243, 'feature_fraction': 0.8061535411413637, 'bagging_fraction': 0.8005017645169108, 'bagging_freq': 3, 'min_child_samples': 55, 'lambda_l1': 0.0034118846789883664, 'lambda_l2': 1.3196667313809242e-05}. Best is trial 68 with value: 0.9343974612438289.\n"
          ]
        },
        {
          "output_type": "stream",
          "name": "stdout",
          "text": [
            "[LightGBM] [Warning] feature_fraction is set=0.8497767662598555, colsample_bytree=1.0 will be ignored. Current value: feature_fraction=0.8497767662598555\n",
            "[LightGBM] [Warning] lambda_l2 is set=0.7916148830097638, reg_lambda=0.0 will be ignored. Current value: lambda_l2=0.7916148830097638\n",
            "[LightGBM] [Warning] lambda_l1 is set=0.0008954759374730618, reg_alpha=0.0 will be ignored. Current value: lambda_l1=0.0008954759374730618\n",
            "[LightGBM] [Warning] bagging_fraction is set=0.8366689524888271, subsample=1.0 will be ignored. Current value: bagging_fraction=0.8366689524888271\n",
            "[LightGBM] [Warning] bagging_freq is set=4, subsample_freq=0 will be ignored. Current value: bagging_freq=4\n",
            "[LightGBM] [Warning] feature_fraction is set=0.8497767662598555, colsample_bytree=1.0 will be ignored. Current value: feature_fraction=0.8497767662598555\n",
            "[LightGBM] [Warning] lambda_l2 is set=0.7916148830097638, reg_lambda=0.0 will be ignored. Current value: lambda_l2=0.7916148830097638\n",
            "[LightGBM] [Warning] lambda_l1 is set=0.0008954759374730618, reg_alpha=0.0 will be ignored. Current value: lambda_l1=0.0008954759374730618\n",
            "[LightGBM] [Warning] bagging_fraction is set=0.8366689524888271, subsample=1.0 will be ignored. Current value: bagging_fraction=0.8366689524888271\n",
            "[LightGBM] [Warning] bagging_freq is set=4, subsample_freq=0 will be ignored. Current value: bagging_freq=4\n",
            "[LightGBM] [Info] Auto-choosing row-wise multi-threading, the overhead of testing was 0.141270 seconds.\n",
            "You can set `force_row_wise=true` to remove the overhead.\n",
            "And if memory is not enough, you can set `force_col_wise=true`.\n",
            "[LightGBM] [Info] Total Bins 25279\n",
            "[LightGBM] [Info] Number of data points in the train set: 181724, number of used features: 140\n",
            "[LightGBM] [Warning] feature_fraction is set=0.8497767662598555, colsample_bytree=1.0 will be ignored. Current value: feature_fraction=0.8497767662598555\n",
            "[LightGBM] [Warning] lambda_l2 is set=0.7916148830097638, reg_lambda=0.0 will be ignored. Current value: lambda_l2=0.7916148830097638\n",
            "[LightGBM] [Warning] lambda_l1 is set=0.0008954759374730618, reg_alpha=0.0 will be ignored. Current value: lambda_l1=0.0008954759374730618\n",
            "[LightGBM] [Warning] bagging_fraction is set=0.8366689524888271, subsample=1.0 will be ignored. Current value: bagging_fraction=0.8366689524888271\n",
            "[LightGBM] [Warning] bagging_freq is set=4, subsample_freq=0 will be ignored. Current value: bagging_freq=4\n",
            "[LightGBM] [Warning] feature_fraction is set=0.8497767662598555, colsample_bytree=1.0 will be ignored. Current value: feature_fraction=0.8497767662598555\n",
            "[LightGBM] [Warning] lambda_l2 is set=0.7916148830097638, reg_lambda=0.0 will be ignored. Current value: lambda_l2=0.7916148830097638\n",
            "[LightGBM] [Warning] lambda_l1 is set=0.0008954759374730618, reg_alpha=0.0 will be ignored. Current value: lambda_l1=0.0008954759374730618\n",
            "[LightGBM] [Warning] bagging_fraction is set=0.8366689524888271, subsample=1.0 will be ignored. Current value: bagging_fraction=0.8366689524888271\n",
            "[LightGBM] [Warning] bagging_freq is set=4, subsample_freq=0 will be ignored. Current value: bagging_freq=4\n"
          ]
        },
        {
          "output_type": "stream",
          "name": "stderr",
          "text": [
            "[I 2024-04-29 16:47:20,621] Trial 78 finished with value: 0.8395103014491042 and parameters: {'learning_rate': 0.17276772992432737, 'num_leaves': 265, 'feature_fraction': 0.8497767662598555, 'bagging_fraction': 0.8366689524888271, 'bagging_freq': 4, 'min_child_samples': 68, 'lambda_l1': 0.0008954759374730618, 'lambda_l2': 0.7916148830097638}. Best is trial 68 with value: 0.9343974612438289.\n"
          ]
        },
        {
          "output_type": "stream",
          "name": "stdout",
          "text": [
            "[LightGBM] [Warning] feature_fraction is set=0.9044083859944123, colsample_bytree=1.0 will be ignored. Current value: feature_fraction=0.9044083859944123\n",
            "[LightGBM] [Warning] lambda_l2 is set=6.089565740723874e-05, reg_lambda=0.0 will be ignored. Current value: lambda_l2=6.089565740723874e-05\n",
            "[LightGBM] [Warning] lambda_l1 is set=0.017499459723185676, reg_alpha=0.0 will be ignored. Current value: lambda_l1=0.017499459723185676\n",
            "[LightGBM] [Warning] bagging_fraction is set=0.8708465318199957, subsample=1.0 will be ignored. Current value: bagging_fraction=0.8708465318199957\n",
            "[LightGBM] [Warning] bagging_freq is set=2, subsample_freq=0 will be ignored. Current value: bagging_freq=2\n",
            "[LightGBM] [Warning] feature_fraction is set=0.9044083859944123, colsample_bytree=1.0 will be ignored. Current value: feature_fraction=0.9044083859944123\n",
            "[LightGBM] [Warning] lambda_l2 is set=6.089565740723874e-05, reg_lambda=0.0 will be ignored. Current value: lambda_l2=6.089565740723874e-05\n",
            "[LightGBM] [Warning] lambda_l1 is set=0.017499459723185676, reg_alpha=0.0 will be ignored. Current value: lambda_l1=0.017499459723185676\n",
            "[LightGBM] [Warning] bagging_fraction is set=0.8708465318199957, subsample=1.0 will be ignored. Current value: bagging_fraction=0.8708465318199957\n",
            "[LightGBM] [Warning] bagging_freq is set=2, subsample_freq=0 will be ignored. Current value: bagging_freq=2\n",
            "[LightGBM] [Info] Auto-choosing row-wise multi-threading, the overhead of testing was 0.151440 seconds.\n",
            "You can set `force_row_wise=true` to remove the overhead.\n",
            "And if memory is not enough, you can set `force_col_wise=true`.\n",
            "[LightGBM] [Info] Total Bins 25279\n",
            "[LightGBM] [Info] Number of data points in the train set: 181724, number of used features: 140\n",
            "[LightGBM] [Warning] feature_fraction is set=0.9044083859944123, colsample_bytree=1.0 will be ignored. Current value: feature_fraction=0.9044083859944123\n",
            "[LightGBM] [Warning] lambda_l2 is set=6.089565740723874e-05, reg_lambda=0.0 will be ignored. Current value: lambda_l2=6.089565740723874e-05\n",
            "[LightGBM] [Warning] lambda_l1 is set=0.017499459723185676, reg_alpha=0.0 will be ignored. Current value: lambda_l1=0.017499459723185676\n",
            "[LightGBM] [Warning] bagging_fraction is set=0.8708465318199957, subsample=1.0 will be ignored. Current value: bagging_fraction=0.8708465318199957\n",
            "[LightGBM] [Warning] bagging_freq is set=2, subsample_freq=0 will be ignored. Current value: bagging_freq=2\n",
            "[LightGBM] [Warning] feature_fraction is set=0.9044083859944123, colsample_bytree=1.0 will be ignored. Current value: feature_fraction=0.9044083859944123\n",
            "[LightGBM] [Warning] lambda_l2 is set=6.089565740723874e-05, reg_lambda=0.0 will be ignored. Current value: lambda_l2=6.089565740723874e-05\n",
            "[LightGBM] [Warning] lambda_l1 is set=0.017499459723185676, reg_alpha=0.0 will be ignored. Current value: lambda_l1=0.017499459723185676\n",
            "[LightGBM] [Warning] bagging_fraction is set=0.8708465318199957, subsample=1.0 will be ignored. Current value: bagging_fraction=0.8708465318199957\n",
            "[LightGBM] [Warning] bagging_freq is set=2, subsample_freq=0 will be ignored. Current value: bagging_freq=2\n"
          ]
        },
        {
          "output_type": "stream",
          "name": "stderr",
          "text": [
            "[I 2024-04-29 16:48:06,080] Trial 79 finished with value: 0.6725956711234345 and parameters: {'learning_rate': 0.22472625196561258, 'num_leaves': 286, 'feature_fraction': 0.9044083859944123, 'bagging_fraction': 0.8708465318199957, 'bagging_freq': 2, 'min_child_samples': 71, 'lambda_l1': 0.017499459723185676, 'lambda_l2': 6.089565740723874e-05}. Best is trial 68 with value: 0.9343974612438289.\n"
          ]
        },
        {
          "output_type": "stream",
          "name": "stdout",
          "text": [
            "[LightGBM] [Warning] feature_fraction is set=0.6016955188854316, colsample_bytree=1.0 will be ignored. Current value: feature_fraction=0.6016955188854316\n",
            "[LightGBM] [Warning] lambda_l2 is set=2.2504359793813514e-06, reg_lambda=0.0 will be ignored. Current value: lambda_l2=2.2504359793813514e-06\n",
            "[LightGBM] [Warning] lambda_l1 is set=0.008042096653632706, reg_alpha=0.0 will be ignored. Current value: lambda_l1=0.008042096653632706\n",
            "[LightGBM] [Warning] bagging_fraction is set=0.8197024540722573, subsample=1.0 will be ignored. Current value: bagging_fraction=0.8197024540722573\n",
            "[LightGBM] [Warning] bagging_freq is set=1, subsample_freq=0 will be ignored. Current value: bagging_freq=1\n",
            "[LightGBM] [Warning] feature_fraction is set=0.6016955188854316, colsample_bytree=1.0 will be ignored. Current value: feature_fraction=0.6016955188854316\n",
            "[LightGBM] [Warning] lambda_l2 is set=2.2504359793813514e-06, reg_lambda=0.0 will be ignored. Current value: lambda_l2=2.2504359793813514e-06\n",
            "[LightGBM] [Warning] lambda_l1 is set=0.008042096653632706, reg_alpha=0.0 will be ignored. Current value: lambda_l1=0.008042096653632706\n",
            "[LightGBM] [Warning] bagging_fraction is set=0.8197024540722573, subsample=1.0 will be ignored. Current value: bagging_fraction=0.8197024540722573\n",
            "[LightGBM] [Warning] bagging_freq is set=1, subsample_freq=0 will be ignored. Current value: bagging_freq=1\n",
            "[LightGBM] [Info] Auto-choosing col-wise multi-threading, the overhead of testing was 0.339567 seconds.\n",
            "You can set `force_col_wise=true` to remove the overhead.\n",
            "[LightGBM] [Info] Total Bins 25279\n",
            "[LightGBM] [Info] Number of data points in the train set: 181724, number of used features: 140\n",
            "[LightGBM] [Warning] feature_fraction is set=0.6016955188854316, colsample_bytree=1.0 will be ignored. Current value: feature_fraction=0.6016955188854316\n",
            "[LightGBM] [Warning] lambda_l2 is set=2.2504359793813514e-06, reg_lambda=0.0 will be ignored. Current value: lambda_l2=2.2504359793813514e-06\n",
            "[LightGBM] [Warning] lambda_l1 is set=0.008042096653632706, reg_alpha=0.0 will be ignored. Current value: lambda_l1=0.008042096653632706\n",
            "[LightGBM] [Warning] bagging_fraction is set=0.8197024540722573, subsample=1.0 will be ignored. Current value: bagging_fraction=0.8197024540722573\n",
            "[LightGBM] [Warning] bagging_freq is set=1, subsample_freq=0 will be ignored. Current value: bagging_freq=1\n",
            "[LightGBM] [Warning] feature_fraction is set=0.6016955188854316, colsample_bytree=1.0 will be ignored. Current value: feature_fraction=0.6016955188854316\n",
            "[LightGBM] [Warning] lambda_l2 is set=2.2504359793813514e-06, reg_lambda=0.0 will be ignored. Current value: lambda_l2=2.2504359793813514e-06\n",
            "[LightGBM] [Warning] lambda_l1 is set=0.008042096653632706, reg_alpha=0.0 will be ignored. Current value: lambda_l1=0.008042096653632706\n",
            "[LightGBM] [Warning] bagging_fraction is set=0.8197024540722573, subsample=1.0 will be ignored. Current value: bagging_fraction=0.8197024540722573\n",
            "[LightGBM] [Warning] bagging_freq is set=1, subsample_freq=0 will be ignored. Current value: bagging_freq=1\n"
          ]
        },
        {
          "output_type": "stream",
          "name": "stderr",
          "text": [
            "[I 2024-04-29 16:48:49,392] Trial 80 finished with value: 0.6280385253482983 and parameters: {'learning_rate': 0.21477193940724854, 'num_leaves': 299, 'feature_fraction': 0.6016955188854316, 'bagging_fraction': 0.8197024540722573, 'bagging_freq': 1, 'min_child_samples': 20, 'lambda_l1': 0.008042096653632706, 'lambda_l2': 2.2504359793813514e-06}. Best is trial 68 with value: 0.9343974612438289.\n"
          ]
        },
        {
          "output_type": "stream",
          "name": "stdout",
          "text": [
            "[LightGBM] [Warning] feature_fraction is set=0.9250748983824402, colsample_bytree=1.0 will be ignored. Current value: feature_fraction=0.9250748983824402\n",
            "[LightGBM] [Warning] lambda_l2 is set=8.351984056969279e-07, reg_lambda=0.0 will be ignored. Current value: lambda_l2=8.351984056969279e-07\n",
            "[LightGBM] [Warning] lambda_l1 is set=0.0002245475165514318, reg_alpha=0.0 will be ignored. Current value: lambda_l1=0.0002245475165514318\n",
            "[LightGBM] [Warning] bagging_fraction is set=0.7631006232159652, subsample=1.0 will be ignored. Current value: bagging_fraction=0.7631006232159652\n",
            "[LightGBM] [Warning] bagging_freq is set=2, subsample_freq=0 will be ignored. Current value: bagging_freq=2\n",
            "[LightGBM] [Warning] feature_fraction is set=0.9250748983824402, colsample_bytree=1.0 will be ignored. Current value: feature_fraction=0.9250748983824402\n",
            "[LightGBM] [Warning] lambda_l2 is set=8.351984056969279e-07, reg_lambda=0.0 will be ignored. Current value: lambda_l2=8.351984056969279e-07\n",
            "[LightGBM] [Warning] lambda_l1 is set=0.0002245475165514318, reg_alpha=0.0 will be ignored. Current value: lambda_l1=0.0002245475165514318\n",
            "[LightGBM] [Warning] bagging_fraction is set=0.7631006232159652, subsample=1.0 will be ignored. Current value: bagging_fraction=0.7631006232159652\n",
            "[LightGBM] [Warning] bagging_freq is set=2, subsample_freq=0 will be ignored. Current value: bagging_freq=2\n",
            "[LightGBM] [Info] Auto-choosing row-wise multi-threading, the overhead of testing was 0.146810 seconds.\n",
            "You can set `force_row_wise=true` to remove the overhead.\n",
            "And if memory is not enough, you can set `force_col_wise=true`.\n",
            "[LightGBM] [Info] Total Bins 25279\n",
            "[LightGBM] [Info] Number of data points in the train set: 181724, number of used features: 140\n",
            "[LightGBM] [Warning] feature_fraction is set=0.9250748983824402, colsample_bytree=1.0 will be ignored. Current value: feature_fraction=0.9250748983824402\n",
            "[LightGBM] [Warning] lambda_l2 is set=8.351984056969279e-07, reg_lambda=0.0 will be ignored. Current value: lambda_l2=8.351984056969279e-07\n",
            "[LightGBM] [Warning] lambda_l1 is set=0.0002245475165514318, reg_alpha=0.0 will be ignored. Current value: lambda_l1=0.0002245475165514318\n",
            "[LightGBM] [Warning] bagging_fraction is set=0.7631006232159652, subsample=1.0 will be ignored. Current value: bagging_fraction=0.7631006232159652\n",
            "[LightGBM] [Warning] bagging_freq is set=2, subsample_freq=0 will be ignored. Current value: bagging_freq=2\n",
            "[LightGBM] [Warning] feature_fraction is set=0.9250748983824402, colsample_bytree=1.0 will be ignored. Current value: feature_fraction=0.9250748983824402\n",
            "[LightGBM] [Warning] lambda_l2 is set=8.351984056969279e-07, reg_lambda=0.0 will be ignored. Current value: lambda_l2=8.351984056969279e-07\n",
            "[LightGBM] [Warning] lambda_l1 is set=0.0002245475165514318, reg_alpha=0.0 will be ignored. Current value: lambda_l1=0.0002245475165514318\n",
            "[LightGBM] [Warning] bagging_fraction is set=0.7631006232159652, subsample=1.0 will be ignored. Current value: bagging_fraction=0.7631006232159652\n",
            "[LightGBM] [Warning] bagging_freq is set=2, subsample_freq=0 will be ignored. Current value: bagging_freq=2\n"
          ]
        },
        {
          "output_type": "stream",
          "name": "stderr",
          "text": [
            "[I 2024-04-29 16:49:35,414] Trial 81 finished with value: 0.8395103014491042 and parameters: {'learning_rate': 0.0887947924336734, 'num_leaves': 277, 'feature_fraction': 0.9250748983824402, 'bagging_fraction': 0.7631006232159652, 'bagging_freq': 2, 'min_child_samples': 37, 'lambda_l1': 0.0002245475165514318, 'lambda_l2': 8.351984056969279e-07}. Best is trial 68 with value: 0.9343974612438289.\n"
          ]
        },
        {
          "output_type": "stream",
          "name": "stdout",
          "text": [
            "[LightGBM] [Warning] feature_fraction is set=0.8712055122212974, colsample_bytree=1.0 will be ignored. Current value: feature_fraction=0.8712055122212974\n",
            "[LightGBM] [Warning] lambda_l2 is set=1.727249876979711e-07, reg_lambda=0.0 will be ignored. Current value: lambda_l2=1.727249876979711e-07\n",
            "[LightGBM] [Warning] lambda_l1 is set=0.00010192415953675111, reg_alpha=0.0 will be ignored. Current value: lambda_l1=0.00010192415953675111\n",
            "[LightGBM] [Warning] bagging_fraction is set=0.7504510999931658, subsample=1.0 will be ignored. Current value: bagging_fraction=0.7504510999931658\n",
            "[LightGBM] [Warning] bagging_freq is set=2, subsample_freq=0 will be ignored. Current value: bagging_freq=2\n",
            "[LightGBM] [Warning] feature_fraction is set=0.8712055122212974, colsample_bytree=1.0 will be ignored. Current value: feature_fraction=0.8712055122212974\n",
            "[LightGBM] [Warning] lambda_l2 is set=1.727249876979711e-07, reg_lambda=0.0 will be ignored. Current value: lambda_l2=1.727249876979711e-07\n",
            "[LightGBM] [Warning] lambda_l1 is set=0.00010192415953675111, reg_alpha=0.0 will be ignored. Current value: lambda_l1=0.00010192415953675111\n",
            "[LightGBM] [Warning] bagging_fraction is set=0.7504510999931658, subsample=1.0 will be ignored. Current value: bagging_fraction=0.7504510999931658\n",
            "[LightGBM] [Warning] bagging_freq is set=2, subsample_freq=0 will be ignored. Current value: bagging_freq=2\n",
            "[LightGBM] [Info] Auto-choosing row-wise multi-threading, the overhead of testing was 0.228652 seconds.\n",
            "You can set `force_row_wise=true` to remove the overhead.\n",
            "And if memory is not enough, you can set `force_col_wise=true`.\n",
            "[LightGBM] [Info] Total Bins 25279\n",
            "[LightGBM] [Info] Number of data points in the train set: 181724, number of used features: 140\n",
            "[LightGBM] [Warning] feature_fraction is set=0.8712055122212974, colsample_bytree=1.0 will be ignored. Current value: feature_fraction=0.8712055122212974\n",
            "[LightGBM] [Warning] lambda_l2 is set=1.727249876979711e-07, reg_lambda=0.0 will be ignored. Current value: lambda_l2=1.727249876979711e-07\n",
            "[LightGBM] [Warning] lambda_l1 is set=0.00010192415953675111, reg_alpha=0.0 will be ignored. Current value: lambda_l1=0.00010192415953675111\n",
            "[LightGBM] [Warning] bagging_fraction is set=0.7504510999931658, subsample=1.0 will be ignored. Current value: bagging_fraction=0.7504510999931658\n",
            "[LightGBM] [Warning] bagging_freq is set=2, subsample_freq=0 will be ignored. Current value: bagging_freq=2\n",
            "[LightGBM] [Warning] feature_fraction is set=0.8712055122212974, colsample_bytree=1.0 will be ignored. Current value: feature_fraction=0.8712055122212974\n",
            "[LightGBM] [Warning] lambda_l2 is set=1.727249876979711e-07, reg_lambda=0.0 will be ignored. Current value: lambda_l2=1.727249876979711e-07\n",
            "[LightGBM] [Warning] lambda_l1 is set=0.00010192415953675111, reg_alpha=0.0 will be ignored. Current value: lambda_l1=0.00010192415953675111\n",
            "[LightGBM] [Warning] bagging_fraction is set=0.7504510999931658, subsample=1.0 will be ignored. Current value: bagging_fraction=0.7504510999931658\n",
            "[LightGBM] [Warning] bagging_freq is set=2, subsample_freq=0 will be ignored. Current value: bagging_freq=2\n"
          ]
        },
        {
          "output_type": "stream",
          "name": "stderr",
          "text": [
            "[I 2024-04-29 16:50:15,824] Trial 82 finished with value: 0.7032348203855857 and parameters: {'learning_rate': 0.244297961346243, 'num_leaves': 230, 'feature_fraction': 0.8712055122212974, 'bagging_fraction': 0.7504510999931658, 'bagging_freq': 2, 'min_child_samples': 43, 'lambda_l1': 0.00010192415953675111, 'lambda_l2': 1.727249876979711e-07}. Best is trial 68 with value: 0.9343974612438289.\n"
          ]
        },
        {
          "output_type": "stream",
          "name": "stdout",
          "text": [
            "[LightGBM] [Warning] feature_fraction is set=0.8931768760534026, colsample_bytree=1.0 will be ignored. Current value: feature_fraction=0.8931768760534026\n",
            "[LightGBM] [Warning] lambda_l2 is set=5.298430494613661e-08, reg_lambda=0.0 will be ignored. Current value: lambda_l2=5.298430494613661e-08\n",
            "[LightGBM] [Warning] lambda_l1 is set=2.74053170000654e-05, reg_alpha=0.0 will be ignored. Current value: lambda_l1=2.74053170000654e-05\n",
            "[LightGBM] [Warning] bagging_fraction is set=0.78999819202264, subsample=1.0 will be ignored. Current value: bagging_fraction=0.78999819202264\n",
            "[LightGBM] [Warning] bagging_freq is set=3, subsample_freq=0 will be ignored. Current value: bagging_freq=3\n",
            "[LightGBM] [Warning] feature_fraction is set=0.8931768760534026, colsample_bytree=1.0 will be ignored. Current value: feature_fraction=0.8931768760534026\n",
            "[LightGBM] [Warning] lambda_l2 is set=5.298430494613661e-08, reg_lambda=0.0 will be ignored. Current value: lambda_l2=5.298430494613661e-08\n",
            "[LightGBM] [Warning] lambda_l1 is set=2.74053170000654e-05, reg_alpha=0.0 will be ignored. Current value: lambda_l1=2.74053170000654e-05\n",
            "[LightGBM] [Warning] bagging_fraction is set=0.78999819202264, subsample=1.0 will be ignored. Current value: bagging_fraction=0.78999819202264\n",
            "[LightGBM] [Warning] bagging_freq is set=3, subsample_freq=0 will be ignored. Current value: bagging_freq=3\n",
            "[LightGBM] [Info] Auto-choosing row-wise multi-threading, the overhead of testing was 0.142246 seconds.\n",
            "You can set `force_row_wise=true` to remove the overhead.\n",
            "And if memory is not enough, you can set `force_col_wise=true`.\n",
            "[LightGBM] [Info] Total Bins 25279\n",
            "[LightGBM] [Info] Number of data points in the train set: 181724, number of used features: 140\n",
            "[LightGBM] [Warning] feature_fraction is set=0.8931768760534026, colsample_bytree=1.0 will be ignored. Current value: feature_fraction=0.8931768760534026\n",
            "[LightGBM] [Warning] lambda_l2 is set=5.298430494613661e-08, reg_lambda=0.0 will be ignored. Current value: lambda_l2=5.298430494613661e-08\n",
            "[LightGBM] [Warning] lambda_l1 is set=2.74053170000654e-05, reg_alpha=0.0 will be ignored. Current value: lambda_l1=2.74053170000654e-05\n",
            "[LightGBM] [Warning] bagging_fraction is set=0.78999819202264, subsample=1.0 will be ignored. Current value: bagging_fraction=0.78999819202264\n",
            "[LightGBM] [Warning] bagging_freq is set=3, subsample_freq=0 will be ignored. Current value: bagging_freq=3\n",
            "[LightGBM] [Warning] feature_fraction is set=0.8931768760534026, colsample_bytree=1.0 will be ignored. Current value: feature_fraction=0.8931768760534026\n",
            "[LightGBM] [Warning] lambda_l2 is set=5.298430494613661e-08, reg_lambda=0.0 will be ignored. Current value: lambda_l2=5.298430494613661e-08\n",
            "[LightGBM] [Warning] lambda_l1 is set=2.74053170000654e-05, reg_alpha=0.0 will be ignored. Current value: lambda_l1=2.74053170000654e-05\n",
            "[LightGBM] [Warning] bagging_fraction is set=0.78999819202264, subsample=1.0 will be ignored. Current value: bagging_fraction=0.78999819202264\n",
            "[LightGBM] [Warning] bagging_freq is set=3, subsample_freq=0 will be ignored. Current value: bagging_freq=3\n"
          ]
        },
        {
          "output_type": "stream",
          "name": "stderr",
          "text": [
            "[I 2024-04-29 16:50:58,110] Trial 83 finished with value: 0.6680723183934947 and parameters: {'learning_rate': 0.0587771604814437, 'num_leaves': 223, 'feature_fraction': 0.8931768760534026, 'bagging_fraction': 0.78999819202264, 'bagging_freq': 3, 'min_child_samples': 48, 'lambda_l1': 2.74053170000654e-05, 'lambda_l2': 5.298430494613661e-08}. Best is trial 68 with value: 0.9343974612438289.\n"
          ]
        },
        {
          "output_type": "stream",
          "name": "stdout",
          "text": [
            "[LightGBM] [Warning] feature_fraction is set=0.9095980568458842, colsample_bytree=1.0 will be ignored. Current value: feature_fraction=0.9095980568458842\n",
            "[LightGBM] [Warning] lambda_l2 is set=1.670641755953758e-08, reg_lambda=0.0 will be ignored. Current value: lambda_l2=1.670641755953758e-08\n",
            "[LightGBM] [Warning] lambda_l1 is set=8.668430180696106e-07, reg_alpha=0.0 will be ignored. Current value: lambda_l1=8.668430180696106e-07\n",
            "[LightGBM] [Warning] bagging_fraction is set=0.6973150806796379, subsample=1.0 will be ignored. Current value: bagging_fraction=0.6973150806796379\n",
            "[LightGBM] [Warning] bagging_freq is set=2, subsample_freq=0 will be ignored. Current value: bagging_freq=2\n",
            "[LightGBM] [Warning] feature_fraction is set=0.9095980568458842, colsample_bytree=1.0 will be ignored. Current value: feature_fraction=0.9095980568458842\n",
            "[LightGBM] [Warning] lambda_l2 is set=1.670641755953758e-08, reg_lambda=0.0 will be ignored. Current value: lambda_l2=1.670641755953758e-08\n",
            "[LightGBM] [Warning] lambda_l1 is set=8.668430180696106e-07, reg_alpha=0.0 will be ignored. Current value: lambda_l1=8.668430180696106e-07\n",
            "[LightGBM] [Warning] bagging_fraction is set=0.6973150806796379, subsample=1.0 will be ignored. Current value: bagging_fraction=0.6973150806796379\n",
            "[LightGBM] [Warning] bagging_freq is set=2, subsample_freq=0 will be ignored. Current value: bagging_freq=2\n",
            "[LightGBM] [Info] Auto-choosing row-wise multi-threading, the overhead of testing was 0.149375 seconds.\n",
            "You can set `force_row_wise=true` to remove the overhead.\n",
            "And if memory is not enough, you can set `force_col_wise=true`.\n",
            "[LightGBM] [Info] Total Bins 25279\n",
            "[LightGBM] [Info] Number of data points in the train set: 181724, number of used features: 140\n",
            "[LightGBM] [Warning] feature_fraction is set=0.9095980568458842, colsample_bytree=1.0 will be ignored. Current value: feature_fraction=0.9095980568458842\n",
            "[LightGBM] [Warning] lambda_l2 is set=1.670641755953758e-08, reg_lambda=0.0 will be ignored. Current value: lambda_l2=1.670641755953758e-08\n",
            "[LightGBM] [Warning] lambda_l1 is set=8.668430180696106e-07, reg_alpha=0.0 will be ignored. Current value: lambda_l1=8.668430180696106e-07\n",
            "[LightGBM] [Warning] bagging_fraction is set=0.6973150806796379, subsample=1.0 will be ignored. Current value: bagging_fraction=0.6973150806796379\n",
            "[LightGBM] [Warning] bagging_freq is set=2, subsample_freq=0 will be ignored. Current value: bagging_freq=2\n",
            "[LightGBM] [Warning] feature_fraction is set=0.9095980568458842, colsample_bytree=1.0 will be ignored. Current value: feature_fraction=0.9095980568458842\n",
            "[LightGBM] [Warning] lambda_l2 is set=1.670641755953758e-08, reg_lambda=0.0 will be ignored. Current value: lambda_l2=1.670641755953758e-08\n",
            "[LightGBM] [Warning] lambda_l1 is set=8.668430180696106e-07, reg_alpha=0.0 will be ignored. Current value: lambda_l1=8.668430180696106e-07\n",
            "[LightGBM] [Warning] bagging_fraction is set=0.6973150806796379, subsample=1.0 will be ignored. Current value: bagging_fraction=0.6973150806796379\n",
            "[LightGBM] [Warning] bagging_freq is set=2, subsample_freq=0 will be ignored. Current value: bagging_freq=2\n"
          ]
        },
        {
          "output_type": "stream",
          "name": "stderr",
          "text": [
            "[I 2024-04-29 16:51:41,127] Trial 84 finished with value: 0.8395103014491042 and parameters: {'learning_rate': 0.12114726859309877, 'num_leaves': 249, 'feature_fraction': 0.9095980568458842, 'bagging_fraction': 0.6973150806796379, 'bagging_freq': 2, 'min_child_samples': 56, 'lambda_l1': 8.668430180696106e-07, 'lambda_l2': 1.670641755953758e-08}. Best is trial 68 with value: 0.9343974612438289.\n"
          ]
        },
        {
          "output_type": "stream",
          "name": "stdout",
          "text": [
            "[LightGBM] [Warning] feature_fraction is set=0.6989351204487432, colsample_bytree=1.0 will be ignored. Current value: feature_fraction=0.6989351204487432\n",
            "[LightGBM] [Warning] lambda_l2 is set=4.4840527786120215e-06, reg_lambda=0.0 will be ignored. Current value: lambda_l2=4.4840527786120215e-06\n",
            "[LightGBM] [Warning] lambda_l1 is set=6.686487127238863e-05, reg_alpha=0.0 will be ignored. Current value: lambda_l1=6.686487127238863e-05\n",
            "[LightGBM] [Warning] bagging_fraction is set=0.7183880849194559, subsample=1.0 will be ignored. Current value: bagging_fraction=0.7183880849194559\n",
            "[LightGBM] [Warning] bagging_freq is set=4, subsample_freq=0 will be ignored. Current value: bagging_freq=4\n",
            "[LightGBM] [Warning] feature_fraction is set=0.6989351204487432, colsample_bytree=1.0 will be ignored. Current value: feature_fraction=0.6989351204487432\n",
            "[LightGBM] [Warning] lambda_l2 is set=4.4840527786120215e-06, reg_lambda=0.0 will be ignored. Current value: lambda_l2=4.4840527786120215e-06\n",
            "[LightGBM] [Warning] lambda_l1 is set=6.686487127238863e-05, reg_alpha=0.0 will be ignored. Current value: lambda_l1=6.686487127238863e-05\n",
            "[LightGBM] [Warning] bagging_fraction is set=0.7183880849194559, subsample=1.0 will be ignored. Current value: bagging_fraction=0.7183880849194559\n",
            "[LightGBM] [Warning] bagging_freq is set=4, subsample_freq=0 will be ignored. Current value: bagging_freq=4\n",
            "[LightGBM] [Info] Auto-choosing row-wise multi-threading, the overhead of testing was 0.140252 seconds.\n",
            "You can set `force_row_wise=true` to remove the overhead.\n",
            "And if memory is not enough, you can set `force_col_wise=true`.\n",
            "[LightGBM] [Info] Total Bins 25279\n",
            "[LightGBM] [Info] Number of data points in the train set: 181724, number of used features: 140\n",
            "[LightGBM] [Warning] feature_fraction is set=0.6989351204487432, colsample_bytree=1.0 will be ignored. Current value: feature_fraction=0.6989351204487432\n",
            "[LightGBM] [Warning] lambda_l2 is set=4.4840527786120215e-06, reg_lambda=0.0 will be ignored. Current value: lambda_l2=4.4840527786120215e-06\n",
            "[LightGBM] [Warning] lambda_l1 is set=6.686487127238863e-05, reg_alpha=0.0 will be ignored. Current value: lambda_l1=6.686487127238863e-05\n",
            "[LightGBM] [Warning] bagging_fraction is set=0.7183880849194559, subsample=1.0 will be ignored. Current value: bagging_fraction=0.7183880849194559\n",
            "[LightGBM] [Warning] bagging_freq is set=4, subsample_freq=0 will be ignored. Current value: bagging_freq=4\n",
            "[LightGBM] [Warning] feature_fraction is set=0.6989351204487432, colsample_bytree=1.0 will be ignored. Current value: feature_fraction=0.6989351204487432\n",
            "[LightGBM] [Warning] lambda_l2 is set=4.4840527786120215e-06, reg_lambda=0.0 will be ignored. Current value: lambda_l2=4.4840527786120215e-06\n",
            "[LightGBM] [Warning] lambda_l1 is set=6.686487127238863e-05, reg_alpha=0.0 will be ignored. Current value: lambda_l1=6.686487127238863e-05\n",
            "[LightGBM] [Warning] bagging_fraction is set=0.7183880849194559, subsample=1.0 will be ignored. Current value: bagging_fraction=0.7183880849194559\n",
            "[LightGBM] [Warning] bagging_freq is set=4, subsample_freq=0 will be ignored. Current value: bagging_freq=4\n"
          ]
        },
        {
          "output_type": "stream",
          "name": "stderr",
          "text": [
            "[I 2024-04-29 16:52:21,979] Trial 85 finished with value: 0.6472260379105315 and parameters: {'learning_rate': 0.09706877854675926, 'num_leaves': 271, 'feature_fraction': 0.6989351204487432, 'bagging_fraction': 0.7183880849194559, 'bagging_freq': 4, 'min_child_samples': 41, 'lambda_l1': 6.686487127238863e-05, 'lambda_l2': 4.4840527786120215e-06}. Best is trial 68 with value: 0.9343974612438289.\n"
          ]
        },
        {
          "output_type": "stream",
          "name": "stdout",
          "text": [
            "[LightGBM] [Warning] feature_fraction is set=0.7934429248321518, colsample_bytree=1.0 will be ignored. Current value: feature_fraction=0.7934429248321518\n",
            "[LightGBM] [Warning] lambda_l2 is set=4.0757360748632396e-08, reg_lambda=0.0 will be ignored. Current value: lambda_l2=4.0757360748632396e-08\n",
            "[LightGBM] [Warning] lambda_l1 is set=4.154457636741846e-06, reg_alpha=0.0 will be ignored. Current value: lambda_l1=4.154457636741846e-06\n",
            "[LightGBM] [Warning] bagging_fraction is set=0.8086276838652436, subsample=1.0 will be ignored. Current value: bagging_fraction=0.8086276838652436\n",
            "[LightGBM] [Warning] bagging_freq is set=1, subsample_freq=0 will be ignored. Current value: bagging_freq=1\n",
            "[LightGBM] [Warning] feature_fraction is set=0.7934429248321518, colsample_bytree=1.0 will be ignored. Current value: feature_fraction=0.7934429248321518\n",
            "[LightGBM] [Warning] lambda_l2 is set=4.0757360748632396e-08, reg_lambda=0.0 will be ignored. Current value: lambda_l2=4.0757360748632396e-08\n",
            "[LightGBM] [Warning] lambda_l1 is set=4.154457636741846e-06, reg_alpha=0.0 will be ignored. Current value: lambda_l1=4.154457636741846e-06\n",
            "[LightGBM] [Warning] bagging_fraction is set=0.8086276838652436, subsample=1.0 will be ignored. Current value: bagging_fraction=0.8086276838652436\n",
            "[LightGBM] [Warning] bagging_freq is set=1, subsample_freq=0 will be ignored. Current value: bagging_freq=1\n",
            "[LightGBM] [Info] Auto-choosing row-wise multi-threading, the overhead of testing was 0.142723 seconds.\n",
            "You can set `force_row_wise=true` to remove the overhead.\n",
            "And if memory is not enough, you can set `force_col_wise=true`.\n",
            "[LightGBM] [Info] Total Bins 25279\n",
            "[LightGBM] [Info] Number of data points in the train set: 181724, number of used features: 140\n",
            "[LightGBM] [Warning] feature_fraction is set=0.7934429248321518, colsample_bytree=1.0 will be ignored. Current value: feature_fraction=0.7934429248321518\n",
            "[LightGBM] [Warning] lambda_l2 is set=4.0757360748632396e-08, reg_lambda=0.0 will be ignored. Current value: lambda_l2=4.0757360748632396e-08\n",
            "[LightGBM] [Warning] lambda_l1 is set=4.154457636741846e-06, reg_alpha=0.0 will be ignored. Current value: lambda_l1=4.154457636741846e-06\n",
            "[LightGBM] [Warning] bagging_fraction is set=0.8086276838652436, subsample=1.0 will be ignored. Current value: bagging_fraction=0.8086276838652436\n",
            "[LightGBM] [Warning] bagging_freq is set=1, subsample_freq=0 will be ignored. Current value: bagging_freq=1\n",
            "[LightGBM] [Warning] feature_fraction is set=0.7934429248321518, colsample_bytree=1.0 will be ignored. Current value: feature_fraction=0.7934429248321518\n",
            "[LightGBM] [Warning] lambda_l2 is set=4.0757360748632396e-08, reg_lambda=0.0 will be ignored. Current value: lambda_l2=4.0757360748632396e-08\n",
            "[LightGBM] [Warning] lambda_l1 is set=4.154457636741846e-06, reg_alpha=0.0 will be ignored. Current value: lambda_l1=4.154457636741846e-06\n",
            "[LightGBM] [Warning] bagging_fraction is set=0.8086276838652436, subsample=1.0 will be ignored. Current value: bagging_fraction=0.8086276838652436\n",
            "[LightGBM] [Warning] bagging_freq is set=1, subsample_freq=0 will be ignored. Current value: bagging_freq=1\n"
          ]
        },
        {
          "output_type": "stream",
          "name": "stderr",
          "text": [
            "[I 2024-04-29 16:52:59,987] Trial 86 finished with value: 0.697661121884193 and parameters: {'learning_rate': 0.2605604015077319, 'num_leaves': 258, 'feature_fraction': 0.7934429248321518, 'bagging_fraction': 0.8086276838652436, 'bagging_freq': 1, 'min_child_samples': 25, 'lambda_l1': 4.154457636741846e-06, 'lambda_l2': 4.0757360748632396e-08}. Best is trial 68 with value: 0.9343974612438289.\n"
          ]
        },
        {
          "output_type": "stream",
          "name": "stdout",
          "text": [
            "[LightGBM] [Warning] feature_fraction is set=0.95163803869952, colsample_bytree=1.0 will be ignored. Current value: feature_fraction=0.95163803869952\n",
            "[LightGBM] [Warning] lambda_l2 is set=0.0005386648062302122, reg_lambda=0.0 will be ignored. Current value: lambda_l2=0.0005386648062302122\n",
            "[LightGBM] [Warning] lambda_l1 is set=0.0047679519993233405, reg_alpha=0.0 will be ignored. Current value: lambda_l1=0.0047679519993233405\n",
            "[LightGBM] [Warning] bagging_fraction is set=0.7328091009068107, subsample=1.0 will be ignored. Current value: bagging_fraction=0.7328091009068107\n",
            "[LightGBM] [Warning] bagging_freq is set=5, subsample_freq=0 will be ignored. Current value: bagging_freq=5\n",
            "[LightGBM] [Warning] feature_fraction is set=0.95163803869952, colsample_bytree=1.0 will be ignored. Current value: feature_fraction=0.95163803869952\n",
            "[LightGBM] [Warning] lambda_l2 is set=0.0005386648062302122, reg_lambda=0.0 will be ignored. Current value: lambda_l2=0.0005386648062302122\n",
            "[LightGBM] [Warning] lambda_l1 is set=0.0047679519993233405, reg_alpha=0.0 will be ignored. Current value: lambda_l1=0.0047679519993233405\n",
            "[LightGBM] [Warning] bagging_fraction is set=0.7328091009068107, subsample=1.0 will be ignored. Current value: bagging_fraction=0.7328091009068107\n",
            "[LightGBM] [Warning] bagging_freq is set=5, subsample_freq=0 will be ignored. Current value: bagging_freq=5\n",
            "[LightGBM] [Info] Auto-choosing row-wise multi-threading, the overhead of testing was 0.147479 seconds.\n",
            "You can set `force_row_wise=true` to remove the overhead.\n",
            "And if memory is not enough, you can set `force_col_wise=true`.\n",
            "[LightGBM] [Info] Total Bins 25279\n",
            "[LightGBM] [Info] Number of data points in the train set: 181724, number of used features: 140\n",
            "[LightGBM] [Warning] feature_fraction is set=0.95163803869952, colsample_bytree=1.0 will be ignored. Current value: feature_fraction=0.95163803869952\n",
            "[LightGBM] [Warning] lambda_l2 is set=0.0005386648062302122, reg_lambda=0.0 will be ignored. Current value: lambda_l2=0.0005386648062302122\n",
            "[LightGBM] [Warning] lambda_l1 is set=0.0047679519993233405, reg_alpha=0.0 will be ignored. Current value: lambda_l1=0.0047679519993233405\n",
            "[LightGBM] [Warning] bagging_fraction is set=0.7328091009068107, subsample=1.0 will be ignored. Current value: bagging_fraction=0.7328091009068107\n",
            "[LightGBM] [Warning] bagging_freq is set=5, subsample_freq=0 will be ignored. Current value: bagging_freq=5\n",
            "[LightGBM] [Warning] feature_fraction is set=0.95163803869952, colsample_bytree=1.0 will be ignored. Current value: feature_fraction=0.95163803869952\n",
            "[LightGBM] [Warning] lambda_l2 is set=0.0005386648062302122, reg_lambda=0.0 will be ignored. Current value: lambda_l2=0.0005386648062302122\n",
            "[LightGBM] [Warning] lambda_l1 is set=0.0047679519993233405, reg_alpha=0.0 will be ignored. Current value: lambda_l1=0.0047679519993233405\n",
            "[LightGBM] [Warning] bagging_fraction is set=0.7328091009068107, subsample=1.0 will be ignored. Current value: bagging_fraction=0.7328091009068107\n",
            "[LightGBM] [Warning] bagging_freq is set=5, subsample_freq=0 will be ignored. Current value: bagging_freq=5\n"
          ]
        },
        {
          "output_type": "stream",
          "name": "stderr",
          "text": [
            "[I 2024-04-29 16:53:45,035] Trial 87 finished with value: 0.7664761265277511 and parameters: {'learning_rate': 0.04248892065141009, 'num_leaves': 241, 'feature_fraction': 0.95163803869952, 'bagging_fraction': 0.7328091009068107, 'bagging_freq': 5, 'min_child_samples': 59, 'lambda_l1': 0.0047679519993233405, 'lambda_l2': 0.0005386648062302122}. Best is trial 68 with value: 0.9343974612438289.\n"
          ]
        },
        {
          "output_type": "stream",
          "name": "stdout",
          "text": [
            "[LightGBM] [Warning] feature_fraction is set=0.9741171041586948, colsample_bytree=1.0 will be ignored. Current value: feature_fraction=0.9741171041586948\n",
            "[LightGBM] [Warning] lambda_l2 is set=4.1221594803160766e-07, reg_lambda=0.0 will be ignored. Current value: lambda_l2=4.1221594803160766e-07\n",
            "[LightGBM] [Warning] lambda_l1 is set=0.0016480956760088956, reg_alpha=0.0 will be ignored. Current value: lambda_l1=0.0016480956760088956\n",
            "[LightGBM] [Warning] bagging_fraction is set=0.8459826067177877, subsample=1.0 will be ignored. Current value: bagging_fraction=0.8459826067177877\n",
            "[LightGBM] [Warning] bagging_freq is set=2, subsample_freq=0 will be ignored. Current value: bagging_freq=2\n",
            "[LightGBM] [Warning] feature_fraction is set=0.9741171041586948, colsample_bytree=1.0 will be ignored. Current value: feature_fraction=0.9741171041586948\n",
            "[LightGBM] [Warning] lambda_l2 is set=4.1221594803160766e-07, reg_lambda=0.0 will be ignored. Current value: lambda_l2=4.1221594803160766e-07\n",
            "[LightGBM] [Warning] lambda_l1 is set=0.0016480956760088956, reg_alpha=0.0 will be ignored. Current value: lambda_l1=0.0016480956760088956\n",
            "[LightGBM] [Warning] bagging_fraction is set=0.8459826067177877, subsample=1.0 will be ignored. Current value: bagging_fraction=0.8459826067177877\n",
            "[LightGBM] [Warning] bagging_freq is set=2, subsample_freq=0 will be ignored. Current value: bagging_freq=2\n",
            "[LightGBM] [Info] Auto-choosing row-wise multi-threading, the overhead of testing was 0.147466 seconds.\n",
            "You can set `force_row_wise=true` to remove the overhead.\n",
            "And if memory is not enough, you can set `force_col_wise=true`.\n",
            "[LightGBM] [Info] Total Bins 25279\n",
            "[LightGBM] [Info] Number of data points in the train set: 181724, number of used features: 140\n",
            "[LightGBM] [Warning] feature_fraction is set=0.9741171041586948, colsample_bytree=1.0 will be ignored. Current value: feature_fraction=0.9741171041586948\n",
            "[LightGBM] [Warning] lambda_l2 is set=4.1221594803160766e-07, reg_lambda=0.0 will be ignored. Current value: lambda_l2=4.1221594803160766e-07\n",
            "[LightGBM] [Warning] lambda_l1 is set=0.0016480956760088956, reg_alpha=0.0 will be ignored. Current value: lambda_l1=0.0016480956760088956\n",
            "[LightGBM] [Warning] bagging_fraction is set=0.8459826067177877, subsample=1.0 will be ignored. Current value: bagging_fraction=0.8459826067177877\n",
            "[LightGBM] [Warning] bagging_freq is set=2, subsample_freq=0 will be ignored. Current value: bagging_freq=2\n",
            "[LightGBM] [Warning] feature_fraction is set=0.9741171041586948, colsample_bytree=1.0 will be ignored. Current value: feature_fraction=0.9741171041586948\n",
            "[LightGBM] [Warning] lambda_l2 is set=4.1221594803160766e-07, reg_lambda=0.0 will be ignored. Current value: lambda_l2=4.1221594803160766e-07\n",
            "[LightGBM] [Warning] lambda_l1 is set=0.0016480956760088956, reg_alpha=0.0 will be ignored. Current value: lambda_l1=0.0016480956760088956\n",
            "[LightGBM] [Warning] bagging_fraction is set=0.8459826067177877, subsample=1.0 will be ignored. Current value: bagging_fraction=0.8459826067177877\n",
            "[LightGBM] [Warning] bagging_freq is set=2, subsample_freq=0 will be ignored. Current value: bagging_freq=2\n"
          ]
        },
        {
          "output_type": "stream",
          "name": "stderr",
          "text": [
            "[I 2024-04-29 16:54:33,821] Trial 88 finished with value: 0.8395103014491042 and parameters: {'learning_rate': 0.07413896686562299, 'num_leaves': 290, 'feature_fraction': 0.9741171041586948, 'bagging_fraction': 0.8459826067177877, 'bagging_freq': 2, 'min_child_samples': 64, 'lambda_l1': 0.0016480956760088956, 'lambda_l2': 4.1221594803160766e-07}. Best is trial 68 with value: 0.9343974612438289.\n"
          ]
        },
        {
          "output_type": "stream",
          "name": "stdout",
          "text": [
            "[LightGBM] [Warning] feature_fraction is set=0.9427084641435479, colsample_bytree=1.0 will be ignored. Current value: feature_fraction=0.9427084641435479\n",
            "[LightGBM] [Warning] lambda_l2 is set=7.528479752577448e-06, reg_lambda=0.0 will be ignored. Current value: lambda_l2=7.528479752577448e-06\n",
            "[LightGBM] [Warning] lambda_l1 is set=0.0004915872135088477, reg_alpha=0.0 will be ignored. Current value: lambda_l1=0.0004915872135088477\n",
            "[LightGBM] [Warning] bagging_fraction is set=0.8278057598454236, subsample=1.0 will be ignored. Current value: bagging_fraction=0.8278057598454236\n",
            "[LightGBM] [Warning] bagging_freq is set=4, subsample_freq=0 will be ignored. Current value: bagging_freq=4\n",
            "[LightGBM] [Warning] feature_fraction is set=0.9427084641435479, colsample_bytree=1.0 will be ignored. Current value: feature_fraction=0.9427084641435479\n",
            "[LightGBM] [Warning] lambda_l2 is set=7.528479752577448e-06, reg_lambda=0.0 will be ignored. Current value: lambda_l2=7.528479752577448e-06\n",
            "[LightGBM] [Warning] lambda_l1 is set=0.0004915872135088477, reg_alpha=0.0 will be ignored. Current value: lambda_l1=0.0004915872135088477\n",
            "[LightGBM] [Warning] bagging_fraction is set=0.8278057598454236, subsample=1.0 will be ignored. Current value: bagging_fraction=0.8278057598454236\n",
            "[LightGBM] [Warning] bagging_freq is set=4, subsample_freq=0 will be ignored. Current value: bagging_freq=4\n",
            "[LightGBM] [Info] Auto-choosing row-wise multi-threading, the overhead of testing was 0.145822 seconds.\n",
            "You can set `force_row_wise=true` to remove the overhead.\n",
            "And if memory is not enough, you can set `force_col_wise=true`.\n",
            "[LightGBM] [Info] Total Bins 25279\n",
            "[LightGBM] [Info] Number of data points in the train set: 181724, number of used features: 140\n",
            "[LightGBM] [Warning] feature_fraction is set=0.9427084641435479, colsample_bytree=1.0 will be ignored. Current value: feature_fraction=0.9427084641435479\n",
            "[LightGBM] [Warning] lambda_l2 is set=7.528479752577448e-06, reg_lambda=0.0 will be ignored. Current value: lambda_l2=7.528479752577448e-06\n",
            "[LightGBM] [Warning] lambda_l1 is set=0.0004915872135088477, reg_alpha=0.0 will be ignored. Current value: lambda_l1=0.0004915872135088477\n",
            "[LightGBM] [Warning] bagging_fraction is set=0.8278057598454236, subsample=1.0 will be ignored. Current value: bagging_fraction=0.8278057598454236\n",
            "[LightGBM] [Warning] bagging_freq is set=4, subsample_freq=0 will be ignored. Current value: bagging_freq=4\n",
            "[LightGBM] [Warning] feature_fraction is set=0.9427084641435479, colsample_bytree=1.0 will be ignored. Current value: feature_fraction=0.9427084641435479\n",
            "[LightGBM] [Warning] lambda_l2 is set=7.528479752577448e-06, reg_lambda=0.0 will be ignored. Current value: lambda_l2=7.528479752577448e-06\n",
            "[LightGBM] [Warning] lambda_l1 is set=0.0004915872135088477, reg_alpha=0.0 will be ignored. Current value: lambda_l1=0.0004915872135088477\n",
            "[LightGBM] [Warning] bagging_fraction is set=0.8278057598454236, subsample=1.0 will be ignored. Current value: bagging_fraction=0.8278057598454236\n",
            "[LightGBM] [Warning] bagging_freq is set=4, subsample_freq=0 will be ignored. Current value: bagging_freq=4\n"
          ]
        },
        {
          "output_type": "stream",
          "name": "stderr",
          "text": [
            "[I 2024-04-29 16:55:12,683] Trial 89 finished with value: 0.7632636606403639 and parameters: {'learning_rate': 0.15542674665352907, 'num_leaves': 201, 'feature_fraction': 0.9427084641435479, 'bagging_fraction': 0.8278057598454236, 'bagging_freq': 4, 'min_child_samples': 88, 'lambda_l1': 0.0004915872135088477, 'lambda_l2': 7.528479752577448e-06}. Best is trial 68 with value: 0.9343974612438289.\n"
          ]
        },
        {
          "output_type": "stream",
          "name": "stdout",
          "text": [
            "[LightGBM] [Warning] feature_fraction is set=0.8356621932883176, colsample_bytree=1.0 will be ignored. Current value: feature_fraction=0.8356621932883176\n",
            "[LightGBM] [Warning] lambda_l2 is set=1.6696797149530914e-06, reg_lambda=0.0 will be ignored. Current value: lambda_l2=1.6696797149530914e-06\n",
            "[LightGBM] [Warning] lambda_l1 is set=0.02734748423208618, reg_alpha=0.0 will be ignored. Current value: lambda_l1=0.02734748423208618\n",
            "[LightGBM] [Warning] bagging_fraction is set=0.7417638781357687, subsample=1.0 will be ignored. Current value: bagging_fraction=0.7417638781357687\n",
            "[LightGBM] [Warning] bagging_freq is set=1, subsample_freq=0 will be ignored. Current value: bagging_freq=1\n",
            "[LightGBM] [Warning] feature_fraction is set=0.8356621932883176, colsample_bytree=1.0 will be ignored. Current value: feature_fraction=0.8356621932883176\n",
            "[LightGBM] [Warning] lambda_l2 is set=1.6696797149530914e-06, reg_lambda=0.0 will be ignored. Current value: lambda_l2=1.6696797149530914e-06\n",
            "[LightGBM] [Warning] lambda_l1 is set=0.02734748423208618, reg_alpha=0.0 will be ignored. Current value: lambda_l1=0.02734748423208618\n",
            "[LightGBM] [Warning] bagging_fraction is set=0.7417638781357687, subsample=1.0 will be ignored. Current value: bagging_fraction=0.7417638781357687\n",
            "[LightGBM] [Warning] bagging_freq is set=1, subsample_freq=0 will be ignored. Current value: bagging_freq=1\n",
            "[LightGBM] [Info] Auto-choosing row-wise multi-threading, the overhead of testing was 0.175201 seconds.\n",
            "You can set `force_row_wise=true` to remove the overhead.\n",
            "And if memory is not enough, you can set `force_col_wise=true`.\n",
            "[LightGBM] [Info] Total Bins 25279\n",
            "[LightGBM] [Info] Number of data points in the train set: 181724, number of used features: 140\n",
            "[LightGBM] [Warning] feature_fraction is set=0.8356621932883176, colsample_bytree=1.0 will be ignored. Current value: feature_fraction=0.8356621932883176\n",
            "[LightGBM] [Warning] lambda_l2 is set=1.6696797149530914e-06, reg_lambda=0.0 will be ignored. Current value: lambda_l2=1.6696797149530914e-06\n",
            "[LightGBM] [Warning] lambda_l1 is set=0.02734748423208618, reg_alpha=0.0 will be ignored. Current value: lambda_l1=0.02734748423208618\n",
            "[LightGBM] [Warning] bagging_fraction is set=0.7417638781357687, subsample=1.0 will be ignored. Current value: bagging_fraction=0.7417638781357687\n",
            "[LightGBM] [Warning] bagging_freq is set=1, subsample_freq=0 will be ignored. Current value: bagging_freq=1\n",
            "[LightGBM] [Warning] feature_fraction is set=0.8356621932883176, colsample_bytree=1.0 will be ignored. Current value: feature_fraction=0.8356621932883176\n",
            "[LightGBM] [Warning] lambda_l2 is set=1.6696797149530914e-06, reg_lambda=0.0 will be ignored. Current value: lambda_l2=1.6696797149530914e-06\n",
            "[LightGBM] [Warning] lambda_l1 is set=0.02734748423208618, reg_alpha=0.0 will be ignored. Current value: lambda_l1=0.02734748423208618\n",
            "[LightGBM] [Warning] bagging_fraction is set=0.7417638781357687, subsample=1.0 will be ignored. Current value: bagging_fraction=0.7417638781357687\n",
            "[LightGBM] [Warning] bagging_freq is set=1, subsample_freq=0 will be ignored. Current value: bagging_freq=1\n"
          ]
        },
        {
          "output_type": "stream",
          "name": "stderr",
          "text": [
            "[I 2024-04-29 16:55:51,728] Trial 90 finished with value: 0.7456298460447878 and parameters: {'learning_rate': 0.1414532708841999, 'num_leaves': 224, 'feature_fraction': 0.8356621932883176, 'bagging_fraction': 0.7417638781357687, 'bagging_freq': 1, 'min_child_samples': 30, 'lambda_l1': 0.02734748423208618, 'lambda_l2': 1.6696797149530914e-06}. Best is trial 68 with value: 0.9343974612438289.\n"
          ]
        },
        {
          "output_type": "stream",
          "name": "stdout",
          "text": [
            "[LightGBM] [Warning] feature_fraction is set=0.609223403983816, colsample_bytree=1.0 will be ignored. Current value: feature_fraction=0.609223403983816\n",
            "[LightGBM] [Warning] lambda_l2 is set=1.6508754206703204e-08, reg_lambda=0.0 will be ignored. Current value: lambda_l2=1.6508754206703204e-08\n",
            "[LightGBM] [Warning] lambda_l1 is set=1.1100548657097447e-05, reg_alpha=0.0 will be ignored. Current value: lambda_l1=1.1100548657097447e-05\n",
            "[LightGBM] [Warning] bagging_fraction is set=0.7615416715721679, subsample=1.0 will be ignored. Current value: bagging_fraction=0.7615416715721679\n",
            "[LightGBM] [Warning] bagging_freq is set=1, subsample_freq=0 will be ignored. Current value: bagging_freq=1\n",
            "[LightGBM] [Warning] feature_fraction is set=0.609223403983816, colsample_bytree=1.0 will be ignored. Current value: feature_fraction=0.609223403983816\n",
            "[LightGBM] [Warning] lambda_l2 is set=1.6508754206703204e-08, reg_lambda=0.0 will be ignored. Current value: lambda_l2=1.6508754206703204e-08\n",
            "[LightGBM] [Warning] lambda_l1 is set=1.1100548657097447e-05, reg_alpha=0.0 will be ignored. Current value: lambda_l1=1.1100548657097447e-05\n",
            "[LightGBM] [Warning] bagging_fraction is set=0.7615416715721679, subsample=1.0 will be ignored. Current value: bagging_fraction=0.7615416715721679\n",
            "[LightGBM] [Warning] bagging_freq is set=1, subsample_freq=0 will be ignored. Current value: bagging_freq=1\n",
            "[LightGBM] [Info] Auto-choosing col-wise multi-threading, the overhead of testing was 0.358160 seconds.\n",
            "You can set `force_col_wise=true` to remove the overhead.\n",
            "[LightGBM] [Info] Total Bins 25279\n",
            "[LightGBM] [Info] Number of data points in the train set: 181724, number of used features: 140\n",
            "[LightGBM] [Warning] feature_fraction is set=0.609223403983816, colsample_bytree=1.0 will be ignored. Current value: feature_fraction=0.609223403983816\n",
            "[LightGBM] [Warning] lambda_l2 is set=1.6508754206703204e-08, reg_lambda=0.0 will be ignored. Current value: lambda_l2=1.6508754206703204e-08\n",
            "[LightGBM] [Warning] lambda_l1 is set=1.1100548657097447e-05, reg_alpha=0.0 will be ignored. Current value: lambda_l1=1.1100548657097447e-05\n",
            "[LightGBM] [Warning] bagging_fraction is set=0.7615416715721679, subsample=1.0 will be ignored. Current value: bagging_fraction=0.7615416715721679\n",
            "[LightGBM] [Warning] bagging_freq is set=1, subsample_freq=0 will be ignored. Current value: bagging_freq=1\n",
            "[LightGBM] [Warning] feature_fraction is set=0.609223403983816, colsample_bytree=1.0 will be ignored. Current value: feature_fraction=0.609223403983816\n",
            "[LightGBM] [Warning] lambda_l2 is set=1.6508754206703204e-08, reg_lambda=0.0 will be ignored. Current value: lambda_l2=1.6508754206703204e-08\n",
            "[LightGBM] [Warning] lambda_l1 is set=1.1100548657097447e-05, reg_alpha=0.0 will be ignored. Current value: lambda_l1=1.1100548657097447e-05\n",
            "[LightGBM] [Warning] bagging_fraction is set=0.7615416715721679, subsample=1.0 will be ignored. Current value: bagging_fraction=0.7615416715721679\n",
            "[LightGBM] [Warning] bagging_freq is set=1, subsample_freq=0 will be ignored. Current value: bagging_freq=1\n"
          ]
        },
        {
          "output_type": "stream",
          "name": "stderr",
          "text": [
            "[I 2024-04-29 16:56:35,197] Trial 91 finished with value: 0.7269675349907752 and parameters: {'learning_rate': 0.027736124699542536, 'num_leaves': 285, 'feature_fraction': 0.609223403983816, 'bagging_fraction': 0.7615416715721679, 'bagging_freq': 1, 'min_child_samples': 34, 'lambda_l1': 1.1100548657097447e-05, 'lambda_l2': 1.6508754206703204e-08}. Best is trial 68 with value: 0.9343974612438289.\n"
          ]
        },
        {
          "output_type": "stream",
          "name": "stdout",
          "text": [
            "[LightGBM] [Warning] feature_fraction is set=0.6679489023261493, colsample_bytree=1.0 will be ignored. Current value: feature_fraction=0.6679489023261493\n",
            "[LightGBM] [Warning] lambda_l2 is set=2.8076397362938233e-08, reg_lambda=0.0 will be ignored. Current value: lambda_l2=2.8076397362938233e-08\n",
            "[LightGBM] [Warning] lambda_l1 is set=6.226269975642005e-06, reg_alpha=0.0 will be ignored. Current value: lambda_l1=6.226269975642005e-06\n",
            "[LightGBM] [Warning] bagging_fraction is set=0.7815748947146501, subsample=1.0 will be ignored. Current value: bagging_fraction=0.7815748947146501\n",
            "[LightGBM] [Warning] bagging_freq is set=1, subsample_freq=0 will be ignored. Current value: bagging_freq=1\n",
            "[LightGBM] [Warning] feature_fraction is set=0.6679489023261493, colsample_bytree=1.0 will be ignored. Current value: feature_fraction=0.6679489023261493\n",
            "[LightGBM] [Warning] lambda_l2 is set=2.8076397362938233e-08, reg_lambda=0.0 will be ignored. Current value: lambda_l2=2.8076397362938233e-08\n",
            "[LightGBM] [Warning] lambda_l1 is set=6.226269975642005e-06, reg_alpha=0.0 will be ignored. Current value: lambda_l1=6.226269975642005e-06\n",
            "[LightGBM] [Warning] bagging_fraction is set=0.7815748947146501, subsample=1.0 will be ignored. Current value: bagging_fraction=0.7815748947146501\n",
            "[LightGBM] [Warning] bagging_freq is set=1, subsample_freq=0 will be ignored. Current value: bagging_freq=1\n",
            "[LightGBM] [Info] Auto-choosing row-wise multi-threading, the overhead of testing was 0.138469 seconds.\n",
            "You can set `force_row_wise=true` to remove the overhead.\n",
            "And if memory is not enough, you can set `force_col_wise=true`.\n",
            "[LightGBM] [Info] Total Bins 25279\n",
            "[LightGBM] [Info] Number of data points in the train set: 181724, number of used features: 140\n",
            "[LightGBM] [Warning] feature_fraction is set=0.6679489023261493, colsample_bytree=1.0 will be ignored. Current value: feature_fraction=0.6679489023261493\n",
            "[LightGBM] [Warning] lambda_l2 is set=2.8076397362938233e-08, reg_lambda=0.0 will be ignored. Current value: lambda_l2=2.8076397362938233e-08\n",
            "[LightGBM] [Warning] lambda_l1 is set=6.226269975642005e-06, reg_alpha=0.0 will be ignored. Current value: lambda_l1=6.226269975642005e-06\n",
            "[LightGBM] [Warning] bagging_fraction is set=0.7815748947146501, subsample=1.0 will be ignored. Current value: bagging_fraction=0.7815748947146501\n",
            "[LightGBM] [Warning] bagging_freq is set=1, subsample_freq=0 will be ignored. Current value: bagging_freq=1\n",
            "[LightGBM] [Warning] feature_fraction is set=0.6679489023261493, colsample_bytree=1.0 will be ignored. Current value: feature_fraction=0.6679489023261493\n",
            "[LightGBM] [Warning] lambda_l2 is set=2.8076397362938233e-08, reg_lambda=0.0 will be ignored. Current value: lambda_l2=2.8076397362938233e-08\n",
            "[LightGBM] [Warning] lambda_l1 is set=6.226269975642005e-06, reg_alpha=0.0 will be ignored. Current value: lambda_l1=6.226269975642005e-06\n",
            "[LightGBM] [Warning] bagging_fraction is set=0.7815748947146501, subsample=1.0 will be ignored. Current value: bagging_fraction=0.7815748947146501\n",
            "[LightGBM] [Warning] bagging_freq is set=1, subsample_freq=0 will be ignored. Current value: bagging_freq=1\n"
          ]
        },
        {
          "output_type": "stream",
          "name": "stderr",
          "text": [
            "[I 2024-04-29 16:57:14,409] Trial 92 finished with value: 0.6608397947263838 and parameters: {'learning_rate': 0.08725062178323167, 'num_leaves': 280, 'feature_fraction': 0.6679489023261493, 'bagging_fraction': 0.7815748947146501, 'bagging_freq': 1, 'min_child_samples': 32, 'lambda_l1': 6.226269975642005e-06, 'lambda_l2': 2.8076397362938233e-08}. Best is trial 68 with value: 0.9343974612438289.\n"
          ]
        },
        {
          "output_type": "stream",
          "name": "stdout",
          "text": [
            "[LightGBM] [Warning] feature_fraction is set=0.8534498657399983, colsample_bytree=1.0 will be ignored. Current value: feature_fraction=0.8534498657399983\n",
            "[LightGBM] [Warning] lambda_l2 is set=8.354243491016853e-08, reg_lambda=0.0 will be ignored. Current value: lambda_l2=8.354243491016853e-08\n",
            "[LightGBM] [Warning] lambda_l1 is set=2.823674373082625e-05, reg_alpha=0.0 will be ignored. Current value: lambda_l1=2.823674373082625e-05\n",
            "[LightGBM] [Warning] bagging_fraction is set=0.7554464520299822, subsample=1.0 will be ignored. Current value: bagging_fraction=0.7554464520299822\n",
            "[LightGBM] [Warning] bagging_freq is set=7, subsample_freq=0 will be ignored. Current value: bagging_freq=7\n",
            "[LightGBM] [Warning] feature_fraction is set=0.8534498657399983, colsample_bytree=1.0 will be ignored. Current value: feature_fraction=0.8534498657399983\n",
            "[LightGBM] [Warning] lambda_l2 is set=8.354243491016853e-08, reg_lambda=0.0 will be ignored. Current value: lambda_l2=8.354243491016853e-08\n",
            "[LightGBM] [Warning] lambda_l1 is set=2.823674373082625e-05, reg_alpha=0.0 will be ignored. Current value: lambda_l1=2.823674373082625e-05\n",
            "[LightGBM] [Warning] bagging_fraction is set=0.7554464520299822, subsample=1.0 will be ignored. Current value: bagging_fraction=0.7554464520299822\n",
            "[LightGBM] [Warning] bagging_freq is set=7, subsample_freq=0 will be ignored. Current value: bagging_freq=7\n",
            "[LightGBM] [Info] Auto-choosing row-wise multi-threading, the overhead of testing was 0.140319 seconds.\n",
            "You can set `force_row_wise=true` to remove the overhead.\n",
            "And if memory is not enough, you can set `force_col_wise=true`.\n",
            "[LightGBM] [Info] Total Bins 25279\n",
            "[LightGBM] [Info] Number of data points in the train set: 181724, number of used features: 140\n",
            "[LightGBM] [Warning] feature_fraction is set=0.8534498657399983, colsample_bytree=1.0 will be ignored. Current value: feature_fraction=0.8534498657399983\n",
            "[LightGBM] [Warning] lambda_l2 is set=8.354243491016853e-08, reg_lambda=0.0 will be ignored. Current value: lambda_l2=8.354243491016853e-08\n",
            "[LightGBM] [Warning] lambda_l1 is set=2.823674373082625e-05, reg_alpha=0.0 will be ignored. Current value: lambda_l1=2.823674373082625e-05\n",
            "[LightGBM] [Warning] bagging_fraction is set=0.7554464520299822, subsample=1.0 will be ignored. Current value: bagging_fraction=0.7554464520299822\n",
            "[LightGBM] [Warning] bagging_freq is set=7, subsample_freq=0 will be ignored. Current value: bagging_freq=7\n",
            "[LightGBM] [Warning] feature_fraction is set=0.8534498657399983, colsample_bytree=1.0 will be ignored. Current value: feature_fraction=0.8534498657399983\n",
            "[LightGBM] [Warning] lambda_l2 is set=8.354243491016853e-08, reg_lambda=0.0 will be ignored. Current value: lambda_l2=8.354243491016853e-08\n",
            "[LightGBM] [Warning] lambda_l1 is set=2.823674373082625e-05, reg_alpha=0.0 will be ignored. Current value: lambda_l1=2.823674373082625e-05\n",
            "[LightGBM] [Warning] bagging_fraction is set=0.7554464520299822, subsample=1.0 will be ignored. Current value: bagging_fraction=0.7554464520299822\n",
            "[LightGBM] [Warning] bagging_freq is set=7, subsample_freq=0 will be ignored. Current value: bagging_freq=7\n"
          ]
        },
        {
          "output_type": "stream",
          "name": "stderr",
          "text": [
            "[I 2024-04-29 16:57:57,419] Trial 93 finished with value: 0.7925700737469461 and parameters: {'learning_rate': 0.017041626987633937, 'num_leaves': 263, 'feature_fraction': 0.8534498657399983, 'bagging_fraction': 0.7554464520299822, 'bagging_freq': 7, 'min_child_samples': 37, 'lambda_l1': 2.823674373082625e-05, 'lambda_l2': 8.354243491016853e-08}. Best is trial 68 with value: 0.9343974612438289.\n"
          ]
        },
        {
          "output_type": "stream",
          "name": "stdout",
          "text": [
            "[LightGBM] [Warning] feature_fraction is set=0.639124648916649, colsample_bytree=1.0 will be ignored. Current value: feature_fraction=0.639124648916649\n",
            "[LightGBM] [Warning] lambda_l2 is set=1.4244805823327336e-08, reg_lambda=0.0 will be ignored. Current value: lambda_l2=1.4244805823327336e-08\n",
            "[LightGBM] [Warning] lambda_l1 is set=2.515111943127916e-06, reg_alpha=0.0 will be ignored. Current value: lambda_l1=2.515111943127916e-06\n",
            "[LightGBM] [Warning] bagging_fraction is set=0.7180510232465178, subsample=1.0 will be ignored. Current value: bagging_fraction=0.7180510232465178\n",
            "[LightGBM] [Warning] bagging_freq is set=1, subsample_freq=0 will be ignored. Current value: bagging_freq=1\n",
            "[LightGBM] [Warning] feature_fraction is set=0.639124648916649, colsample_bytree=1.0 will be ignored. Current value: feature_fraction=0.639124648916649\n",
            "[LightGBM] [Warning] lambda_l2 is set=1.4244805823327336e-08, reg_lambda=0.0 will be ignored. Current value: lambda_l2=1.4244805823327336e-08\n",
            "[LightGBM] [Warning] lambda_l1 is set=2.515111943127916e-06, reg_alpha=0.0 will be ignored. Current value: lambda_l1=2.515111943127916e-06\n",
            "[LightGBM] [Warning] bagging_fraction is set=0.7180510232465178, subsample=1.0 will be ignored. Current value: bagging_fraction=0.7180510232465178\n",
            "[LightGBM] [Warning] bagging_freq is set=1, subsample_freq=0 will be ignored. Current value: bagging_freq=1\n",
            "[LightGBM] [Info] Auto-choosing row-wise multi-threading, the overhead of testing was 0.132978 seconds.\n",
            "You can set `force_row_wise=true` to remove the overhead.\n",
            "And if memory is not enough, you can set `force_col_wise=true`.\n",
            "[LightGBM] [Info] Total Bins 25279\n",
            "[LightGBM] [Info] Number of data points in the train set: 181724, number of used features: 140\n",
            "[LightGBM] [Warning] feature_fraction is set=0.639124648916649, colsample_bytree=1.0 will be ignored. Current value: feature_fraction=0.639124648916649\n",
            "[LightGBM] [Warning] lambda_l2 is set=1.4244805823327336e-08, reg_lambda=0.0 will be ignored. Current value: lambda_l2=1.4244805823327336e-08\n",
            "[LightGBM] [Warning] lambda_l1 is set=2.515111943127916e-06, reg_alpha=0.0 will be ignored. Current value: lambda_l1=2.515111943127916e-06\n",
            "[LightGBM] [Warning] bagging_fraction is set=0.7180510232465178, subsample=1.0 will be ignored. Current value: bagging_fraction=0.7180510232465178\n",
            "[LightGBM] [Warning] bagging_freq is set=1, subsample_freq=0 will be ignored. Current value: bagging_freq=1\n",
            "[LightGBM] [Warning] feature_fraction is set=0.639124648916649, colsample_bytree=1.0 will be ignored. Current value: feature_fraction=0.639124648916649\n",
            "[LightGBM] [Warning] lambda_l2 is set=1.4244805823327336e-08, reg_lambda=0.0 will be ignored. Current value: lambda_l2=1.4244805823327336e-08\n",
            "[LightGBM] [Warning] lambda_l1 is set=2.515111943127916e-06, reg_alpha=0.0 will be ignored. Current value: lambda_l1=2.515111943127916e-06\n",
            "[LightGBM] [Warning] bagging_fraction is set=0.7180510232465178, subsample=1.0 will be ignored. Current value: bagging_fraction=0.7180510232465178\n",
            "[LightGBM] [Warning] bagging_freq is set=1, subsample_freq=0 will be ignored. Current value: bagging_freq=1\n"
          ]
        },
        {
          "output_type": "stream",
          "name": "stderr",
          "text": [
            "[I 2024-04-29 16:58:36,599] Trial 94 finished with value: 0.7946030594984799 and parameters: {'learning_rate': 0.10972200342347009, 'num_leaves': 274, 'feature_fraction': 0.639124648916649, 'bagging_fraction': 0.7180510232465178, 'bagging_freq': 1, 'min_child_samples': 25, 'lambda_l1': 2.515111943127916e-06, 'lambda_l2': 1.4244805823327336e-08}. Best is trial 68 with value: 0.9343974612438289.\n"
          ]
        },
        {
          "output_type": "stream",
          "name": "stdout",
          "text": [
            "[LightGBM] [Warning] feature_fraction is set=0.8822967267295476, colsample_bytree=1.0 will be ignored. Current value: feature_fraction=0.8822967267295476\n",
            "[LightGBM] [Warning] lambda_l2 is set=1.0645099541158033e-08, reg_lambda=0.0 will be ignored. Current value: lambda_l2=1.0645099541158033e-08\n",
            "[LightGBM] [Warning] lambda_l1 is set=1.449366875272521e-05, reg_alpha=0.0 will be ignored. Current value: lambda_l1=1.449366875272521e-05\n",
            "[LightGBM] [Warning] bagging_fraction is set=0.7717036072614365, subsample=1.0 will be ignored. Current value: bagging_fraction=0.7717036072614365\n",
            "[LightGBM] [Warning] bagging_freq is set=2, subsample_freq=0 will be ignored. Current value: bagging_freq=2\n",
            "[LightGBM] [Warning] feature_fraction is set=0.8822967267295476, colsample_bytree=1.0 will be ignored. Current value: feature_fraction=0.8822967267295476\n",
            "[LightGBM] [Warning] lambda_l2 is set=1.0645099541158033e-08, reg_lambda=0.0 will be ignored. Current value: lambda_l2=1.0645099541158033e-08\n",
            "[LightGBM] [Warning] lambda_l1 is set=1.449366875272521e-05, reg_alpha=0.0 will be ignored. Current value: lambda_l1=1.449366875272521e-05\n",
            "[LightGBM] [Warning] bagging_fraction is set=0.7717036072614365, subsample=1.0 will be ignored. Current value: bagging_fraction=0.7717036072614365\n",
            "[LightGBM] [Warning] bagging_freq is set=2, subsample_freq=0 will be ignored. Current value: bagging_freq=2\n",
            "[LightGBM] [Info] Auto-choosing row-wise multi-threading, the overhead of testing was 0.145776 seconds.\n",
            "You can set `force_row_wise=true` to remove the overhead.\n",
            "And if memory is not enough, you can set `force_col_wise=true`.\n",
            "[LightGBM] [Info] Total Bins 25279\n",
            "[LightGBM] [Info] Number of data points in the train set: 181724, number of used features: 140\n",
            "[LightGBM] [Warning] feature_fraction is set=0.8822967267295476, colsample_bytree=1.0 will be ignored. Current value: feature_fraction=0.8822967267295476\n",
            "[LightGBM] [Warning] lambda_l2 is set=1.0645099541158033e-08, reg_lambda=0.0 will be ignored. Current value: lambda_l2=1.0645099541158033e-08\n",
            "[LightGBM] [Warning] lambda_l1 is set=1.449366875272521e-05, reg_alpha=0.0 will be ignored. Current value: lambda_l1=1.449366875272521e-05\n",
            "[LightGBM] [Warning] bagging_fraction is set=0.7717036072614365, subsample=1.0 will be ignored. Current value: bagging_fraction=0.7717036072614365\n",
            "[LightGBM] [Warning] bagging_freq is set=2, subsample_freq=0 will be ignored. Current value: bagging_freq=2\n",
            "[LightGBM] [Warning] feature_fraction is set=0.8822967267295476, colsample_bytree=1.0 will be ignored. Current value: feature_fraction=0.8822967267295476\n",
            "[LightGBM] [Warning] lambda_l2 is set=1.0645099541158033e-08, reg_lambda=0.0 will be ignored. Current value: lambda_l2=1.0645099541158033e-08\n",
            "[LightGBM] [Warning] lambda_l1 is set=1.449366875272521e-05, reg_alpha=0.0 will be ignored. Current value: lambda_l1=1.449366875272521e-05\n",
            "[LightGBM] [Warning] bagging_fraction is set=0.7717036072614365, subsample=1.0 will be ignored. Current value: bagging_fraction=0.7717036072614365\n",
            "[LightGBM] [Warning] bagging_freq is set=2, subsample_freq=0 will be ignored. Current value: bagging_freq=2\n"
          ]
        },
        {
          "output_type": "stream",
          "name": "stderr",
          "text": [
            "[I 2024-04-29 16:59:21,880] Trial 95 finished with value: 0.8395103014491042 and parameters: {'learning_rate': 0.012101920532310862, 'num_leaves': 266, 'feature_fraction': 0.8822967267295476, 'bagging_fraction': 0.7717036072614365, 'bagging_freq': 2, 'min_child_samples': 53, 'lambda_l1': 1.449366875272521e-05, 'lambda_l2': 1.0645099541158033e-08}. Best is trial 68 with value: 0.9343974612438289.\n"
          ]
        },
        {
          "output_type": "stream",
          "name": "stdout",
          "text": [
            "[LightGBM] [Warning] feature_fraction is set=0.8627793959637353, colsample_bytree=1.0 will be ignored. Current value: feature_fraction=0.8627793959637353\n",
            "[LightGBM] [Warning] lambda_l2 is set=1.822621038117923e-07, reg_lambda=0.0 will be ignored. Current value: lambda_l2=1.822621038117923e-07\n",
            "[LightGBM] [Warning] lambda_l1 is set=0.0002080992732265812, reg_alpha=0.0 will be ignored. Current value: lambda_l1=0.0002080992732265812\n",
            "[LightGBM] [Warning] bagging_fraction is set=0.7952159259883992, subsample=1.0 will be ignored. Current value: bagging_fraction=0.7952159259883992\n",
            "[LightGBM] [Warning] bagging_freq is set=1, subsample_freq=0 will be ignored. Current value: bagging_freq=1\n",
            "[LightGBM] [Warning] feature_fraction is set=0.8627793959637353, colsample_bytree=1.0 will be ignored. Current value: feature_fraction=0.8627793959637353\n",
            "[LightGBM] [Warning] lambda_l2 is set=1.822621038117923e-07, reg_lambda=0.0 will be ignored. Current value: lambda_l2=1.822621038117923e-07\n",
            "[LightGBM] [Warning] lambda_l1 is set=0.0002080992732265812, reg_alpha=0.0 will be ignored. Current value: lambda_l1=0.0002080992732265812\n",
            "[LightGBM] [Warning] bagging_fraction is set=0.7952159259883992, subsample=1.0 will be ignored. Current value: bagging_fraction=0.7952159259883992\n",
            "[LightGBM] [Warning] bagging_freq is set=1, subsample_freq=0 will be ignored. Current value: bagging_freq=1\n",
            "[LightGBM] [Info] Auto-choosing col-wise multi-threading, the overhead of testing was 0.355176 seconds.\n",
            "You can set `force_col_wise=true` to remove the overhead.\n",
            "[LightGBM] [Info] Total Bins 25279\n",
            "[LightGBM] [Info] Number of data points in the train set: 181724, number of used features: 140\n",
            "[LightGBM] [Warning] feature_fraction is set=0.8627793959637353, colsample_bytree=1.0 will be ignored. Current value: feature_fraction=0.8627793959637353\n",
            "[LightGBM] [Warning] lambda_l2 is set=1.822621038117923e-07, reg_lambda=0.0 will be ignored. Current value: lambda_l2=1.822621038117923e-07\n",
            "[LightGBM] [Warning] lambda_l1 is set=0.0002080992732265812, reg_alpha=0.0 will be ignored. Current value: lambda_l1=0.0002080992732265812\n",
            "[LightGBM] [Warning] bagging_fraction is set=0.7952159259883992, subsample=1.0 will be ignored. Current value: bagging_fraction=0.7952159259883992\n",
            "[LightGBM] [Warning] bagging_freq is set=1, subsample_freq=0 will be ignored. Current value: bagging_freq=1\n",
            "[LightGBM] [Warning] feature_fraction is set=0.8627793959637353, colsample_bytree=1.0 will be ignored. Current value: feature_fraction=0.8627793959637353\n",
            "[LightGBM] [Warning] lambda_l2 is set=1.822621038117923e-07, reg_lambda=0.0 will be ignored. Current value: lambda_l2=1.822621038117923e-07\n",
            "[LightGBM] [Warning] lambda_l1 is set=0.0002080992732265812, reg_alpha=0.0 will be ignored. Current value: lambda_l1=0.0002080992732265812\n",
            "[LightGBM] [Warning] bagging_fraction is set=0.7952159259883992, subsample=1.0 will be ignored. Current value: bagging_fraction=0.7952159259883992\n",
            "[LightGBM] [Warning] bagging_freq is set=1, subsample_freq=0 will be ignored. Current value: bagging_freq=1\n"
          ]
        },
        {
          "output_type": "stream",
          "name": "stderr",
          "text": [
            "[I 2024-04-29 17:00:08,804] Trial 96 finished with value: 0.6680723183934947 and parameters: {'learning_rate': 0.2788657005792956, 'num_leaves': 250, 'feature_fraction': 0.8627793959637353, 'bagging_fraction': 0.7952159259883992, 'bagging_freq': 1, 'min_child_samples': 41, 'lambda_l1': 0.0002080992732265812, 'lambda_l2': 1.822621038117923e-07}. Best is trial 68 with value: 0.9343974612438289.\n"
          ]
        },
        {
          "output_type": "stream",
          "name": "stdout",
          "text": [
            "[LightGBM] [Warning] feature_fraction is set=0.7489013414701416, colsample_bytree=1.0 will be ignored. Current value: feature_fraction=0.7489013414701416\n",
            "[LightGBM] [Warning] lambda_l2 is set=3.6665714303196873e-06, reg_lambda=0.0 will be ignored. Current value: lambda_l2=3.6665714303196873e-06\n",
            "[LightGBM] [Warning] lambda_l1 is set=1.6215609264905417, reg_alpha=0.0 will be ignored. Current value: lambda_l1=1.6215609264905417\n",
            "[LightGBM] [Warning] bagging_fraction is set=0.7263180290634271, subsample=1.0 will be ignored. Current value: bagging_fraction=0.7263180290634271\n",
            "[LightGBM] [Warning] bagging_freq is set=4, subsample_freq=0 will be ignored. Current value: bagging_freq=4\n",
            "[LightGBM] [Warning] feature_fraction is set=0.7489013414701416, colsample_bytree=1.0 will be ignored. Current value: feature_fraction=0.7489013414701416\n",
            "[LightGBM] [Warning] lambda_l2 is set=3.6665714303196873e-06, reg_lambda=0.0 will be ignored. Current value: lambda_l2=3.6665714303196873e-06\n",
            "[LightGBM] [Warning] lambda_l1 is set=1.6215609264905417, reg_alpha=0.0 will be ignored. Current value: lambda_l1=1.6215609264905417\n",
            "[LightGBM] [Warning] bagging_fraction is set=0.7263180290634271, subsample=1.0 will be ignored. Current value: bagging_fraction=0.7263180290634271\n",
            "[LightGBM] [Warning] bagging_freq is set=4, subsample_freq=0 will be ignored. Current value: bagging_freq=4\n",
            "[LightGBM] [Info] Auto-choosing row-wise multi-threading, the overhead of testing was 0.143104 seconds.\n",
            "You can set `force_row_wise=true` to remove the overhead.\n",
            "And if memory is not enough, you can set `force_col_wise=true`.\n",
            "[LightGBM] [Info] Total Bins 25279\n",
            "[LightGBM] [Info] Number of data points in the train set: 181724, number of used features: 140\n",
            "[LightGBM] [Warning] feature_fraction is set=0.7489013414701416, colsample_bytree=1.0 will be ignored. Current value: feature_fraction=0.7489013414701416\n",
            "[LightGBM] [Warning] lambda_l2 is set=3.6665714303196873e-06, reg_lambda=0.0 will be ignored. Current value: lambda_l2=3.6665714303196873e-06\n",
            "[LightGBM] [Warning] lambda_l1 is set=1.6215609264905417, reg_alpha=0.0 will be ignored. Current value: lambda_l1=1.6215609264905417\n",
            "[LightGBM] [Warning] bagging_fraction is set=0.7263180290634271, subsample=1.0 will be ignored. Current value: bagging_fraction=0.7263180290634271\n",
            "[LightGBM] [Warning] bagging_freq is set=4, subsample_freq=0 will be ignored. Current value: bagging_freq=4\n",
            "[LightGBM] [Warning] feature_fraction is set=0.7489013414701416, colsample_bytree=1.0 will be ignored. Current value: feature_fraction=0.7489013414701416\n",
            "[LightGBM] [Warning] lambda_l2 is set=3.6665714303196873e-06, reg_lambda=0.0 will be ignored. Current value: lambda_l2=3.6665714303196873e-06\n",
            "[LightGBM] [Warning] lambda_l1 is set=1.6215609264905417, reg_alpha=0.0 will be ignored. Current value: lambda_l1=1.6215609264905417\n",
            "[LightGBM] [Warning] bagging_fraction is set=0.7263180290634271, subsample=1.0 will be ignored. Current value: bagging_fraction=0.7263180290634271\n",
            "[LightGBM] [Warning] bagging_freq is set=4, subsample_freq=0 will be ignored. Current value: bagging_freq=4\n"
          ]
        },
        {
          "output_type": "stream",
          "name": "stderr",
          "text": [
            "[I 2024-04-29 17:00:50,286] Trial 97 finished with value: 0.7456298460447878 and parameters: {'learning_rate': 0.10322261370698908, 'num_leaves': 294, 'feature_fraction': 0.7489013414701416, 'bagging_fraction': 0.7263180290634271, 'bagging_freq': 4, 'min_child_samples': 66, 'lambda_l1': 1.6215609264905417, 'lambda_l2': 3.6665714303196873e-06}. Best is trial 68 with value: 0.9343974612438289.\n"
          ]
        },
        {
          "output_type": "stream",
          "name": "stdout",
          "text": [
            "[LightGBM] [Warning] feature_fraction is set=0.6197602930012877, colsample_bytree=1.0 will be ignored. Current value: feature_fraction=0.6197602930012877\n",
            "[LightGBM] [Warning] lambda_l2 is set=1.483637553463959e-05, reg_lambda=0.0 will be ignored. Current value: lambda_l2=1.483637553463959e-05\n",
            "[LightGBM] [Warning] lambda_l1 is set=4.986181455965172e-05, reg_alpha=0.0 will be ignored. Current value: lambda_l1=4.986181455965172e-05\n",
            "[LightGBM] [Warning] bagging_fraction is set=0.9280808607493084, subsample=1.0 will be ignored. Current value: bagging_fraction=0.9280808607493084\n",
            "[LightGBM] [Warning] bagging_freq is set=3, subsample_freq=0 will be ignored. Current value: bagging_freq=3\n",
            "[LightGBM] [Warning] feature_fraction is set=0.6197602930012877, colsample_bytree=1.0 will be ignored. Current value: feature_fraction=0.6197602930012877\n",
            "[LightGBM] [Warning] lambda_l2 is set=1.483637553463959e-05, reg_lambda=0.0 will be ignored. Current value: lambda_l2=1.483637553463959e-05\n",
            "[LightGBM] [Warning] lambda_l1 is set=4.986181455965172e-05, reg_alpha=0.0 will be ignored. Current value: lambda_l1=4.986181455965172e-05\n",
            "[LightGBM] [Warning] bagging_fraction is set=0.9280808607493084, subsample=1.0 will be ignored. Current value: bagging_fraction=0.9280808607493084\n",
            "[LightGBM] [Warning] bagging_freq is set=3, subsample_freq=0 will be ignored. Current value: bagging_freq=3\n",
            "[LightGBM] [Info] Auto-choosing col-wise multi-threading, the overhead of testing was 0.351155 seconds.\n",
            "You can set `force_col_wise=true` to remove the overhead.\n",
            "[LightGBM] [Info] Total Bins 25279\n",
            "[LightGBM] [Info] Number of data points in the train set: 181724, number of used features: 140\n",
            "[LightGBM] [Warning] feature_fraction is set=0.6197602930012877, colsample_bytree=1.0 will be ignored. Current value: feature_fraction=0.6197602930012877\n",
            "[LightGBM] [Warning] lambda_l2 is set=1.483637553463959e-05, reg_lambda=0.0 will be ignored. Current value: lambda_l2=1.483637553463959e-05\n",
            "[LightGBM] [Warning] lambda_l1 is set=4.986181455965172e-05, reg_alpha=0.0 will be ignored. Current value: lambda_l1=4.986181455965172e-05\n",
            "[LightGBM] [Warning] bagging_fraction is set=0.9280808607493084, subsample=1.0 will be ignored. Current value: bagging_fraction=0.9280808607493084\n",
            "[LightGBM] [Warning] bagging_freq is set=3, subsample_freq=0 will be ignored. Current value: bagging_freq=3\n",
            "[LightGBM] [Warning] feature_fraction is set=0.6197602930012877, colsample_bytree=1.0 will be ignored. Current value: feature_fraction=0.6197602930012877\n",
            "[LightGBM] [Warning] lambda_l2 is set=1.483637553463959e-05, reg_lambda=0.0 will be ignored. Current value: lambda_l2=1.483637553463959e-05\n",
            "[LightGBM] [Warning] lambda_l1 is set=4.986181455965172e-05, reg_alpha=0.0 will be ignored. Current value: lambda_l1=4.986181455965172e-05\n",
            "[LightGBM] [Warning] bagging_fraction is set=0.9280808607493084, subsample=1.0 will be ignored. Current value: bagging_fraction=0.9280808607493084\n",
            "[LightGBM] [Warning] bagging_freq is set=3, subsample_freq=0 will be ignored. Current value: bagging_freq=3\n"
          ]
        },
        {
          "output_type": "stream",
          "name": "stderr",
          "text": [
            "[I 2024-04-29 17:01:37,293] Trial 98 finished with value: 0.7128285766667023 and parameters: {'learning_rate': 0.13100793529533897, 'num_leaves': 300, 'feature_fraction': 0.6197602930012877, 'bagging_fraction': 0.9280808607493084, 'bagging_freq': 3, 'min_child_samples': 49, 'lambda_l1': 4.986181455965172e-05, 'lambda_l2': 1.483637553463959e-05}. Best is trial 68 with value: 0.9343974612438289.\n"
          ]
        },
        {
          "output_type": "stream",
          "name": "stdout",
          "text": [
            "[LightGBM] [Warning] feature_fraction is set=0.8916237259999418, colsample_bytree=1.0 will be ignored. Current value: feature_fraction=0.8916237259999418\n",
            "[LightGBM] [Warning] lambda_l2 is set=4.327230818532996e-05, reg_lambda=0.0 will be ignored. Current value: lambda_l2=4.327230818532996e-05\n",
            "[LightGBM] [Warning] lambda_l1 is set=0.001027540076427306, reg_alpha=0.0 will be ignored. Current value: lambda_l1=0.001027540076427306\n",
            "[LightGBM] [Warning] bagging_fraction is set=0.6793897007379985, subsample=1.0 will be ignored. Current value: bagging_fraction=0.6793897007379985\n",
            "[LightGBM] [Warning] bagging_freq is set=2, subsample_freq=0 will be ignored. Current value: bagging_freq=2\n",
            "[LightGBM] [Warning] feature_fraction is set=0.8916237259999418, colsample_bytree=1.0 will be ignored. Current value: feature_fraction=0.8916237259999418\n",
            "[LightGBM] [Warning] lambda_l2 is set=4.327230818532996e-05, reg_lambda=0.0 will be ignored. Current value: lambda_l2=4.327230818532996e-05\n",
            "[LightGBM] [Warning] lambda_l1 is set=0.001027540076427306, reg_alpha=0.0 will be ignored. Current value: lambda_l1=0.001027540076427306\n",
            "[LightGBM] [Warning] bagging_fraction is set=0.6793897007379985, subsample=1.0 will be ignored. Current value: bagging_fraction=0.6793897007379985\n",
            "[LightGBM] [Warning] bagging_freq is set=2, subsample_freq=0 will be ignored. Current value: bagging_freq=2\n",
            "[LightGBM] [Info] Auto-choosing row-wise multi-threading, the overhead of testing was 0.141885 seconds.\n",
            "You can set `force_row_wise=true` to remove the overhead.\n",
            "And if memory is not enough, you can set `force_col_wise=true`.\n",
            "[LightGBM] [Info] Total Bins 25279\n",
            "[LightGBM] [Info] Number of data points in the train set: 181724, number of used features: 140\n",
            "[LightGBM] [Warning] feature_fraction is set=0.8916237259999418, colsample_bytree=1.0 will be ignored. Current value: feature_fraction=0.8916237259999418\n",
            "[LightGBM] [Warning] lambda_l2 is set=4.327230818532996e-05, reg_lambda=0.0 will be ignored. Current value: lambda_l2=4.327230818532996e-05\n",
            "[LightGBM] [Warning] lambda_l1 is set=0.001027540076427306, reg_alpha=0.0 will be ignored. Current value: lambda_l1=0.001027540076427306\n",
            "[LightGBM] [Warning] bagging_fraction is set=0.6793897007379985, subsample=1.0 will be ignored. Current value: bagging_fraction=0.6793897007379985\n",
            "[LightGBM] [Warning] bagging_freq is set=2, subsample_freq=0 will be ignored. Current value: bagging_freq=2\n",
            "[LightGBM] [Warning] feature_fraction is set=0.8916237259999418, colsample_bytree=1.0 will be ignored. Current value: feature_fraction=0.8916237259999418\n",
            "[LightGBM] [Warning] lambda_l2 is set=4.327230818532996e-05, reg_lambda=0.0 will be ignored. Current value: lambda_l2=4.327230818532996e-05\n",
            "[LightGBM] [Warning] lambda_l1 is set=0.001027540076427306, reg_alpha=0.0 will be ignored. Current value: lambda_l1=0.001027540076427306\n",
            "[LightGBM] [Warning] bagging_fraction is set=0.6793897007379985, subsample=1.0 will be ignored. Current value: bagging_fraction=0.6793897007379985\n",
            "[LightGBM] [Warning] bagging_freq is set=2, subsample_freq=0 will be ignored. Current value: bagging_freq=2\n"
          ]
        },
        {
          "output_type": "stream",
          "name": "stderr",
          "text": [
            "[I 2024-04-29 17:02:11,438] Trial 99 finished with value: 0.7925700737469461 and parameters: {'learning_rate': 0.046919301734962934, 'num_leaves': 110, 'feature_fraction': 0.8916237259999418, 'bagging_fraction': 0.6793897007379985, 'bagging_freq': 2, 'min_child_samples': 62, 'lambda_l1': 0.001027540076427306, 'lambda_l2': 4.327230818532996e-05}. Best is trial 68 with value: 0.9343974612438289.\n"
          ]
        },
        {
          "output_type": "stream",
          "name": "stdout",
          "text": [
            "Best trial: {'learning_rate': 0.19352984792919467, 'num_leaves': 276, 'feature_fraction': 0.8662533141261209, 'bagging_fraction': 0.8103932939337507, 'bagging_freq': 2, 'min_child_samples': 56, 'lambda_l1': 0.0051205847482619716, 'lambda_l2': 1.2245362144914043e-05}\n",
            "[LightGBM] [Warning] feature_fraction is set=0.8662533141261209, colsample_bytree=1.0 will be ignored. Current value: feature_fraction=0.8662533141261209\n",
            "[LightGBM] [Warning] lambda_l2 is set=1.2245362144914043e-05, reg_lambda=0.0 will be ignored. Current value: lambda_l2=1.2245362144914043e-05\n",
            "[LightGBM] [Warning] lambda_l1 is set=0.0051205847482619716, reg_alpha=0.0 will be ignored. Current value: lambda_l1=0.0051205847482619716\n",
            "[LightGBM] [Warning] bagging_fraction is set=0.8103932939337507, subsample=1.0 will be ignored. Current value: bagging_fraction=0.8103932939337507\n",
            "[LightGBM] [Warning] bagging_freq is set=2, subsample_freq=0 will be ignored. Current value: bagging_freq=2\n",
            "[LightGBM] [Warning] feature_fraction is set=0.8662533141261209, colsample_bytree=1.0 will be ignored. Current value: feature_fraction=0.8662533141261209\n",
            "[LightGBM] [Warning] lambda_l2 is set=1.2245362144914043e-05, reg_lambda=0.0 will be ignored. Current value: lambda_l2=1.2245362144914043e-05\n",
            "[LightGBM] [Warning] lambda_l1 is set=0.0051205847482619716, reg_alpha=0.0 will be ignored. Current value: lambda_l1=0.0051205847482619716\n",
            "[LightGBM] [Warning] bagging_fraction is set=0.8103932939337507, subsample=1.0 will be ignored. Current value: bagging_fraction=0.8103932939337507\n",
            "[LightGBM] [Warning] bagging_freq is set=2, subsample_freq=0 will be ignored. Current value: bagging_freq=2\n",
            "[LightGBM] [Info] Auto-choosing row-wise multi-threading, the overhead of testing was 0.149620 seconds.\n",
            "You can set `force_row_wise=true` to remove the overhead.\n",
            "And if memory is not enough, you can set `force_col_wise=true`.\n",
            "[LightGBM] [Info] Total Bins 25279\n",
            "[LightGBM] [Info] Number of data points in the train set: 181724, number of used features: 140\n",
            "[LightGBM] [Warning] feature_fraction is set=0.8662533141261209, colsample_bytree=1.0 will be ignored. Current value: feature_fraction=0.8662533141261209\n",
            "[LightGBM] [Warning] lambda_l2 is set=1.2245362144914043e-05, reg_lambda=0.0 will be ignored. Current value: lambda_l2=1.2245362144914043e-05\n",
            "[LightGBM] [Warning] lambda_l1 is set=0.0051205847482619716, reg_alpha=0.0 will be ignored. Current value: lambda_l1=0.0051205847482619716\n",
            "[LightGBM] [Warning] bagging_fraction is set=0.8103932939337507, subsample=1.0 will be ignored. Current value: bagging_fraction=0.8103932939337507\n",
            "[LightGBM] [Warning] bagging_freq is set=2, subsample_freq=0 will be ignored. Current value: bagging_freq=2\n",
            "[LightGBM] [Warning] feature_fraction is set=0.8662533141261209, colsample_bytree=1.0 will be ignored. Current value: feature_fraction=0.8662533141261209\n",
            "[LightGBM] [Warning] lambda_l2 is set=1.2245362144914043e-05, reg_lambda=0.0 will be ignored. Current value: lambda_l2=1.2245362144914043e-05\n",
            "[LightGBM] [Warning] lambda_l1 is set=0.0051205847482619716, reg_alpha=0.0 will be ignored. Current value: lambda_l1=0.0051205847482619716\n",
            "[LightGBM] [Warning] bagging_fraction is set=0.8103932939337507, subsample=1.0 will be ignored. Current value: bagging_fraction=0.8103932939337507\n",
            "[LightGBM] [Warning] bagging_freq is set=2, subsample_freq=0 will be ignored. Current value: bagging_freq=2\n",
            "Final NDCG@5 score: 0.9344\n"
          ]
        }
      ]
    },
    {
      "cell_type": "code",
      "source": [
        "print('Best trial:', study.best_trial.params)\n",
        "# Best trial: {'learning_rate': 0.19352984792919467, 'num_leaves': 276,\n",
        "#              'feature_fraction': 0.8662533141261209, 'bagging_fraction': 0.8103932939337507,\n",
        "#              'bagging_freq': 2, 'min_child_samples': 56,\n",
        "#              'lambda_l1': 0.0051205847482619716, 'lambda_l2': 1.2245362144914043e-05}\n",
        "print(f\"Final NDCG@5 score: {final_ndcg:.4f}\")\n",
        "# Final NDCG@5 score: 0.9344"
      ],
      "metadata": {
        "colab": {
          "base_uri": "https://localhost:8080/"
        },
        "id": "W_8U7YDN0NQI",
        "outputId": "28c31c9c-da60-46c6-e954-66eb47d4a5c8"
      },
      "execution_count": 126,
      "outputs": [
        {
          "output_type": "stream",
          "name": "stdout",
          "text": [
            "Best trial: {'learning_rate': 0.19352984792919467, 'num_leaves': 276, 'feature_fraction': 0.8662533141261209, 'bagging_fraction': 0.8103932939337507, 'bagging_freq': 2, 'min_child_samples': 56, 'lambda_l1': 0.0051205847482619716, 'lambda_l2': 1.2245362144914043e-05}\n",
            "Final NDCG@5 score: 0.9344\n"
          ]
        }
      ]
    }
  ]
}