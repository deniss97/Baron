{
  "nbformat": 4,
  "nbformat_minor": 0,
  "metadata": {
    "colab": {
      "provenance": [],
      "authorship_tag": "ABX9TyNBR+rqT12bBxxU447lJlWl",
      "include_colab_link": true
    },
    "kernelspec": {
      "name": "python3",
      "display_name": "Python 3"
    },
    "language_info": {
      "name": "python"
    },
    "widgets": {
      "application/vnd.jupyter.widget-state+json": {
        "0e516acda3ef4c569abf09f4a52937d4": {
          "model_module": "@jupyter-widgets/controls",
          "model_name": "VBoxModel",
          "model_module_version": "1.5.0",
          "state": {
            "_dom_classes": [],
            "_model_module": "@jupyter-widgets/controls",
            "_model_module_version": "1.5.0",
            "_model_name": "VBoxModel",
            "_view_count": null,
            "_view_module": "@jupyter-widgets/controls",
            "_view_module_version": "1.5.0",
            "_view_name": "VBoxView",
            "box_style": "",
            "children": [
              "IPY_MODEL_ae93521116c04de38ea0ce488d6275ad",
              "IPY_MODEL_031094ae54cd49d08e086dffbc1d23d7"
            ],
            "layout": "IPY_MODEL_c579b3c478074560929b93ebee216ae7"
          }
        },
        "ae93521116c04de38ea0ce488d6275ad": {
          "model_module": "@jupyter-widgets/controls",
          "model_name": "LabelModel",
          "model_module_version": "1.5.0",
          "state": {
            "_dom_classes": [],
            "_model_module": "@jupyter-widgets/controls",
            "_model_module_version": "1.5.0",
            "_model_name": "LabelModel",
            "_view_count": null,
            "_view_module": "@jupyter-widgets/controls",
            "_view_module_version": "1.5.0",
            "_view_name": "LabelView",
            "description": "",
            "description_tooltip": null,
            "layout": "IPY_MODEL_e6e0e10269d7403f8dbf46c4f91465ab",
            "placeholder": "​",
            "style": "IPY_MODEL_36c112d1a94e476c877c2fe2f21ef8bb",
            "value": "0.016 MB of 0.016 MB uploaded\r"
          }
        },
        "031094ae54cd49d08e086dffbc1d23d7": {
          "model_module": "@jupyter-widgets/controls",
          "model_name": "FloatProgressModel",
          "model_module_version": "1.5.0",
          "state": {
            "_dom_classes": [],
            "_model_module": "@jupyter-widgets/controls",
            "_model_module_version": "1.5.0",
            "_model_name": "FloatProgressModel",
            "_view_count": null,
            "_view_module": "@jupyter-widgets/controls",
            "_view_module_version": "1.5.0",
            "_view_name": "ProgressView",
            "bar_style": "",
            "description": "",
            "description_tooltip": null,
            "layout": "IPY_MODEL_a7a40f3ec6f3400e9a2ef79e5d27fb11",
            "max": 1,
            "min": 0,
            "orientation": "horizontal",
            "style": "IPY_MODEL_8117327632f741d1a346f879c7fb1a19",
            "value": 1
          }
        },
        "c579b3c478074560929b93ebee216ae7": {
          "model_module": "@jupyter-widgets/base",
          "model_name": "LayoutModel",
          "model_module_version": "1.2.0",
          "state": {
            "_model_module": "@jupyter-widgets/base",
            "_model_module_version": "1.2.0",
            "_model_name": "LayoutModel",
            "_view_count": null,
            "_view_module": "@jupyter-widgets/base",
            "_view_module_version": "1.2.0",
            "_view_name": "LayoutView",
            "align_content": null,
            "align_items": null,
            "align_self": null,
            "border": null,
            "bottom": null,
            "display": null,
            "flex": null,
            "flex_flow": null,
            "grid_area": null,
            "grid_auto_columns": null,
            "grid_auto_flow": null,
            "grid_auto_rows": null,
            "grid_column": null,
            "grid_gap": null,
            "grid_row": null,
            "grid_template_areas": null,
            "grid_template_columns": null,
            "grid_template_rows": null,
            "height": null,
            "justify_content": null,
            "justify_items": null,
            "left": null,
            "margin": null,
            "max_height": null,
            "max_width": null,
            "min_height": null,
            "min_width": null,
            "object_fit": null,
            "object_position": null,
            "order": null,
            "overflow": null,
            "overflow_x": null,
            "overflow_y": null,
            "padding": null,
            "right": null,
            "top": null,
            "visibility": null,
            "width": null
          }
        },
        "e6e0e10269d7403f8dbf46c4f91465ab": {
          "model_module": "@jupyter-widgets/base",
          "model_name": "LayoutModel",
          "model_module_version": "1.2.0",
          "state": {
            "_model_module": "@jupyter-widgets/base",
            "_model_module_version": "1.2.0",
            "_model_name": "LayoutModel",
            "_view_count": null,
            "_view_module": "@jupyter-widgets/base",
            "_view_module_version": "1.2.0",
            "_view_name": "LayoutView",
            "align_content": null,
            "align_items": null,
            "align_self": null,
            "border": null,
            "bottom": null,
            "display": null,
            "flex": null,
            "flex_flow": null,
            "grid_area": null,
            "grid_auto_columns": null,
            "grid_auto_flow": null,
            "grid_auto_rows": null,
            "grid_column": null,
            "grid_gap": null,
            "grid_row": null,
            "grid_template_areas": null,
            "grid_template_columns": null,
            "grid_template_rows": null,
            "height": null,
            "justify_content": null,
            "justify_items": null,
            "left": null,
            "margin": null,
            "max_height": null,
            "max_width": null,
            "min_height": null,
            "min_width": null,
            "object_fit": null,
            "object_position": null,
            "order": null,
            "overflow": null,
            "overflow_x": null,
            "overflow_y": null,
            "padding": null,
            "right": null,
            "top": null,
            "visibility": null,
            "width": null
          }
        },
        "36c112d1a94e476c877c2fe2f21ef8bb": {
          "model_module": "@jupyter-widgets/controls",
          "model_name": "DescriptionStyleModel",
          "model_module_version": "1.5.0",
          "state": {
            "_model_module": "@jupyter-widgets/controls",
            "_model_module_version": "1.5.0",
            "_model_name": "DescriptionStyleModel",
            "_view_count": null,
            "_view_module": "@jupyter-widgets/base",
            "_view_module_version": "1.2.0",
            "_view_name": "StyleView",
            "description_width": ""
          }
        },
        "a7a40f3ec6f3400e9a2ef79e5d27fb11": {
          "model_module": "@jupyter-widgets/base",
          "model_name": "LayoutModel",
          "model_module_version": "1.2.0",
          "state": {
            "_model_module": "@jupyter-widgets/base",
            "_model_module_version": "1.2.0",
            "_model_name": "LayoutModel",
            "_view_count": null,
            "_view_module": "@jupyter-widgets/base",
            "_view_module_version": "1.2.0",
            "_view_name": "LayoutView",
            "align_content": null,
            "align_items": null,
            "align_self": null,
            "border": null,
            "bottom": null,
            "display": null,
            "flex": null,
            "flex_flow": null,
            "grid_area": null,
            "grid_auto_columns": null,
            "grid_auto_flow": null,
            "grid_auto_rows": null,
            "grid_column": null,
            "grid_gap": null,
            "grid_row": null,
            "grid_template_areas": null,
            "grid_template_columns": null,
            "grid_template_rows": null,
            "height": null,
            "justify_content": null,
            "justify_items": null,
            "left": null,
            "margin": null,
            "max_height": null,
            "max_width": null,
            "min_height": null,
            "min_width": null,
            "object_fit": null,
            "object_position": null,
            "order": null,
            "overflow": null,
            "overflow_x": null,
            "overflow_y": null,
            "padding": null,
            "right": null,
            "top": null,
            "visibility": null,
            "width": null
          }
        },
        "8117327632f741d1a346f879c7fb1a19": {
          "model_module": "@jupyter-widgets/controls",
          "model_name": "ProgressStyleModel",
          "model_module_version": "1.5.0",
          "state": {
            "_model_module": "@jupyter-widgets/controls",
            "_model_module_version": "1.5.0",
            "_model_name": "ProgressStyleModel",
            "_view_count": null,
            "_view_module": "@jupyter-widgets/base",
            "_view_module_version": "1.2.0",
            "_view_name": "StyleView",
            "bar_color": null,
            "description_width": ""
          }
        },
        "2f311dc0823947fbb6429107da7cb9a3": {
          "model_module": "@jupyter-widgets/controls",
          "model_name": "VBoxModel",
          "model_module_version": "1.5.0",
          "state": {
            "_dom_classes": [],
            "_model_module": "@jupyter-widgets/controls",
            "_model_module_version": "1.5.0",
            "_model_name": "VBoxModel",
            "_view_count": null,
            "_view_module": "@jupyter-widgets/controls",
            "_view_module_version": "1.5.0",
            "_view_name": "VBoxView",
            "box_style": "",
            "children": [
              "IPY_MODEL_747d1aafacea402d8690c64e4d9a7c02",
              "IPY_MODEL_e1b4a0ce034c4d34aacfa0d201380aa5"
            ],
            "layout": "IPY_MODEL_67ddc2cbe38540bc816eaf7982028896"
          }
        },
        "747d1aafacea402d8690c64e4d9a7c02": {
          "model_module": "@jupyter-widgets/controls",
          "model_name": "LabelModel",
          "model_module_version": "1.5.0",
          "state": {
            "_dom_classes": [],
            "_model_module": "@jupyter-widgets/controls",
            "_model_module_version": "1.5.0",
            "_model_name": "LabelModel",
            "_view_count": null,
            "_view_module": "@jupyter-widgets/controls",
            "_view_module_version": "1.5.0",
            "_view_name": "LabelView",
            "description": "",
            "description_tooltip": null,
            "layout": "IPY_MODEL_35f8e8065ce94e36a2ec291325a8196a",
            "placeholder": "​",
            "style": "IPY_MODEL_ffe18e50a9484a50bf00c69debcfd2d3",
            "value": "0.011 MB of 0.011 MB uploaded\r"
          }
        },
        "e1b4a0ce034c4d34aacfa0d201380aa5": {
          "model_module": "@jupyter-widgets/controls",
          "model_name": "FloatProgressModel",
          "model_module_version": "1.5.0",
          "state": {
            "_dom_classes": [],
            "_model_module": "@jupyter-widgets/controls",
            "_model_module_version": "1.5.0",
            "_model_name": "FloatProgressModel",
            "_view_count": null,
            "_view_module": "@jupyter-widgets/controls",
            "_view_module_version": "1.5.0",
            "_view_name": "ProgressView",
            "bar_style": "",
            "description": "",
            "description_tooltip": null,
            "layout": "IPY_MODEL_8ceefa74a5c94ae5957e92b01d92e28d",
            "max": 1,
            "min": 0,
            "orientation": "horizontal",
            "style": "IPY_MODEL_8af645547717475aadc861894e4cb67d",
            "value": 1
          }
        },
        "67ddc2cbe38540bc816eaf7982028896": {
          "model_module": "@jupyter-widgets/base",
          "model_name": "LayoutModel",
          "model_module_version": "1.2.0",
          "state": {
            "_model_module": "@jupyter-widgets/base",
            "_model_module_version": "1.2.0",
            "_model_name": "LayoutModel",
            "_view_count": null,
            "_view_module": "@jupyter-widgets/base",
            "_view_module_version": "1.2.0",
            "_view_name": "LayoutView",
            "align_content": null,
            "align_items": null,
            "align_self": null,
            "border": null,
            "bottom": null,
            "display": null,
            "flex": null,
            "flex_flow": null,
            "grid_area": null,
            "grid_auto_columns": null,
            "grid_auto_flow": null,
            "grid_auto_rows": null,
            "grid_column": null,
            "grid_gap": null,
            "grid_row": null,
            "grid_template_areas": null,
            "grid_template_columns": null,
            "grid_template_rows": null,
            "height": null,
            "justify_content": null,
            "justify_items": null,
            "left": null,
            "margin": null,
            "max_height": null,
            "max_width": null,
            "min_height": null,
            "min_width": null,
            "object_fit": null,
            "object_position": null,
            "order": null,
            "overflow": null,
            "overflow_x": null,
            "overflow_y": null,
            "padding": null,
            "right": null,
            "top": null,
            "visibility": null,
            "width": null
          }
        },
        "35f8e8065ce94e36a2ec291325a8196a": {
          "model_module": "@jupyter-widgets/base",
          "model_name": "LayoutModel",
          "model_module_version": "1.2.0",
          "state": {
            "_model_module": "@jupyter-widgets/base",
            "_model_module_version": "1.2.0",
            "_model_name": "LayoutModel",
            "_view_count": null,
            "_view_module": "@jupyter-widgets/base",
            "_view_module_version": "1.2.0",
            "_view_name": "LayoutView",
            "align_content": null,
            "align_items": null,
            "align_self": null,
            "border": null,
            "bottom": null,
            "display": null,
            "flex": null,
            "flex_flow": null,
            "grid_area": null,
            "grid_auto_columns": null,
            "grid_auto_flow": null,
            "grid_auto_rows": null,
            "grid_column": null,
            "grid_gap": null,
            "grid_row": null,
            "grid_template_areas": null,
            "grid_template_columns": null,
            "grid_template_rows": null,
            "height": null,
            "justify_content": null,
            "justify_items": null,
            "left": null,
            "margin": null,
            "max_height": null,
            "max_width": null,
            "min_height": null,
            "min_width": null,
            "object_fit": null,
            "object_position": null,
            "order": null,
            "overflow": null,
            "overflow_x": null,
            "overflow_y": null,
            "padding": null,
            "right": null,
            "top": null,
            "visibility": null,
            "width": null
          }
        },
        "ffe18e50a9484a50bf00c69debcfd2d3": {
          "model_module": "@jupyter-widgets/controls",
          "model_name": "DescriptionStyleModel",
          "model_module_version": "1.5.0",
          "state": {
            "_model_module": "@jupyter-widgets/controls",
            "_model_module_version": "1.5.0",
            "_model_name": "DescriptionStyleModel",
            "_view_count": null,
            "_view_module": "@jupyter-widgets/base",
            "_view_module_version": "1.2.0",
            "_view_name": "StyleView",
            "description_width": ""
          }
        },
        "8ceefa74a5c94ae5957e92b01d92e28d": {
          "model_module": "@jupyter-widgets/base",
          "model_name": "LayoutModel",
          "model_module_version": "1.2.0",
          "state": {
            "_model_module": "@jupyter-widgets/base",
            "_model_module_version": "1.2.0",
            "_model_name": "LayoutModel",
            "_view_count": null,
            "_view_module": "@jupyter-widgets/base",
            "_view_module_version": "1.2.0",
            "_view_name": "LayoutView",
            "align_content": null,
            "align_items": null,
            "align_self": null,
            "border": null,
            "bottom": null,
            "display": null,
            "flex": null,
            "flex_flow": null,
            "grid_area": null,
            "grid_auto_columns": null,
            "grid_auto_flow": null,
            "grid_auto_rows": null,
            "grid_column": null,
            "grid_gap": null,
            "grid_row": null,
            "grid_template_areas": null,
            "grid_template_columns": null,
            "grid_template_rows": null,
            "height": null,
            "justify_content": null,
            "justify_items": null,
            "left": null,
            "margin": null,
            "max_height": null,
            "max_width": null,
            "min_height": null,
            "min_width": null,
            "object_fit": null,
            "object_position": null,
            "order": null,
            "overflow": null,
            "overflow_x": null,
            "overflow_y": null,
            "padding": null,
            "right": null,
            "top": null,
            "visibility": null,
            "width": null
          }
        },
        "8af645547717475aadc861894e4cb67d": {
          "model_module": "@jupyter-widgets/controls",
          "model_name": "ProgressStyleModel",
          "model_module_version": "1.5.0",
          "state": {
            "_model_module": "@jupyter-widgets/controls",
            "_model_module_version": "1.5.0",
            "_model_name": "ProgressStyleModel",
            "_view_count": null,
            "_view_module": "@jupyter-widgets/base",
            "_view_module_version": "1.2.0",
            "_view_name": "StyleView",
            "bar_color": null,
            "description_width": ""
          }
        },
        "cf0b626fe7b44206b61a0c640ddf4624": {
          "model_module": "@jupyter-widgets/controls",
          "model_name": "VBoxModel",
          "model_module_version": "1.5.0",
          "state": {
            "_dom_classes": [],
            "_model_module": "@jupyter-widgets/controls",
            "_model_module_version": "1.5.0",
            "_model_name": "VBoxModel",
            "_view_count": null,
            "_view_module": "@jupyter-widgets/controls",
            "_view_module_version": "1.5.0",
            "_view_name": "VBoxView",
            "box_style": "",
            "children": [
              "IPY_MODEL_07ad34aaad84499d9479387e2cb36dce",
              "IPY_MODEL_dc46f9276c414838911cc315a2f1c101"
            ],
            "layout": "IPY_MODEL_57ac3b49da1e4062bc8e21319a0bc8a2"
          }
        },
        "07ad34aaad84499d9479387e2cb36dce": {
          "model_module": "@jupyter-widgets/controls",
          "model_name": "LabelModel",
          "model_module_version": "1.5.0",
          "state": {
            "_dom_classes": [],
            "_model_module": "@jupyter-widgets/controls",
            "_model_module_version": "1.5.0",
            "_model_name": "LabelModel",
            "_view_count": null,
            "_view_module": "@jupyter-widgets/controls",
            "_view_module_version": "1.5.0",
            "_view_name": "LabelView",
            "description": "",
            "description_tooltip": null,
            "layout": "IPY_MODEL_94a7e759159f4e4bb7670fab10075267",
            "placeholder": "​",
            "style": "IPY_MODEL_3e7cfd1731ad42e4a4d75224ff2168bf",
            "value": "0.022 MB of 0.022 MB uploaded\r"
          }
        },
        "dc46f9276c414838911cc315a2f1c101": {
          "model_module": "@jupyter-widgets/controls",
          "model_name": "FloatProgressModel",
          "model_module_version": "1.5.0",
          "state": {
            "_dom_classes": [],
            "_model_module": "@jupyter-widgets/controls",
            "_model_module_version": "1.5.0",
            "_model_name": "FloatProgressModel",
            "_view_count": null,
            "_view_module": "@jupyter-widgets/controls",
            "_view_module_version": "1.5.0",
            "_view_name": "ProgressView",
            "bar_style": "",
            "description": "",
            "description_tooltip": null,
            "layout": "IPY_MODEL_414e65ae8fe7498ca96b592af32bd7f8",
            "max": 1,
            "min": 0,
            "orientation": "horizontal",
            "style": "IPY_MODEL_43464e9ec6434255ac7cd202fcc92b8a",
            "value": 1
          }
        },
        "57ac3b49da1e4062bc8e21319a0bc8a2": {
          "model_module": "@jupyter-widgets/base",
          "model_name": "LayoutModel",
          "model_module_version": "1.2.0",
          "state": {
            "_model_module": "@jupyter-widgets/base",
            "_model_module_version": "1.2.0",
            "_model_name": "LayoutModel",
            "_view_count": null,
            "_view_module": "@jupyter-widgets/base",
            "_view_module_version": "1.2.0",
            "_view_name": "LayoutView",
            "align_content": null,
            "align_items": null,
            "align_self": null,
            "border": null,
            "bottom": null,
            "display": null,
            "flex": null,
            "flex_flow": null,
            "grid_area": null,
            "grid_auto_columns": null,
            "grid_auto_flow": null,
            "grid_auto_rows": null,
            "grid_column": null,
            "grid_gap": null,
            "grid_row": null,
            "grid_template_areas": null,
            "grid_template_columns": null,
            "grid_template_rows": null,
            "height": null,
            "justify_content": null,
            "justify_items": null,
            "left": null,
            "margin": null,
            "max_height": null,
            "max_width": null,
            "min_height": null,
            "min_width": null,
            "object_fit": null,
            "object_position": null,
            "order": null,
            "overflow": null,
            "overflow_x": null,
            "overflow_y": null,
            "padding": null,
            "right": null,
            "top": null,
            "visibility": null,
            "width": null
          }
        },
        "94a7e759159f4e4bb7670fab10075267": {
          "model_module": "@jupyter-widgets/base",
          "model_name": "LayoutModel",
          "model_module_version": "1.2.0",
          "state": {
            "_model_module": "@jupyter-widgets/base",
            "_model_module_version": "1.2.0",
            "_model_name": "LayoutModel",
            "_view_count": null,
            "_view_module": "@jupyter-widgets/base",
            "_view_module_version": "1.2.0",
            "_view_name": "LayoutView",
            "align_content": null,
            "align_items": null,
            "align_self": null,
            "border": null,
            "bottom": null,
            "display": null,
            "flex": null,
            "flex_flow": null,
            "grid_area": null,
            "grid_auto_columns": null,
            "grid_auto_flow": null,
            "grid_auto_rows": null,
            "grid_column": null,
            "grid_gap": null,
            "grid_row": null,
            "grid_template_areas": null,
            "grid_template_columns": null,
            "grid_template_rows": null,
            "height": null,
            "justify_content": null,
            "justify_items": null,
            "left": null,
            "margin": null,
            "max_height": null,
            "max_width": null,
            "min_height": null,
            "min_width": null,
            "object_fit": null,
            "object_position": null,
            "order": null,
            "overflow": null,
            "overflow_x": null,
            "overflow_y": null,
            "padding": null,
            "right": null,
            "top": null,
            "visibility": null,
            "width": null
          }
        },
        "3e7cfd1731ad42e4a4d75224ff2168bf": {
          "model_module": "@jupyter-widgets/controls",
          "model_name": "DescriptionStyleModel",
          "model_module_version": "1.5.0",
          "state": {
            "_model_module": "@jupyter-widgets/controls",
            "_model_module_version": "1.5.0",
            "_model_name": "DescriptionStyleModel",
            "_view_count": null,
            "_view_module": "@jupyter-widgets/base",
            "_view_module_version": "1.2.0",
            "_view_name": "StyleView",
            "description_width": ""
          }
        },
        "414e65ae8fe7498ca96b592af32bd7f8": {
          "model_module": "@jupyter-widgets/base",
          "model_name": "LayoutModel",
          "model_module_version": "1.2.0",
          "state": {
            "_model_module": "@jupyter-widgets/base",
            "_model_module_version": "1.2.0",
            "_model_name": "LayoutModel",
            "_view_count": null,
            "_view_module": "@jupyter-widgets/base",
            "_view_module_version": "1.2.0",
            "_view_name": "LayoutView",
            "align_content": null,
            "align_items": null,
            "align_self": null,
            "border": null,
            "bottom": null,
            "display": null,
            "flex": null,
            "flex_flow": null,
            "grid_area": null,
            "grid_auto_columns": null,
            "grid_auto_flow": null,
            "grid_auto_rows": null,
            "grid_column": null,
            "grid_gap": null,
            "grid_row": null,
            "grid_template_areas": null,
            "grid_template_columns": null,
            "grid_template_rows": null,
            "height": null,
            "justify_content": null,
            "justify_items": null,
            "left": null,
            "margin": null,
            "max_height": null,
            "max_width": null,
            "min_height": null,
            "min_width": null,
            "object_fit": null,
            "object_position": null,
            "order": null,
            "overflow": null,
            "overflow_x": null,
            "overflow_y": null,
            "padding": null,
            "right": null,
            "top": null,
            "visibility": null,
            "width": null
          }
        },
        "43464e9ec6434255ac7cd202fcc92b8a": {
          "model_module": "@jupyter-widgets/controls",
          "model_name": "ProgressStyleModel",
          "model_module_version": "1.5.0",
          "state": {
            "_model_module": "@jupyter-widgets/controls",
            "_model_module_version": "1.5.0",
            "_model_name": "ProgressStyleModel",
            "_view_count": null,
            "_view_module": "@jupyter-widgets/base",
            "_view_module_version": "1.2.0",
            "_view_name": "StyleView",
            "bar_color": null,
            "description_width": ""
          }
        }
      }
    }
  },
  "cells": [
    {
      "cell_type": "markdown",
      "metadata": {
        "id": "view-in-github",
        "colab_type": "text"
      },
      "source": [
        "<a href=\"https://colab.research.google.com/github/deniss97/Baron/blob/master/%D0%9E%D1%82%D0%B1%D0%BE%D1%802.ipynb\" target=\"_parent\"><img src=\"https://colab.research.google.com/assets/colab-badge.svg\" alt=\"Open In Colab\"/></a>"
      ]
    },
    {
      "cell_type": "code",
      "execution_count": 4,
      "metadata": {
        "id": "nQymw_MI99tk"
      },
      "outputs": [],
      "source": [
        "import pandas as pd\n",
        "import numpy as np\n",
        "from sklearn.feature_extraction.text import TfidfVectorizer\n",
        "from sklearn.model_selection import train_test_split, cross_val_score, StratifiedKFold\n",
        "from sklearn.metrics import roc_auc_score\n",
        "from sklearn.ensemble import RandomForestClassifier\n",
        "import optuna\n",
        "import wandb\n",
        "from functools import partial\n",
        "\n",
        "train_df = pd.read_csv('train_spam.csv')\n",
        "test_df = pd.read_csv('test_spam.csv')"
      ]
    },
    {
      "cell_type": "markdown",
      "source": [
        "# RandomForest_improved2"
      ],
      "metadata": {
        "id": "Nf4TlVhu8v8L"
      }
    },
    {
      "cell_type": "code",
      "source": [
        "from sklearn.calibration import CalibratedClassifierCV\n",
        "from scipy.sparse import hstack\n",
        "from textblob import TextBlob\n",
        "from sklearn.preprocessing import StandardScaler\n",
        "\n",
        "def extract_features(data):\n",
        "    data['text_length'] = data['text'].apply(len)\n",
        "    data['unique_words'] = data['text'].apply(lambda x: len(set(x.split())))\n",
        "    data['sentiment'] = data['text'].apply(lambda x: TextBlob(x).sentiment.polarity)\n",
        "    return data\n",
        "\n",
        "wandb.init(project='spam_detection_improved', name='RandomForest_improved2')\n",
        "\n",
        "train_df = extract_features(train_df)\n",
        "test_df = extract_features(test_df)\n",
        "\n",
        "vectorizer = TfidfVectorizer(max_features=5000, ngram_range=(1, 2), stop_words='english')\n",
        "X_text = vectorizer.fit_transform(train_df['text'])\n",
        "X_test_text = vectorizer.transform(test_df['text'])\n",
        "\n",
        "scaler = StandardScaler()\n",
        "additional_features = scaler.fit_transform(train_df[['text_length', 'unique_words', 'sentiment']])\n",
        "additional_features_test = scaler.transform(test_df[['text_length', 'unique_words', 'sentiment']])\n",
        "\n",
        "X = hstack([X_text, additional_features])\n",
        "X_test = hstack([X_test_text, additional_features_test])\n",
        "\n",
        "y = train_df['text_type'].values\n",
        "\n",
        "X_train, X_val, y_train, y_val = train_test_split(X, y, test_size=0.2, stratify=y, random_state=42)\n",
        "\n",
        "def objective(trial):\n",
        "    params = {\n",
        "        'n_estimators': trial.suggest_int('n_estimators', 100, 1000),\n",
        "        'max_depth': trial.suggest_int('max_depth', 10, 100),\n",
        "        'min_samples_split': trial.suggest_int('min_samples_split', 2, 20),\n",
        "        'min_samples_leaf': trial.suggest_int('min_samples_leaf', 1, 10),\n",
        "        'max_features': trial.suggest_categorical('max_features', ['sqrt', 'log2']),\n",
        "        'criterion': trial.suggest_categorical('criterion', ['gini', 'entropy']),\n",
        "        'class_weight': 'balanced'\n",
        "    }\n",
        "\n",
        "    model = RandomForestClassifier(**params)\n",
        "    cv = StratifiedKFold(n_splits=5, shuffle=True, random_state=42)\n",
        "    scores = cross_val_score(model, X_train, y_train, cv=cv, scoring='roc_auc')\n",
        "    roc_auc = scores.mean()\n",
        "    wandb.log({'roc_auc': roc_auc})\n",
        "    return roc_auc\n",
        "\n",
        "study = optuna.create_study(direction='maximize')\n",
        "study.optimize(objective, n_trials=20)\n",
        "\n",
        "best_params = study.best_params\n",
        "best_model = RandomForestClassifier(**best_params)\n",
        "\n",
        "calibrated_model = CalibratedClassifierCV(best_model, method='sigmoid', cv=5)\n",
        "calibrated_model.fit(X_train, y_train)\n",
        "\n",
        "test_pred = calibrated_model.predict_proba(X_test)[:, 1]\n",
        "test_df['score'] = test_pred\n",
        "test_df[['text', 'score']].to_csv('spam_predictions_improved.csv', index=False)\n",
        "\n",
        "wandb.finish()\n"
      ],
      "metadata": {
        "id": "ofF40_ov9-XY",
        "colab": {
          "base_uri": "https://localhost:8080/",
          "height": 664,
          "referenced_widgets": [
            "0e516acda3ef4c569abf09f4a52937d4",
            "ae93521116c04de38ea0ce488d6275ad",
            "031094ae54cd49d08e086dffbc1d23d7",
            "c579b3c478074560929b93ebee216ae7",
            "e6e0e10269d7403f8dbf46c4f91465ab",
            "36c112d1a94e476c877c2fe2f21ef8bb",
            "a7a40f3ec6f3400e9a2ef79e5d27fb11",
            "8117327632f741d1a346f879c7fb1a19"
          ]
        },
        "outputId": "f7acc519-12d9-4436-cd00-24569b3154e9"
      },
      "execution_count": 5,
      "outputs": [
        {
          "output_type": "display_data",
          "data": {
            "text/plain": [
              "<IPython.core.display.HTML object>"
            ],
            "text/html": [
              "Tracking run with wandb version 0.16.6"
            ]
          },
          "metadata": {}
        },
        {
          "output_type": "display_data",
          "data": {
            "text/plain": [
              "<IPython.core.display.HTML object>"
            ],
            "text/html": [
              "Run data is saved locally in <code>/content/wandb/run-20240502_132922-p8oywweg</code>"
            ]
          },
          "metadata": {}
        },
        {
          "output_type": "display_data",
          "data": {
            "text/plain": [
              "<IPython.core.display.HTML object>"
            ],
            "text/html": [
              "Syncing run <strong><a href='https://wandb.ai/dlanovenko/spam_detection_improved/runs/p8oywweg' target=\"_blank\">RandomForest_improved2</a></strong> to <a href='https://wandb.ai/dlanovenko/spam_detection_improved' target=\"_blank\">Weights & Biases</a> (<a href='https://wandb.me/run' target=\"_blank\">docs</a>)<br/>"
            ]
          },
          "metadata": {}
        },
        {
          "output_type": "display_data",
          "data": {
            "text/plain": [
              "<IPython.core.display.HTML object>"
            ],
            "text/html": [
              " View project at <a href='https://wandb.ai/dlanovenko/spam_detection_improved' target=\"_blank\">https://wandb.ai/dlanovenko/spam_detection_improved</a>"
            ]
          },
          "metadata": {}
        },
        {
          "output_type": "display_data",
          "data": {
            "text/plain": [
              "<IPython.core.display.HTML object>"
            ],
            "text/html": [
              " View run at <a href='https://wandb.ai/dlanovenko/spam_detection_improved/runs/p8oywweg' target=\"_blank\">https://wandb.ai/dlanovenko/spam_detection_improved/runs/p8oywweg</a>"
            ]
          },
          "metadata": {}
        },
        {
          "output_type": "stream",
          "name": "stderr",
          "text": [
            "[I 2024-05-02 13:29:42,299] A new study created in memory with name: no-name-5de31933-8292-4013-a63c-cf1d47e51cb7\n",
            "[I 2024-05-02 13:31:25,710] Trial 0 finished with value: 0.9716259468024064 and parameters: {'n_estimators': 934, 'max_depth': 67, 'min_samples_split': 9, 'min_samples_leaf': 6, 'max_features': 'sqrt', 'criterion': 'entropy'}. Best is trial 0 with value: 0.9716259468024064.\n",
            "[I 2024-05-02 13:31:52,987] Trial 1 finished with value: 0.9776818881964531 and parameters: {'n_estimators': 717, 'max_depth': 53, 'min_samples_split': 17, 'min_samples_leaf': 10, 'max_features': 'log2', 'criterion': 'entropy'}. Best is trial 1 with value: 0.9776818881964531.\n",
            "[I 2024-05-02 13:32:33,092] Trial 2 finished with value: 0.975245515393533 and parameters: {'n_estimators': 250, 'max_depth': 49, 'min_samples_split': 14, 'min_samples_leaf': 1, 'max_features': 'sqrt', 'criterion': 'gini'}. Best is trial 1 with value: 0.9776818881964531.\n",
            "[I 2024-05-02 13:32:39,956] Trial 3 finished with value: 0.9607450611842315 and parameters: {'n_estimators': 105, 'max_depth': 32, 'min_samples_split': 18, 'min_samples_leaf': 10, 'max_features': 'sqrt', 'criterion': 'entropy'}. Best is trial 1 with value: 0.9776818881964531.\n",
            "[I 2024-05-02 13:32:59,890] Trial 4 finished with value: 0.952088806811193 and parameters: {'n_estimators': 477, 'max_depth': 11, 'min_samples_split': 12, 'min_samples_leaf': 9, 'max_features': 'sqrt', 'criterion': 'entropy'}. Best is trial 1 with value: 0.9776818881964531.\n",
            "[I 2024-05-02 13:33:13,543] Trial 5 finished with value: 0.9739204676084873 and parameters: {'n_estimators': 401, 'max_depth': 22, 'min_samples_split': 12, 'min_samples_leaf': 2, 'max_features': 'log2', 'criterion': 'entropy'}. Best is trial 1 with value: 0.9776818881964531.\n",
            "[I 2024-05-02 13:33:25,007] Trial 6 finished with value: 0.9770540290718802 and parameters: {'n_estimators': 286, 'max_depth': 56, 'min_samples_split': 11, 'min_samples_leaf': 6, 'max_features': 'log2', 'criterion': 'gini'}. Best is trial 1 with value: 0.9776818881964531.\n",
            "[I 2024-05-02 13:34:06,185] Trial 7 finished with value: 0.9708124034365199 and parameters: {'n_estimators': 408, 'max_depth': 70, 'min_samples_split': 9, 'min_samples_leaf': 7, 'max_features': 'sqrt', 'criterion': 'entropy'}. Best is trial 1 with value: 0.9776818881964531.\n",
            "[I 2024-05-02 13:34:16,785] Trial 8 finished with value: 0.9793269662274527 and parameters: {'n_estimators': 223, 'max_depth': 95, 'min_samples_split': 20, 'min_samples_leaf': 6, 'max_features': 'log2', 'criterion': 'gini'}. Best is trial 8 with value: 0.9793269662274527.\n",
            "[I 2024-05-02 13:35:17,809] Trial 9 finished with value: 0.9846005532789743 and parameters: {'n_estimators': 655, 'max_depth': 97, 'min_samples_split': 12, 'min_samples_leaf': 1, 'max_features': 'log2', 'criterion': 'entropy'}. Best is trial 9 with value: 0.9846005532789743.\n",
            "[I 2024-05-02 13:35:56,107] Trial 10 finished with value: 0.9806144782533808 and parameters: {'n_estimators': 703, 'max_depth': 98, 'min_samples_split': 3, 'min_samples_leaf': 3, 'max_features': 'log2', 'criterion': 'gini'}. Best is trial 9 with value: 0.9846005532789743.\n",
            "[I 2024-05-02 13:36:32,355] Trial 11 finished with value: 0.9803444136535486 and parameters: {'n_estimators': 668, 'max_depth': 99, 'min_samples_split': 2, 'min_samples_leaf': 3, 'max_features': 'log2', 'criterion': 'gini'}. Best is trial 9 with value: 0.9846005532789743.\n",
            "[I 2024-05-02 13:37:14,594] Trial 12 finished with value: 0.9796888129038237 and parameters: {'n_estimators': 814, 'max_depth': 84, 'min_samples_split': 3, 'min_samples_leaf': 4, 'max_features': 'log2', 'criterion': 'gini'}. Best is trial 9 with value: 0.9846005532789743.\n",
            "[I 2024-05-02 13:38:18,192] Trial 13 finished with value: 0.9837245194011865 and parameters: {'n_estimators': 613, 'max_depth': 83, 'min_samples_split': 6, 'min_samples_leaf': 1, 'max_features': 'log2', 'criterion': 'gini'}. Best is trial 9 with value: 0.9846005532789743.\n",
            "[I 2024-05-02 13:39:16,048] Trial 14 finished with value: 0.9836612666662095 and parameters: {'n_estimators': 564, 'max_depth': 85, 'min_samples_split': 6, 'min_samples_leaf': 1, 'max_features': 'log2', 'criterion': 'entropy'}. Best is trial 9 with value: 0.9846005532789743.\n",
            "[I 2024-05-02 13:39:43,936] Trial 15 finished with value: 0.979471338567075 and parameters: {'n_estimators': 588, 'max_depth': 80, 'min_samples_split': 6, 'min_samples_leaf': 4, 'max_features': 'log2', 'criterion': 'gini'}. Best is trial 9 with value: 0.9846005532789743.\n",
            "[I 2024-05-02 13:40:58,521] Trial 16 finished with value: 0.9829478457465545 and parameters: {'n_estimators': 823, 'max_depth': 72, 'min_samples_split': 6, 'min_samples_leaf': 1, 'max_features': 'log2', 'criterion': 'gini'}. Best is trial 9 with value: 0.9846005532789743.\n",
            "[I 2024-05-02 13:41:51,555] Trial 17 finished with value: 0.9809427657625995 and parameters: {'n_estimators': 994, 'max_depth': 88, 'min_samples_split': 15, 'min_samples_leaf': 3, 'max_features': 'log2', 'criterion': 'entropy'}. Best is trial 9 with value: 0.9846005532789743.\n",
            "[I 2024-05-02 13:42:25,777] Trial 18 finished with value: 0.9777741537260003 and parameters: {'n_estimators': 828, 'max_depth': 41, 'min_samples_split': 8, 'min_samples_leaf': 2, 'max_features': 'log2', 'criterion': 'entropy'}. Best is trial 9 with value: 0.9846005532789743.\n",
            "[I 2024-05-02 13:42:50,500] Trial 19 finished with value: 0.9770572860523714 and parameters: {'n_estimators': 626, 'max_depth': 62, 'min_samples_split': 14, 'min_samples_leaf': 8, 'max_features': 'log2', 'criterion': 'gini'}. Best is trial 9 with value: 0.9846005532789743.\n"
          ]
        },
        {
          "output_type": "display_data",
          "data": {
            "text/plain": [
              "VBox(children=(Label(value='0.001 MB of 0.001 MB uploaded\\r'), FloatProgress(value=1.0, max=1.0)))"
            ],
            "application/vnd.jupyter.widget-view+json": {
              "version_major": 2,
              "version_minor": 0,
              "model_id": "0e516acda3ef4c569abf09f4a52937d4"
            }
          },
          "metadata": {}
        },
        {
          "output_type": "display_data",
          "data": {
            "text/plain": [
              "<IPython.core.display.HTML object>"
            ],
            "text/html": [
              "<style>\n",
              "    table.wandb td:nth-child(1) { padding: 0 10px; text-align: left ; width: auto;} td:nth-child(2) {text-align: left ; width: 100%}\n",
              "    .wandb-row { display: flex; flex-direction: row; flex-wrap: wrap; justify-content: flex-start; width: 100% }\n",
              "    .wandb-col { display: flex; flex-direction: column; flex-basis: 100%; flex: 1; padding: 10px; }\n",
              "    </style>\n",
              "<div class=\"wandb-row\"><div class=\"wandb-col\"><h3>Run history:</h3><br/><table class=\"wandb\"><tr><td>roc_auc</td><td>▅▇▆▃▁▆▆▅▇█▇▇▇██▇█▇▇▆</td></tr></table><br/></div><div class=\"wandb-col\"><h3>Run summary:</h3><br/><table class=\"wandb\"><tr><td>roc_auc</td><td>0.97706</td></tr></table><br/></div></div>"
            ]
          },
          "metadata": {}
        },
        {
          "output_type": "display_data",
          "data": {
            "text/plain": [
              "<IPython.core.display.HTML object>"
            ],
            "text/html": [
              " View run <strong style=\"color:#cdcd00\">RandomForest_improved2</strong> at: <a href='https://wandb.ai/dlanovenko/spam_detection_improved/runs/p8oywweg' target=\"_blank\">https://wandb.ai/dlanovenko/spam_detection_improved/runs/p8oywweg</a><br/> View project at: <a href='https://wandb.ai/dlanovenko/spam_detection_improved' target=\"_blank\">https://wandb.ai/dlanovenko/spam_detection_improved</a><br/>Synced 5 W&B file(s), 0 media file(s), 0 artifact file(s) and 0 other file(s)"
            ]
          },
          "metadata": {}
        },
        {
          "output_type": "display_data",
          "data": {
            "text/plain": [
              "<IPython.core.display.HTML object>"
            ],
            "text/html": [
              "Find logs at: <code>./wandb/run-20240502_132922-p8oywweg/logs</code>"
            ]
          },
          "metadata": {}
        }
      ]
    },
    {
      "cell_type": "markdown",
      "source": [
        "# RandomForest_improved3"
      ],
      "metadata": {
        "id": "4wu1Xg6u9DF9"
      }
    },
    {
      "cell_type": "code",
      "source": [
        "import numpy as np\n",
        "from scipy.sparse import hstack\n",
        "from sklearn.feature_extraction.text import TfidfVectorizer\n",
        "from sklearn.preprocessing import StandardScaler\n",
        "from sklearn.decomposition import IncrementalPCA\n",
        "from sklearn.ensemble import RandomForestClassifier\n",
        "from sklearn.model_selection import train_test_split, StratifiedKFold, cross_val_score\n",
        "from sklearn.calibration import CalibratedClassifierCV\n",
        "import re\n",
        "from textblob import TextBlob\n",
        "import nltk\n",
        "from nltk.stem import WordNetLemmatizer\n",
        "from nltk.corpus import stopwords\n",
        "import wandb\n",
        "import optuna\n",
        "\n",
        "nltk.download('punkt')\n",
        "nltk.download('wordnet')\n",
        "nltk.download('stopwords')\n",
        "wandb.init(project=\"spam_detection_improved\", name=\"RandomForest_improved3\")\n",
        "\n",
        "lemmatizer = WordNetLemmatizer()\n",
        "stop_words = set(stopwords.words('english'))\n",
        "\n",
        "def preprocess_text(text):\n",
        "    tokens = nltk.word_tokenize(text.lower())\n",
        "    tokens = [lemmatizer.lemmatize(word) for word in tokens if word not in stop_words and word.isalpha()]\n",
        "    return ' '.join(tokens)\n",
        "\n",
        "def extract_features(data):\n",
        "    data['text'] = data['text'].apply(preprocess_text)\n",
        "    data['text_length'] = data['text'].apply(len)\n",
        "    data['unique_words'] = data['text'].apply(lambda x: len(set(x.split())))\n",
        "    data['sentiment'] = data['text'].apply(lambda x: TextBlob(x).sentiment.polarity)\n",
        "    data['links_count'] = data['text'].apply(lambda x: len(re.findall(r'http[s]?://\\S+', x)))\n",
        "    data['email_count'] = data['text'].apply(lambda x: len(re.findall(r'\\S+@\\S+', x)))\n",
        "    return data\n",
        "\n",
        "train_df = extract_features(train_df)\n",
        "test_df = extract_features(test_df)\n",
        "\n",
        "vectorizer = TfidfVectorizer(max_features=5000, ngram_range=(1, 2), stop_words='english')\n",
        "X_text = vectorizer.fit_transform(train_df['text'])\n",
        "X_test_text = vectorizer.transform(test_df['text'])\n",
        "\n",
        "scaler = StandardScaler()\n",
        "additional_features = scaler.fit_transform(train_df[['text_length', 'unique_words', 'sentiment', 'links_count', 'email_count']])\n",
        "additional_features_test = scaler.transform(test_df[['text_length', 'unique_words', 'sentiment', 'links_count', 'email_count']])\n",
        "\n",
        "X_combined = hstack([X_text, additional_features])\n",
        "X_test_combined = hstack([X_test_text, additional_features_test])\n",
        "\n",
        "ipca = IncrementalPCA(n_components=100)\n",
        "X_train_pca = ipca.fit_transform(X_combined.toarray())\n",
        "X_test_pca = ipca.transform(X_test_combined.toarray())\n",
        "\n",
        "y = train_df['text_type'].values\n",
        "X_train, X_val, y_train, y_val = train_test_split(X_train_pca, y, test_size=0.2, stratify=y, random_state=42)\n",
        "\n",
        "def objective(trial):\n",
        "    params = {\n",
        "        'n_estimators': trial.suggest_int('n_estimators', 100, 1000),\n",
        "        'max_depth': trial.suggest_int('max_depth', 10, 100),\n",
        "        'min_samples_split': trial.suggest_int('min_samples_split', 2, 20),\n",
        "        'min_samples_leaf': trial.suggest_int('min_samples_leaf', 1, 10),\n",
        "        'max_features': trial.suggest_categorical('max_features', ['auto', 'sqrt', 'log2']),\n",
        "        'criterion': trial.suggest_categorical('criterion', ['gini', 'entropy']),\n",
        "        'class_weight': 'balanced'\n",
        "    }\n",
        "    model = RandomForestClassifier(**params)\n",
        "    cv = StratifiedKFold(n_splits=5, shuffle=True, random_state=42)\n",
        "    scores = cross_val_score(model, X_train, y_train, cv=cv, scoring='roc_auc')\n",
        "    roc_auc = scores.mean()\n",
        "    wandb.log({'roc_auc': roc_auc})\n",
        "    return roc_auc\n",
        "\n",
        "study = optuna.create_study(direction='maximize')\n",
        "study.optimize(objective, n_trials=20)\n",
        "\n",
        "best_params = study.best_params\n",
        "best_model = RandomForestClassifier(**best_params)\n",
        "calibrated_model = CalibratedClassifierCV(best_model, method='sigmoid', cv=5)\n",
        "calibrated_model.fit(X_train, y_train)\n",
        "\n",
        "test_pred = calibrated_model.predict_proba(X_test_pca)[:, 1]\n",
        "test_df['score'] = test_pred\n",
        "test_df.to_csv('spam_predictions_improved.csv', index=False)\n",
        "\n",
        "wandb.finish()"
      ],
      "metadata": {
        "colab": {
          "base_uri": "https://localhost:8080/",
          "height": 1000,
          "referenced_widgets": [
            "2f311dc0823947fbb6429107da7cb9a3",
            "747d1aafacea402d8690c64e4d9a7c02",
            "e1b4a0ce034c4d34aacfa0d201380aa5",
            "67ddc2cbe38540bc816eaf7982028896",
            "35f8e8065ce94e36a2ec291325a8196a",
            "ffe18e50a9484a50bf00c69debcfd2d3",
            "8ceefa74a5c94ae5957e92b01d92e28d",
            "8af645547717475aadc861894e4cb67d",
            "cf0b626fe7b44206b61a0c640ddf4624",
            "07ad34aaad84499d9479387e2cb36dce",
            "dc46f9276c414838911cc315a2f1c101",
            "57ac3b49da1e4062bc8e21319a0bc8a2",
            "94a7e759159f4e4bb7670fab10075267",
            "3e7cfd1731ad42e4a4d75224ff2168bf",
            "414e65ae8fe7498ca96b592af32bd7f8",
            "43464e9ec6434255ac7cd202fcc92b8a"
          ]
        },
        "id": "gKcn9DhR7Hsf",
        "outputId": "041ad200-1a7e-4f1c-bc28-96ad79219fd2"
      },
      "execution_count": 3,
      "outputs": [
        {
          "output_type": "stream",
          "name": "stderr",
          "text": [
            "[nltk_data] Downloading package punkt to /root/nltk_data...\n",
            "[nltk_data]   Package punkt is already up-to-date!\n",
            "[nltk_data] Downloading package wordnet to /root/nltk_data...\n",
            "[nltk_data]   Package wordnet is already up-to-date!\n",
            "[nltk_data] Downloading package stopwords to /root/nltk_data...\n",
            "[nltk_data]   Package stopwords is already up-to-date!\n"
          ]
        },
        {
          "output_type": "display_data",
          "data": {
            "text/plain": [
              "<IPython.core.display.HTML object>"
            ],
            "text/html": [
              "Finishing last run (ID:z1vprcsf) before initializing another..."
            ]
          },
          "metadata": {}
        },
        {
          "output_type": "display_data",
          "data": {
            "text/plain": [
              "VBox(children=(Label(value='0.001 MB of 0.001 MB uploaded\\r'), FloatProgress(value=1.0, max=1.0)))"
            ],
            "application/vnd.jupyter.widget-view+json": {
              "version_major": 2,
              "version_minor": 0,
              "model_id": "2f311dc0823947fbb6429107da7cb9a3"
            }
          },
          "metadata": {}
        },
        {
          "output_type": "display_data",
          "data": {
            "text/plain": [
              "<IPython.core.display.HTML object>"
            ],
            "text/html": [
              " View run <strong style=\"color:#cdcd00\">RandomForest_improved3</strong> at: <a href='https://wandb.ai/dlanovenko/spam_detection_improved/runs/z1vprcsf' target=\"_blank\">https://wandb.ai/dlanovenko/spam_detection_improved/runs/z1vprcsf</a><br/> View project at: <a href='https://wandb.ai/dlanovenko/spam_detection_improved' target=\"_blank\">https://wandb.ai/dlanovenko/spam_detection_improved</a><br/>Synced 5 W&B file(s), 0 media file(s), 0 artifact file(s) and 0 other file(s)"
            ]
          },
          "metadata": {}
        },
        {
          "output_type": "display_data",
          "data": {
            "text/plain": [
              "<IPython.core.display.HTML object>"
            ],
            "text/html": [
              "Find logs at: <code>./wandb/run-20240502_112121-z1vprcsf/logs</code>"
            ]
          },
          "metadata": {}
        },
        {
          "output_type": "display_data",
          "data": {
            "text/plain": [
              "<IPython.core.display.HTML object>"
            ],
            "text/html": [
              "Successfully finished last run (ID:z1vprcsf). Initializing new run:<br/>"
            ]
          },
          "metadata": {}
        },
        {
          "output_type": "display_data",
          "data": {
            "text/plain": [
              "<IPython.core.display.HTML object>"
            ],
            "text/html": [
              "Tracking run with wandb version 0.16.6"
            ]
          },
          "metadata": {}
        },
        {
          "output_type": "display_data",
          "data": {
            "text/plain": [
              "<IPython.core.display.HTML object>"
            ],
            "text/html": [
              "Run data is saved locally in <code>/content/wandb/run-20240502_112143-zum5fwpw</code>"
            ]
          },
          "metadata": {}
        },
        {
          "output_type": "display_data",
          "data": {
            "text/plain": [
              "<IPython.core.display.HTML object>"
            ],
            "text/html": [
              "Syncing run <strong><a href='https://wandb.ai/dlanovenko/spam_detection_improved/runs/zum5fwpw' target=\"_blank\">RandomForest_improved3</a></strong> to <a href='https://wandb.ai/dlanovenko/spam_detection_improved' target=\"_blank\">Weights & Biases</a> (<a href='https://wandb.me/run' target=\"_blank\">docs</a>)<br/>"
            ]
          },
          "metadata": {}
        },
        {
          "output_type": "display_data",
          "data": {
            "text/plain": [
              "<IPython.core.display.HTML object>"
            ],
            "text/html": [
              " View project at <a href='https://wandb.ai/dlanovenko/spam_detection_improved' target=\"_blank\">https://wandb.ai/dlanovenko/spam_detection_improved</a>"
            ]
          },
          "metadata": {}
        },
        {
          "output_type": "display_data",
          "data": {
            "text/plain": [
              "<IPython.core.display.HTML object>"
            ],
            "text/html": [
              " View run at <a href='https://wandb.ai/dlanovenko/spam_detection_improved/runs/zum5fwpw' target=\"_blank\">https://wandb.ai/dlanovenko/spam_detection_improved/runs/zum5fwpw</a>"
            ]
          },
          "metadata": {}
        },
        {
          "output_type": "stream",
          "name": "stderr",
          "text": [
            "[I 2024-05-02 11:26:27,851] A new study created in memory with name: no-name-e98f0c7e-00d0-4215-978d-5b26bec3c609\n",
            "[I 2024-05-02 11:36:50,058] Trial 0 finished with value: 0.9745904743007175 and parameters: {'n_estimators': 891, 'max_depth': 46, 'min_samples_split': 14, 'min_samples_leaf': 1, 'max_features': 'sqrt', 'criterion': 'entropy'}. Best is trial 0 with value: 0.9745904743007175.\n",
            "[I 2024-05-02 11:47:29,046] Trial 1 finished with value: 0.972774607682209 and parameters: {'n_estimators': 992, 'max_depth': 11, 'min_samples_split': 6, 'min_samples_leaf': 1, 'max_features': 'sqrt', 'criterion': 'entropy'}. Best is trial 0 with value: 0.9745904743007175.\n",
            "/usr/local/lib/python3.10/dist-packages/sklearn/ensemble/_forest.py:424: FutureWarning: `max_features='auto'` has been deprecated in 1.1 and will be removed in 1.3. To keep the past behaviour, explicitly set `max_features='sqrt'` or remove this parameter as it is also the default value for RandomForestClassifiers and ExtraTreesClassifiers.\n",
            "  warn(\n",
            "/usr/local/lib/python3.10/dist-packages/sklearn/ensemble/_forest.py:424: FutureWarning: `max_features='auto'` has been deprecated in 1.1 and will be removed in 1.3. To keep the past behaviour, explicitly set `max_features='sqrt'` or remove this parameter as it is also the default value for RandomForestClassifiers and ExtraTreesClassifiers.\n",
            "  warn(\n",
            "/usr/local/lib/python3.10/dist-packages/sklearn/ensemble/_forest.py:424: FutureWarning: `max_features='auto'` has been deprecated in 1.1 and will be removed in 1.3. To keep the past behaviour, explicitly set `max_features='sqrt'` or remove this parameter as it is also the default value for RandomForestClassifiers and ExtraTreesClassifiers.\n",
            "  warn(\n",
            "/usr/local/lib/python3.10/dist-packages/sklearn/ensemble/_forest.py:424: FutureWarning: `max_features='auto'` has been deprecated in 1.1 and will be removed in 1.3. To keep the past behaviour, explicitly set `max_features='sqrt'` or remove this parameter as it is also the default value for RandomForestClassifiers and ExtraTreesClassifiers.\n",
            "  warn(\n",
            "/usr/local/lib/python3.10/dist-packages/sklearn/ensemble/_forest.py:424: FutureWarning: `max_features='auto'` has been deprecated in 1.1 and will be removed in 1.3. To keep the past behaviour, explicitly set `max_features='sqrt'` or remove this parameter as it is also the default value for RandomForestClassifiers and ExtraTreesClassifiers.\n",
            "  warn(\n",
            "[I 2024-05-02 11:57:31,954] Trial 2 finished with value: 0.9722494735327425 and parameters: {'n_estimators': 955, 'max_depth': 40, 'min_samples_split': 19, 'min_samples_leaf': 10, 'max_features': 'auto', 'criterion': 'entropy'}. Best is trial 0 with value: 0.9745904743007175.\n",
            "/usr/local/lib/python3.10/dist-packages/sklearn/ensemble/_forest.py:424: FutureWarning: `max_features='auto'` has been deprecated in 1.1 and will be removed in 1.3. To keep the past behaviour, explicitly set `max_features='sqrt'` or remove this parameter as it is also the default value for RandomForestClassifiers and ExtraTreesClassifiers.\n",
            "  warn(\n",
            "/usr/local/lib/python3.10/dist-packages/sklearn/ensemble/_forest.py:424: FutureWarning: `max_features='auto'` has been deprecated in 1.1 and will be removed in 1.3. To keep the past behaviour, explicitly set `max_features='sqrt'` or remove this parameter as it is also the default value for RandomForestClassifiers and ExtraTreesClassifiers.\n",
            "  warn(\n",
            "/usr/local/lib/python3.10/dist-packages/sklearn/ensemble/_forest.py:424: FutureWarning: `max_features='auto'` has been deprecated in 1.1 and will be removed in 1.3. To keep the past behaviour, explicitly set `max_features='sqrt'` or remove this parameter as it is also the default value for RandomForestClassifiers and ExtraTreesClassifiers.\n",
            "  warn(\n",
            "/usr/local/lib/python3.10/dist-packages/sklearn/ensemble/_forest.py:424: FutureWarning: `max_features='auto'` has been deprecated in 1.1 and will be removed in 1.3. To keep the past behaviour, explicitly set `max_features='sqrt'` or remove this parameter as it is also the default value for RandomForestClassifiers and ExtraTreesClassifiers.\n",
            "  warn(\n",
            "/usr/local/lib/python3.10/dist-packages/sklearn/ensemble/_forest.py:424: FutureWarning: `max_features='auto'` has been deprecated in 1.1 and will be removed in 1.3. To keep the past behaviour, explicitly set `max_features='sqrt'` or remove this parameter as it is also the default value for RandomForestClassifiers and ExtraTreesClassifiers.\n",
            "  warn(\n",
            "[I 2024-05-02 12:05:16,561] Trial 3 finished with value: 0.9734210400350722 and parameters: {'n_estimators': 704, 'max_depth': 81, 'min_samples_split': 3, 'min_samples_leaf': 6, 'max_features': 'auto', 'criterion': 'entropy'}. Best is trial 0 with value: 0.9745904743007175.\n",
            "/usr/local/lib/python3.10/dist-packages/sklearn/ensemble/_forest.py:424: FutureWarning: `max_features='auto'` has been deprecated in 1.1 and will be removed in 1.3. To keep the past behaviour, explicitly set `max_features='sqrt'` or remove this parameter as it is also the default value for RandomForestClassifiers and ExtraTreesClassifiers.\n",
            "  warn(\n",
            "/usr/local/lib/python3.10/dist-packages/sklearn/ensemble/_forest.py:424: FutureWarning: `max_features='auto'` has been deprecated in 1.1 and will be removed in 1.3. To keep the past behaviour, explicitly set `max_features='sqrt'` or remove this parameter as it is also the default value for RandomForestClassifiers and ExtraTreesClassifiers.\n",
            "  warn(\n",
            "/usr/local/lib/python3.10/dist-packages/sklearn/ensemble/_forest.py:424: FutureWarning: `max_features='auto'` has been deprecated in 1.1 and will be removed in 1.3. To keep the past behaviour, explicitly set `max_features='sqrt'` or remove this parameter as it is also the default value for RandomForestClassifiers and ExtraTreesClassifiers.\n",
            "  warn(\n",
            "/usr/local/lib/python3.10/dist-packages/sklearn/ensemble/_forest.py:424: FutureWarning: `max_features='auto'` has been deprecated in 1.1 and will be removed in 1.3. To keep the past behaviour, explicitly set `max_features='sqrt'` or remove this parameter as it is also the default value for RandomForestClassifiers and ExtraTreesClassifiers.\n",
            "  warn(\n",
            "/usr/local/lib/python3.10/dist-packages/sklearn/ensemble/_forest.py:424: FutureWarning: `max_features='auto'` has been deprecated in 1.1 and will be removed in 1.3. To keep the past behaviour, explicitly set `max_features='sqrt'` or remove this parameter as it is also the default value for RandomForestClassifiers and ExtraTreesClassifiers.\n",
            "  warn(\n",
            "[I 2024-05-02 12:10:28,381] Trial 4 finished with value: 0.9715211926683563 and parameters: {'n_estimators': 604, 'max_depth': 85, 'min_samples_split': 14, 'min_samples_leaf': 8, 'max_features': 'auto', 'criterion': 'gini'}. Best is trial 0 with value: 0.9745904743007175.\n",
            "[I 2024-05-02 12:19:18,952] Trial 5 finished with value: 0.9746833513941793 and parameters: {'n_estimators': 782, 'max_depth': 89, 'min_samples_split': 4, 'min_samples_leaf': 3, 'max_features': 'sqrt', 'criterion': 'entropy'}. Best is trial 5 with value: 0.9746833513941793.\n",
            "[I 2024-05-02 12:20:09,313] Trial 6 finished with value: 0.9710196981101478 and parameters: {'n_estimators': 118, 'max_depth': 51, 'min_samples_split': 14, 'min_samples_leaf': 7, 'max_features': 'log2', 'criterion': 'entropy'}. Best is trial 5 with value: 0.9746833513941793.\n",
            "[I 2024-05-02 12:24:17,388] Trial 7 finished with value: 0.9720368795588603 and parameters: {'n_estimators': 571, 'max_depth': 15, 'min_samples_split': 16, 'min_samples_leaf': 4, 'max_features': 'log2', 'criterion': 'entropy'}. Best is trial 5 with value: 0.9746833513941793.\n",
            "[I 2024-05-02 12:28:11,138] Trial 8 finished with value: 0.9694121747972073 and parameters: {'n_estimators': 705, 'max_depth': 98, 'min_samples_split': 16, 'min_samples_leaf': 7, 'max_features': 'log2', 'criterion': 'gini'}. Best is trial 5 with value: 0.9746833513941793.\n",
            "[I 2024-05-02 12:32:16,759] Trial 9 finished with value: 0.9686693551856915 and parameters: {'n_estimators': 766, 'max_depth': 89, 'min_samples_split': 2, 'min_samples_leaf': 10, 'max_features': 'log2', 'criterion': 'gini'}. Best is trial 5 with value: 0.9746833513941793.\n",
            "[I 2024-05-02 12:35:22,948] Trial 10 finished with value: 0.973097095595999 and parameters: {'n_estimators': 332, 'max_depth': 69, 'min_samples_split': 8, 'min_samples_leaf': 3, 'max_features': 'sqrt', 'criterion': 'gini'}. Best is trial 5 with value: 0.9746833513941793.\n",
            "[I 2024-05-02 12:44:59,970] Trial 11 finished with value: 0.9747469829398516 and parameters: {'n_estimators': 827, 'max_depth': 36, 'min_samples_split': 10, 'min_samples_leaf': 1, 'max_features': 'sqrt', 'criterion': 'entropy'}. Best is trial 11 with value: 0.9747469829398516.\n",
            "[I 2024-05-02 12:54:04,676] Trial 12 finished with value: 0.9745476870988682 and parameters: {'n_estimators': 801, 'max_depth': 29, 'min_samples_split': 9, 'min_samples_leaf': 3, 'max_features': 'sqrt', 'criterion': 'entropy'}. Best is trial 11 with value: 0.9747469829398516.\n",
            "[I 2024-05-02 12:59:15,986] Trial 13 finished with value: 0.9748535480209511 and parameters: {'n_estimators': 452, 'max_depth': 67, 'min_samples_split': 6, 'min_samples_leaf': 2, 'max_features': 'sqrt', 'criterion': 'entropy'}. Best is trial 13 with value: 0.9748535480209511.\n",
            "[I 2024-05-02 13:03:45,715] Trial 14 finished with value: 0.9744787671129181 and parameters: {'n_estimators': 388, 'max_depth': 64, 'min_samples_split': 10, 'min_samples_leaf': 1, 'max_features': 'sqrt', 'criterion': 'entropy'}. Best is trial 13 with value: 0.9748535480209511.\n",
            "[I 2024-05-02 13:08:15,458] Trial 15 finished with value: 0.9741425385682161 and parameters: {'n_estimators': 400, 'max_depth': 32, 'min_samples_split': 6, 'min_samples_leaf': 4, 'max_features': 'sqrt', 'criterion': 'entropy'}. Best is trial 13 with value: 0.9748535480209511.\n",
            "[I 2024-05-02 13:13:37,605] Trial 16 finished with value: 0.9740419310123694 and parameters: {'n_estimators': 470, 'max_depth': 68, 'min_samples_split': 12, 'min_samples_leaf': 2, 'max_features': 'sqrt', 'criterion': 'entropy'}. Best is trial 13 with value: 0.9748535480209511.\n",
            "[I 2024-05-02 13:15:57,399] Trial 17 finished with value: 0.9735618484618247 and parameters: {'n_estimators': 211, 'max_depth': 24, 'min_samples_split': 7, 'min_samples_leaf': 5, 'max_features': 'sqrt', 'criterion': 'entropy'}. Best is trial 13 with value: 0.9748535480209511.\n",
            "[I 2024-05-02 13:20:49,769] Trial 18 finished with value: 0.9736033740657601 and parameters: {'n_estimators': 512, 'max_depth': 59, 'min_samples_split': 10, 'min_samples_leaf': 2, 'max_features': 'sqrt', 'criterion': 'gini'}. Best is trial 13 with value: 0.9748535480209511.\n",
            "/usr/local/lib/python3.10/dist-packages/sklearn/ensemble/_forest.py:424: FutureWarning: `max_features='auto'` has been deprecated in 1.1 and will be removed in 1.3. To keep the past behaviour, explicitly set `max_features='sqrt'` or remove this parameter as it is also the default value for RandomForestClassifiers and ExtraTreesClassifiers.\n",
            "  warn(\n",
            "/usr/local/lib/python3.10/dist-packages/sklearn/ensemble/_forest.py:424: FutureWarning: `max_features='auto'` has been deprecated in 1.1 and will be removed in 1.3. To keep the past behaviour, explicitly set `max_features='sqrt'` or remove this parameter as it is also the default value for RandomForestClassifiers and ExtraTreesClassifiers.\n",
            "  warn(\n",
            "/usr/local/lib/python3.10/dist-packages/sklearn/ensemble/_forest.py:424: FutureWarning: `max_features='auto'` has been deprecated in 1.1 and will be removed in 1.3. To keep the past behaviour, explicitly set `max_features='sqrt'` or remove this parameter as it is also the default value for RandomForestClassifiers and ExtraTreesClassifiers.\n",
            "  warn(\n",
            "/usr/local/lib/python3.10/dist-packages/sklearn/ensemble/_forest.py:424: FutureWarning: `max_features='auto'` has been deprecated in 1.1 and will be removed in 1.3. To keep the past behaviour, explicitly set `max_features='sqrt'` or remove this parameter as it is also the default value for RandomForestClassifiers and ExtraTreesClassifiers.\n",
            "  warn(\n",
            "/usr/local/lib/python3.10/dist-packages/sklearn/ensemble/_forest.py:424: FutureWarning: `max_features='auto'` has been deprecated in 1.1 and will be removed in 1.3. To keep the past behaviour, explicitly set `max_features='sqrt'` or remove this parameter as it is also the default value for RandomForestClassifiers and ExtraTreesClassifiers.\n",
            "  warn(\n",
            "[I 2024-05-02 13:23:35,054] Trial 19 finished with value: 0.9744197111145093 and parameters: {'n_estimators': 240, 'max_depth': 42, 'min_samples_split': 5, 'min_samples_leaf': 2, 'max_features': 'auto', 'criterion': 'entropy'}. Best is trial 13 with value: 0.9748535480209511.\n"
          ]
        },
        {
          "output_type": "display_data",
          "data": {
            "text/plain": [
              "VBox(children=(Label(value='0.001 MB of 0.022 MB uploaded\\r'), FloatProgress(value=0.04723963775687914, max=1.…"
            ],
            "application/vnd.jupyter.widget-view+json": {
              "version_major": 2,
              "version_minor": 0,
              "model_id": "cf0b626fe7b44206b61a0c640ddf4624"
            }
          },
          "metadata": {}
        },
        {
          "output_type": "display_data",
          "data": {
            "text/plain": [
              "<IPython.core.display.HTML object>"
            ],
            "text/html": [
              "<style>\n",
              "    table.wandb td:nth-child(1) { padding: 0 10px; text-align: left ; width: auto;} td:nth-child(2) {text-align: left ; width: 100%}\n",
              "    .wandb-row { display: flex; flex-direction: row; flex-wrap: wrap; justify-content: flex-start; width: 100% }\n",
              "    .wandb-col { display: flex; flex-direction: column; flex-basis: 100%; flex: 1; padding: 10px; }\n",
              "    </style>\n",
              "<div class=\"wandb-row\"><div class=\"wandb-col\"><h3>Run history:</h3><br/><table class=\"wandb\"><tr><td>roc_auc</td><td>█▆▅▆▄█▄▅▂▁▆████▇▇▇▇█</td></tr></table><br/></div><div class=\"wandb-col\"><h3>Run summary:</h3><br/><table class=\"wandb\"><tr><td>roc_auc</td><td>0.97442</td></tr></table><br/></div></div>"
            ]
          },
          "metadata": {}
        },
        {
          "output_type": "display_data",
          "data": {
            "text/plain": [
              "<IPython.core.display.HTML object>"
            ],
            "text/html": [
              " View run <strong style=\"color:#cdcd00\">RandomForest_improved3</strong> at: <a href='https://wandb.ai/dlanovenko/spam_detection_improved/runs/zum5fwpw' target=\"_blank\">https://wandb.ai/dlanovenko/spam_detection_improved/runs/zum5fwpw</a><br/> View project at: <a href='https://wandb.ai/dlanovenko/spam_detection_improved' target=\"_blank\">https://wandb.ai/dlanovenko/spam_detection_improved</a><br/>Synced 5 W&B file(s), 0 media file(s), 0 artifact file(s) and 0 other file(s)"
            ]
          },
          "metadata": {}
        },
        {
          "output_type": "display_data",
          "data": {
            "text/plain": [
              "<IPython.core.display.HTML object>"
            ],
            "text/html": [
              "Find logs at: <code>./wandb/run-20240502_112143-zum5fwpw/logs</code>"
            ]
          },
          "metadata": {}
        }
      ]
    }
  ]
}